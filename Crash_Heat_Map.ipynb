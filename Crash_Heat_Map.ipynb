{
 "cells": [
  {
   "cell_type": "code",
   "execution_count": 18,
   "metadata": {},
   "outputs": [
    {
     "data": {
      "text/html": [
       "        <script type=\"text/javascript\">\n",
       "        window.PlotlyConfig = {MathJaxConfig: 'local'};\n",
       "        if (window.MathJax) {MathJax.Hub.Config({SVG: {font: \"STIX-Web\"}});}\n",
       "        if (typeof require !== 'undefined') {\n",
       "        require.undef(\"plotly\");\n",
       "        requirejs.config({\n",
       "            paths: {\n",
       "                'plotly': ['https://cdn.plot.ly/plotly-latest.min']\n",
       "            }\n",
       "        });\n",
       "        require(['plotly'], function(Plotly) {\n",
       "            window._Plotly = Plotly;\n",
       "        });\n",
       "        }\n",
       "        </script>\n",
       "        "
      ]
     },
     "metadata": {},
     "output_type": "display_data"
    }
   ],
   "source": [
    "import pandas as pd\n",
    "import numpy as np\n",
    "import datetime as dt\n",
    "import plotly.graph_objects as go\n",
    "import matplotlib\n",
    "import matplotlib.pyplot as plt\n",
    "import re \n",
    "import plotly\n",
    "from plotly import tools\n",
    "from plotly import subplots\n",
    "from plotly.graph_objs import Figure, Bar, Box, Histogram, Layout\n",
    "import plotly.graph_objects as go\n",
    "import chart_studio.plotly as py\n",
    "import plotly.graph_objs as go\n",
    "from plotly.offline import iplot, init_notebook_mode\n",
    "init_notebook_mode(connected=True)\n",
    "import folium                    \n",
    "import folium.plugins as plugins \n",
    "from folium.plugins import HeatMapWithTime\n",
    "%matplotlib inline"
   ]
  },
  {
   "cell_type": "code",
   "execution_count": 19,
   "metadata": {},
   "outputs": [],
   "source": [
    "df2018 = pd.read_csv('df2018_1min.csv')\n",
    "df2017 = pd.read_csv('df2017_1min.csv')\n",
    "df2016 = pd.read_csv('df2016_1min.csv')\n",
    "df2015 = pd.read_csv('df2015_1min.csv')\n",
    "df2014 = pd.read_csv('df2014_1min.csv')\n",
    "df2013 = pd.read_csv('df2013_1min.csv')"
   ]
  },
  {
   "cell_type": "code",
   "execution_count": 20,
   "metadata": {},
   "outputs": [
    {
     "name": "stdout",
     "output_type": "stream",
     "text": [
      "Number of crash in 2018: 1440\n",
      "Number of crash in 2017: 1205\n",
      "Number of crash in 2016: 859\n",
      "Number of crash in 2015: 727\n",
      "Number of crash in 2014: 772\n",
      "Number of crash in 2013: 912\n"
     ]
    }
   ],
   "source": [
    "#Yearly crashes\n",
    "crashes = [df2018, df2017, df2016, df2015, df2014, df2013]\n",
    "years =['2018', '2017', '2016', '2015', '2014', '2013']\n",
    "for i in range (len (years)):\n",
    "    print('Number of crash in {}: {}'.format(years[i], crashes[i].shape[0]))"
   ]
  },
  {
   "cell_type": "code",
   "execution_count": 21,
   "metadata": {},
   "outputs": [],
   "source": [
    "pd.set_option('display.max_columns',300)"
   ]
  },
  {
   "cell_type": "code",
   "execution_count": 22,
   "metadata": {},
   "outputs": [],
   "source": [
    "df = pd.concat([df2013, df2014, df2015, df2016, df2017, df2018]).reset_index()"
   ]
  },
  {
   "cell_type": "code",
   "execution_count": 23,
   "metadata": {},
   "outputs": [],
   "source": [
    "df.drop(columns = ['index', 'Unnamed: 0'], inplace = True)"
   ]
  },
  {
   "cell_type": "code",
   "execution_count": 24,
   "metadata": {},
   "outputs": [],
   "source": [
    "#Remove 'conf' and 'cvalue' columns\n",
    "conf_cols = [col for col in df.columns if 'conf' in col]\n",
    "cvalue_cols = [col for col in df.columns if 'cvalue' in col]\n",
    "c_cols = conf_cols + cvalue_cols\n",
    "\n",
    "df.drop(columns = c_cols, inplace = True)"
   ]
  },
  {
   "cell_type": "code",
   "execution_count": 25,
   "metadata": {},
   "outputs": [
    {
     "data": {
      "text/plain": [
       "Index(['pre_1min', 'pre_2min', 'pre_3min', 'pre_4min', 'pre_5min', 'pre_6min',\n",
       "       'pre_7min', 'pre_8min', 'pre_9min', 'pre_10min', 'pre_11min',\n",
       "       'pre_12min', 'pre_13min', 'pre_14min', 'pre_15min'],\n",
       "      dtype='object')"
      ]
     },
     "execution_count": 25,
     "metadata": {},
     "output_type": "execute_result"
    }
   ],
   "source": [
    "df.filter(regex='^pre_[0-9]+min').columns"
   ]
  },
  {
   "cell_type": "code",
   "execution_count": 26,
   "metadata": {},
   "outputs": [],
   "source": [
    "#convert string to datetime\n",
    "times1 = ['timestamp']\n",
    "times2 = [t for t in df.filter(regex='^pre_[0-9]+min').columns]\n",
    "times = times1 + times2\n",
    "\n",
    "for time in times:\n",
    "    df[time] = pd.to_datetime(df[time])"
   ]
  },
  {
   "cell_type": "code",
   "execution_count": 27,
   "metadata": {},
   "outputs": [],
   "source": [
    "df.drop(columns=['DATE', 'TIME','ROUTE', 'RD_SYS'], inplace = True)"
   ]
  },
  {
   "cell_type": "code",
   "execution_count": 28,
   "metadata": {
    "scrolled": true
   },
   "outputs": [
    {
     "name": "stdout",
     "output_type": "stream",
     "text": [
      "CRASH_TYPE             1\n",
      "LOC_DIR              395\n",
      "RD_SURF                4\n",
      "SURF_COND              9\n",
      "LIGHT                  6\n",
      "WEATHER                7\n",
      "RD_DIV                18\n",
      "RD_WRKZN              67\n",
      "spd                  125\n",
      "dn1_spd              454\n",
      "dn2_spd              467\n",
      "up1_spd              216\n",
      "up2_spd              208\n",
      "pre1_spd             109\n",
      "pre1_dn1_spd         444\n",
      "pre1_dn2_spd         458\n",
      "pre1_up1_spd         204\n",
      "pre1_up2_spd         197\n",
      "pre2_spd             118\n",
      "pre2_dn1_spd         453\n",
      "pre2_dn2_spd         465\n",
      "pre2_up1_spd         210\n",
      "pre2_up2_spd         202\n",
      "pre3_spd             127\n",
      "pre3_dn1_spd         463\n",
      "pre3_dn2_spd         476\n",
      "pre3_up1_spd         218\n",
      "pre3_up2_spd         208\n",
      "pre4_spd             135\n",
      "pre4_dn1_spd         469\n",
      "pre4_dn2_spd         481\n",
      "pre4_up1_spd         231\n",
      "pre4_up2_spd         221\n",
      "pre5_spd             134\n",
      "pre5_dn1_spd         464\n",
      "pre5_dn2_spd         478\n",
      "pre5_up1_spd         226\n",
      "pre5_up2_spd         217\n",
      "pre6_spd             146\n",
      "pre6_dn1_spd         479\n",
      "pre6_dn2_spd         493\n",
      "pre6_up1_spd         239\n",
      "pre6_up2_spd         229\n",
      "pre7_spd             138\n",
      "pre7_dn1_spd         470\n",
      "pre7_dn2_spd         483\n",
      "pre7_up1_spd         230\n",
      "pre7_up2_spd         221\n",
      "pre8_spd             138\n",
      "pre8_dn1_spd         466\n",
      "pre8_dn2_spd         480\n",
      "pre8_up1_spd         227\n",
      "pre8_up2_spd         219\n",
      "pre9_spd             130\n",
      "pre9_dn1_spd         465\n",
      "pre9_dn2_spd         478\n",
      "pre9_up1_spd         222\n",
      "pre9_up2_spd         213\n",
      "pre10_spd            141\n",
      "pre10_dn1_spd        469\n",
      "pre10_dn2_spd        483\n",
      "pre10_up1_spd        233\n",
      "pre10_up2_spd        223\n",
      "pre11_spd            123\n",
      "pre11_dn1_spd        449\n",
      "pre11_dn2_spd        462\n",
      "pre11_up1_spd        215\n",
      "pre11_up2_spd        206\n",
      "pre12_spd            134\n",
      "pre12_dn1_spd        465\n",
      "pre12_dn2_spd        478\n",
      "pre12_up1_spd        222\n",
      "pre12_up2_spd        213\n",
      "pre13_spd            119\n",
      "pre13_dn1_spd        446\n",
      "pre13_dn2_spd        460\n",
      "pre13_up1_spd        212\n",
      "pre13_up2_spd        201\n",
      "pre14_spd            129\n",
      "pre14_dn1_spd        461\n",
      "pre14_dn2_spd        475\n",
      "pre14_up1_spd        221\n",
      "pre14_up2_spd        212\n",
      "pre15_spd            127\n",
      "pre15_dn1_spd        457\n",
      "pre15_dn2_spd        470\n",
      "pre15_up1_spd        218\n",
      "pre15_up2_spd        208\n"
     ]
    }
   ],
   "source": [
    "for col in df.columns:\n",
    "    miss_col = df[col].isna().sum(axis=0)\n",
    "    if miss_col > 0:\n",
    "        print('{:<20s}{:>4d}'.format(col, miss_col))"
   ]
  },
  {
   "cell_type": "markdown",
   "metadata": {},
   "source": [
    "It seems many INRIX data points are missing. Let's remove them from the dataframe"
   ]
  },
  {
   "cell_type": "code",
   "execution_count": 29,
   "metadata": {},
   "outputs": [],
   "source": [
    "df.isna().sum(axis=0)\n",
    "df.dropna(inplace=True)"
   ]
  },
  {
   "cell_type": "code",
   "execution_count": 30,
   "metadata": {},
   "outputs": [
    {
     "data": {
      "text/plain": [
       "(4438, 131)"
      ]
     },
     "execution_count": 30,
     "metadata": {},
     "output_type": "execute_result"
    }
   ],
   "source": [
    "df.shape"
   ]
  },
  {
   "cell_type": "code",
   "execution_count": 31,
   "metadata": {},
   "outputs": [],
   "source": [
    "#speed difference among crash, downstream, and upstream TMCs\n",
    "df['dn1_diff'] = df['spd'] - df['dn1_spd']\n",
    "df['dn2_diff'] = df['spd'] - df['dn2_spd']\n",
    "#df['dn3_diff'] = df['spd'] - df['dn3_spd']\n",
    "df['up1_diff'] = df['spd'] - df['up1_spd']\n",
    "df['up2_diff'] = df['spd'] - df['up2_spd']\n",
    "#df['up3_diff'] = df['spd'] - df['up3_spd']\n",
    "df['dn1dn2_diff'] = df['dn1_spd'] - df['dn2_spd']\n",
    "#df['dn2dn3_diff'] = df['dn2_spd'] - df['dn3_spd']\n",
    "df['up1up2_diff'] = df['up1_spd'] - df['up2_spd']\n",
    "#df['up2up3_diff'] = df['up2_spd'] - df['up3_spd']\n",
    "\n",
    "df['up1dn1_diff'] = df['up1_spd'] - df['dn1_spd']\n",
    "df['up1dn2_diff'] = df['up1_spd'] - df['dn2_spd']\n",
    "#df['up1dn3_diff'] = df['up1_spd'] - df['dn3_spd']\n",
    "\n",
    "df['up2dn1_diff'] = df['up1_spd'] - df['dn1_spd']\n",
    "df['up2dn2_diff'] = df['up1_spd'] - df['dn2_spd']\n",
    "#df['up2dn3_diff'] = df['up1_spd'] - df['dn3_spd']\n",
    "\n",
    "df['up3dn1_diff'] = df['up1_spd'] - df['dn1_spd']\n",
    "df['up3dn2_diff'] = df['up1_spd'] - df['dn2_spd']\n",
    "#df['up3dn3_diff'] = df['up1_spd'] - df['dn3_spd']"
   ]
  },
  {
   "cell_type": "markdown",
   "metadata": {},
   "source": [
    "Let's develop a heatmap that exhibits the frequency of crasch along the route."
   ]
  },
  {
   "cell_type": "code",
   "execution_count": 32,
   "metadata": {},
   "outputs": [],
   "source": [
    "#Replace MP 10.9 to 10.8\n",
    "df.replace(10.9, 10.8, inplace = True)"
   ]
  },
  {
   "cell_type": "code",
   "execution_count": 33,
   "metadata": {},
   "outputs": [],
   "source": [
    "df['MP_ROUND'] =  df['MP'].round(1)"
   ]
  },
  {
   "cell_type": "code",
   "execution_count": 34,
   "metadata": {},
   "outputs": [],
   "source": [
    "mp = pd.read_csv('NJ3_MP.csv')\n",
    "mp.drop(columns = ['OBJECTID_1', 'Shape', 'OBJECTID', 'SRI', 'ROUTE', 'MUNICIPAL', 'COUNTY', 'SHAPE_LENG'], inplace = True)"
   ]
  },
  {
   "cell_type": "code",
   "execution_count": 35,
   "metadata": {},
   "outputs": [],
   "source": [
    "df = pd.merge(df, mp, how = 'left', left_on = 'MP_ROUND', right_on = 'MILEPOST')"
   ]
  },
  {
   "cell_type": "code",
   "execution_count": 36,
   "metadata": {},
   "outputs": [],
   "source": [
    "df['count'] =1"
   ]
  },
  {
   "cell_type": "code",
   "execution_count": 37,
   "metadata": {},
   "outputs": [],
   "source": [
    "df18 = df[df['timestamp'].dt.year == 2018]\n",
    "df17 = df[df['timestamp'].dt.year == 2017]\n",
    "df16 = df[df['timestamp'].dt.year == 2016]\n",
    "df15 = df[df['timestamp'].dt.year == 2015]\n",
    "df14 = df[df['timestamp'].dt.year == 2014]\n",
    "df13 = df[df['timestamp'].dt.year == 2013]"
   ]
  },
  {
   "cell_type": "code",
   "execution_count": 38,
   "metadata": {},
   "outputs": [
    {
     "name": "stdout",
     "output_type": "stream",
     "text": [
      "Number of crash in 2018: 1153\n",
      "Number of crash in 2017: 991\n",
      "Number of crash in 2016: 571\n",
      "Number of crash in 2015: 530\n",
      "Number of crash in 2014: 572\n",
      "Number of crash in 2013: 690\n"
     ]
    }
   ],
   "source": [
    "# Number of crash with processed dataset\n",
    "\n",
    "crashes = [df18, df17, df16, df15, df14, df13]\n",
    "years =['2018', '2017', '2016', '2015', '2014', '2013']\n",
    "for i in range (len (years)):\n",
    "    print('Number of crash in {}: {}'.format(years[i], crashes[i].shape[0]))"
   ]
  },
  {
   "cell_type": "code",
   "execution_count": 39,
   "metadata": {},
   "outputs": [
    {
     "data": {
      "text/plain": [
       "0      2013-07-17 08:24:00\n",
       "1      2013-05-02 10:04:00\n",
       "2      2013-01-01 09:52:00\n",
       "3      2013-01-19 15:16:00\n",
       "4      2013-01-21 13:29:00\n",
       "               ...        \n",
       "4502   2018-12-23 21:36:00\n",
       "4503   2018-12-26 17:49:00\n",
       "4504   2018-12-27 08:58:00\n",
       "4505   2018-12-28 13:36:00\n",
       "4506   2018-12-28 17:07:00\n",
       "Name: timestamp, Length: 4507, dtype: datetime64[ns]"
      ]
     },
     "execution_count": 39,
     "metadata": {},
     "output_type": "execute_result"
    }
   ],
   "source": [
    "df['timestamp']"
   ]
  },
  {
   "cell_type": "markdown",
   "metadata": {},
   "source": [
    "#### 2018 Crashes"
   ]
  },
  {
   "cell_type": "code",
   "execution_count": 40,
   "metadata": {
    "scrolled": false
   },
   "outputs": [
    {
     "data": {
      "text/html": [
       "<div style=\"width:100%;\"><div style=\"position:relative;width:100%;height:0;padding-bottom:60%;\"><span style=\"color:#565656\">Make this Notebook Trusted to load map: File -> Trust Notebook</span><iframe src=\"about:blank\" style=\"position:absolute;width:100%;height:100%;left:0;top:0;border:none !important;\" data-html=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 onload=\"this.contentDocument.open();this.contentDocument.write(atob(this.getAttribute('data-html')));this.contentDocument.close();\" allowfullscreen webkitallowfullscreen mozallowfullscreen></iframe></div></div>"
      ],
      "text/plain": [
       "<folium.folium.Map at 0x1fba5fb0448>"
      ]
     },
     "execution_count": 40,
     "metadata": {},
     "output_type": "execute_result"
    }
   ],
   "source": [
    "from folium.plugins import HeatMap\n",
    "\n",
    "m = folium.Map([40.820695, -74.119965], tiles = \"Stamen Terrain\", zoom_start=12) \n",
    "\n",
    "HeatMap(data=df[['LATITUDE', 'LONGITUDE', 'count']].groupby(['LATITUDE', 'LONGITUDE']).sum().reset_index().values.tolist(), \n",
    "        radius=10, max_zoom=10).add_to(m)\n",
    "\n",
    "# folium.Marker([40.87111807,-74.18970011], popup='MP 0.0', icon=folium.Icon(color='red')).add_to(m)\n",
    "# folium.Marker([40.85929634,-74.1803696 ], popup='MP 1.0', icon=folium.Icon(color='red')).add_to(m)\n",
    "# folium.Marker([40.847009  ,-74.17049731], popup='MP 2.0', icon=folium.Icon(color='red')).add_to(m)\n",
    "# folium.Marker([40.83791442,-74.1559026 ], popup='MP 3.0', icon=folium.Icon(color='red')).add_to(m)\n",
    "# folium.Marker([40.83033654,-74.13963422], popup='MP 4.0', icon=folium.Icon(color='red')).add_to(m)\n",
    "# folium.Marker([40.8226554 ,-74.12343017], popup='MP 5.0', icon=folium.Icon(color='red')).add_to(m)\n",
    "# folium.Marker([40.81400146,-74.10816228], popup='MP 6.0', icon=folium.Icon(color='red')).add_to(m)\n",
    "# folium.Marker([40.81104083,-74.0903372 ], popup='MP 7.0', icon=folium.Icon(color='red')).add_to(m)\n",
    "# folium.Marker([40.80486343,-74.0738098 ], popup='MP 8.0', icon=folium.Icon(color='red')).add_to(m)\n",
    "# folium.Marker([40.79512587,-74.05982774], popup='MP 9.0', icon=folium.Icon(color='red')).add_to(m)\n",
    "# folium.Marker([40.78422417,-74.04775921], popup='MP 10.0', icon=folium.Icon(color='red')).add_to(m)\n",
    "\n",
    "# m.save('heatmap2018.html')\n",
    "\n",
    "m\n",
    "\n",
    "#tiles = \"Stamen Terrain\"\n",
    "# color_options = {'beige', 'black', 'blue', 'cadetblue', 'darkblue', 'darkgreen', 'darkpurple', 'darkred', 'gray', \n",
    "#'green', 'lightblue', 'lightgray', 'lightgreen', 'lightred', 'orange', 'pink', 'purple', 'red', 'white'"
   ]
  },
  {
   "cell_type": "markdown",
   "metadata": {},
   "source": [
    "#### 2013 Crashes"
   ]
  },
  {
   "cell_type": "code",
   "execution_count": 25,
   "metadata": {},
   "outputs": [
    {
     "data": {
      "text/html": [
       "<div style=\"width:100%;\"><div style=\"position:relative;width:100%;height:0;padding-bottom:60%;\"><span style=\"color:#565656\">Make this Notebook Trusted to load map: File -> Trust Notebook</span><iframe src=\"about:blank\" style=\"position:absolute;width:100%;height:100%;left:0;top:0;border:none !important;\" data-html=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 onload=\"this.contentDocument.open();this.contentDocument.write(atob(this.getAttribute('data-html')));this.contentDocument.close();\" allowfullscreen webkitallowfullscreen mozallowfullscreen></iframe></div></div>"
      ],
      "text/plain": [
       "<folium.folium.Map at 0x256a0f02808>"
      ]
     },
     "execution_count": 25,
     "metadata": {},
     "output_type": "execute_result"
    }
   ],
   "source": [
    "m = folium.Map([40.820695, -74.119965], tiles = \"Stamen Terrain\", zoom_start=12) \n",
    "\n",
    "HeatMap(data=df13[['LATITUDE', 'LONGITUDE', 'count']].groupby(['LATITUDE', 'LONGITUDE']).sum().reset_index().values.tolist(), \n",
    "        radius=10, max_zoom=10).add_to(m)\n",
    "\n",
    "folium.Marker([40.87111807,-74.18970011], popup='MP 0.0', icon=folium.Icon(color='red')).add_to(m)\n",
    "folium.Marker([40.85929634,-74.1803696 ], popup='MP 1.0', icon=folium.Icon(color='red')).add_to(m)\n",
    "folium.Marker([40.847009  ,-74.17049731], popup='MP 2.0', icon=folium.Icon(color='red')).add_to(m)\n",
    "folium.Marker([40.83791442,-74.1559026 ], popup='MP 3.0', icon=folium.Icon(color='red')).add_to(m)\n",
    "folium.Marker([40.83033654,-74.13963422], popup='MP 4.0', icon=folium.Icon(color='red')).add_to(m)\n",
    "folium.Marker([40.8226554 ,-74.12343017], popup='MP 5.0', icon=folium.Icon(color='red')).add_to(m)\n",
    "folium.Marker([40.81400146,-74.10816228], popup='MP 6.0', icon=folium.Icon(color='red')).add_to(m)\n",
    "folium.Marker([40.81104083,-74.0903372 ], popup='MP 7.0', icon=folium.Icon(color='red')).add_to(m)\n",
    "folium.Marker([40.80486343,-74.0738098 ], popup='MP 8.0', icon=folium.Icon(color='red')).add_to(m)\n",
    "folium.Marker([40.79512587,-74.05982774], popup='MP 9.0', icon=folium.Icon(color='red')).add_to(m)\n",
    "folium.Marker([40.78422417,-74.04775921], popup='MP 10.0', icon=folium.Icon(color='red')).add_to(m)\n",
    "\n",
    "m.save('heatmap2017.html')\n",
    "\n",
    "m\n"
   ]
  },
  {
   "cell_type": "code",
   "execution_count": 49,
   "metadata": {},
   "outputs": [
    {
     "data": {
      "text/html": [
       "<div style=\"width:100%;\"><div style=\"position:relative;width:100%;height:0;padding-bottom:60%;\"><span style=\"color:#565656\">Make this Notebook Trusted to load map: File -> Trust Notebook</span><iframe src=\"about:blank\" style=\"position:absolute;width:100%;height:100%;left:0;top:0;border:none !important;\" data-html=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 onload=\"this.contentDocument.open();this.contentDocument.write(atob(this.getAttribute('data-html')));this.contentDocument.close();\" allowfullscreen webkitallowfullscreen mozallowfullscreen></iframe></div></div>"
      ],
      "text/plain": [
       "<folium.folium.Map at 0x1fba5fab888>"
      ]
     },
     "execution_count": 49,
     "metadata": {},
     "output_type": "execute_result"
    }
   ],
   "source": [
    "m = folium.Map([40.820695, -74.119965], tiles = \"stamentoner\", zoom_start=12) \n",
    "\n",
    "HeatMap(data=df18[['LATITUDE', 'LONGITUDE', 'count']].groupby(['LATITUDE', 'LONGITUDE']).sum().reset_index().values.tolist(), \n",
    "        radius=11, max_zoom=10).add_to(m)\n",
    "\n",
    "# folium.CircleMarker([40.871484  ,-74.189490  ], radius =1, popup='MP 0.0', color='black').add_to(m)\n",
    "# folium.CircleMarker([40.859394, -74.179865   ], radius =1, popup='MP 1.0', color='black').add_to(m)\n",
    "# folium.CircleMarker([40.847009  ,-74.17049731], radius =3, popup='MP 2.0', color='black').add_to(m)\n",
    "# folium.CircleMarker([40.83791442,-74.1559026 ], radius =3, popup='MP 3.0', color='black').add_to(m)\n",
    "# folium.CircleMarker([40.83033654,-74.13963422], radius =3, popup='MP 4.0', color='black').add_to(m)\n",
    "# folium.CircleMarker([40.8226554 ,-74.12343017], radius =3, popup='MP 5.0', color='black').add_to(m)\n",
    "# folium.CircleMarker([40.81400146,-74.10816228], radius =3, popup='MP 6.0', color='black').add_to(m)\n",
    "# folium.CircleMarker([40.81104083,-74.0903372 ], radius =3, popup='MP 7.0', color='black').add_to(m)\n",
    "# folium.CircleMarker([40.80486343,-74.0738098 ], radius =3, popup='MP 8.0', color='black').add_to(m)\n",
    "# folium.CircleMarker([40.79512587,-74.05982774], radius =3, popup='MP 9.0', color='black').add_to(m)\n",
    "# folium.CircleMarker([40.78422417,-74.04775921], radius =3, popup='MP 10.0', color='black').add_to(m)\n",
    "\n",
    "m"
   ]
  },
  {
   "cell_type": "code",
   "execution_count": 16,
   "metadata": {},
   "outputs": [
    {
     "ename": "KeyError",
     "evalue": "\"None of [Index(['LATITUDE', 'LONGITUDE', 'count'], dtype='object')] are in the [columns]\"",
     "output_type": "error",
     "traceback": [
      "\u001b[1;31m---------------------------------------------------------------------------\u001b[0m",
      "\u001b[1;31mKeyError\u001b[0m                                  Traceback (most recent call last)",
      "\u001b[1;32m<ipython-input-16-71e33afc03c0>\u001b[0m in \u001b[0;36m<module>\u001b[1;34m\u001b[0m\n\u001b[0;32m      1\u001b[0m \u001b[0mm\u001b[0m \u001b[1;33m=\u001b[0m \u001b[0mfolium\u001b[0m\u001b[1;33m.\u001b[0m\u001b[0mMap\u001b[0m\u001b[1;33m(\u001b[0m\u001b[1;33m[\u001b[0m\u001b[1;36m40.820695\u001b[0m\u001b[1;33m,\u001b[0m \u001b[1;33m-\u001b[0m\u001b[1;36m74.119965\u001b[0m\u001b[1;33m]\u001b[0m\u001b[1;33m,\u001b[0m \u001b[0mtiles\u001b[0m \u001b[1;33m=\u001b[0m \u001b[1;34m\"CartoDB Dark_Matter\"\u001b[0m\u001b[1;33m,\u001b[0m \u001b[0mzoom_start\u001b[0m\u001b[1;33m=\u001b[0m\u001b[1;36m12\u001b[0m\u001b[1;33m)\u001b[0m\u001b[1;33m\u001b[0m\u001b[1;33m\u001b[0m\u001b[0m\n\u001b[0;32m      2\u001b[0m \u001b[1;33m\u001b[0m\u001b[0m\n\u001b[1;32m----> 3\u001b[1;33m HeatMap(data=df[['LATITUDE', 'LONGITUDE', 'count']].groupby(['LATITUDE', 'LONGITUDE']).sum().reset_index().values.tolist(), \n\u001b[0m\u001b[0;32m      4\u001b[0m         radius=11, max_zoom=10).add_to(m)\n\u001b[0;32m      5\u001b[0m \u001b[1;33m\u001b[0m\u001b[0m\n",
      "\u001b[1;32m~\\Anaconda3\\lib\\site-packages\\pandas\\core\\frame.py\u001b[0m in \u001b[0;36m__getitem__\u001b[1;34m(self, key)\u001b[0m\n\u001b[0;32m   2804\u001b[0m             \u001b[1;32mif\u001b[0m \u001b[0mis_iterator\u001b[0m\u001b[1;33m(\u001b[0m\u001b[0mkey\u001b[0m\u001b[1;33m)\u001b[0m\u001b[1;33m:\u001b[0m\u001b[1;33m\u001b[0m\u001b[1;33m\u001b[0m\u001b[0m\n\u001b[0;32m   2805\u001b[0m                 \u001b[0mkey\u001b[0m \u001b[1;33m=\u001b[0m \u001b[0mlist\u001b[0m\u001b[1;33m(\u001b[0m\u001b[0mkey\u001b[0m\u001b[1;33m)\u001b[0m\u001b[1;33m\u001b[0m\u001b[1;33m\u001b[0m\u001b[0m\n\u001b[1;32m-> 2806\u001b[1;33m             \u001b[0mindexer\u001b[0m \u001b[1;33m=\u001b[0m \u001b[0mself\u001b[0m\u001b[1;33m.\u001b[0m\u001b[0mloc\u001b[0m\u001b[1;33m.\u001b[0m\u001b[0m_get_listlike_indexer\u001b[0m\u001b[1;33m(\u001b[0m\u001b[0mkey\u001b[0m\u001b[1;33m,\u001b[0m \u001b[0maxis\u001b[0m\u001b[1;33m=\u001b[0m\u001b[1;36m1\u001b[0m\u001b[1;33m,\u001b[0m \u001b[0mraise_missing\u001b[0m\u001b[1;33m=\u001b[0m\u001b[1;32mTrue\u001b[0m\u001b[1;33m)\u001b[0m\u001b[1;33m[\u001b[0m\u001b[1;36m1\u001b[0m\u001b[1;33m]\u001b[0m\u001b[1;33m\u001b[0m\u001b[1;33m\u001b[0m\u001b[0m\n\u001b[0m\u001b[0;32m   2807\u001b[0m \u001b[1;33m\u001b[0m\u001b[0m\n\u001b[0;32m   2808\u001b[0m         \u001b[1;31m# take() does not accept boolean indexers\u001b[0m\u001b[1;33m\u001b[0m\u001b[1;33m\u001b[0m\u001b[1;33m\u001b[0m\u001b[0m\n",
      "\u001b[1;32m~\\Anaconda3\\lib\\site-packages\\pandas\\core\\indexing.py\u001b[0m in \u001b[0;36m_get_listlike_indexer\u001b[1;34m(self, key, axis, raise_missing)\u001b[0m\n\u001b[0;32m   1551\u001b[0m \u001b[1;33m\u001b[0m\u001b[0m\n\u001b[0;32m   1552\u001b[0m         self._validate_read_indexer(\n\u001b[1;32m-> 1553\u001b[1;33m             \u001b[0mkeyarr\u001b[0m\u001b[1;33m,\u001b[0m \u001b[0mindexer\u001b[0m\u001b[1;33m,\u001b[0m \u001b[0mo\u001b[0m\u001b[1;33m.\u001b[0m\u001b[0m_get_axis_number\u001b[0m\u001b[1;33m(\u001b[0m\u001b[0maxis\u001b[0m\u001b[1;33m)\u001b[0m\u001b[1;33m,\u001b[0m \u001b[0mraise_missing\u001b[0m\u001b[1;33m=\u001b[0m\u001b[0mraise_missing\u001b[0m\u001b[1;33m\u001b[0m\u001b[1;33m\u001b[0m\u001b[0m\n\u001b[0m\u001b[0;32m   1554\u001b[0m         )\n\u001b[0;32m   1555\u001b[0m         \u001b[1;32mreturn\u001b[0m \u001b[0mkeyarr\u001b[0m\u001b[1;33m,\u001b[0m \u001b[0mindexer\u001b[0m\u001b[1;33m\u001b[0m\u001b[1;33m\u001b[0m\u001b[0m\n",
      "\u001b[1;32m~\\Anaconda3\\lib\\site-packages\\pandas\\core\\indexing.py\u001b[0m in \u001b[0;36m_validate_read_indexer\u001b[1;34m(self, key, indexer, axis, raise_missing)\u001b[0m\n\u001b[0;32m   1638\u001b[0m             \u001b[1;32mif\u001b[0m \u001b[0mmissing\u001b[0m \u001b[1;33m==\u001b[0m \u001b[0mlen\u001b[0m\u001b[1;33m(\u001b[0m\u001b[0mindexer\u001b[0m\u001b[1;33m)\u001b[0m\u001b[1;33m:\u001b[0m\u001b[1;33m\u001b[0m\u001b[1;33m\u001b[0m\u001b[0m\n\u001b[0;32m   1639\u001b[0m                 \u001b[0maxis_name\u001b[0m \u001b[1;33m=\u001b[0m \u001b[0mself\u001b[0m\u001b[1;33m.\u001b[0m\u001b[0mobj\u001b[0m\u001b[1;33m.\u001b[0m\u001b[0m_get_axis_name\u001b[0m\u001b[1;33m(\u001b[0m\u001b[0maxis\u001b[0m\u001b[1;33m)\u001b[0m\u001b[1;33m\u001b[0m\u001b[1;33m\u001b[0m\u001b[0m\n\u001b[1;32m-> 1640\u001b[1;33m                 \u001b[1;32mraise\u001b[0m \u001b[0mKeyError\u001b[0m\u001b[1;33m(\u001b[0m\u001b[1;34mf\"None of [{key}] are in the [{axis_name}]\"\u001b[0m\u001b[1;33m)\u001b[0m\u001b[1;33m\u001b[0m\u001b[1;33m\u001b[0m\u001b[0m\n\u001b[0m\u001b[0;32m   1641\u001b[0m \u001b[1;33m\u001b[0m\u001b[0m\n\u001b[0;32m   1642\u001b[0m             \u001b[1;31m# We (temporarily) allow for some missing keys with .loc, except in\u001b[0m\u001b[1;33m\u001b[0m\u001b[1;33m\u001b[0m\u001b[1;33m\u001b[0m\u001b[0m\n",
      "\u001b[1;31mKeyError\u001b[0m: \"None of [Index(['LATITUDE', 'LONGITUDE', 'count'], dtype='object')] are in the [columns]\""
     ]
    }
   ],
   "source": [
    "m = folium.Map([40.820695, -74.119965], tiles = \"CartoDB Dark_Matter\", zoom_start=12) \n",
    "\n",
    "HeatMap(data=df[['LATITUDE', 'LONGITUDE', 'count']].groupby(['LATITUDE', 'LONGITUDE']).sum().reset_index().values.tolist(), \n",
    "        radius=11, max_zoom=10).add_to(m)\n",
    "\n",
    "# folium.CircleMarker([40.871484  ,-74.189490  ], radius =3, popup='MP 0.0', color='black').add_to(m)\n",
    "# folium.CircleMarker([40.859394, -74.179865   ], radius =3, popup='MP 1.0', color='black').add_to(m)\n",
    "# folium.CircleMarker([40.847009  ,-74.17049731], radius =3, popup='MP 2.0', color='black').add_to(m)\n",
    "# folium.CircleMarker([40.83791442,-74.1559026 ], radius =3, popup='MP 3.0', color='black').add_to(m)\n",
    "# folium.CircleMarker([40.83033654,-74.13963422], radius =3, popup='MP 4.0', color='black').add_to(m)\n",
    "# folium.CircleMarker([40.8226554 ,-74.12343017], radius =3, popup='MP 5.0', color='black').add_to(m)\n",
    "# folium.CircleMarker([40.81400146,-74.10816228], radius =3, popup='MP 6.0', color='black').add_to(m)\n",
    "# folium.CircleMarker([40.81104083,-74.0903372 ], radius =3, popup='MP 7.0', color='black').add_to(m)\n",
    "# folium.CircleMarker([40.80486343,-74.0738098 ], radius =3, popup='MP 8.0', color='black').add_to(m)\n",
    "# folium.CircleMarker([40.79512587,-74.05982774], radius =3, popup='MP 9.0', color='black').add_to(m)\n",
    "# folium.CircleMarker([40.78422417,-74.04775921], radius =3, popup='MP 10.0', color='black').add_to(m)\n",
    "\n",
    "m"
   ]
  },
  {
   "cell_type": "markdown",
   "metadata": {},
   "source": [
    "## Crash Locations for the period of 2013 - 2018"
   ]
  },
  {
   "cell_type": "code",
   "execution_count": 44,
   "metadata": {},
   "outputs": [],
   "source": [
    "d1 = ['2013-01', '2013-02', '2013-03', '2013-04', '2013-05', '2013-06', \n",
    "     '2013-07', '2013-08', '2013-09', '2013-10', '2013-11', '2013-12', \n",
    "     '2014-01', '2014-02', '2014-03', '2014-04', '2014-05', '2014-06', \n",
    "     '2014-07', '2014-08', '2014-09', '2014-10', '2014-11', '2014-12', \n",
    "     '2015-01', '2015-02', '2015-03', '2015-04', '2015-05', '2015-06', \n",
    "     '2015-07', '2015-08', '2015-09', '2015-10', '2015-11', '2015-12', \n",
    "     '2016-01', '2016-02', '2016-03', '2016-04', '2016-05', '2016-06', \n",
    "     '2016-07', '2016-08', '2016-09', '2016-10', '2016-11', '2016-12', \n",
    "     '2017-01', '2017-02', '2017-03', '2017-04', '2017-05', '2017-06', \n",
    "     '2017-07', '2017-08', '2017-09', '2017-10', '2017-11', '2017-12', \n",
    "     '2018-01', '2018-02', '2018-03', '2018-04', '2018-05', '2018-06', \n",
    "     '2018-07', '2018-08', '2018-09', '2018-10', '2018-11', '2018-12']\n",
    "\n",
    "d2 = list(range(1, 73))"
   ]
  },
  {
   "cell_type": "code",
   "execution_count": 45,
   "metadata": {},
   "outputs": [],
   "source": [
    "data = {'date':d1, 'Weight':d2}\n",
    "crash = pd.DataFrame.from_dict(data)"
   ]
  },
  {
   "cell_type": "code",
   "execution_count": 46,
   "metadata": {},
   "outputs": [],
   "source": [
    "heat_df = df\n",
    "heat_df['year_month'] = heat_df['timestamp'].dt.to_period('M').astype(str)\n",
    "heat_df = pd.merge(heat_df, crash, how='left', left_on ='year_month', right_on ='date')\n",
    "heat_df = heat_df[['LATITUDE', 'LONGITUDE', 'Weight']]"
   ]
  },
  {
   "cell_type": "code",
   "execution_count": 47,
   "metadata": {},
   "outputs": [
    {
     "data": {
      "text/html": [
       "<div style=\"width:100%;\"><div style=\"position:relative;width:100%;height:0;padding-bottom:60%;\"><span style=\"color:#565656\">Make this Notebook Trusted to load map: File -> Trust Notebook</span><iframe src=\"about:blank\" style=\"position:absolute;width:100%;height:100%;left:0;top:0;border:none !important;\" data-html=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 onload=\"this.contentDocument.open();this.contentDocument.write(atob(this.getAttribute('data-html')));this.contentDocument.close();\" allowfullscreen webkitallowfullscreen mozallowfullscreen></iframe></div></div>"
      ],
      "text/plain": [
       "<folium.folium.Map at 0x1fba61ad648>"
      ]
     },
     "execution_count": 47,
     "metadata": {},
     "output_type": "execute_result"
    }
   ],
   "source": [
    "m_all = folium.Map([40.820695, -74.119965], tiles = \"stamentoner\", zoom_start=12) \n",
    "heat_data = [[[row['LATITUDE'],row['LONGITUDE']] for index, row in heat_df[heat_df['Weight'] == i].iterrows()] for i in range(0,73)]\n",
    "\n",
    "hm = plugins.HeatMapWithTime(heat_data,auto_play=True,max_opacity=0.8)\n",
    "hm.add_to(m_all)\n",
    "m_all"
   ]
  },
  {
   "cell_type": "markdown",
   "metadata": {},
   "source": [
    "## Crash Locations by Year and Month"
   ]
  },
  {
   "cell_type": "code",
   "execution_count": 32,
   "metadata": {},
   "outputs": [],
   "source": [
    "#if the date format comes in datetime, we can also extract the day/month/year using the to_period function\n",
    "#where 'D', 'M', 'Y' are inputs\n",
    "# df['month_year'] = pd.to_datetime(df['timestamp']).dt.to_period('M')\n",
    "# df['month_year'].head()"
   ]
  },
  {
   "cell_type": "code",
   "execution_count": 33,
   "metadata": {},
   "outputs": [
    {
     "name": "stderr",
     "output_type": "stream",
     "text": [
      "C:\\Users\\kkim1\\Anaconda3\\lib\\site-packages\\ipykernel_launcher.py:3: SettingWithCopyWarning:\n",
      "\n",
      "\n",
      "A value is trying to be set on a copy of a slice from a DataFrame.\n",
      "Try using .loc[row_indexer,col_indexer] = value instead\n",
      "\n",
      "See the caveats in the documentation: http://pandas.pydata.org/pandas-docs/stable/user_guide/indexing.html#returning-a-view-versus-a-copy\n",
      "\n",
      "C:\\Users\\kkim1\\Anaconda3\\lib\\site-packages\\ipykernel_launcher.py:7: SettingWithCopyWarning:\n",
      "\n",
      "\n",
      "A value is trying to be set on a copy of a slice from a DataFrame.\n",
      "Try using .loc[row_indexer,col_indexer] = value instead\n",
      "\n",
      "See the caveats in the documentation: http://pandas.pydata.org/pandas-docs/stable/user_guide/indexing.html#returning-a-view-versus-a-copy\n",
      "\n",
      "C:\\Users\\kkim1\\Anaconda3\\lib\\site-packages\\ipykernel_launcher.py:11: SettingWithCopyWarning:\n",
      "\n",
      "\n",
      "A value is trying to be set on a copy of a slice from a DataFrame.\n",
      "Try using .loc[row_indexer,col_indexer] = value instead\n",
      "\n",
      "See the caveats in the documentation: http://pandas.pydata.org/pandas-docs/stable/user_guide/indexing.html#returning-a-view-versus-a-copy\n",
      "\n",
      "C:\\Users\\kkim1\\Anaconda3\\lib\\site-packages\\ipykernel_launcher.py:15: SettingWithCopyWarning:\n",
      "\n",
      "\n",
      "A value is trying to be set on a copy of a slice from a DataFrame.\n",
      "Try using .loc[row_indexer,col_indexer] = value instead\n",
      "\n",
      "See the caveats in the documentation: http://pandas.pydata.org/pandas-docs/stable/user_guide/indexing.html#returning-a-view-versus-a-copy\n",
      "\n",
      "C:\\Users\\kkim1\\Anaconda3\\lib\\site-packages\\ipykernel_launcher.py:19: SettingWithCopyWarning:\n",
      "\n",
      "\n",
      "A value is trying to be set on a copy of a slice from a DataFrame.\n",
      "Try using .loc[row_indexer,col_indexer] = value instead\n",
      "\n",
      "See the caveats in the documentation: http://pandas.pydata.org/pandas-docs/stable/user_guide/indexing.html#returning-a-view-versus-a-copy\n",
      "\n",
      "C:\\Users\\kkim1\\Anaconda3\\lib\\site-packages\\ipykernel_launcher.py:23: SettingWithCopyWarning:\n",
      "\n",
      "\n",
      "A value is trying to be set on a copy of a slice from a DataFrame.\n",
      "Try using .loc[row_indexer,col_indexer] = value instead\n",
      "\n",
      "See the caveats in the documentation: http://pandas.pydata.org/pandas-docs/stable/user_guide/indexing.html#returning-a-view-versus-a-copy\n",
      "\n"
     ]
    }
   ],
   "source": [
    "# Montly crashes: 2013 - 2018\n",
    "heat_df18 = df18\n",
    "heat_df18['Weight'] = heat_df18['timestamp'].dt.month.astype(float)\n",
    "heat_df18 = heat_df18.loc[:, ('LATITUDE', 'LONGITUDE', 'Weight')]\n",
    "\n",
    "heat_df17 = df17\n",
    "heat_df17['Weight'] = heat_df17['timestamp'].dt.month.astype(float)\n",
    "heat_df17 = heat_df17.loc[:, ['LATITUDE', 'LONGITUDE', 'Weight']]\n",
    "\n",
    "heat_df16 = df16\n",
    "heat_df16['Weight'] = heat_df16['timestamp'].dt.month.astype(float)\n",
    "heat_df16 = heat_df16.loc[:, ['LATITUDE', 'LONGITUDE', 'Weight']]\n",
    "\n",
    "heat_df15 = df15\n",
    "heat_df15['Weight'] = heat_df15['timestamp'].dt.month.astype(float)\n",
    "heat_df15 = heat_df15.loc[:, ['LATITUDE', 'LONGITUDE', 'Weight']]\n",
    "\n",
    "heat_df14 = df14\n",
    "heat_df14['Weight'] = heat_df14['timestamp'].dt.month.astype(float)\n",
    "heat_df14 = heat_df14.loc[:, ['LATITUDE', 'LONGITUDE', 'Weight']]\n",
    "\n",
    "heat_df13 = df13\n",
    "heat_df13['Weight'] = heat_df13['timestamp'].dt.month.astype(float)\n",
    "heat_df13 = heat_df13.loc[:, ['LATITUDE', 'LONGITUDE', 'Weight']]"
   ]
  },
  {
   "cell_type": "markdown",
   "metadata": {},
   "source": [
    "### 2018 Crashes by Month"
   ]
  },
  {
   "cell_type": "code",
   "execution_count": 34,
   "metadata": {},
   "outputs": [
    {
     "data": {
      "text/html": [
       "<div style=\"width:100%;\"><div style=\"position:relative;width:100%;height:0;padding-bottom:60%;\"><span style=\"color:#565656\">Make this Notebook Trusted to load map: File -> Trust Notebook</span><iframe src=\"about:blank\" style=\"position:absolute;width:100%;height:100%;left:0;top:0;border:none !important;\" data-html=PCFET0NUWVBFIGh0bWw+CjxoZWFkPiAgICAKICAgIDxtZXRhIGh0dHAtZXF1aXY9ImNvbnRlbnQtdHlwZSIgY29udGVudD0idGV4dC9odG1sOyBjaGFyc2V0PVVURi04IiAvPgogICAgCiAgICAgICAgPHNjcmlwdD4KICAgICAgICAgICAgTF9OT19UT1VDSCA9IGZhbHNlOwogICAgICAgICAgICBMX0RJU0FCTEVfM0QgPSBmYWxzZTsKICAgICAgICA8L3NjcmlwdD4KICAgIAogICAgPHNjcmlwdCBzcmM9Imh0dHBzOi8vY2RuLmpzZGVsaXZyLm5ldC9ucG0vbGVhZmxldEAxLjYuMC9kaXN0L2xlYWZsZXQuanMiPjwvc2NyaXB0PgogICAgPHNjcmlwdCBzcmM9Imh0dHBzOi8vY29kZS5qcXVlcnkuY29tL2pxdWVyeS0xLjEyLjQubWluLmpzIj48L3NjcmlwdD4KICAgIDxzY3JpcHQgc3JjPSJodHRwczovL21heGNkbi5ib290c3RyYXBjZG4uY29tL2Jvb3RzdHJhcC8zLjIuMC9qcy9ib290c3RyYXAubWluLmpzIj48L3NjcmlwdD4KICAgIDxzY3JpcHQgc3JjPSJodHRwczovL2NkbmpzLmNsb3VkZmxhcmUuY29tL2FqYXgvbGlicy9MZWFmbGV0LmF3ZXNvbWUtbWFya2Vycy8yLjAuMi9sZWFmbGV0LmF3ZXNvbWUtbWFya2Vycy5qcyI+PC9zY3JpcHQ+CiAgICA8bGluayByZWw9InN0eWxlc2hlZXQiIGhyZWY9Imh0dHBzOi8vY2RuLmpzZGVsaXZyLm5ldC9ucG0vbGVhZmxldEAxLjYuMC9kaXN0L2xlYWZsZXQuY3NzIi8+CiAgICA8bGluayByZWw9InN0eWxlc2hlZXQiIGhyZWY9Imh0dHBzOi8vbWF4Y2RuLmJvb3RzdHJhcGNkbi5jb20vYm9vdHN0cmFwLzMuMi4wL2Nzcy9ib290c3RyYXAubWluLmNzcyIvPgogICAgPGxpbmsgcmVsPSJzdHlsZXNoZWV0IiBocmVmPSJodHRwczovL21heGNkbi5ib290c3RyYXBjZG4uY29tL2Jvb3RzdHJhcC8zLjIuMC9jc3MvYm9vdHN0cmFwLXRoZW1lLm1pbi5jc3MiLz4KICAgIDxsaW5rIHJlbD0ic3R5bGVzaGVldCIgaHJlZj0iaHR0cHM6Ly9tYXhjZG4uYm9vdHN0cmFwY2RuLmNvbS9mb250LWF3ZXNvbWUvNC42LjMvY3NzL2ZvbnQtYXdlc29tZS5taW4uY3NzIi8+CiAgICA8bGluayByZWw9InN0eWxlc2hlZXQiIGhyZWY9Imh0dHBzOi8vY2RuanMuY2xvdWRmbGFyZS5jb20vYWpheC9saWJzL0xlYWZsZXQuYXdlc29tZS1tYXJrZXJzLzIuMC4yL2xlYWZsZXQuYXdlc29tZS1tYXJrZXJzLmNzcyIvPgogICAgPGxpbmsgcmVsPSJzdHlsZXNoZWV0IiBocmVmPSJodHRwczovL3Jhd2Nkbi5naXRoYWNrLmNvbS9weXRob24tdmlzdWFsaXphdGlvbi9mb2xpdW0vbWFzdGVyL2ZvbGl1bS90ZW1wbGF0ZXMvbGVhZmxldC5hd2Vzb21lLnJvdGF0ZS5jc3MiLz4KICAgIDxzdHlsZT5odG1sLCBib2R5IHt3aWR0aDogMTAwJTtoZWlnaHQ6IDEwMCU7bWFyZ2luOiAwO3BhZGRpbmc6IDA7fTwvc3R5bGU+CiAgICA8c3R5bGU+I21hcCB7cG9zaXRpb246YWJzb2x1dGU7dG9wOjA7Ym90dG9tOjA7cmlnaHQ6MDtsZWZ0OjA7fTwvc3R5bGU+CiAgICAKICAgICAgICAgICAgPG1ldGEgbmFtZT0idmlld3BvcnQiIGNvbnRlbnQ9IndpZHRoPWRldmljZS13aWR0aCwKICAgICAgICAgICAgICAgIGluaXRpYWwtc2NhbGU9MS4wLCBtYXhpbXVtLXNjYWxlPTEuMCwgdXNlci1zY2FsYWJsZT1ubyIgLz4KICAgICAgICAgICAgPHN0eWxlPgogICAgICAgICAgICAgICAgI21hcF83NzVmMDU5NGI0NjM0MDllYjBkODQ1M2I5ZjA1OGI5YiB7CiAgICAgICAgICAgICAgICAgICAgcG9zaXRpb246IHJlbGF0aXZlOwogICAgICAgICAgICAgICAgICAgIHdpZHRoOiAxMDAuMCU7CiAgICAgICAgICAgICAgICAgICAgaGVpZ2h0OiAxMDAuMCU7CiAgICAgICAgICAgICAgICAgICAgbGVmdDogMC4wJTsKICAgICAgICAgICAgICAgICAgICB0b3A6IDAuMCU7CiAgICAgICAgICAgICAgICB9CiAgICAgICAgICAgIDwvc3R5bGU+CiAgICAgICAgCiAgICA8c2NyaXB0IHNyYz0iaHR0cHM6Ly9yYXdjZG4uZ2l0aGFjay5jb20vbmV6YXNhL2lzbzg2MDEtanMtcGVyaW9kL21hc3Rlci9pc284NjAxLm1pbi5qcyI+PC9zY3JpcHQ+CiAgICA8c2NyaXB0IHNyYz0iaHR0cHM6Ly9yYXdjZG4uZ2l0aGFjay5jb20vc29jaWIvTGVhZmxldC5UaW1lRGltZW5zaW9uL21hc3Rlci9kaXN0L2xlYWZsZXQudGltZWRpbWVuc2lvbi5taW4uanMiPjwvc2NyaXB0PgogICAgPHNjcmlwdCBzcmM9Imh0dHBzOi8vcmF3Y2RuLmdpdGhhY2suY29tL3B5dGhvbi12aXN1YWxpemF0aW9uL2ZvbGl1bS9tYXN0ZXIvZm9saXVtL3RlbXBsYXRlcy9wYTdfaG0ubWluLmpzIj48L3NjcmlwdD4KICAgIDxzY3JpcHQgc3JjPSJodHRwczovL3Jhd2Nkbi5naXRoYWNrLmNvbS9weXRob24tdmlzdWFsaXphdGlvbi9mb2xpdW0vbWFzdGVyL2ZvbGl1bS90ZW1wbGF0ZXMvcGE3X2xlYWZsZXRfaG0ubWluLmpzIj48L3NjcmlwdD4KICAgIDxsaW5rIHJlbD0ic3R5bGVzaGVldCIgaHJlZj0iaHR0cHM6Ly9yYXdjZG4uZ2l0aGFjay5jb20vc29jaWIvTGVhZmxldC5UaW1lRGltZW5zaW9uL21hc3Rlci9kaXN0L2xlYWZsZXQudGltZWRpbWVuc2lvbi5jb250cm9sLm1pbi5jc3MiLz4KICAgIAogICAgICAgICAgICA8c2NyaXB0PgogICAgICAgICAgICAgICAgdmFyIFRESGVhdG1hcCA9IEwuVGltZURpbWVuc2lvbi5MYXllci5leHRlbmQoewoKICAgICAgICAgICAgaW5pdGlhbGl6ZTogZnVuY3Rpb24oZGF0YSwgb3B0aW9ucykgewogICAgICAgICAgICAgICAgdmFyIGhlYXRtYXBDZmcgPSB7CiAgICAgICAgICAgICAgICAgICAgcmFkaXVzOiAxNSwKICAgICAgICAgICAgICAgICAgICBtYXhPcGFjaXR5OiAxLiwKICAgICAgICAgICAgICAgICAgICBzY2FsZVJhZGl1czogZmFsc2UsCiAgICAgICAgICAgICAgICAgICAgdXNlTG9jYWxFeHRyZW1hOiBmYWxzZSwKICAgICAgICAgICAgICAgICAgICBsYXRGaWVsZDogJ2xhdCcsCiAgICAgICAgICAgICAgICAgICAgbG5nRmllbGQ6ICdsbmcnLAogICAgICAgICAgICAgICAgICAgIHZhbHVlRmllbGQ6ICdjb3VudCcsCiAgICAgICAgICAgICAgICAgICAgZGVmYXVsdFdlaWdodCA6IDEsCiAgICAgICAgICAgICAgICB9OwogICAgICAgICAgICAgICAgaGVhdG1hcENmZyA9ICQuZXh0ZW5kKHt9LCBoZWF0bWFwQ2ZnLCBvcHRpb25zLmhlYXRtYXBPcHRpb25zIHx8IHt9KTsKICAgICAgICAgICAgICAgIHZhciBsYXllciA9IG5ldyBIZWF0bWFwT3ZlcmxheShoZWF0bWFwQ2ZnKTsKICAgICAgICAgICAgICAgIEwuVGltZURpbWVuc2lvbi5MYXllci5wcm90b3R5cGUuaW5pdGlhbGl6ZS5jYWxsKHRoaXMsIGxheWVyLCBvcHRpb25zKTsKICAgICAgICAgICAgICAgIHRoaXMuX2N1cnJlbnRMb2FkZWRUaW1lID0gMDsKICAgICAgICAgICAgICAgIHRoaXMuX2N1cnJlbnRUaW1lRGF0YSA9IHsKICAgICAgICAgICAgICAgICAgICBkYXRhOiBbXQogICAgICAgICAgICAgICAgICAgIH07CiAgICAgICAgICAgICAgICB0aGlzLmRhdGE9IGRhdGE7CiAgICAgICAgICAgICAgICB0aGlzLmRlZmF1bHRXZWlnaHQgPSBoZWF0bWFwQ2ZnLmRlZmF1bHRXZWlnaHQgfHwgMTsKICAgICAgICAgICAgfSwKICAgICAgICAgICAgb25BZGQ6IGZ1bmN0aW9uKG1hcCkgewogICAgICAgICAgICAgICAgTC5UaW1lRGltZW5zaW9uLkxheWVyLnByb3RvdHlwZS5vbkFkZC5jYWxsKHRoaXMsIG1hcCk7CiAgICAgICAgICAgICAgICBtYXAuYWRkTGF5ZXIodGhpcy5fYmFzZUxheWVyKTsKICAgICAgICAgICAgICAgIGlmICh0aGlzLl90aW1lRGltZW5zaW9uKSB7CiAgICAgICAgICAgICAgICAgICAgdGhpcy5fZ2V0RGF0YUZvclRpbWUodGhpcy5fdGltZURpbWVuc2lvbi5nZXRDdXJyZW50VGltZSgpKTsKICAgICAgICAgICAgICAgIH0KICAgICAgICAgICAgfSwKICAgICAgICAgICAgX29uTmV3VGltZUxvYWRpbmc6IGZ1bmN0aW9uKGV2KSB7CiAgICAgICAgICAgICAgICB0aGlzLl9nZXREYXRhRm9yVGltZShldi50aW1lKTsKICAgICAgICAgICAgICAgIHJldHVybjsKICAgICAgICAgICAgfSwKICAgICAgICAgICAgaXNSZWFkeTogZnVuY3Rpb24odGltZSkgewogICAgICAgICAgICAgICAgcmV0dXJuICh0aGlzLl9jdXJyZW50TG9hZGVkVGltZSA9PSB0aW1lKTsKICAgICAgICAgICAgfSwKICAgICAgICAgICAgX3VwZGF0ZTogZnVuY3Rpb24oKSB7CiAgICAgICAgICAgICAgICB0aGlzLl9iYXNlTGF5ZXIuc2V0RGF0YSh0aGlzLl9jdXJyZW50VGltZURhdGEpOwogICAgICAgICAgICAgICAgcmV0dXJuIHRydWU7CiAgICAgICAgICAgIH0sCiAgICAgICAgICAgIF9nZXREYXRhRm9yVGltZTogZnVuY3Rpb24odGltZSkgewogICAgICAgICAgICAgICAgICAgIGRlbGV0ZSB0aGlzLl9jdXJyZW50VGltZURhdGEuZGF0YTsKICAgICAgICAgICAgICAgICAgICB0aGlzLl9jdXJyZW50VGltZURhdGEuZGF0YSA9IFtdOwogICAgICAgICAgICAgICAgICAgIHZhciBkYXRhID0gdGhpcy5kYXRhW3RpbWUtMV07CiAgICAgICAgICAgICAgICAgICAgZm9yICh2YXIgaSA9IDA7IGkgPCBkYXRhLmxlbmd0aDsgaSsrKSB7CiAgICAgICAgICAgICAgICAgICAgICAgIHRoaXMuX2N1cnJlbnRUaW1lRGF0YS5kYXRhLnB1c2goewogICAgICAgICAgICAgICAgICAgICAgICAgICAgICAgIGxhdDogZGF0YVtpXVswXSwKICAgICAgICAgICAgICAgICAgICAgICAgICAgICAgICBsbmc6IGRhdGFbaV1bMV0sCiAgICAgICAgICAgICAgICAgICAgICAgICAgICAgICAgY291bnQ6IGRhdGFbaV0ubGVuZ3RoPjIgPyBkYXRhW2ldWzJdIDogdGhpcy5kZWZhdWx0V2VpZ2h0CiAgICAgICAgICAgICAgICAgICAgICAgICAgICB9KTsKICAgICAgICAgICAgICAgICAgICAgICAgfQogICAgICAgICAgICAgICAgICAgIHRoaXMuX2N1cnJlbnRMb2FkZWRUaW1lID0gdGltZTsKICAgICAgICAgICAgICAgICAgICBpZiAodGhpcy5fdGltZURpbWVuc2lvbiAmJiB0aW1lID09IHRoaXMuX3RpbWVEaW1lbnNpb24uZ2V0Q3VycmVudFRpbWUoKSAmJiAhdGhpcy5fdGltZURpbWVuc2lvbi5pc0xvYWRpbmcoKSkgewogICAgICAgICAgICAgICAgICAgICAgICB0aGlzLl91cGRhdGUoKTsKICAgICAgICAgICAgICAgICAgICB9CiAgICAgICAgICAgICAgICAgICAgdGhpcy5maXJlKCd0aW1lbG9hZCcsIHsKICAgICAgICAgICAgICAgICAgICAgICAgdGltZTogdGltZQogICAgICAgICAgICAgICAgICAgIH0pOwogICAgICAgICAgICAgICAgfQogICAgICAgIH0pOwoKICAgICAgICBMLkNvbnRyb2wuVGltZURpbWVuc2lvbkN1c3RvbSA9IEwuQ29udHJvbC5UaW1lRGltZW5zaW9uLmV4dGVuZCh7CiAgICAgICAgICAgIGluaXRpYWxpemU6IGZ1bmN0aW9uKGluZGV4LCBvcHRpb25zKSB7CiAgICAgICAgICAgICAgICB2YXIgcGxheWVyT3B0aW9ucyA9IHsKICAgICAgICAgICAgICAgICAgICBidWZmZXI6IDEsCiAgICAgICAgICAgICAgICAgICAgbWluQnVmZmVyUmVhZHk6IC0xCiAgICAgICAgICAgICAgICAgICAgfTsKICAgICAgICAgICAgICAgIG9wdGlvbnMucGxheWVyT3B0aW9ucyA9ICQuZXh0ZW5kKHt9LCBwbGF5ZXJPcHRpb25zLCBvcHRpb25zLnBsYXllck9wdGlvbnMgfHwge30pOwogICAgICAgICAgICAgICAgTC5Db250cm9sLlRpbWVEaW1lbnNpb24ucHJvdG90eXBlLmluaXRpYWxpemUuY2FsbCh0aGlzLCBvcHRpb25zKTsKICAgICAgICAgICAgICAgIHRoaXMuaW5kZXggPSBpbmRleDsKICAgICAgICAgICAgICAgIH0sCiAgICAgICAgICAgIF9nZXREaXNwbGF5RGF0ZUZvcm1hdDogZnVuY3Rpb24oZGF0ZSl7CiAgICAgICAgICAgICAgICByZXR1cm4gdGhpcy5pbmRleFtkYXRlLmdldFRpbWUoKS0xXTsKICAgICAgICAgICAgICAgIH0KICAgICAgICAgICAgfSk7CiAgICAgICAgICAgIDwvc2NyaXB0PgogICAgICAgICAgICAgICAgCjwvaGVhZD4KPGJvZHk+ICAgIAogICAgCiAgICAgICAgICAgIDxkaXYgY2xhc3M9ImZvbGl1bS1tYXAiIGlkPSJtYXBfNzc1ZjA1OTRiNDYzNDA5ZWIwZDg0NTNiOWYwNThiOWIiID48L2Rpdj4KICAgICAgICAKPC9ib2R5Pgo8c2NyaXB0PiAgICAKICAgIAogICAgICAgICAgICB2YXIgbWFwXzc3NWYwNTk0YjQ2MzQwOWViMGQ4NDUzYjlmMDU4YjliID0gTC5tYXAoCiAgICAgICAgICAgICAgICAibWFwXzc3NWYwNTk0YjQ2MzQwOWViMGQ4NDUzYjlmMDU4YjliIiwKICAgICAgICAgICAgICAgIHsKICAgICAgICAgICAgICAgICAgICBjZW50ZXI6IFs0MC44MjA2OTUsIC03NC4xMTk5NjVdLAogICAgICAgICAgICAgICAgICAgIGNyczogTC5DUlMuRVBTRzM4NTcsCiAgICAgICAgICAgICAgICAgICAgem9vbTogMTIsCiAgICAgICAgICAgICAgICAgICAgem9vbUNvbnRyb2w6IHRydWUsCiAgICAgICAgICAgICAgICAgICAgcHJlZmVyQ2FudmFzOiBmYWxzZSwKICAgICAgICAgICAgICAgIH0KICAgICAgICAgICAgKTsKCiAgICAgICAgICAgIAoKICAgICAgICAKICAgIAogICAgICAgICAgICB2YXIgdGlsZV9sYXllcl8xODBkN2Y2Y2U1N2Y0MTlhYWVjNTgyNTJiM2M0MDlmOCA9IEwudGlsZUxheWVyKAogICAgICAgICAgICAgICAgImh0dHBzOi8vc3RhbWVuLXRpbGVzLXtzfS5hLnNzbC5mYXN0bHkubmV0L3RlcnJhaW4ve3p9L3t4fS97eX0uanBnIiwKICAgICAgICAgICAgICAgIHsiYXR0cmlidXRpb24iOiAiTWFwIHRpbGVzIGJ5IFx1MDAzY2EgaHJlZj1cImh0dHA6Ly9zdGFtZW4uY29tXCJcdTAwM2VTdGFtZW4gRGVzaWduXHUwMDNjL2FcdTAwM2UsIHVuZGVyIFx1MDAzY2EgaHJlZj1cImh0dHA6Ly9jcmVhdGl2ZWNvbW1vbnMub3JnL2xpY2Vuc2VzL2J5LzMuMFwiXHUwMDNlQ0MgQlkgMy4wXHUwMDNjL2FcdTAwM2UuIERhdGEgYnkgXHUwMDI2Y29weTsgXHUwMDNjYSBocmVmPVwiaHR0cDovL29wZW5zdHJlZXRtYXAub3JnXCJcdTAwM2VPcGVuU3RyZWV0TWFwXHUwMDNjL2FcdTAwM2UsIHVuZGVyIFx1MDAzY2EgaHJlZj1cImh0dHA6Ly9jcmVhdGl2ZWNvbW1vbnMub3JnL2xpY2Vuc2VzL2J5LXNhLzMuMFwiXHUwMDNlQ0MgQlkgU0FcdTAwM2MvYVx1MDAzZS4iLCAiZGV0ZWN0UmV0aW5hIjogZmFsc2UsICJtYXhOYXRpdmVab29tIjogMTgsICJtYXhab29tIjogMTgsICJtaW5ab29tIjogMCwgIm5vV3JhcCI6IGZhbHNlLCAib3BhY2l0eSI6IDEsICJzdWJkb21haW5zIjogImFiYyIsICJ0bXMiOiBmYWxzZX0KICAgICAgICAgICAgKS5hZGRUbyhtYXBfNzc1ZjA1OTRiNDYzNDA5ZWIwZDg0NTNiOWYwNThiOWIpOwogICAgICAgIAogICAgCgogICAgICAgICAgICB2YXIgdGltZXMgPSBbMSwgMiwgMywgNCwgNSwgNiwgNywgOCwgOSwgMTAsIDExLCAxMiwgMTNdOwoKICAgICAgICAgICAgbWFwXzc3NWYwNTk0YjQ2MzQwOWViMGQ4NDUzYjlmMDU4YjliLnRpbWVEaW1lbnNpb24gPSBMLnRpbWVEaW1lbnNpb24oCiAgICAgICAgICAgICAgICB7dGltZXMgOiB0aW1lcywgY3VycmVudFRpbWU6IG5ldyBEYXRlKDEpfQogICAgICAgICAgICApOwoKICAgICAgICAgICAgdmFyIGhlYXRfbWFwXzZlMzcwMTJmMzE0NDQ3NmQ5NjdhNmFmZGY2ZGEzNjM5Q29udHJvbCA9IG5ldyBMLkNvbnRyb2wuVGltZURpbWVuc2lvbkN1c3RvbShbJzEnLCAnMicsICczJywgJzQnLCAnNScsICc2JywgJzcnLCAnOCcsICc5JywgJzEwJywgJzExJywgJzEyJywgJzEzJ10sIHsKICAgICAgICAgICAgICAgIGF1dG9QbGF5OiB0cnVlLAogICAgICAgICAgICAgICAgYmFja3dhcmRCdXR0b246IHRydWUsCiAgICAgICAgICAgICAgICBkaXNwbGF5RGF0ZTogdHJ1ZSwKICAgICAgICAgICAgICAgIGZvcndhcmRCdXR0b246IHRydWUsCiAgICAgICAgICAgICAgICBsaW1pdE1pbmltdW1SYW5nZTogNSwKICAgICAgICAgICAgICAgIGxpbWl0U2xpZGVyczogdHJ1ZSwKICAgICAgICAgICAgICAgIGxvb3BCdXR0b246IHRydWUsCiAgICAgICAgICAgICAgICBtYXhTcGVlZDogMTAsCiAgICAgICAgICAgICAgICBtaW5TcGVlZDogMC4xLAogICAgICAgICAgICAgICAgcGxheUJ1dHRvbjogdHJ1ZSwKICAgICAgICAgICAgICAgIHBsYXlSZXZlcnNlQnV0dG9uOiB0cnVlLAogICAgICAgICAgICAgICAgcG9zaXRpb246ICJib3R0b21sZWZ0IiwKICAgICAgICAgICAgICAgIHNwZWVkU2xpZGVyOiB0cnVlLAogICAgICAgICAgICAgICAgc3BlZWRTdGVwOiAwLjEsCiAgICAgICAgICAgICAgICBzdHlsZU5TOiAibGVhZmxldC1jb250cm9sLXRpbWVjb250cm9sIiwKICAgICAgICAgICAgICAgIHRpbWVTbGlkZXI6IHRydWUsCiAgICAgICAgICAgICAgICB0aW1lU2xpZGVyRHJhcFVwZGF0ZTogZmFsc2UsCiAgICAgICAgICAgICAgICB0aW1lU3RlcHM6IDEKICAgICAgICAgICAgICAgIH0pCiAgICAgICAgICAgICAgICAuYWRkVG8obWFwXzc3NWYwNTk0YjQ2MzQwOWViMGQ4NDUzYjlmMDU4YjliKTsKCiAgICAgICAgICAgICAgICB2YXIgaGVhdF9tYXBfNmUzNzAxMmYzMTQ0NDc2ZDk2N2E2YWZkZjZkYTM2MzkgPSBuZXcgVERIZWF0bWFwKFtbXSwgW1s0MC44MDQ4NjM0MywgLTc0LjA3MzgwOThdLCBbNDAuODEwODYxNzQsIC03NC4wOTIyMzk0MDAwMDAwMV0sIFs0MC44MDA0MTU4MywgLTc0LjA2ODkxMzMzXSwgWzQwLjgwNDg2MzQzLCAtNzQuMDczODA5OF0sIFs0MC44MTEwNDA4MywgLTc0LjA5MDMzNzJdLCBbNDAuODA4NTM0NDQsIC03NC4wNzk2Mjg2MV0sIFs0MC44MTA1Mzc0MywgLTc0LjA4NDY3NzYzXSwgWzQwLjgxOTAzNTA0LCAtNzQuMTE3NDc2MTZdLCBbNDAuODIyNjU1NCwgLTc0LjEyMzQzMDE3XSwgWzQwLjgxNDAwMTQ2LCAtNzQuMTA4MTYyMjhdLCBbNDAuODE0MDAxNDYsIC03NC4xMDgxNjIyOF0sIFs0MC44MTA2MzI5MywgLTc0LjA5NDEyOTY3XSwgWzQwLjgxNDc1NTU4LCAtNzQuMTA5NzkwNl0sIFs0MC44MTAzNDI0NCwgLTc0LjA5NzkxOTIyXSwgWzQwLjgxMDU3NTg3LCAtNzQuMDk5NzkzNzRdLCBbNDAuODIyNjU1NCwgLTc0LjEyMzQzMDE3XSwgWzQwLjc3MzY2OTk1LCAtNzQuMDQyMjQ3MzRdLCBbNDAuNzczMjM1NzQsIC03NC4wNDE3NTQ1OTk5OTk5OV0sIFs0MC43NzcxOTc2MiwgLTc0LjA0NTQ0NjgzXSwgWzQwLjc3NzE5NzYyLCAtNzQuMDQ1NDQ2ODNdLCBbNDAuNzg1NjIxMTQsIC03NC4wNDgyODU5Nl0sIFs0MC43OTg2MzM1OSwgLTc0LjA2NTg5ODI0XSwgWzQwLjc4NTYyMTE0LCAtNzQuMDQ4Mjg1OTZdLCBbNDAuNzg1NjIxMTQsIC03NC4wNDgyODU5Nl0sIFs0MC43ODU2MjExNCwgLTc0LjA0ODI4NTk2XSwgWzQwLjc5ODYzMzU5LCAtNzQuMDY1ODk4MjRdLCBbNDAuNzg2OTMxNjMsIC03NC4wNDkxMDEwMV0sIFs0MC43OTc3ODAzMywgLTc0LjA2NDM1MzI4XSwgWzQwLjc4NTYyMTE0LCAtNzQuMDQ4Mjg1OTZdLCBbNDAuNzg0MjI0MTcsIC03NC4wNDc3NTkyMV0sIFs0MC43ODQyMjQxNywgLTc0LjA0Nzc1OTIxXSwgWzQwLjc4NjkzMTYzLCAtNzQuMDQ5MTAxMDFdLCBbNDAuODQxMDAxMjIsIC03NC4xNjIzNjUxNV0sIFs0MC44NDE3NzQwNywgLTc0LjE2Mzk4MzM5XSwgWzQwLjg0MTAwMTIyLCAtNzQuMTYyMzY1MTVdLCBbNDAuODQxMDAxMjIsIC03NC4xNjIzNjUxNV0sIFs0MC44NjYyMTU4NSwgLTc0LjE4Mjg2OTU1XSwgWzQwLjg2NzM3OTA5LCAtNzQuMTgzOTg4XSwgWzQwLjg0MTc3NDA3LCAtNzQuMTYzOTgzMzldLCBbNDAuODM4Njg1ODgsIC03NC4xNTc1MTc2M10sIFs0MC44NTY1NjUxMiwgLTc0LjE3OTE2NzQ3XSwgWzQwLjg1MTc2MzQzLCAtNzQuMTc0ODgyNzNdLCBbNDAuODQyNjU0MTYsIC03NC4xNjU1MDE2M10sIFs0MC44Mzc5MTQ0MiwgLTc0LjE1NTkwMjU5OTk5OTk5XSwgWzQwLjgwODUzNDQ0LCAtNzQuMDc5NjI4NjFdLCBbNDAuODExMDM4NjYsIC03NC4wODg0MzIwOF0sIFs0MC44MTQ3NTU1OCwgLTc0LjEwOTc5MDZdLCBbNDAuODE2MzUzODgsIC03NC4xMTI5NjkwN10sIFs0MC44MjI2NTU0LCAtNzQuMTIzNDMwMTddLCBbNDAuODIwOTQ0NTMsIC03NC4xMjAzNzE5NF0sIFs0MC44MTgxMTQxNywgLTc0LjExNjAwNTU3XSwgWzQwLjgxMTc1OTY3LCAtNzQuMTAzMjU0MDJdLCBbNDAuODE4MTE0MTcsIC03NC4xMTYwMDU1N10sIFs0MC44MTI0OTgxMSwgLTc0LjEwNDg5MjUzXSwgWzQwLjgyMjY1NTQsIC03NC4xMjM0MzAxN10sIFs0MC44MTk5NzQ4MywgLTc0LjExODkyNzcxXSwgWzQwLjgyMTgyMDc5LCAtNzQuMTIxODc5NzZdLCBbNDAuODIyNjU1NCwgLTc0LjEyMzQzMDE3XSwgWzQwLjc4NjkzMTYzLCAtNzQuMDQ5MTAxMDFdLCBbNDAuNzg0MjI0MTcsIC03NC4wNDc3NTkyMV0sIFs0MC43ODQyMjQxNywgLTc0LjA0Nzc1OTIxXSwgWzQwLjg1NTMyODAyLCAtNzQuMTc4MTcxMjNdLCBbNDAuODU3ODg4ODcsIC03NC4xNzk5MTM1N10sIFs0MC44NjQ5MzQxOSwgLTc0LjE4MTk2OTQ3XSwgWzQwLjg0MDIyODc2LCAtNzQuMTYwNzQ3NzldLCBbNDAuODU5Mjk2MzQsIC03NC4xODAzNjk2XSwgWzQwLjgzMTA4MzQ0LCAtNzQuMTQxMjcwODJdLCBbNDAuODMxODMwMzYsIC03NC4xNDI5MDc1N10sIFs0MC44NjM1OTAxMSwgLTc0LjE4MTIzNzAzXSwgWzQwLjgzODY4NTg4LCAtNzQuMTU3NTE3NjNdLCBbNDAuODU0MTQwNCwgLTc0LjE3NzA3NTU0XSwgWzQwLjg2MjE4OTE2LCAtNzQuMTgwODEyODVdLCBbNDAuODIzNDk4MzQsIC03NC4xMjQ5OTE3MV0sIFs0MC44NTI5NTE5NiwgLTc0LjE3NTk3OTE1XSwgWzQwLjgyMzQ5ODM0LCAtNzQuMTI0OTkxNzFdLCBbNDAuODQxMDAxMjIsIC03NC4xNjIzNjUxNV0sIFs0MC44NTc4ODg4NywgLTc0LjE3OTkxMzU3XSwgWzQwLjg2MjE4OTE2LCAtNzQuMTgwODEyODVdLCBbNDAuODQxMDAxMjIsIC03NC4xNjIzNjUxNV1dLCBbWzQwLjgxMTA0OTY5LCAtNzQuMTAxNTk2MjNdLCBbNDAuODExMDQ5NjksIC03NC4xMDE1OTYyM10sIFs0MC44MTA1NzU4NywgLTc0LjA5OTc5Mzc0XSwgWzQwLjgxMTA0OTY5LCAtNzQuMTAxNTk2MjNdLCBbNDAuNzc3MTk3NjIsIC03NC4wNDU0NDY4M10sIFs0MC43NzcxOTc2MiwgLTc0LjA0NTQ0NjgzXSwgWzQwLjc3NzE5NzYyLCAtNzQuMDQ1NDQ2ODNdLCBbNDAuNzg1NjIxMTQsIC03NC4wNDgyODU5Nl0sIFs0MC43ODI4MTM1NCwgLTc0LjA0NzMyNDMyXSwgWzQwLjc5NDE3MTI1LCAtNzQuMDU4MzgzOTFdLCBbNDAuODU2NTY1MTIsIC03NC4xNzkxNjc0N10sIFs0MC44NTY1NjUxMiwgLTc0LjE3OTE2NzQ3XSwgWzQwLjgzNDgyODMxLCAtNzQuMTQ5NDQyODddLCBbNDAuODI0MzA1MDMsIC03NC4xMjY1NzExM10sIFs0MC44NjYyMTU4NSwgLTc0LjE4Mjg2OTU1XSwgWzQwLjg0MTAwMTIyLCAtNzQuMTYyMzY1MTVdLCBbNDAuODIzNDk4MzQsIC03NC4xMjQ5OTE3MV0sIFs0MC44MjgwOTMzMywgLTc0LjEzNDcyNjUzXSwgWzQwLjg0OTM4NjI0LCAtNzQuMTcyNjg5OTRdLCBbNDAuODY2MjE1ODUsIC03NC4xODI4Njk1NV0sIFs0MC44MjM0OTgzNCwgLTc0LjEyNDk5MTcxXSwgWzQwLjg0NTgyMDM3LCAtNzQuMTY5NDAxMDVdLCBbNDAuODMxODMwMzYsIC03NC4xNDI5MDc1N10sIFs0MC44MzE4MzAzNiwgLTc0LjE0MjkwNzU3XSwgWzQwLjg2NjIxNTg1LCAtNzQuMTgyODY5NTVdLCBbNDAuODMyNTc3MzEsIC03NC4xNDQ1NDQ0N10sIFs0MC44Mzg2ODU4OCwgLTc0LjE1NzUxNzYzXSwgWzQwLjgzNDgyODMxLCAtNzQuMTQ5NDQyODddLCBbNDAuODMxODMwMzYsIC03NC4xNDI5MDc1N10sIFs0MC44NDU4MjAzNywgLTc0LjE2OTQwMTA1XSwgWzQwLjg0MDIyODc2LCAtNzQuMTYwNzQ3NzldLCBbNDAuODM4Njg1ODgsIC03NC4xNTc1MTc2M10sIFs0MC44NDkzODYyNCwgLTc0LjE3MjY4OTk0XSwgWzQwLjgzMjU3NzMxLCAtNzQuMTQ0NTQ0NDddLCBbNDAuODEwODcwNTksIC03NC4wODY1NDMxMl0sIFs0MC44MDkyOTQ3NywgLTc0LjA4MTI0OTI0XSwgWzQwLjgwMzczMTM3LCAtNzQuMDcyNjExMDRdLCBbNDAuODAyNTk1Mzk5OTk5OTk0LCAtNzQuMDcxNDA4MTddLCBbNDAuODEwODYxNzQsIC03NC4wOTIyMzk0MDAwMDAwMV0sIFs0MC44MTAzOTc2LCAtNzQuMDk2MDEyNDddLCBbNDAuODEzMjQ0ODgsIC03NC4xMDY1Mjg3NV0sIFs0MC44MTE3NTk2NywgLTc0LjEwMzI1NDAyXSwgWzQwLjgxMjQ5ODExLCAtNzQuMTA0ODkyNTNdLCBbNDAuODExMDQ5NjksIC03NC4xMDE1OTYyM10sIFs0MC44MTkwMzUwNCwgLTc0LjExNzQ3NjE2XSwgWzQwLjgxMjQ5ODExLCAtNzQuMTA0ODkyNTNdLCBbNDAuODE3MjMwNDMsIC03NC4xMTQ0OTM3OV0sIFs0MC44MjE4MjA3OSwgLTc0LjEyMTg3OTc2XSwgWzQwLjgxMTA0OTY5LCAtNzQuMTAxNTk2MjNdLCBbNDAuODEzMjQ0ODgsIC03NC4xMDY1Mjg3NV0sIFs0MC44MjI2NTU0LCAtNzQuMTIzNDMwMTddLCBbNDAuNzc3MTk3NjIsIC03NC4wNDU0NDY4M10sIFs0MC43NzcxOTc2MiwgLTc0LjA0NTQ0NjgzXSwgWzQwLjc5ODYzMzU5LCAtNzQuMDY1ODk4MjRdLCBbNDAuNzg5MjM5MzEsIC03NC4wNTEzOTcwMV0sIFs0MC43OTMxODg2NCwgLTc0LjA1Njk3NTA4XSwgWzQwLjc5ODYzMzU5LCAtNzQuMDY1ODk4MjRdLCBbNDAuNzkzMTg4NjQsIC03NC4wNTY5NzUwOF0sIFs0MC44NjIxODkxNiwgLTc0LjE4MDgxMjg1XSwgWzQwLjg1Mjk1MTk2LCAtNzQuMTc1OTc5MTVdLCBbNDAuODMxMDgzNDQsIC03NC4xNDEyNzA4Ml0sIFs0MC44MzQ4MjgzMSwgLTc0LjE0OTQ0Mjg3XSwgWzQwLjgzMTgzMDM2LCAtNzQuMTQyOTA3NTddLCBbNDAuODUxNzYzNDMsIC03NC4xNzQ4ODI3M10sIFs0MC44NjQ5MzQxOSwgLTc0LjE4MTk2OTQ3XSwgWzQwLjgzNDgyODMxLCAtNzQuMTQ5NDQyODddLCBbNDAuODMxODMwMzYsIC03NC4xNDI5MDc1N10sIFs0MC44NDEwMDEyMiwgLTc0LjE2MjM2NTE1XSwgWzQwLjgzMTA4MzQ0LCAtNzQuMTQxMjcwODJdLCBbNDAuODMxODMwMzYsIC03NC4xNDI5MDc1N10sIFs0MC44MzE4MzAzNiwgLTc0LjE0MjkwNzU3XSwgWzQwLjg1NjU2NTEyLCAtNzQuMTc5MTY3NDddLCBbNDAuODU2NTY1MTIsIC03NC4xNzkxNjc0N10sIFs0MC44MzE4MzAzNiwgLTc0LjE0MjkwNzU3XSwgWzQwLjgzMTA4MzQ0LCAtNzQuMTQxMjcwODJdLCBbNDAuODMxODMwMzYsIC03NC4xNDI5MDc1N10sIFs0MC44NjQ5MzQxOSwgLTc0LjE4MTk2OTQ3XSwgWzQwLjgyOTU4OTYzLCAtNzQuMTM3OTk3NjddLCBbNDAuODM0ODI4MzEsIC03NC4xNDk0NDI4N10sIFs0MC44NDkzODYyNCwgLTc0LjE3MjY4OTk0XSwgWzQwLjgzMTA4MzQ0LCAtNzQuMTQxMjcwODJdLCBbNDAuODU0MTQwNCwgLTc0LjE3NzA3NTU0XSwgWzQwLjgzMTgzMDM2LCAtNzQuMTQyOTA3NTddLCBbNDAuODIzNDk4MzQsIC03NC4xMjQ5OTE3MV0sIFs0MC44MzU1OTk4NywgLTc0LjE1MTA1Nzc1XSwgWzQwLjgzMTgzMDM2LCAtNzQuMTQyOTA3NTddLCBbNDAuODI1MDYzMTgsIC03NC4xMjgyMDMxXV0sIFtbNDAuODA2OTU2ODEsIC03NC4wNzY0MTMyNF0sIFs0MC44MTQwMDE0NiwgLTc0LjEwODE2MjI4XSwgWzQwLjgyMDk0NDUzLCAtNzQuMTIwMzcxOTRdLCBbNDAuODE0MDAxNDYsIC03NC4xMDgxNjIyOF0sIFs0MC44MjI2NTU0LCAtNzQuMTIzNDMwMTddLCBbNDAuODEwNjMyOTMsIC03NC4wOTQxMjk2N10sIFs0MC44MTQwMDE0NiwgLTc0LjEwODE2MjI4XSwgWzQwLjgxNTUyMDk5LCAtNzQuMTExNDA1NzJdLCBbNDAuODEyNDk4MTEsIC03NC4xMDQ4OTI1M10sIFs0MC44MTYzNTM4OCwgLTc0LjExMjk2OTA3XSwgWzQwLjgyMTgyMDc5LCAtNzQuMTIxODc5NzZdLCBbNDAuNzc3MTk3NjIsIC03NC4wNDU0NDY4M10sIFs0MC43NzM2Njk5NSwgLTc0LjA0MjI0NzM0XSwgWzQwLjc3MzIzNTc0LCAtNzQuMDQxNzU0NTk5OTk5OTldLCBbNDAuNzg5MjM5MzEsIC03NC4wNTEzOTcwMV0sIFs0MC43OTQxNzEyNSwgLTc0LjA1ODM4MzkxXSwgWzQwLjc5MTIxOTU1LCAtNzQuMDU0MTc0NzddLCBbNDAuNzkxMjE5NTUsIC03NC4wNTQxNzQ3N10sIFs0MC43ODQyMjQxNywgLTc0LjA0Nzc1OTIxXSwgWzQwLjc5MzE4ODY0LCAtNzQuMDU2OTc1MDhdLCBbNDAuNzk1MTI1ODcsIC03NC4wNTk4Mjc3NF0sIFs0MC43ODY5MzE2MywgLTc0LjA0OTEwMTAxXSwgWzQwLjc5MDIzNjI2LCAtNzQuMDUyNzc4MDNdLCBbNDAuODM5NDU3MzMsIC03NC4xNTkxMzI2OV0sIFs0MC44NDAyMjg3NiwgLTc0LjE2MDc0Nzc5XSwgWzQwLjg0MTAwMTIyLCAtNzQuMTYyMzY1MTVdLCBbNDAuODMxMDgzNDQsIC03NC4xNDEyNzA4Ml0sIFs0MC44Mzg2ODU4OCwgLTc0LjE1NzUxNzYzXSwgWzQwLjgzMTA4MzQ0LCAtNzQuMTQxMjcwODJdLCBbNDAuODM0MDcxMTQsIC03NC4xNDc4MTgzN10sIFs0MC44NDEwMDEyMiwgLTc0LjE2MjM2NTE1XSwgWzQwLjg2NjIxNTg1LCAtNzQuMTgyODY5NTVdLCBbNDAuODI5NTg5NjMsIC03NC4xMzc5OTc2N10sIFs0MC44NjYyMTU4NSwgLTc0LjE4Mjg2OTU1XSwgWzQwLjgyMzQ5ODM0LCAtNzQuMTI0OTkxNzFdLCBbNDAuODI0MzA1MDMsIC03NC4xMjY1NzExM10sIFs0MC44NDI2NTQxNiwgLTc0LjE2NTUwMTYzXSwgWzQwLjg0MTAwMTIyLCAtNzQuMTYyMzY1MTVdLCBbNDAuODIzNDk4MzQsIC03NC4xMjQ5OTE3MV0sIFs0MC44NTQxNDA0LCAtNzQuMTc3MDc1NTRdLCBbNDAuODMyNTc3MzEsIC03NC4xNDQ1NDQ0N10sIFs0MC44MzAzMzY1NCwgLTc0LjEzOTYzNDIyXSwgWzQwLjc3NzE5NzYyLCAtNzQuMDQ1NDQ2ODNdLCBbNDAuODA3NzU0NDQsIC03NC4wNzgwMTY2XSwgWzQwLjgxMTAzODY2LCAtNzQuMDg4NDMyMDhdLCBbNDAuODA0ODYzNDMsIC03NC4wNzM4MDk4XSwgWzQwLjgxMTA0OTY5LCAtNzQuMTAxNTk2MjNdLCBbNDAuODE4MTE0MTcsIC03NC4xMTYwMDU1N10sIFs0MC44MTE3NTk2NywgLTc0LjEwMzI1NDAyXSwgWzQwLjgxNjM1Mzg4LCAtNzQuMTEyOTY5MDddLCBbNDAuODEyNDk4MTEsIC03NC4xMDQ4OTI1M10sIFs0MC44MTEwNDk2OSwgLTc0LjEwMTU5NjIzXSwgWzQwLjgxOTAzNTA0LCAtNzQuMTE3NDc2MTZdLCBbNDAuNzk4NjMzNTksIC03NC4wNjU4OTgyNF0sIFs0MC43OTQxNzEyNSwgLTc0LjA1ODM4MzkxXSwgWzQwLjc5NjAyNjI1LCAtNzQuMDYxMzE4MzZdLCBbNDAuNzk3NzgwMzMsIC03NC4wNjQzNTMyOF0sIFs0MC44NDEwMDEyMiwgLTc0LjE2MjM2NTE1XSwgWzQwLjg1Mjk1MTk2LCAtNzQuMTc1OTc5MTVdLCBbNDAuODMxODMwMzYsIC03NC4xNDI5MDc1N10sIFs0MC44MzQ4MjgzMSwgLTc0LjE0OTQ0Mjg3XSwgWzQwLjgyMzQ5ODM0LCAtNzQuMTI0OTkxNzFdLCBbNDAuODM0ODI4MzEsIC03NC4xNDk0NDI4N10sIFs0MC44MzYzNzE0MSwgLTc0LjE1MjY3MjY2XSwgWzQwLjgzMTA4MzQ0LCAtNzQuMTQxMjcwODJdLCBbNDAuODMwMzM2NTQsIC03NC4xMzk2MzQyMl0sIFs0MC44MzE4MzAzNiwgLTc0LjE0MjkwNzU3XSwgWzQwLjgzMTgzMDM2LCAtNzQuMTQyOTA3NTddLCBbNDAuODM0ODI4MzEsIC03NC4xNDk0NDI4N10sIFs0MC44MzE4MzAzNiwgLTc0LjE0MjkwNzU3XSwgWzQwLjgzNDgyODMxLCAtNzQuMTQ5NDQyODddLCBbNDAuODQ5Mzg2MjQsIC03NC4xNzI2ODk5NF0sIFs0MC44NjM1OTAxMSwgLTc0LjE4MTIzNzAzXSwgWzQwLjg1NTMyODAyLCAtNzQuMTc4MTcxMjNdLCBbNDAuODMxODMwMzYsIC03NC4xNDI5MDc1N10sIFs0MC44NTE3NjM0MywgLTc0LjE3NDg4MjczXSwgWzQwLjgzMTgzMDM2LCAtNzQuMTQyOTA3NTddLCBbNDAuODU1MzI4MDIsIC03NC4xNzgxNzEyM10sIFs0MC44MzU1OTk4NywgLTc0LjE1MTA1Nzc1XSwgWzQwLjgzMTgzMDM2LCAtNzQuMTQyOTA3NTddLCBbNDAuODMxODMwMzYsIC03NC4xNDI5MDc1N10sIFs0MC44MjM0OTgzNCwgLTc0LjEyNDk5MTcxXSwgWzQwLjgzMTgzMDM2LCAtNzQuMTQyOTA3NTddXSwgW1s0MC44MDE0ODM2NiwgLTc0LjA3MDE5Mjc1XSwgWzQwLjgxOTk3NDgzLCAtNzQuMTE4OTI3NzFdLCBbNDAuODE3MjMwNDMsIC03NC4xMTQ0OTM3OV0sIFs0MC44MTEwNDk2OSwgLTc0LjEwMTU5NjIzXSwgWzQwLjgxNDAwMTQ2LCAtNzQuMTA4MTYyMjhdLCBbNDAuODE5OTc0ODMsIC03NC4xMTg5Mjc3MV0sIFs0MC44MTA1NzU4NywgLTc0LjA5OTc5Mzc0XSwgWzQwLjgyMjY1NTQsIC03NC4xMjM0MzAxN10sIFs0MC44MjI2NTU0LCAtNzQuMTIzNDMwMTddLCBbNDAuODEwNTc1ODcsIC03NC4wOTk3OTM3NF0sIFs0MC44MTQwMDE0NiwgLTc0LjEwODE2MjI4XSwgWzQwLjgxMTA0OTY5LCAtNzQuMTAxNTk2MjNdLCBbNDAuODEyNDk4MTEsIC03NC4xMDQ4OTI1M10sIFs0MC44MjI2NTU0LCAtNzQuMTIzNDMwMTddLCBbNDAuODE5OTc0ODMsIC03NC4xMTg5Mjc3MV0sIFs0MC44MTA1NzU4NywgLTc0LjA5OTc5Mzc0XSwgWzQwLjgxNjM1Mzg4LCAtNzQuMTEyOTY5MDddLCBbNDAuNzczNjY5OTUsIC03NC4wNDIyNDczNF0sIFs0MC43NzMyMzU3NCwgLTc0LjA0MTc1NDU5OTk5OTk5XSwgWzQwLjc3NzE5NzYyLCAtNzQuMDQ1NDQ2ODNdLCBbNDAuNzc3MTk3NjIsIC03NC4wNDU0NDY4M10sIFs0MC43OTMxODg2NCwgLTc0LjA1Njk3NTA4XSwgWzQwLjc4NTYyMTE0LCAtNzQuMDQ4Mjg1OTZdLCBbNDAuNzk0MTcxMjUsIC03NC4wNTgzODM5MV0sIFs0MC43OTg2MzM1OSwgLTc0LjA2NTg5ODI0XSwgWzQwLjc5MDIzNjI2LCAtNzQuMDUyNzc4MDNdLCBbNDAuNzg2OTMxNjMsIC03NC4wNDkxMDEwMV0sIFs0MC43OTUxMjU4NywgLTc0LjA1OTgyNzc0XSwgWzQwLjg0MTAwMTIyLCAtNzQuMTYyMzY1MTVdLCBbNDAuODY2MjE1ODUsIC03NC4xODI4Njk1NV0sIFs0MC44NDAyMjg3NiwgLTc0LjE2MDc0Nzc5XSwgWzQwLjgyNDMwNTAzLCAtNzQuMTI2NTcxMTNdLCBbNDAuODIzNDk4MzQsIC03NC4xMjQ5OTE3MV0sIFs0MC44NDEwMDEyMiwgLTc0LjE2MjM2NTE1XSwgWzQwLjg1NjU2NTEyLCAtNzQuMTc5MTY3NDddLCBbNDAuODM2MzcxNDEsIC03NC4xNTI2NzI2Nl0sIFs0MC44Mzg2ODU4OCwgLTc0LjE1NzUxNzYzXSwgWzQwLjg2NjIxNTg1LCAtNzQuMTgyODY5NTVdLCBbNDAuODQ5Mzg2MjQsIC03NC4xNzI2ODk5NF0sIFs0MC44NDkzODYyNCwgLTc0LjE3MjY4OTk0XSwgWzQwLjg0OTM4NjI0LCAtNzQuMTcyNjg5OTRdLCBbNDAuODQxMDAxMjIsIC03NC4xNjIzNjUxNV0sIFs0MC44NTE3NjM0MywgLTc0LjE3NDg4MjczXSwgWzQwLjgyMzQ5ODM0LCAtNzQuMTI0OTkxNzFdLCBbNDAuNzczNjY5OTUsIC03NC4wNDIyNDczNF0sIFs0MC43NzMyMzU3NCwgLTc0LjA0MTc1NDU5OTk5OTk5XSwgWzQwLjgwNjk1NjgxLCAtNzQuMDc2NDEzMjRdLCBbNDAuODEwODYxNzQsIC03NC4wOTIyMzk0MDAwMDAwMV0sIFs0MC44MTEwNDk2OSwgLTc0LjEwMTU5NjIzXSwgWzQwLjgyMTgyMDc5LCAtNzQuMTIxODc5NzZdLCBbNDAuODE2MzUzODgsIC03NC4xMTI5NjkwN10sIFs0MC44MTU1MjA5OSwgLTc0LjExMTQwNTcyXSwgWzQwLjgxMTA0OTY5LCAtNzQuMTAxNTk2MjNdLCBbNDAuODE3MjMwNDMsIC03NC4xMTQ0OTM3OV0sIFs0MC44MTQwMDE0NiwgLTc0LjEwODE2MjI4XSwgWzQwLjc3NDcyMiwgLTc0LjA0MzU1NjIzXSwgWzQwLjc5NjkyNjYzLCAtNzQuMDYyODA5MDFdLCBbNDAuNzgxNDA0NDYsIC03NC4wNDY4ODc4OF0sIFs0MC43OTQxNzEyNSwgLTc0LjA1ODM4MzkxXSwgWzQwLjc4NDIyNDE3LCAtNzQuMDQ3NzU5MjFdLCBbNDAuODM0ODI4MzEsIC03NC4xNDk0NDI4N10sIFs0MC44NDAyMjg3NiwgLTc0LjE2MDc0Nzc5XSwgWzQwLjg0MzYxMDQ0LCAtNzQuMTY2OTM4NThdLCBbNDAuODQxMDAxMjIsIC03NC4xNjIzNjUxNV0sIFs0MC44NTQxNDA0LCAtNzQuMTc3MDc1NTRdLCBbNDAuODMxODMwMzYsIC03NC4xNDI5MDc1N10sIFs0MC44MzU1OTk4NywgLTc0LjE1MTA1Nzc1XSwgWzQwLjgzMTgzMDM2LCAtNzQuMTQyOTA3NTddLCBbNDAuODMxODMwMzYsIC03NC4xNDI5MDc1N10sIFs0MC44NDI2NTQxNiwgLTc0LjE2NTUwMTYzXSwgWzQwLjgzMTA4MzQ0LCAtNzQuMTQxMjcwODJdLCBbNDAuODU2NTY1MTIsIC03NC4xNzkxNjc0N10sIFs0MC44NTQxNDA0LCAtNzQuMTc3MDc1NTRdLCBbNDAuODMxODMwMzYsIC03NC4xNDI5MDc1N10sIFs0MC44MzE4MzAzNiwgLTc0LjE0MjkwNzU3XSwgWzQwLjgzMTgzMDM2LCAtNzQuMTQyOTA3NTddLCBbNDAuODUyOTUxOTYsIC03NC4xNzU5NzkxNV0sIFs0MC44NTI5NTE5NiwgLTc0LjE3NTk3OTE1XSwgWzQwLjgzMTgzMDM2LCAtNzQuMTQyOTA3NTddLCBbNDAuODY0OTM0MTksIC03NC4xODE5Njk0N10sIFs0MC44MzEwODM0NCwgLTc0LjE0MTI3MDgyXSwgWzQwLjg0MDIyODc2LCAtNzQuMTYwNzQ3NzldLCBbNDAuODMxMDgzNDQsIC03NC4xNDEyNzA4Ml0sIFs0MC44NjQ5MzQxOSwgLTc0LjE4MTk2OTQ3XSwgWzQwLjgzMTA4MzQ0LCAtNzQuMTQxMjcwODJdLCBbNDAuODMzMzI0MjMsIC03NC4xNDYxODE0XSwgWzQwLjg1NjU2NTEyLCAtNzQuMTc5MTY3NDddLCBbNDAuODM0ODI4MzEsIC03NC4xNDk0NDI4N11dLCBbWzQwLjc5OTQ4NzAzLCAtNzQuMDY3NDQzNThdLCBbNDAuODExMDM4NjYsIC03NC4wODg0MzIwOF0sIFs0MC44MDE0ODM2NiwgLTc0LjA3MDE5Mjc1XSwgWzQwLjgwMDQxNTgzLCAtNzQuMDY4OTEzMzNdLCBbNDAuODAzNzMxMzcsIC03NC4wNzI2MTEwNF0sIFs0MC44MDE0ODM2NiwgLTc0LjA3MDE5Mjc1XSwgWzQwLjgyMjY1NTQsIC03NC4xMjM0MzAxN10sIFs0MC44MTkwMzUwNCwgLTc0LjExNzQ3NjE2XSwgWzQwLjgyMjY1NTQsIC03NC4xMjM0MzAxN10sIFs0MC44MTI0OTgxMSwgLTc0LjEwNDg5MjUzXSwgWzQwLjgxMTc1OTY3LCAtNzQuMTAzMjU0MDJdLCBbNDAuODEwNTc1ODcsIC03NC4wOTk3OTM3NF0sIFs0MC44MTEwNDk2OSwgLTc0LjEwMTU5NjIzXSwgWzQwLjgxNjM1Mzg4LCAtNzQuMTEyOTY5MDddLCBbNDAuODExMDQ5NjksIC03NC4xMDE1OTYyM10sIFs0MC44MTkwMzUwNCwgLTc0LjExNzQ3NjE2XSwgWzQwLjgxMTA0OTY5LCAtNzQuMTAxNTk2MjNdLCBbNDAuODEwNTc1ODcsIC03NC4wOTk3OTM3NF0sIFs0MC44MTQwMDE0NiwgLTc0LjEwODE2MjI4XSwgWzQwLjgxNTUyMDk5LCAtNzQuMTExNDA1NzJdLCBbNDAuODEwNjMyOTMsIC03NC4wOTQxMjk2N10sIFs0MC43OTY5MjY2MywgLTc0LjA2MjgwOTAxXSwgWzQwLjc4NDIyNDE3LCAtNzQuMDQ3NzU5MjFdLCBbNDAuNzg5MjM5MzEsIC03NC4wNTEzOTcwMV0sIFs0MC43ODgxMzE2NiwgLTc0LjA1MDE1OTYzXSwgWzQwLjc4NjkzMTYzLCAtNzQuMDQ5MTAxMDFdLCBbNDAuNzk4NjMzNTksIC03NC4wNjU4OTgyNF0sIFs0MC43OTg2MzM1OSwgLTc0LjA2NTg5ODI0XSwgWzQwLjc5ODYzMzU5LCAtNzQuMDY1ODk4MjRdLCBbNDAuNzg0MjI0MTcsIC03NC4wNDc3NTkyMV0sIFs0MC43OTY5MjY2MywgLTc0LjA2MjgwOTAxXSwgWzQwLjc4NDIyNDE3LCAtNzQuMDQ3NzU5MjFdLCBbNDAuNzg4MTMxNjYsIC03NC4wNTAxNTk2M10sIFs0MC43OTY5MjY2MywgLTc0LjA2MjgwOTAxXSwgWzQwLjgzNzkxNDQyLCAtNzQuMTU1OTAyNTk5OTk5OTldLCBbNDAuODM5NDU3MzMsIC03NC4xNTkxMzI2OV0sIFs0MC44NDkzODYyNCwgLTc0LjE3MjY4OTk0XSwgWzQwLjgyODg0MjY5LCAtNzQuMTM2MzYxMTVdLCBbNDAuODY2MjE1ODUsIC03NC4xODI4Njk1NV0sIFs0MC44MzQ4MjgzMSwgLTc0LjE0OTQ0Mjg3XSwgWzQwLjg1NjU2NTEyLCAtNzQuMTc5MTY3NDddLCBbNDAuODI0MzA1MDMsIC03NC4xMjY1NzExM10sIFs0MC44MjQzMDUwMywgLTc0LjEyNjU3MTEzXSwgWzQwLjgyNDMwNTAzLCAtNzQuMTI2NTcxMTNdLCBbNDAuODM5NDU3MzMsIC03NC4xNTkxMzI2OV0sIFs0MC44MzU1OTk4NywgLTc0LjE1MTA1Nzc1XSwgWzQwLjgyMzQ5ODM0LCAtNzQuMTI0OTkxNzFdLCBbNDAuODMxMDgzNDQsIC03NC4xNDEyNzA4Ml0sIFs0MC44MzE4MzAzNiwgLTc0LjE0MjkwNzU3XSwgWzQwLjg0MDIyODc2LCAtNzQuMTYwNzQ3NzldLCBbNDAuODU2NTY1MTIsIC03NC4xNzkxNjc0N10sIFs0MC44NDEwMDEyMiwgLTc0LjE2MjM2NTE1XSwgWzQwLjg0MTAwMTIyLCAtNzQuMTYyMzY1MTVdLCBbNDAuODU2NTY1MTIsIC03NC4xNzkxNjc0N10sIFs0MC44NDI2NTQxNiwgLTc0LjE2NTUwMTYzXSwgWzQwLjc4NDIyNDE3LCAtNzQuMDQ3NzU5MjFdLCBbNDAuODEwODYxNzQsIC03NC4wOTIyMzk0MDAwMDAwMV0sIFs0MC44MTAwMDE0NywgLTc0LjA4MjkwNDc4XSwgWzQwLjgxMDAwMTQ3LCAtNzQuMDgyOTA0NzhdLCBbNDAuODA5Mjk0NzcsIC03NC4wODEyNDkyNF0sIFs0MC44MTEwNDA4MywgLTc0LjA5MDMzNzJdLCBbNDAuODIyNjU1NCwgLTc0LjEyMzQzMDE3XSwgWzQwLjgyMTgyMDc5LCAtNzQuMTIxODc5NzZdLCBbNDAuODEwNjMyOTMsIC03NC4wOTQxMjk2N10sIFs0MC44MTQwMDE0NiwgLTc0LjEwODE2MjI4XSwgWzQwLjgyMTgyMDc5LCAtNzQuMTIxODc5NzZdLCBbNDAuODEyNDk4MTEsIC03NC4xMDQ4OTI1M10sIFs0MC44MTEwNDk2OSwgLTc0LjEwMTU5NjIzXSwgWzQwLjgxMjQ5ODExLCAtNzQuMTA0ODkyNTNdLCBbNDAuODE5OTc0ODMsIC03NC4xMTg5Mjc3MV0sIFs0MC43OTEyMTk1NSwgLTc0LjA1NDE3NDc3XSwgWzQwLjgzNDgyODMxLCAtNzQuMTQ5NDQyODddLCBbNDAuODUyOTUxOTYsIC03NC4xNzU5NzkxNV0sIFs0MC44MzQ4MjgzMSwgLTc0LjE0OTQ0Mjg3XSwgWzQwLjg1Nzg4ODg3LCAtNzQuMTc5OTEzNTddLCBbNDAuODQwMjI4NzYsIC03NC4xNjA3NDc3OV0sIFs0MC44NTQxNDA0LCAtNzQuMTc3MDc1NTRdLCBbNDAuODI0MzA1MDMsIC03NC4xMjY1NzExM10sIFs0MC44MzE4MzAzNiwgLTc0LjE0MjkwNzU3XSwgWzQwLjgzNDgyODMxLCAtNzQuMTQ5NDQyODddLCBbNDAuODU5Mjk2MzQsIC03NC4xODAzNjk2XSwgWzQwLjgzMTgzMDM2LCAtNzQuMTQyOTA3NTddLCBbNDAuODMxODMwMzYsIC03NC4xNDI5MDc1N10sIFs0MC44NDEwMDEyMiwgLTc0LjE2MjM2NTE1XSwgWzQwLjgyMzQ5ODM0LCAtNzQuMTI0OTkxNzFdLCBbNDAuODMxODMwMzYsIC03NC4xNDI5MDc1N10sIFs0MC44MjQzMDUwMywgLTc0LjEyNjU3MTEzXSwgWzQwLjgzMTgzMDM2LCAtNzQuMTQyOTA3NTddLCBbNDAuODM0ODI4MzEsIC03NC4xNDk0NDI4N10sIFs0MC44MzQwNzExNCwgLTc0LjE0NzgxODM3XSwgWzQwLjg1NjU2NTEyLCAtNzQuMTc5MTY3NDddLCBbNDAuODM0ODI4MzEsIC03NC4xNDk0NDI4N11dLCBbWzQwLjgwNDg2MzQzLCAtNzQuMDczODA5OF0sIFs0MC44MDA0MTU4MywgLTc0LjA2ODkxMzMzXSwgWzQwLjgxMDYzMjkzLCAtNzQuMDk0MTI5NjddLCBbNDAuODEwNTc1ODcsIC03NC4wOTk3OTM3NF0sIFs0MC44MTYzNTM4OCwgLTc0LjExMjk2OTA3XSwgWzQwLjgxNTUyMDk5LCAtNzQuMTExNDA1NzJdLCBbNDAuODExMDQ5NjksIC03NC4xMDE1OTYyM10sIFs0MC44MTQwMDE0NiwgLTc0LjEwODE2MjI4XSwgWzQwLjgxOTk3NDgzLCAtNzQuMTE4OTI3NzFdLCBbNDAuNzc3MTk3NjIsIC03NC4wNDU0NDY4M10sIFs0MC43ODI4MTM1NCwgLTc0LjA0NzMyNDMyXSwgWzQwLjc4NDIyNDE3LCAtNzQuMDQ3NzU5MjFdLCBbNDAuNzk5NDg3MDMsIC03NC4wNjc0NDM1OF0sIFs0MC43OTg2MzM1OSwgLTc0LjA2NTg5ODI0XSwgWzQwLjg0OTM4NjI0LCAtNzQuMTcyNjg5OTRdLCBbNDAuODU3ODg4ODcsIC03NC4xNzk5MTM1N10sIFs0MC44MjQzMDUwMywgLTc0LjEyNjU3MTEzXSwgWzQwLjg0OTM4NjI0LCAtNzQuMTcyNjg5OTRdLCBbNDAuODY2MjE1ODUsIC03NC4xODI4Njk1NV0sIFs0MC44MzE4MzAzNiwgLTc0LjE0MjkwNzU3XSwgWzQwLjg0MDIyODc2LCAtNzQuMTYwNzQ3NzldLCBbNDAuODIzNDk4MzQsIC03NC4xMjQ5OTE3MV0sIFs0MC44NDEwMDEyMiwgLTc0LjE2MjM2NTE1XSwgWzQwLjgxMDUzNzQzLCAtNzQuMDg0Njc3NjNdLCBbNDAuODAyNTk1Mzk5OTk5OTk0LCAtNzQuMDcxNDA4MTddLCBbNDAuODAzNzMxMzcsIC03NC4wNzI2MTEwNF0sIFs0MC44MDM3MzEzNywgLTc0LjA3MjYxMTA0XSwgWzQwLjgwMzczMTM3LCAtNzQuMDcyNjExMDRdLCBbNDAuODAwNDE1ODMsIC03NC4wNjg5MTMzM10sIFs0MC44MTA4NzA1OSwgLTc0LjA4NjU0MzEyXSwgWzQwLjgxMTA0MDgzLCAtNzQuMDkwMzM3Ml0sIFs0MC44MTAwMDE0NywgLTc0LjA4MjkwNDc4XSwgWzQwLjgwMzczMTM3LCAtNzQuMDcyNjExMDRdLCBbNDAuODEwNTc1ODcsIC03NC4wOTk3OTM3NF0sIFs0MC44MTA2MzI5MywgLTc0LjA5NDEyOTY3XSwgWzQwLjgxOTk3NDgzLCAtNzQuMTE4OTI3NzFdLCBbNDAuODEwNjMyOTMsIC03NC4wOTQxMjk2N10sIFs0MC44MTQwMDE0NiwgLTc0LjEwODE2MjI4XSwgWzQwLjgxOTk3NDgzLCAtNzQuMTE4OTI3NzFdLCBbNDAuODIyNjU1NCwgLTc0LjEyMzQzMDE3XSwgWzQwLjgxMzI0NDg4LCAtNzQuMTA2NTI4NzVdLCBbNDAuODIwOTQ0NTMsIC03NC4xMjAzNzE5NF0sIFs0MC44MTk5NzQ4MywgLTc0LjExODkyNzcxXSwgWzQwLjgyMjY1NTQsIC03NC4xMjM0MzAxN10sIFs0MC44MTA1NzU4NywgLTc0LjA5OTc5Mzc0XSwgWzQwLjgxMjQ5ODExLCAtNzQuMTA0ODkyNTNdLCBbNDAuNzk5NDg3MDMsIC03NC4wNjc0NDM1OF0sIFs0MC43OTEyMTk1NSwgLTc0LjA1NDE3NDc3XSwgWzQwLjgwNDg2MzQzLCAtNzQuMDczODA5OF0sIFs0MC43OTg2MzM1OSwgLTc0LjA2NTg5ODI0XSwgWzQwLjgzMTgzMDM2LCAtNzQuMTQyOTA3NTddLCBbNDAuODMxMDgzNDQsIC03NC4xNDEyNzA4Ml0sIFs0MC44MzQ4MjgzMSwgLTc0LjE0OTQ0Mjg3XSwgWzQwLjgzMTA4MzQ0LCAtNzQuMTQxMjcwODJdLCBbNDAuODIzNDk4MzQsIC03NC4xMjQ5OTE3MV0sIFs0MC44MzE4MzAzNiwgLTc0LjE0MjkwNzU3XSwgWzQwLjgzMTgzMDM2LCAtNzQuMTQyOTA3NTddLCBbNDAuODMxODMwMzYsIC03NC4xNDI5MDc1N10sIFs0MC44MzQ4MjgzMSwgLTc0LjE0OTQ0Mjg3XSwgWzQwLjgzNDgyODMxLCAtNzQuMTQ5NDQyODddLCBbNDAuODMxODMwMzYsIC03NC4xNDI5MDc1N10sIFs0MC44MzE4MzAzNiwgLTc0LjE0MjkwNzU3XSwgWzQwLjg1MTc2MzQzLCAtNzQuMTc0ODgyNzNdLCBbNDAuODU1MzI4MDIsIC03NC4xNzgxNzEyM10sIFs0MC44MzAzMzY1NCwgLTc0LjEzOTYzNDIyXSwgWzQwLjgzMTgzMDM2LCAtNzQuMTQyOTA3NTddLCBbNDAuODMxODMwMzYsIC03NC4xNDI5MDc1N10sIFs0MC44NTI5NTE5NiwgLTc0LjE3NTk3OTE1XSwgWzQwLjg1NDE0MDQsIC03NC4xNzcwNzU1NF0sIFs0MC44MzQ4MjgzMSwgLTc0LjE0OTQ0Mjg3XSwgWzQwLjg1NDE0MDQsIC03NC4xNzcwNzU1NF0sIFs0MC44NTUzMjgwMiwgLTc0LjE3ODE3MTIzXSwgWzQwLjgyMzQ5ODM0LCAtNzQuMTI0OTkxNzFdLCBbNDAuODM0ODI4MzEsIC03NC4xNDk0NDI4N10sIFs0MC44MzE4MzAzNiwgLTc0LjE0MjkwNzU3XV0sIFtbNDAuODA5Mjk0NzcsIC03NC4wODEyNDkyNF0sIFs0MC44MDM3MzEzNywgLTc0LjA3MjYxMTA0XSwgWzQwLjgxMTA0MDgzLCAtNzQuMDkwMzM3Ml0sIFs0MC44MTQwMDE0NiwgLTc0LjEwODE2MjI4XSwgWzQwLjgxNjM1Mzg4LCAtNzQuMTEyOTY5MDddLCBbNDAuODIyNjU1NCwgLTc0LjEyMzQzMDE3XSwgWzQwLjc3MzY2OTk1LCAtNzQuMDQyMjQ3MzRdLCBbNDAuNzczMjM1NzQsIC03NC4wNDE3NTQ1OTk5OTk5OV0sIFs0MC43ODQyMjQxNywgLTc0LjA0Nzc1OTIxXSwgWzQwLjc4NjkzMTYzLCAtNzQuMDQ5MTAxMDFdLCBbNDAuODQxNzc0MDcsIC03NC4xNjM5ODMzOV0sIFs0MC44NDEwMDEyMiwgLTc0LjE2MjM2NTE1XSwgWzQwLjg0MDIyODc2LCAtNzQuMTYwNzQ3NzldLCBbNDAuODY2MjE1ODUsIC03NC4xODI4Njk1NV0sIFs0MC44MzE4MzAzNiwgLTc0LjE0MjkwNzU3XSwgWzQwLjgyNTA2MzE4LCAtNzQuMTI4MjAzMV0sIFs0MC44NjYyMTU4NSwgLTc0LjE4Mjg2OTU1XSwgWzQwLjgyMzQ5ODM0LCAtNzQuMTI0OTkxNzFdLCBbNDAuODQxMDAxMjIsIC03NC4xNjIzNjUxNV0sIFs0MC44NTY1NjUxMiwgLTc0LjE3OTE2NzQ3XSwgWzQwLjg0MDIyODc2LCAtNzQuMTYwNzQ3NzldLCBbNDAuODY0OTM0MTksIC03NC4xODE5Njk0N10sIFs0MC44MjM0OTgzNCwgLTc0LjEyNDk5MTcxXSwgWzQwLjg0MTc3NDA3LCAtNzQuMTYzOTgzMzldLCBbNDAuODMyNTc3MzEsIC03NC4xNDQ1NDQ0N10sIFs0MC44NDAyMjg3NiwgLTc0LjE2MDc0Nzc5XSwgWzQwLjc3MzY2OTk1LCAtNzQuMDQyMjQ3MzRdLCBbNDAuNzczMjM1NzQsIC03NC4wNDE3NTQ1OTk5OTk5OV0sIFs0MC44MDg1MzQ0NCwgLTc0LjA3OTYyODYxXSwgWzQwLjgwNDg2MzQzLCAtNzQuMDczODA5OF0sIFs0MC44MTEwMzg2NiwgLTc0LjA4ODQzMjA4XSwgWzQwLjgwMjU5NTM5OTk5OTk5NCwgLTc0LjA3MTQwODE3XSwgWzQwLjgwMTQ4MzY2LCAtNzQuMDcwMTkyNzVdLCBbNDAuODEwNTc1ODcsIC03NC4wOTk3OTM3NF0sIFs0MC44MTI0OTgxMSwgLTc0LjEwNDg5MjUzXSwgWzQwLjgxODExNDE3LCAtNzQuMTE2MDA1NTddLCBbNDAuODE5OTc0ODMsIC03NC4xMTg5Mjc3MV0sIFs0MC44MTA2MzI5MywgLTc0LjA5NDEyOTY3XSwgWzQwLjgxOTAzNTA0LCAtNzQuMTE3NDc2MTZdLCBbNDAuODEyNDk4MTEsIC03NC4xMDQ4OTI1M10sIFs0MC44MTI0OTgxMSwgLTc0LjEwNDg5MjUzXSwgWzQwLjgxNTUyMDk5LCAtNzQuMTExNDA1NzJdLCBbNDAuODEyNDk4MTEsIC03NC4xMDQ4OTI1M10sIFs0MC44MjA5NDQ1MywgLTc0LjEyMDM3MTk0XSwgWzQwLjgxMDU3NTg3LCAtNzQuMDk5NzkzNzRdLCBbNDAuODIwOTQ0NTMsIC03NC4xMjAzNzE5NF0sIFs0MC44MTkwMzUwNCwgLTc0LjExNzQ3NjE2XSwgWzQwLjgxMTA0OTY5LCAtNzQuMTAxNTk2MjNdLCBbNDAuODExMDQ5NjksIC03NC4xMDE1OTYyM10sIFs0MC44MjA5NDQ1MywgLTc0LjEyMDM3MTk0XSwgWzQwLjgyMjY1NTQsIC03NC4xMjM0MzAxN10sIFs0MC44MTI0OTgxMSwgLTc0LjEwNDg5MjUzXSwgWzQwLjgxOTk3NDgzLCAtNzQuMTE4OTI3NzFdLCBbNDAuODEyNDk4MTEsIC03NC4xMDQ4OTI1M10sIFs0MC44MTA2MzI5MywgLTc0LjA5NDEyOTY3XSwgWzQwLjc3NzE5NzYyLCAtNzQuMDQ1NDQ2ODNdLCBbNDAuNzg0MjI0MTcsIC03NC4wNDc3NTkyMV0sIFs0MC43OTg2MzM1OSwgLTc0LjA2NTg5ODI0XSwgWzQwLjc5MTIxOTU1LCAtNzQuMDU0MTc0NzddLCBbNDAuNzk1MTI1ODcsIC03NC4wNTk4Mjc3NF0sIFs0MC44MzE4MzAzNiwgLTc0LjE0MjkwNzU3XSwgWzQwLjgzODY4NTg4LCAtNzQuMTU3NTE3NjNdLCBbNDAuODMwMzM2NTQsIC03NC4xMzk2MzQyMl0sIFs0MC44MzQ4MjgzMSwgLTc0LjE0OTQ0Mjg3XSwgWzQwLjgzNDgyODMxLCAtNzQuMTQ5NDQyODddLCBbNDAuODI0MzA1MDMsIC03NC4xMjY1NzExM10sIFs0MC44NTQxNDA0LCAtNzQuMTc3MDc1NTRdLCBbNDAuODIzNDk4MzQsIC03NC4xMjQ5OTE3MV0sIFs0MC44NDAyMjg3NiwgLTc0LjE2MDc0Nzc5XSwgWzQwLjgzMTgzMDM2LCAtNzQuMTQyOTA3NTddLCBbNDAuODMxODMwMzYsIC03NC4xNDI5MDc1N10sIFs0MC44NTUzMjgwMiwgLTc0LjE3ODE3MTIzXSwgWzQwLjgzNDgyODMxLCAtNzQuMTQ5NDQyODddLCBbNDAuODIzNDk4MzQsIC03NC4xMjQ5OTE3MV0sIFs0MC44NjQ5MzQxOSwgLTc0LjE4MTk2OTQ3XSwgWzQwLjgzMDMzNjU0LCAtNzQuMTM5NjM0MjJdLCBbNDAuODMxODMwMzYsIC03NC4xNDI5MDc1N10sIFs0MC44MzE4MzAzNiwgLTc0LjE0MjkwNzU3XSwgWzQwLjgzNDA3MTE0LCAtNzQuMTQ3ODE4MzddLCBbNDAuODMxMDgzNDQsIC03NC4xNDEyNzA4Ml0sIFs0MC44MzE4MzAzNiwgLTc0LjE0MjkwNzU3XSwgWzQwLjg2NDkzNDE5LCAtNzQuMTgxOTY5NDddXSwgW1s0MC44MTA4NjE3NCwgLTc0LjA5MjIzOTQwMDAwMDAxXSwgWzQwLjgwNzc1NDQ0LCAtNzQuMDc4MDE2Nl0sIFs0MC43OTk0ODcwMywgLTc0LjA2NzQ0MzU4XSwgWzQwLjgxMDg2MTc0LCAtNzQuMDkyMjM5NDAwMDAwMDFdLCBbNDAuODEwODYxNzQsIC03NC4wOTIyMzk0MDAwMDAwMV0sIFs0MC44MDA0MTU4MywgLTc0LjA2ODkxMzMzXSwgWzQwLjgxMTA0OTY5LCAtNzQuMTAxNTk2MjNdLCBbNDAuODE0NzU1NTgsIC03NC4xMDk3OTA2XSwgWzQwLjgxOTk3NDgzLCAtNzQuMTE4OTI3NzFdLCBbNDAuODEwNTc1ODcsIC03NC4wOTk3OTM3NF0sIFs0MC44MTA1NzU4NywgLTc0LjA5OTc5Mzc0XSwgWzQwLjc5MjIwMzg4LCAtNzQuMDU1NTc0MzFdLCBbNDAuNzk0MTcxMjUsIC03NC4wNTgzODM5MV0sIFs0MC43OTUxMjU4NywgLTc0LjA1OTgyNzc0XSwgWzQwLjc4NDIyNDE3LCAtNzQuMDQ3NzU5MjFdLCBbNDAuNzk2OTI2NjMsIC03NC4wNjI4MDkwMV0sIFs0MC44NDEwMDEyMiwgLTc0LjE2MjM2NTE1XSwgWzQwLjg2NjIxNTg1LCAtNzQuMTgyODY5NTVdLCBbNDAuODUyOTUxOTYsIC03NC4xNzU5NzkxNV0sIFs0MC44NDAyMjg3NiwgLTc0LjE2MDc0Nzc5XSwgWzQwLjg0MDIyODc2LCAtNzQuMTYwNzQ3NzldLCBbNDAuODY2MjE1ODUsIC03NC4xODI4Njk1NV0sIFs0MC44NjYyMTU4NSwgLTc0LjE4Mjg2OTU1XSwgWzQwLjg2NjIxNTg1LCAtNzQuMTgyODY5NTVdLCBbNDAuODU1MzI4MDIsIC03NC4xNzgxNzEyM10sIFs0MC44NTUzMjgwMiwgLTc0LjE3ODE3MTIzXSwgWzQwLjg1NTMyODAyLCAtNzQuMTc4MTcxMjNdLCBbNDAuODU1MzI4MDIsIC03NC4xNzgxNzEyM10sIFs0MC44NDEwMDEyMiwgLTc0LjE2MjM2NTE1XSwgWzQwLjg1NTMyODAyLCAtNzQuMTc4MTcxMjNdLCBbNDAuNzc3MTk3NjIsIC03NC4wNDU0NDY4M10sIFs0MC44MTEwNDA4MywgLTc0LjA5MDMzNzJdLCBbNDAuODEwODYxNzQsIC03NC4wOTIyMzk0MDAwMDAwMV0sIFs0MC44MjI2NTU0LCAtNzQuMTIzNDMwMTddLCBbNDAuODEwNTc1ODcsIC03NC4wOTk3OTM3NF0sIFs0MC44MTI0OTgxMSwgLTc0LjEwNDg5MjUzXSwgWzQwLjgyMTgyMDc5LCAtNzQuMTIxODc5NzZdLCBbNDAuODEwNTc1ODcsIC03NC4wOTk3OTM3NF0sIFs0MC44MTEwNDk2OSwgLTc0LjEwMTU5NjIzXSwgWzQwLjgxODExNDE3LCAtNzQuMTE2MDA1NTddLCBbNDAuODExMDQ5NjksIC03NC4xMDE1OTYyM10sIFs0MC44MTkwMzUwNCwgLTc0LjExNzQ3NjE2XSwgWzQwLjgxMDU3NTg3LCAtNzQuMDk5NzkzNzRdLCBbNDAuODE5OTc0ODMsIC03NC4xMTg5Mjc3MV0sIFs0MC44MTk5NzQ4MywgLTc0LjExODkyNzcxXSwgWzQwLjgxOTk3NDgzLCAtNzQuMTE4OTI3NzFdLCBbNDAuODE5OTc0ODMsIC03NC4xMTg5Mjc3MV0sIFs0MC44MTk5NzQ4MywgLTc0LjExODkyNzcxXSwgWzQwLjgxMjQ5ODExLCAtNzQuMTA0ODkyNTNdLCBbNDAuODEwNTc1ODcsIC03NC4wOTk3OTM3NF0sIFs0MC44MTEwNDk2OSwgLTc0LjEwMTU5NjIzXSwgWzQwLjgyMjY1NTQsIC03NC4xMjM0MzAxN10sIFs0MC44MjI2NTU0LCAtNzQuMTIzNDMwMTddLCBbNDAuODE4MTE0MTcsIC03NC4xMTYwMDU1N10sIFs0MC44MTMyNDQ4OCwgLTc0LjEwNjUyODc1XSwgWzQwLjgxNTUyMDk5LCAtNzQuMTExNDA1NzJdLCBbNDAuODEwNTc1ODcsIC03NC4wOTk3OTM3NF0sIFs0MC44MTA1NzU4NywgLTc0LjA5OTc5Mzc0XSwgWzQwLjgxMDM5NzYsIC03NC4wOTYwMTI0N10sIFs0MC44MTA1NzU4NywgLTc0LjA5OTc5Mzc0XSwgWzQwLjc3ODYwMDk4LCAtNzQuMDQ1OTQxNDhdLCBbNDAuNzk4NjMzNTksIC03NC4wNjU4OTgyNF0sIFs0MC43OTIyMDM4OCwgLTc0LjA1NTU3NDMxXSwgWzQwLjc4NTYyMTE0LCAtNzQuMDQ4Mjg1OTZdLCBbNDAuODMxODMwMzYsIC03NC4xNDI5MDc1N10sIFs0MC44MzE4MzAzNiwgLTc0LjE0MjkwNzU3XSwgWzQwLjg0MDIyODc2LCAtNzQuMTYwNzQ3NzldLCBbNDAuODU2NTY1MTIsIC03NC4xNzkxNjc0N10sIFs0MC44MzQwNzExNCwgLTc0LjE0NzgxODM3XSwgWzQwLjgzMDMzNjU0LCAtNzQuMTM5NjM0MjJdLCBbNDAuODMxODMwMzYsIC03NC4xNDI5MDc1N10sIFs0MC44MzMzMjQyMywgLTc0LjE0NjE4MTRdLCBbNDAuODU0MTQwNCwgLTc0LjE3NzA3NTU0XSwgWzQwLjg0MTAwMTIyLCAtNzQuMTYyMzY1MTVdLCBbNDAuODMxODMwMzYsIC03NC4xNDI5MDc1N10sIFs0MC44MzQ4MjgzMSwgLTc0LjE0OTQ0Mjg3XSwgWzQwLjg2NDkzNDE5LCAtNzQuMTgxOTY5NDddLCBbNDAuODM0ODI4MzEsIC03NC4xNDk0NDI4N10sIFs0MC44MzE4MzAzNiwgLTc0LjE0MjkwNzU3XSwgWzQwLjgzMTgzMDM2LCAtNzQuMTQyOTA3NTddLCBbNDAuODM0ODI4MzEsIC03NC4xNDk0NDI4N10sIFs0MC44MjM0OTgzNCwgLTc0LjEyNDk5MTcxXSwgWzQwLjgzMTA4MzQ0LCAtNzQuMTQxMjcwODJdLCBbNDAuODMxODMwMzYsIC03NC4xNDI5MDc1N10sIFs0MC44MzQwNzExNCwgLTc0LjE0NzgxODM3XSwgWzQwLjgzNDgyODMxLCAtNzQuMTQ5NDQyODddLCBbNDAuODU1MzI4MDIsIC03NC4xNzgxNzEyM11dLCBbWzQwLjgwMTQ4MzY2LCAtNzQuMDcwMTkyNzVdLCBbNDAuODA4NTM0NDQsIC03NC4wNzk2Mjg2MV0sIFs0MC44MTA4NzA1OSwgLTc0LjA4NjU0MzEyXSwgWzQwLjgxMDUzNzQzLCAtNzQuMDg0Njc3NjNdLCBbNDAuODAyNTk1Mzk5OTk5OTk0LCAtNzQuMDcxNDA4MTddLCBbNDAuODA4NTM0NDQsIC03NC4wNzk2Mjg2MV0sIFs0MC43OTk0ODcwMywgLTc0LjA2NzQ0MzU4XSwgWzQwLjgxMDg2MTc0LCAtNzQuMDkyMjM5NDAwMDAwMDFdLCBbNDAuODEwMDAxNDcsIC03NC4wODI5MDQ3OF0sIFs0MC44MTA1NzU4NywgLTc0LjA5OTc5Mzc0XSwgWzQwLjgxMjQ5ODExLCAtNzQuMTA0ODkyNTNdLCBbNDAuODEwNTc1ODcsIC03NC4wOTk3OTM3NF0sIFs0MC44MTA1NzU4NywgLTc0LjA5OTc5Mzc0XSwgWzQwLjgxMTA0OTY5LCAtNzQuMTAxNTk2MjNdLCBbNDAuODIyNjU1NCwgLTc0LjEyMzQzMDE3XSwgWzQwLjgxNDAwMTQ2LCAtNzQuMTA4MTYyMjhdLCBbNDAuODExNzU5NjcsIC03NC4xMDMyNTQwMl0sIFs0MC44MTE3NTk2NywgLTc0LjEwMzI1NDAyXSwgWzQwLjgxMTA0OTY5LCAtNzQuMTAxNTk2MjNdLCBbNDAuODExNzU5NjcsIC03NC4xMDMyNTQwMl0sIFs0MC44MjI2NTU0LCAtNzQuMTIzNDMwMTddLCBbNDAuODExMDQ5NjksIC03NC4xMDE1OTYyM10sIFs0MC43NzM2Njk5NSwgLTc0LjA0MjI0NzM0XSwgWzQwLjc3MzIzNTc0LCAtNzQuMDQxNzU0NTk5OTk5OTldLCBbNDAuNzg0MjI0MTcsIC03NC4wNDc3NTkyMV0sIFs0MC43OTg2MzM1OSwgLTc0LjA2NTg5ODI0XSwgWzQwLjc4OTIzOTMxLCAtNzQuMDUxMzk3MDFdLCBbNDAuNzk1MTI1ODcsIC03NC4wNTk4Mjc3NF0sIFs0MC43ODY5MzE2MywgLTc0LjA0OTEwMTAxXSwgWzQwLjc5NDE3MTI1LCAtNzQuMDU4MzgzOTFdLCBbNDAuNzk5NDg3MDMsIC03NC4wNjc0NDM1OF0sIFs0MC43ODY5MzE2MywgLTc0LjA0OTEwMTAxXSwgWzQwLjc4NDIyNDE3LCAtNzQuMDQ3NzU5MjFdLCBbNDAuNzk0MTcxMjUsIC03NC4wNTgzODM5MV0sIFs0MC43OTQxNzEyNSwgLTc0LjA1ODM4MzkxXSwgWzQwLjc5NDE3MTI1LCAtNzQuMDU4MzgzOTFdLCBbNDAuNzg4MTMxNjYsIC03NC4wNTAxNTk2M10sIFs0MC43ODQyMjQxNywgLTc0LjA0Nzc1OTIxXSwgWzQwLjc5ODYzMzU5LCAtNzQuMDY1ODk4MjRdLCBbNDAuODQxMDAxMjIsIC03NC4xNjIzNjUxNV0sIFs0MC44MzQ4MjgzMSwgLTc0LjE0OTQ0Mjg3XSwgWzQwLjgzOTQ1NzMzLCAtNzQuMTU5MTMyNjldLCBbNDAuODU3ODg4ODcsIC03NC4xNzk5MTM1N10sIFs0MC44MjQzMDUwMywgLTc0LjEyNjU3MTEzXSwgWzQwLjgzOTQ1NzMzLCAtNzQuMTU5MTMyNjldLCBbNDAuODMxODMwMzYsIC03NC4xNDI5MDc1N10sIFs0MC44NDEwMDEyMiwgLTc0LjE2MjM2NTE1XSwgWzQwLjg0OTM4NjI0LCAtNzQuMTcyNjg5OTRdLCBbNDAuODQxMDAxMjIsIC03NC4xNjIzNjUxNV0sIFs0MC44NTQxNDA0LCAtNzQuMTc3MDc1NTRdLCBbNDAuODU0MTQwNCwgLTc0LjE3NzA3NTU0XSwgWzQwLjgzNzkxNDQyLCAtNzQuMTU1OTAyNTk5OTk5OTldLCBbNDAuODQxMDAxMjIsIC03NC4xNjIzNjUxNV0sIFs0MC44NTY1NjUxMiwgLTc0LjE3OTE2NzQ3XSwgWzQwLjg0MDIyODc2LCAtNzQuMTYwNzQ3NzldLCBbNDAuODU1MzI4MDIsIC03NC4xNzgxNzEyM10sIFs0MC44MzEwODM0NCwgLTc0LjE0MTI3MDgyXSwgWzQwLjgxMDg2MTc0LCAtNzQuMDkyMjM5NDAwMDAwMDFdLCBbNDAuODA4NTM0NDQsIC03NC4wNzk2Mjg2MV0sIFs0MC44MTEwNDA4MywgLTc0LjA5MDMzNzJdLCBbNDAuODEwODYxNzQsIC03NC4wOTIyMzk0MDAwMDAwMV0sIFs0MC44MDA0MTU4MywgLTc0LjA2ODkxMzMzXSwgWzQwLjgxMDUzNzQzLCAtNzQuMDg0Njc3NjNdLCBbNDAuODA1OTk1NDgsIC03NC4wNzUwMDg2MV0sIFs0MC44MTA4NzA1OSwgLTc0LjA4NjU0MzEyXSwgWzQwLjgwMDQxNTgzLCAtNzQuMDY4OTEzMzNdLCBbNDAuODA5Mjk0NzcsIC03NC4wODEyNDkyNF0sIFs0MC43OTk0ODcwMywgLTc0LjA2NzQ0MzU4XSwgWzQwLjgwOTI5NDc3LCAtNzQuMDgxMjQ5MjRdLCBbNDAuODA3NzU0NDQsIC03NC4wNzgwMTY2XSwgWzQwLjgxMTA0OTY5LCAtNzQuMTAxNTk2MjNdLCBbNDAuODIyNjU1NCwgLTc0LjEyMzQzMDE3XSwgWzQwLjgxODExNDE3LCAtNzQuMTE2MDA1NTddLCBbNDAuODE4MTE0MTcsIC03NC4xMTYwMDU1N10sIFs0MC44MTEwNDk2OSwgLTc0LjEwMTU5NjIzXSwgWzQwLjgxMTA0OTY5LCAtNzQuMTAxNTk2MjNdLCBbNDAuODE1NTIwOTksIC03NC4xMTE0MDU3Ml0sIFs0MC44MTgxMTQxNywgLTc0LjExNjAwNTU3XSwgWzQwLjgxNDAwMTQ2LCAtNzQuMTA4MTYyMjhdLCBbNDAuODIxODIwNzksIC03NC4xMjE4Nzk3Nl0sIFs0MC44MTk5NzQ4MywgLTc0LjExODkyNzcxXSwgWzQwLjgyMjY1NTQsIC03NC4xMjM0MzAxN10sIFs0MC44MjI2NTU0LCAtNzQuMTIzNDMwMTddLCBbNDAuODExMDQ5NjksIC03NC4xMDE1OTYyM10sIFs0MC44MTAzOTc2LCAtNzQuMDk2MDEyNDddLCBbNDAuODIyNjU1NCwgLTc0LjEyMzQzMDE3XSwgWzQwLjgyMTgyMDc5LCAtNzQuMTIxODc5NzZdLCBbNDAuNzc3MTk3NjIsIC03NC4wNDU0NDY4M10sIFs0MC43NzM2Njk5NSwgLTc0LjA0MjI0NzM0XSwgWzQwLjc3MzIzNTc0LCAtNzQuMDQxNzU0NTk5OTk5OTldLCBbNDAuNzczNjY5OTUsIC03NC4wNDIyNDczNF0sIFs0MC43NzMyMzU3NCwgLTc0LjA0MTc1NDU5OTk5OTk5XSwgWzQwLjc3NzE5NzYyLCAtNzQuMDQ1NDQ2ODNdLCBbNDAuNzk4NjMzNTksIC03NC4wNjU4OTgyNF0sIFs0MC43ODQyMjQxNywgLTc0LjA0Nzc1OTIxXSwgWzQwLjc5ODYzMzU5LCAtNzQuMDY1ODk4MjRdLCBbNDAuNzk2OTI2NjMsIC03NC4wNjI4MDkwMV0sIFs0MC44MzE4MzAzNiwgLTc0LjE0MjkwNzU3XSwgWzQwLjgzMTgzMDM2LCAtNzQuMTQyOTA3NTddLCBbNDAuODMxODMwMzYsIC03NC4xNDI5MDc1N10sIFs0MC44MzQ4MjgzMSwgLTc0LjE0OTQ0Mjg3XSwgWzQwLjgzNDgyODMxLCAtNzQuMTQ5NDQyODddLCBbNDAuODY0OTM0MTksIC03NC4xODE5Njk0N10sIFs0MC44MzE4MzAzNiwgLTc0LjE0MjkwNzU3XSwgWzQwLjg0MDIyODc2LCAtNzQuMTYwNzQ3NzldLCBbNDAuODM0ODI4MzEsIC03NC4xNDk0NDI4N10sIFs0MC44MjUwNjMxOCwgLTc0LjEyODIwMzFdLCBbNDAuODM0ODI4MzEsIC03NC4xNDk0NDI4N10sIFs0MC44MzQ4MjgzMSwgLTc0LjE0OTQ0Mjg3XSwgWzQwLjgzMTA4MzQ0LCAtNzQuMTQxMjcwODJdLCBbNDAuODM0ODI4MzEsIC03NC4xNDk0NDI4N10sIFs0MC44MzEwODM0NCwgLTc0LjE0MTI3MDgyXSwgWzQwLjg0MDIyODc2LCAtNzQuMTYwNzQ3NzldLCBbNDAuODU1MzI4MDIsIC03NC4xNzgxNzEyM10sIFs0MC44MzE4MzAzNiwgLTc0LjE0MjkwNzU3XSwgWzQwLjg0MDIyODc2LCAtNzQuMTYwNzQ3NzldLCBbNDAuODQxMDAxMjIsIC03NC4xNjIzNjUxNV0sIFs0MC44MzE4MzAzNiwgLTc0LjE0MjkwNzU3XSwgWzQwLjgzMTgzMDM2LCAtNzQuMTQyOTA3NTddLCBbNDAuODMxODMwMzYsIC03NC4xNDI5MDc1N10sIFs0MC44MzE4MzAzNiwgLTc0LjE0MjkwNzU3XSwgWzQwLjg0MDIyODc2LCAtNzQuMTYwNzQ3NzldLCBbNDAuODMxMDgzNDQsIC03NC4xNDEyNzA4Ml0sIFs0MC44MzE4MzAzNiwgLTc0LjE0MjkwNzU3XSwgWzQwLjg0OTM4NjI0LCAtNzQuMTcyNjg5OTRdLCBbNDAuODU1MzI4MDIsIC03NC4xNzgxNzEyM10sIFs0MC44MzQwNzExNCwgLTc0LjE0NzgxODM3XSwgWzQwLjg1Nzg4ODg3LCAtNzQuMTc5OTEzNTddLCBbNDAuODI0MzA1MDMsIC03NC4xMjY1NzExM10sIFs0MC44NTY1NjUxMiwgLTc0LjE3OTE2NzQ3XSwgWzQwLjgzMzMyNDIzLCAtNzQuMTQ2MTgxNF0sIFs0MC44MzMzMjQyMywgLTc0LjE0NjE4MTRdLCBbNDAuODU1MzI4MDIsIC03NC4xNzgxNzEyM10sIFs0MC44MzU1OTk4NywgLTc0LjE1MTA1Nzc1XV0sIFtbNDAuODAwNDE1ODMsIC03NC4wNjg5MTMzM10sIFs0MC44MDY5NTY4MSwgLTc0LjA3NjQxMzI0XSwgWzQwLjgwMzczMTM3LCAtNzQuMDcyNjExMDRdLCBbNDAuODIwOTQ0NTMsIC03NC4xMjAzNzE5NF0sIFs0MC44MjI2NTU0LCAtNzQuMTIzNDMwMTddLCBbNDAuODExNzU5NjcsIC03NC4xMDMyNTQwMl0sIFs0MC44MTEwNDk2OSwgLTc0LjEwMTU5NjIzXSwgWzQwLjgxMTA0OTY5LCAtNzQuMTAxNTk2MjNdLCBbNDAuODEwMzQyNDQsIC03NC4wOTc5MTkyMl0sIFs0MC44MTQ3NTU1OCwgLTc0LjEwOTc5MDZdLCBbNDAuODExMDQ5NjksIC03NC4xMDE1OTYyM10sIFs0MC44MTEwNDk2OSwgLTc0LjEwMTU5NjIzXSwgWzQwLjgxNjM1Mzg4LCAtNzQuMTEyOTY5MDddLCBbNDAuODE5MDM1MDQsIC03NC4xMTc0NzYxNl0sIFs0MC44MTkwMzUwNCwgLTc0LjExNzQ3NjE2XSwgWzQwLjc3NzE5NzYyLCAtNzQuMDQ1NDQ2ODNdLCBbNDAuNzc3MTk3NjIsIC03NC4wNDU0NDY4M10sIFs0MC43NzcxOTc2MiwgLTc0LjA0NTQ0NjgzXSwgWzQwLjc5NDE3MTI1LCAtNzQuMDU4MzgzOTFdLCBbNDAuNzg1NjIxMTQsIC03NC4wNDgyODU5Nl0sIFs0MC43OTQxNzEyNSwgLTc0LjA1ODM4MzkxXSwgWzQwLjc4NjkzMTYzLCAtNzQuMDQ5MTAxMDFdLCBbNDAuNzg0MjI0MTcsIC03NC4wNDc3NTkyMV0sIFs0MC43OTQxNzEyNSwgLTc0LjA1ODM4MzkxXSwgWzQwLjc4NDIyNDE3LCAtNzQuMDQ3NzU5MjFdLCBbNDAuNzk0MTcxMjUsIC03NC4wNTgzODM5MV0sIFs0MC43OTQxNzEyNSwgLTc0LjA1ODM4MzkxXSwgWzQwLjc5ODYzMzU5LCAtNzQuMDY1ODk4MjRdLCBbNDAuNzk0MTcxMjUsIC03NC4wNTgzODM5MV0sIFs0MC43ODY5MzE2MywgLTc0LjA0OTEwMTAxXSwgWzQwLjc4NDIyNDE3LCAtNzQuMDQ3NzU5MjFdLCBbNDAuNzk0MTcxMjUsIC03NC4wNTgzODM5MV0sIFs0MC43ODY5MzE2MywgLTc0LjA0OTEwMTAxXSwgWzQwLjc4NDIyNDE3LCAtNzQuMDQ3NzU5MjFdLCBbNDAuNzk0MTcxMjUsIC03NC4wNTgzODM5MV0sIFs0MC44NDAyMjg3NiwgLTc0LjE2MDc0Nzc5XSwgWzQwLjgzMTA4MzQ0LCAtNzQuMTQxMjcwODJdLCBbNDAuODY0OTM0MTksIC03NC4xODE5Njk0N10sIFs0MC44NDEwMDEyMiwgLTc0LjE2MjM2NTE1XSwgWzQwLjg1NTMyODAyLCAtNzQuMTc4MTcxMjNdLCBbNDAuODQwMjI4NzYsIC03NC4xNjA3NDc3OV0sIFs0MC44MjM0OTgzNCwgLTc0LjEyNDk5MTcxXSwgWzQwLjgzMTgzMDM2LCAtNzQuMTQyOTA3NTddLCBbNDAuODYzNTkwMTEsIC03NC4xODEyMzcwM10sIFs0MC44NDgxOTc2MiwgLTc0LjE3MTU5MzYxXSwgWzQwLjgyNTA2MzE4LCAtNzQuMTI4MjAzMV0sIFs0MC44MjM0OTgzNCwgLTc0LjEyNDk5MTcxXSwgWzQwLjgyMzQ5ODM0LCAtNzQuMTI0OTkxNzFdLCBbNDAuODI0MzA1MDMsIC03NC4xMjY1NzExM10sIFs0MC44NDkzODYyNCwgLTc0LjE3MjY4OTk0XSwgWzQwLjgyNzMzNjc0LCAtNzQuMTMzMDk3NTddLCBbNDAuODM5NDU3MzMsIC03NC4xNTkxMzI2OV0sIFs0MC44MjQzMDUwMywgLTc0LjEyNjU3MTEzXSwgWzQwLjg1NTMyODAyLCAtNzQuMTc4MTcxMjNdLCBbNDAuODQwMjI4NzYsIC03NC4xNjA3NDc3OV0sIFs0MC44MjM0OTgzNCwgLTc0LjEyNDk5MTcxXSwgWzQwLjg0MDIyODc2LCAtNzQuMTYwNzQ3NzldLCBbNDAuODQxMDAxMjIsIC03NC4xNjIzNjUxNV0sIFs0MC44MzU1OTk4NywgLTc0LjE1MTA1Nzc1XSwgWzQwLjgwNjk1NjgxLCAtNzQuMDc2NDEzMjRdLCBbNDAuODEwODYxNzQsIC03NC4wOTIyMzk0MDAwMDAwMV0sIFs0MC44MDkyOTQ3NywgLTc0LjA4MTI0OTI0XSwgWzQwLjc5OTQ4NzAzLCAtNzQuMDY3NDQzNThdLCBbNDAuODExMDQwODMsIC03NC4wOTAzMzcyXSwgWzQwLjgxMTA0MDgzLCAtNzQuMDkwMzM3Ml0sIFs0MC44MTEwNDA4MywgLTc0LjA5MDMzNzJdLCBbNDAuODA4NTM0NDQsIC03NC4wNzk2Mjg2MV0sIFs0MC44MTAwMDE0NywgLTc0LjA4MjkwNDc4XSwgWzQwLjgxMTAzODY2LCAtNzQuMDg4NDMyMDhdLCBbNDAuODExNzU5NjcsIC03NC4xMDMyNTQwMl0sIFs0MC44MTYzNTM4OCwgLTc0LjExMjk2OTA3XSwgWzQwLjgxMjQ5ODExLCAtNzQuMTA0ODkyNTNdLCBbNDAuODE4MTE0MTcsIC03NC4xMTYwMDU1N10sIFs0MC44MTMyNDQ4OCwgLTc0LjEwNjUyODc1XSwgWzQwLjgyMDk0NDUzLCAtNzQuMTIwMzcxOTRdLCBbNDAuODIwOTQ0NTMsIC03NC4xMjAzNzE5NF0sIFs0MC44MjI2NTU0LCAtNzQuMTIzNDMwMTddLCBbNDAuODEwNjMyOTMsIC03NC4wOTQxMjk2N10sIFs0MC44MTgxMTQxNywgLTc0LjExNjAwNTU3XSwgWzQwLjgxMDU3NTg3LCAtNzQuMDk5NzkzNzRdLCBbNDAuODIwOTQ0NTMsIC03NC4xMjAzNzE5NF0sIFs0MC44MTk5NzQ4MywgLTc0LjExODkyNzcxXSwgWzQwLjgyMDk0NDUzLCAtNzQuMTIwMzcxOTRdLCBbNDAuODIyNjU1NCwgLTc0LjEyMzQzMDE3XSwgWzQwLjgxMDM0MjQ0LCAtNzQuMDk3OTE5MjJdLCBbNDAuODIyNjU1NCwgLTc0LjEyMzQzMDE3XSwgWzQwLjgxMjQ5ODExLCAtNzQuMTA0ODkyNTNdLCBbNDAuODE0MDAxNDYsIC03NC4xMDgxNjIyOF0sIFs0MC44MjI2NTU0LCAtNzQuMTIzNDMwMTddLCBbNDAuODE1NTIwOTksIC03NC4xMTE0MDU3Ml0sIFs0MC44MjI2NTU0LCAtNzQuMTIzNDMwMTddLCBbNDAuODE0MDAxNDYsIC03NC4xMDgxNjIyOF0sIFs0MC44MjI2NTU0LCAtNzQuMTIzNDMwMTddLCBbNDAuODEwNTc1ODcsIC03NC4wOTk3OTM3NF0sIFs0MC44MjA5NDQ1MywgLTc0LjEyMDM3MTk0XSwgWzQwLjc3MzY2OTk1LCAtNzQuMDQyMjQ3MzRdLCBbNDAuNzczMjM1NzQsIC03NC4wNDE3NTQ1OTk5OTk5OV0sIFs0MC43NzcxOTc2MiwgLTc0LjA0NTQ0NjgzXSwgWzQwLjc3NzE5NzYyLCAtNzQuMDQ1NDQ2ODNdLCBbNDAuNzk4NjMzNTksIC03NC4wNjU4OTgyNF0sIFs0MC43OTg2MzM1OSwgLTc0LjA2NTg5ODI0XSwgWzQwLjc4NjkzMTYzLCAtNzQuMDQ5MTAxMDFdLCBbNDAuNzk5NDg3MDMsIC03NC4wNjc0NDM1OF0sIFs0MC44MzI1NzczMSwgLTc0LjE0NDU0NDQ3XSwgWzQwLjgzMTA4MzQ0LCAtNzQuMTQxMjcwODJdLCBbNDAuODMxODMwMzYsIC03NC4xNDI5MDc1N10sIFs0MC44MzE4MzAzNiwgLTc0LjE0MjkwNzU3XSwgWzQwLjgzNDgyODMxLCAtNzQuMTQ5NDQyODddLCBbNDAuODMxODMwMzYsIC03NC4xNDI5MDc1N10sIFs0MC44MzE4MzAzNiwgLTc0LjE0MjkwNzU3XSwgWzQwLjgzNDgyODMxLCAtNzQuMTQ5NDQyODddLCBbNDAuODMzMzI0MjMsIC03NC4xNDYxODE0XSwgWzQwLjgzNDgyODMxLCAtNzQuMTQ5NDQyODddLCBbNDAuODMxODMwMzYsIC03NC4xNDI5MDc1N10sIFs0MC44MjUwNjMxOCwgLTc0LjEyODIwMzFdLCBbNDAuODMxODMwMzYsIC03NC4xNDI5MDc1N10sIFs0MC44MzE4MzAzNiwgLTc0LjE0MjkwNzU3XSwgWzQwLjgzMTA4MzQ0LCAtNzQuMTQxMjcwODJdLCBbNDAuODIzNDk4MzQsIC03NC4xMjQ5OTE3MV0sIFs0MC44MzQ4MjgzMSwgLTc0LjE0OTQ0Mjg3XSwgWzQwLjgzNDgyODMxLCAtNzQuMTQ5NDQyODddLCBbNDAuODM0ODI4MzEsIC03NC4xNDk0NDI4N10sIFs0MC44MzE4MzAzNiwgLTc0LjE0MjkwNzU3XSwgWzQwLjgzMDMzNjU0LCAtNzQuMTM5NjM0MjJdLCBbNDAuODQxMDAxMjIsIC03NC4xNjIzNjUxNV0sIFs0MC44MzQ4MjgzMSwgLTc0LjE0OTQ0Mjg3XSwgWzQwLjgzMTgzMDM2LCAtNzQuMTQyOTA3NTddLCBbNDAuODM0ODI4MzEsIC03NC4xNDk0NDI4N10sIFs0MC44NDEwMDEyMiwgLTc0LjE2MjM2NTE1XSwgWzQwLjgzMTgzMDM2LCAtNzQuMTQyOTA3NTddLCBbNDAuODMxODMwMzYsIC03NC4xNDI5MDc1N10sIFs0MC44MzE4MzAzNiwgLTc0LjE0MjkwNzU3XSwgWzQwLjgzMTgzMDM2LCAtNzQuMTQyOTA3NTddLCBbNDAuODM0ODI4MzEsIC03NC4xNDk0NDI4N10sIFs0MC44MzEwODM0NCwgLTc0LjE0MTI3MDgyXSwgWzQwLjgzMTA4MzQ0LCAtNzQuMTQxMjcwODJdLCBbNDAuODMxMDgzNDQsIC03NC4xNDEyNzA4Ml0sIFs0MC44MzQ4MjgzMSwgLTc0LjE0OTQ0Mjg3XSwgWzQwLjgzNDgyODMxLCAtNzQuMTQ5NDQyODddXSwgW1s0MC44MDA0MTU4MywgLTc0LjA2ODkxMzMzXSwgWzQwLjgxMDAwMTQ3LCAtNzQuMDgyOTA0NzhdLCBbNDAuODEwODcwNTksIC03NC4wODY1NDMxMl0sIFs0MC44MDkyOTQ3NywgLTc0LjA4MTI0OTI0XSwgWzQwLjgwOTI5NDc3LCAtNzQuMDgxMjQ5MjRdLCBbNDAuODAzNzMxMzcsIC03NC4wNzI2MTEwNF0sIFs0MC44MTAwMDE0NywgLTc0LjA4MjkwNDc4XSwgWzQwLjgwMTQ4MzY2LCAtNzQuMDcwMTkyNzVdLCBbNDAuODEwODYxNzQsIC03NC4wOTIyMzk0MDAwMDAwMV0sIFs0MC44MTA1Mzc0MywgLTc0LjA4NDY3NzYzXSwgWzQwLjgwNjk1NjgxLCAtNzQuMDc2NDEzMjRdLCBbNDAuODA1OTk1NDgsIC03NC4wNzUwMDg2MV0sIFs0MC44MDI1OTUzOTk5OTk5OTQsIC03NC4wNzE0MDgxN10sIFs0MC44MDM3MzEzNywgLTc0LjA3MjYxMTA0XSwgWzQwLjgxMDg3MDU5LCAtNzQuMDg2NTQzMTJdLCBbNDAuODIyNjU1NCwgLTc0LjEyMzQzMDE3XSwgWzQwLjgxMTA0OTY5LCAtNzQuMTAxNTk2MjNdLCBbNDAuODEwNTc1ODcsIC03NC4wOTk3OTM3NF0sIFs0MC44MTAzOTc2LCAtNzQuMDk2MDEyNDddLCBbNDAuODE5OTc0ODMsIC03NC4xMTg5Mjc3MV0sIFs0MC44MTA1NzU4NywgLTc0LjA5OTc5Mzc0XSwgWzQwLjgxMDU3NTg3LCAtNzQuMDk5NzkzNzRdLCBbNDAuODEwNjMyOTMsIC03NC4wOTQxMjk2N10sIFs0MC44MTEwNDk2OSwgLTc0LjEwMTU5NjIzXSwgWzQwLjgyMTgyMDc5LCAtNzQuMTIxODc5NzZdLCBbNDAuODEwNTc1ODcsIC03NC4wOTk3OTM3NF0sIFs0MC44MjI2NTU0LCAtNzQuMTIzNDMwMTddLCBbNDAuODIyNjU1NCwgLTc0LjEyMzQzMDE3XSwgWzQwLjc3MzY2OTk1LCAtNzQuMDQyMjQ3MzRdLCBbNDAuNzczMjM1NzQsIC03NC4wNDE3NTQ1OTk5OTk5OV0sIFs0MC43NzU4MzMxMywgLTc0LjA0NDc2ODE2XSwgWzQwLjc3NzE5NzYyLCAtNzQuMDQ1NDQ2ODNdLCBbNDAuNzc3MTk3NjIsIC03NC4wNDU0NDY4M10sIFs0MC43NzM2Njk5NSwgLTc0LjA0MjI0NzM0XSwgWzQwLjc3MzIzNTc0LCAtNzQuMDQxNzU0NTk5OTk5OTldLCBbNDAuNzg0MjI0MTcsIC03NC4wNDc3NTkyMV0sIFs0MC43OTIyMDM4OCwgLTc0LjA1NTU3NDMxXSwgWzQwLjc4MTQwNDQ2LCAtNzQuMDQ2ODg3ODhdLCBbNDAuNzg0MjI0MTcsIC03NC4wNDc3NTkyMV0sIFs0MC43OTYwMjYyNSwgLTc0LjA2MTMxODM2XSwgWzQwLjc4MTQwNDQ2LCAtNzQuMDQ2ODg3ODhdLCBbNDAuNzg0MjI0MTcsIC03NC4wNDc3NTkyMV0sIFs0MC43OTIyMDM4OCwgLTc0LjA1NTU3NDMxXSwgWzQwLjc4MjgxMzU0LCAtNzQuMDQ3MzI0MzJdLCBbNDAuNzg5MjM5MzEsIC03NC4wNTEzOTcwMV0sIFs0MC43OTg2MzM1OSwgLTc0LjA2NTg5ODI0XSwgWzQwLjc4NDIyNDE3LCAtNzQuMDQ3NzU5MjFdLCBbNDAuODQxMDAxMjIsIC03NC4xNjIzNjUxNV0sIFs0MC44NDAyMjg3NiwgLTc0LjE2MDc0Nzc5XSwgWzQwLjgzOTQ1NzMzLCAtNzQuMTU5MTMyNjldLCBbNDAuODMyNTc3MzEsIC03NC4xNDQ1NDQ0N10sIFs0MC44NDEwMDEyMiwgLTc0LjE2MjM2NTE1XSwgWzQwLjgyNDMwNTAzLCAtNzQuMTI2NTcxMTNdLCBbNDAuODM0MDcxMTQsIC03NC4xNDc4MTgzN10sIFs0MC44NDAyMjg3NiwgLTc0LjE2MDc0Nzc5XSwgWzQwLjgzOTQ1NzMzLCAtNzQuMTU5MTMyNjldLCBbNDAuODQxMDAxMjIsIC03NC4xNjIzNjUxNV0sIFs0MC44NDEwMDEyMiwgLTc0LjE2MjM2NTE1XSwgWzQwLjgyMjY1NTQsIC03NC4xMjM0MzAxN10sIFs0MC43NzM2Njk5NSwgLTc0LjA0MjI0NzM0XSwgWzQwLjc3MzIzNTc0LCAtNzQuMDQxNzU0NTk5OTk5OTldLCBbNDAuODExMDQwODMsIC03NC4wOTAzMzcyXSwgWzQwLjgwOTI5NDc3LCAtNzQuMDgxMjQ5MjRdLCBbNDAuODAwNDE1ODMsIC03NC4wNjg5MTMzM10sIFs0MC44MDI1OTUzOTk5OTk5OTQsIC03NC4wNzE0MDgxN10sIFs0MC43OTk0ODcwMywgLTc0LjA2NzQ0MzU4XSwgWzQwLjgxMTA0MDgzLCAtNzQuMDkwMzM3Ml0sIFs0MC44MDkyOTQ3NywgLTc0LjA4MTI0OTI0XSwgWzQwLjgxMDAwMTQ3LCAtNzQuMDgyOTA0NzhdLCBbNDAuODEwODcwNTksIC03NC4wODY1NDMxMl0sIFs0MC44MDM3MzEzNywgLTc0LjA3MjYxMTA0XSwgWzQwLjgwMDQxNTgzLCAtNzQuMDY4OTEzMzNdLCBbNDAuODA3NzU0NDQsIC03NC4wNzgwMTY2XSwgWzQwLjgwODUzNDQ0LCAtNzQuMDc5NjI4NjFdLCBbNDAuODE5OTc0ODMsIC03NC4xMTg5Mjc3MV0sIFs0MC44MjE4MjA3OSwgLTc0LjEyMTg3OTc2XSwgWzQwLjgxMTA0OTY5LCAtNzQuMTAxNTk2MjNdLCBbNDAuODE5OTc0ODMsIC03NC4xMTg5Mjc3MV0sIFs0MC44MTA1NzU4NywgLTc0LjA5OTc5Mzc0XSwgWzQwLjgxMDU3NTg3LCAtNzQuMDk5NzkzNzRdLCBbNDAuODEwNTc1ODcsIC03NC4wOTk3OTM3NF0sIFs0MC44MTAzNDI0NCwgLTc0LjA5NzkxOTIyXSwgWzQwLjgxNDAwMTQ2LCAtNzQuMTA4MTYyMjhdLCBbNDAuODE5OTc0ODMsIC03NC4xMTg5Mjc3MV0sIFs0MC44MTAzNDI0NCwgLTc0LjA5NzkxOTIyXSwgWzQwLjgyMjY1NTQsIC03NC4xMjM0MzAxN10sIFs0MC43NzM2Njk5NSwgLTc0LjA0MjI0NzM0XSwgWzQwLjc3MzIzNTc0LCAtNzQuMDQxNzU0NTk5OTk5OTldLCBbNDAuNzc3MTk3NjIsIC03NC4wNDU0NDY4M10sIFs0MC43OTUxMjU4NywgLTc0LjA1OTgyNzc0XSwgWzQwLjc5ODYzMzU5LCAtNzQuMDY1ODk4MjRdLCBbNDAuODU2NTY1MTIsIC03NC4xNzkxNjc0N10sIFs0MC44MzQ4MjgzMSwgLTc0LjE0OTQ0Mjg3XSwgWzQwLjgzOTQ1NzMzLCAtNzQuMTU5MTMyNjldLCBbNDAuODMxMDgzNDQsIC03NC4xNDEyNzA4Ml0sIFs0MC44MzQ4MjgzMSwgLTc0LjE0OTQ0Mjg3XSwgWzQwLjg0MTAwMTIyLCAtNzQuMTYyMzY1MTVdLCBbNDAuODIzNDk4MzQsIC03NC4xMjQ5OTE3MV0sIFs0MC44NTA1NzQ4NCwgLTc0LjE3Mzc4NjMyXSwgWzQwLjgzMTgzMDM2LCAtNzQuMTQyOTA3NTddLCBbNDAuODM0ODI4MzEsIC03NC4xNDk0NDI4N10sIFs0MC44NjM1OTAxMSwgLTc0LjE4MTIzNzAzXSwgWzQwLjgzNDgyODMxLCAtNzQuMTQ5NDQyODddLCBbNDAuODM0ODI4MzEsIC03NC4xNDk0NDI4N10sIFs0MC44NDEwMDEyMiwgLTc0LjE2MjM2NTE1XSwgWzQwLjgzMTgzMDM2LCAtNzQuMTQyOTA3NTddLCBbNDAuODM0MDcxMTQsIC03NC4xNDc4MTgzN10sIFs0MC44MzE4MzAzNiwgLTc0LjE0MjkwNzU3XSwgWzQwLjgzMTgzMDM2LCAtNzQuMTQyOTA3NTddXSwgW1s0MC44MDI1OTUzOTk5OTk5OTQsIC03NC4wNzE0MDgxN10sIFs0MC44MDE0ODM2NiwgLTc0LjA3MDE5Mjc1XSwgWzQwLjgwOTI5NDc3LCAtNzQuMDgxMjQ5MjRdLCBbNDAuODEwODcwNTksIC03NC4wODY1NDMxMl0sIFs0MC44MDQ4NjM0MywgLTc0LjA3MzgwOThdLCBbNDAuODEwNTc1ODcsIC03NC4wOTk3OTM3NF0sIFs0MC44MTA1NzU4NywgLTc0LjA5OTc5Mzc0XSwgWzQwLjgxMTA0OTY5LCAtNzQuMTAxNTk2MjNdLCBbNDAuODE0MDAxNDYsIC03NC4xMDgxNjIyOF0sIFs0MC44MTQwMDE0NiwgLTc0LjEwODE2MjI4XSwgWzQwLjgyMjY1NTQsIC03NC4xMjM0MzAxN10sIFs0MC44MjI2NTU0LCAtNzQuMTIzNDMwMTddLCBbNDAuODEyNDk4MTEsIC03NC4xMDQ4OTI1M10sIFs0MC44MTYzNTM4OCwgLTc0LjExMjk2OTA3XSwgWzQwLjc3NzE5NzYyLCAtNzQuMDQ1NDQ2ODNdLCBbNDAuNzk0MTcxMjUsIC03NC4wNTgzODM5MV0sIFs0MC43ODU2MjExNCwgLTc0LjA0ODI4NTk2XSwgWzQwLjc4MTQwNDQ2LCAtNzQuMDQ2ODg3ODhdLCBbNDAuNzkzMTg4NjQsIC03NC4wNTY5NzUwOF0sIFs0MC43ODQyMjQxNywgLTc0LjA0Nzc1OTIxXSwgWzQwLjc4NTYyMTE0LCAtNzQuMDQ4Mjg1OTZdLCBbNDAuODIzNDk4MzQsIC03NC4xMjQ5OTE3MV0sIFs0MC44MjQzMDUwMywgLTc0LjEyNjU3MTEzXSwgWzQwLjgyNDMwNTAzLCAtNzQuMTI2NTcxMTNdLCBbNDAuODM0ODI4MzEsIC03NC4xNDk0NDI4N10sIFs0MC44NTQxNDA0LCAtNzQuMTc3MDc1NTRdLCBbNDAuODM1NTk5ODcsIC03NC4xNTEwNTc3NV0sIFs0MC44NjYyMTU4NSwgLTc0LjE4Mjg2OTU1XSwgWzQwLjg2NjIxNTg1LCAtNzQuMTgyODY5NTVdLCBbNDAuODQwMjI4NzYsIC03NC4xNjA3NDc3OV0sIFs0MC44NDEwMDEyMiwgLTc0LjE2MjM2NTE1XSwgWzQwLjg2NjIxNTg1LCAtNzQuMTgyODY5NTVdLCBbNDAuODQxMDAxMjIsIC03NC4xNjIzNjUxNV0sIFs0MC44NDEwMDEyMiwgLTc0LjE2MjM2NTE1XSwgWzQwLjgzMTA4MzQ0LCAtNzQuMTQxMjcwODJdLCBbNDAuNzczNjY5OTUsIC03NC4wNDIyNDczNF0sIFs0MC43NzMyMzU3NCwgLTc0LjA0MTc1NDU5OTk5OTk5XSwgWzQwLjc3MzY2OTk1LCAtNzQuMDQyMjQ3MzRdLCBbNDAuNzczMjM1NzQsIC03NC4wNDE3NTQ1OTk5OTk5OV0sIFs0MC43NzM2Njk5NSwgLTc0LjA0MjI0NzM0XSwgWzQwLjc3MzIzNTc0LCAtNzQuMDQxNzU0NTk5OTk5OTldLCBbNDAuODEwODYxNzQsIC03NC4wOTIyMzk0MDAwMDAwMV0sIFs0MC44MDM3MzEzNywgLTc0LjA3MjYxMTA0XSwgWzQwLjgwNDg2MzQzLCAtNzQuMDczODA5OF0sIFs0MC44MDQ4NjM0MywgLTc0LjA3MzgwOThdLCBbNDAuODA1OTk1NDgsIC03NC4wNzUwMDg2MV0sIFs0MC44MDg1MzQ0NCwgLTc0LjA3OTYyODYxXSwgWzQwLjgwNzc1NDQ0LCAtNzQuMDc4MDE2Nl0sIFs0MC44MDkyOTQ3NywgLTc0LjA4MTI0OTI0XSwgWzQwLjgxMTAzODY2LCAtNzQuMDg4NDMyMDhdLCBbNDAuODA4NTM0NDQsIC03NC4wNzk2Mjg2MV0sIFs0MC44MjE4MjA3OSwgLTc0LjEyMTg3OTc2XSwgWzQwLjgxMTA0OTY5LCAtNzQuMTAxNTk2MjNdLCBbNDAuODEyNDk4MTEsIC03NC4xMDQ4OTI1M10sIFs0MC44MjE4MjA3OSwgLTc0LjEyMTg3OTc2XSwgWzQwLjgxOTAzNTA0LCAtNzQuMTE3NDc2MTZdLCBbNDAuODIwOTQ0NTMsIC03NC4xMjAzNzE5NF0sIFs0MC44MTAzNDI0NCwgLTc0LjA5NzkxOTIyXSwgWzQwLjgxMTc1OTY3LCAtNzQuMTAzMjU0MDJdLCBbNDAuODIwOTQ0NTMsIC03NC4xMjAzNzE5NF0sIFs0MC44MjA5NDQ1MywgLTc0LjEyMDM3MTk0XSwgWzQwLjgyMDk0NDUzLCAtNzQuMTIwMzcxOTRdLCBbNDAuODIwOTQ0NTMsIC03NC4xMjAzNzE5NF0sIFs0MC44MTU1MjA5OSwgLTc0LjExMTQwNTcyXSwgWzQwLjgxNTUyMDk5LCAtNzQuMTExNDA1NzJdLCBbNDAuODEwNTc1ODcsIC03NC4wOTk3OTM3NF0sIFs0MC44MjE4MjA3OSwgLTc0LjEyMTg3OTc2XSwgWzQwLjgxMTc1OTY3LCAtNzQuMTAzMjU0MDJdLCBbNDAuODEwNTc1ODcsIC03NC4wOTk3OTM3NF0sIFs0MC43NzcxOTc2MiwgLTc0LjA0NTQ0NjgzXSwgWzQwLjc5OTQ4NzAzLCAtNzQuMDY3NDQzNThdLCBbNDAuNzg2OTMxNjMsIC03NC4wNDkxMDEwMV0sIFs0MC43OTMxODg2NCwgLTc0LjA1Njk3NTA4XSwgWzQwLjc4MTQwNDQ2LCAtNzQuMDQ2ODg3ODhdLCBbNDAuODMxODMwMzYsIC03NC4xNDI5MDc1N10sIFs0MC44NDEwMDEyMiwgLTc0LjE2MjM2NTE1XSwgWzQwLjg2MzU5MDExLCAtNzQuMTgxMjM3MDNdLCBbNDAuODQxMDAxMjIsIC03NC4xNjIzNjUxNV0sIFs0MC44MzE4MzAzNiwgLTc0LjE0MjkwNzU3XSwgWzQwLjgzMTgzMDM2LCAtNzQuMTQyOTA3NTddLCBbNDAuODM0ODI4MzEsIC03NC4xNDk0NDI4N10sIFs0MC44NjIxODkxNiwgLTc0LjE4MDgxMjg1XSwgWzQwLjg0MDIyODc2LCAtNzQuMTYwNzQ3NzldLCBbNDAuODMxODMwMzYsIC03NC4xNDI5MDc1N10sIFs0MC44NDEwMDEyMiwgLTc0LjE2MjM2NTE1XSwgWzQwLjgzMTgzMDM2LCAtNzQuMTQyOTA3NTddLCBbNDAuODQxNzc0MDcsIC03NC4xNjM5ODMzOV0sIFs0MC44NTUzMjgwMiwgLTc0LjE3ODE3MTIzXSwgWzQwLjg0MDIyODc2LCAtNzQuMTYwNzQ3NzldLCBbNDAuODMxODMwMzYsIC03NC4xNDI5MDc1N10sIFs0MC44MzEwODM0NCwgLTc0LjE0MTI3MDgyXSwgWzQwLjg0MTAwMTIyLCAtNzQuMTYyMzY1MTVdLCBbNDAuODM0ODI4MzEsIC03NC4xNDk0NDI4N10sIFs0MC44MzE4MzAzNiwgLTc0LjE0MjkwNzU3XSwgWzQwLjgzNDgyODMxLCAtNzQuMTQ5NDQyODddLCBbNDAuODMxODMwMzYsIC03NC4xNDI5MDc1N10sIFs0MC44MzE4MzAzNiwgLTc0LjE0MjkwNzU3XSwgWzQwLjgzNDgyODMxLCAtNzQuMTQ5NDQyODddXV0sCiAgICAgICAgICAgICAgICB7aGVhdG1hcE9wdGlvbnM6IHsKICAgICAgICAgICAgICAgICAgICAgICAgcmFkaXVzOiAxNSwKICAgICAgICAgICAgICAgICAgICAgICAgbWluT3BhY2l0eTogMCwKICAgICAgICAgICAgICAgICAgICAgICAgbWF4T3BhY2l0eTogMC44LAogICAgICAgICAgICAgICAgICAgICAgICBzY2FsZVJhZGl1czogZmFsc2UsCiAgICAgICAgICAgICAgICAgICAgICAgIHVzZUxvY2FsRXh0cmVtYTogZmFsc2UsCiAgICAgICAgICAgICAgICAgICAgICAgIGRlZmF1bHRXZWlnaHQ6IDEsCiAgICAgICAgICAgICAgICAgICAgICAgIAogICAgICAgICAgICAgICAgICAgIH0KICAgICAgICAgICAgICAgIH0pCiAgICAgICAgICAgICAgICAuYWRkVG8obWFwXzc3NWYwNTk0YjQ2MzQwOWViMGQ4NDUzYjlmMDU4YjliKTsKCiAgICAgICAgCjwvc2NyaXB0Pg== onload=\"this.contentDocument.open();this.contentDocument.write(atob(this.getAttribute('data-html')));this.contentDocument.close();\" allowfullscreen webkitallowfullscreen mozallowfullscreen></iframe></div></div>"
      ],
      "text/plain": [
       "<folium.folium.Map at 0x256a0b773c8>"
      ]
     },
     "execution_count": 34,
     "metadata": {},
     "output_type": "execute_result"
    }
   ],
   "source": [
    "# crash_heat = [[[row['LATITUDE'],row['LONGITUDE']] for index, row in time_df18[time_df18['weight'] == i].iterrows()] for i in range(0, 13)]\n",
    "m = folium.Map([40.820695, -74.119965], tiles = \"Stamen Terrain\", zoom_start=12) \n",
    "heat_data = [[[row['LATITUDE'],row['LONGITUDE']] for index, row in heat_df18[heat_df18['Weight'] == i].iterrows()] for i in range(0,13)]\n",
    "\n",
    "# Plot it on the map\n",
    "hm = plugins.HeatMapWithTime(heat_data,auto_play=True,max_opacity=0.8)\n",
    "hm.add_to(m)\n",
    "# Display the map\n",
    "m"
   ]
  },
  {
   "cell_type": "markdown",
   "metadata": {},
   "source": [
    "### 2017 Crashes by Month"
   ]
  },
  {
   "cell_type": "code",
   "execution_count": 35,
   "metadata": {
    "scrolled": true
   },
   "outputs": [
    {
     "data": {
      "text/html": [
       "<div style=\"width:100%;\"><div style=\"position:relative;width:100%;height:0;padding-bottom:60%;\"><span style=\"color:#565656\">Make this Notebook Trusted to load map: File -> Trust Notebook</span><iframe src=\"about:blank\" style=\"position:absolute;width:100%;height:100%;left:0;top:0;border:none !important;\" data-html=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 onload=\"this.contentDocument.open();this.contentDocument.write(atob(this.getAttribute('data-html')));this.contentDocument.close();\" allowfullscreen webkitallowfullscreen mozallowfullscreen></iframe></div></div>"
      ],
      "text/plain": [
       "<folium.folium.Map at 0x256a0ba8dc8>"
      ]
     },
     "execution_count": 35,
     "metadata": {},
     "output_type": "execute_result"
    }
   ],
   "source": [
    "m1 = folium.Map([40.820695, -74.119965], tiles = \"Stamen Terrain\", zoom_start=12) \n",
    "heat_data = [[[row['LATITUDE'],row['LONGITUDE']] for index, row in heat_df17[heat_df17['Weight'] == i].iterrows()] for i in range(0,13)]\n",
    "\n",
    "hm = plugins.HeatMapWithTime(heat_data,auto_play=True,max_opacity=0.8)\n",
    "hm.add_to(m1)\n",
    "m1"
   ]
  },
  {
   "cell_type": "markdown",
   "metadata": {},
   "source": [
    "### 2016 Crashes by Month"
   ]
  },
  {
   "cell_type": "code",
   "execution_count": 36,
   "metadata": {
    "scrolled": true
   },
   "outputs": [
    {
     "data": {
      "text/html": [
       "<div style=\"width:100%;\"><div style=\"position:relative;width:100%;height:0;padding-bottom:60%;\"><span style=\"color:#565656\">Make this Notebook Trusted to load map: File -> Trust Notebook</span><iframe src=\"about:blank\" style=\"position:absolute;width:100%;height:100%;left:0;top:0;border:none !important;\" data-html=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 onload=\"this.contentDocument.open();this.contentDocument.write(atob(this.getAttribute('data-html')));this.contentDocument.close();\" allowfullscreen webkitallowfullscreen mozallowfullscreen></iframe></div></div>"
      ],
      "text/plain": [
       "<folium.folium.Map at 0x256a0bde108>"
      ]
     },
     "execution_count": 36,
     "metadata": {},
     "output_type": "execute_result"
    }
   ],
   "source": [
    "m2 = folium.Map([40.820695, -74.119965], tiles = \"Stamen Terrain\", zoom_start=12) \n",
    "heat_data = [[[row['LATITUDE'],row['LONGITUDE']] for index, row in heat_df16[heat_df16['Weight'] == i].iterrows()] for i in range(0,13)]\n",
    "\n",
    "hm = plugins.HeatMapWithTime(heat_data,auto_play=True,max_opacity=0.8)\n",
    "hm.add_to(m2)\n",
    "m2"
   ]
  },
  {
   "cell_type": "markdown",
   "metadata": {},
   "source": [
    "### 2015 Crashes by Month"
   ]
  },
  {
   "cell_type": "code",
   "execution_count": 37,
   "metadata": {
    "scrolled": true
   },
   "outputs": [
    {
     "data": {
      "text/html": [
       "<div style=\"width:100%;\"><div style=\"position:relative;width:100%;height:0;padding-bottom:60%;\"><span style=\"color:#565656\">Make this Notebook Trusted to load map: File -> Trust Notebook</span><iframe src=\"about:blank\" style=\"position:absolute;width:100%;height:100%;left:0;top:0;border:none !important;\" data-html=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 onload=\"this.contentDocument.open();this.contentDocument.write(atob(this.getAttribute('data-html')));this.contentDocument.close();\" allowfullscreen webkitallowfullscreen mozallowfullscreen></iframe></div></div>"
      ],
      "text/plain": [
       "<folium.folium.Map at 0x256a0bf0988>"
      ]
     },
     "execution_count": 37,
     "metadata": {},
     "output_type": "execute_result"
    }
   ],
   "source": [
    "m3 = folium.Map([40.820695, -74.119965], tiles = \"Stamen Terrain\", zoom_start=12) \n",
    "heat_data = [[[row['LATITUDE'],row['LONGITUDE']] for index, row in heat_df15[heat_df15['Weight'] == i].iterrows()] for i in range(0,13)]\n",
    "\n",
    "hm = plugins.HeatMapWithTime(heat_data,auto_play=True,max_opacity=0.8)\n",
    "hm.add_to(m3)\n",
    "m3"
   ]
  },
  {
   "cell_type": "markdown",
   "metadata": {},
   "source": [
    "### 2014 Crashes by Month"
   ]
  },
  {
   "cell_type": "code",
   "execution_count": 38,
   "metadata": {
    "scrolled": true
   },
   "outputs": [
    {
     "data": {
      "text/html": [
       "<div style=\"width:100%;\"><div style=\"position:relative;width:100%;height:0;padding-bottom:60%;\"><span style=\"color:#565656\">Make this Notebook Trusted to load map: File -> Trust Notebook</span><iframe src=\"about:blank\" style=\"position:absolute;width:100%;height:100%;left:0;top:0;border:none !important;\" data-html=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 onload=\"this.contentDocument.open();this.contentDocument.write(atob(this.getAttribute('data-html')));this.contentDocument.close();\" allowfullscreen webkitallowfullscreen mozallowfullscreen></iframe></div></div>"
      ],
      "text/plain": [
       "<folium.folium.Map at 0x256a0c14908>"
      ]
     },
     "execution_count": 38,
     "metadata": {},
     "output_type": "execute_result"
    }
   ],
   "source": [
    "m4 = folium.Map([40.820695, -74.119965], tiles = \"Stamen Terrain\", zoom_start=12) \n",
    "heat_data = [[[row['LATITUDE'],row['LONGITUDE']] for index, row in heat_df14[heat_df14['Weight'] == i].iterrows()] for i in range(0,13)]\n",
    "\n",
    "hm = plugins.HeatMapWithTime(heat_data,auto_play=True,max_opacity=0.8)\n",
    "\n",
    "hm.add_to(m4)\n",
    "\n",
    "m4.save('heatmap2014_time.html')\n",
    "m4"
   ]
  },
  {
   "cell_type": "markdown",
   "metadata": {},
   "source": [
    "### 2013 Crashes by Month"
   ]
  },
  {
   "cell_type": "code",
   "execution_count": 39,
   "metadata": {
    "scrolled": true
   },
   "outputs": [
    {
     "data": {
      "text/html": [
       "<div style=\"width:100%;\"><div style=\"position:relative;width:100%;height:0;padding-bottom:60%;\"><span style=\"color:#565656\">Make this Notebook Trusted to load map: File -> Trust Notebook</span><iframe src=\"about:blank\" style=\"position:absolute;width:100%;height:100%;left:0;top:0;border:none !important;\" data-html=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 onload=\"this.contentDocument.open();this.contentDocument.write(atob(this.getAttribute('data-html')));this.contentDocument.close();\" allowfullscreen webkitallowfullscreen mozallowfullscreen></iframe></div></div>"
      ],
      "text/plain": [
       "<folium.folium.Map at 0x256a0c3ca08>"
      ]
     },
     "execution_count": 39,
     "metadata": {},
     "output_type": "execute_result"
    }
   ],
   "source": [
    "m5 = folium.Map([40.820695, -74.119965], tiles = \"Stamen Terrain\", zoom_start=12) \n",
    "heat_data = [[[row['LATITUDE'],row['LONGITUDE']] for index, row in heat_df13[heat_df13['Weight'] == i].iterrows()] for i in range(0,13)]\n",
    "\n",
    "hm = plugins.HeatMapWithTime(heat_data,auto_play=True,max_opacity=0.8)\n",
    "hm.add_to(m5)\n",
    "m5"
   ]
  },
  {
   "cell_type": "markdown",
   "metadata": {},
   "source": [
    "## Crash frequency over time and location"
   ]
  },
  {
   "cell_type": "code",
   "execution_count": 40,
   "metadata": {},
   "outputs": [],
   "source": [
    "df_3d = df\n",
    "df_3d['Crash Month'] = df_3d['timestamp'].dt.month\n",
    "df_3d['Crash Hour'] = df_3d['timestamp'].dt.hour\n",
    "df_3d['Year'] =df_3d['timestamp'].dt.year\n",
    "df_3d = df_3d[['MP', 'Crash Month', 'Crash Hour', 'spd', 'SEVERITY', 'Year', 'LOC_DIR']]"
   ]
  },
  {
   "cell_type": "code",
   "execution_count": 41,
   "metadata": {},
   "outputs": [
    {
     "data": {
      "text/plain": [
       "array([[2013, 0.48, 12, ..., 'I', 'E', 1],\n",
       "       [2013, 0.51, 2, ..., 'I', 'E', 1],\n",
       "       [2013, 0.51, 5, ..., 'I', 'E', 1],\n",
       "       ...,\n",
       "       [2018, 10.84, 12, ..., 'P', 'W', 2],\n",
       "       [2018, 10.84, 12, ..., 'P', 'E', 2],\n",
       "       [2018, 10.84, 12, ..., 'P', 'E', 2]], dtype=object)"
      ]
     },
     "execution_count": 41,
     "metadata": {},
     "output_type": "execute_result"
    }
   ],
   "source": [
    "df_3d = df_3d.groupby(['Year','MP','Crash Month', 'Crash Hour', 'SEVERITY', 'LOC_DIR']).count().reset_index().values\n",
    "df_3d"
   ]
  },
  {
   "cell_type": "code",
   "execution_count": 42,
   "metadata": {},
   "outputs": [],
   "source": [
    "df_3d = pd.DataFrame(df_3d,columns=['Year','MP', 'Crash Month', 'Crash Hour', 'SEVERITY', 'LOC_DIR', 'Count'])"
   ]
  },
  {
   "cell_type": "code",
   "execution_count": 43,
   "metadata": {},
   "outputs": [
    {
     "data": {
      "text/html": [
       "<div>\n",
       "<style scoped>\n",
       "    .dataframe tbody tr th:only-of-type {\n",
       "        vertical-align: middle;\n",
       "    }\n",
       "\n",
       "    .dataframe tbody tr th {\n",
       "        vertical-align: top;\n",
       "    }\n",
       "\n",
       "    .dataframe thead th {\n",
       "        text-align: right;\n",
       "    }\n",
       "</style>\n",
       "<table border=\"1\" class=\"dataframe\">\n",
       "  <thead>\n",
       "    <tr style=\"text-align: right;\">\n",
       "      <th></th>\n",
       "      <th>Year</th>\n",
       "      <th>MP</th>\n",
       "      <th>Crash Month</th>\n",
       "      <th>Crash Hour</th>\n",
       "      <th>SEVERITY</th>\n",
       "      <th>LOC_DIR</th>\n",
       "      <th>Count</th>\n",
       "    </tr>\n",
       "  </thead>\n",
       "  <tbody>\n",
       "    <tr>\n",
       "      <td>0</td>\n",
       "      <td>2013</td>\n",
       "      <td>0.48</td>\n",
       "      <td>12</td>\n",
       "      <td>8</td>\n",
       "      <td>I</td>\n",
       "      <td>E</td>\n",
       "      <td>1</td>\n",
       "    </tr>\n",
       "    <tr>\n",
       "      <td>1</td>\n",
       "      <td>2013</td>\n",
       "      <td>0.51</td>\n",
       "      <td>2</td>\n",
       "      <td>18</td>\n",
       "      <td>I</td>\n",
       "      <td>E</td>\n",
       "      <td>1</td>\n",
       "    </tr>\n",
       "    <tr>\n",
       "      <td>2</td>\n",
       "      <td>2013</td>\n",
       "      <td>0.51</td>\n",
       "      <td>5</td>\n",
       "      <td>13</td>\n",
       "      <td>I</td>\n",
       "      <td>E</td>\n",
       "      <td>1</td>\n",
       "    </tr>\n",
       "    <tr>\n",
       "      <td>3</td>\n",
       "      <td>2013</td>\n",
       "      <td>0.51</td>\n",
       "      <td>7</td>\n",
       "      <td>9</td>\n",
       "      <td>P</td>\n",
       "      <td>E</td>\n",
       "      <td>1</td>\n",
       "    </tr>\n",
       "    <tr>\n",
       "      <td>4</td>\n",
       "      <td>2013</td>\n",
       "      <td>0.51</td>\n",
       "      <td>8</td>\n",
       "      <td>12</td>\n",
       "      <td>P</td>\n",
       "      <td>E</td>\n",
       "      <td>1</td>\n",
       "    </tr>\n",
       "  </tbody>\n",
       "</table>\n",
       "</div>"
      ],
      "text/plain": [
       "   Year    MP Crash Month Crash Hour SEVERITY LOC_DIR Count\n",
       "0  2013  0.48          12          8        I       E     1\n",
       "1  2013  0.51           2         18        I       E     1\n",
       "2  2013  0.51           5         13        I       E     1\n",
       "3  2013  0.51           7          9        P       E     1\n",
       "4  2013  0.51           8         12        P       E     1"
      ]
     },
     "execution_count": 43,
     "metadata": {},
     "output_type": "execute_result"
    }
   ],
   "source": [
    "df_3d.head()"
   ]
  },
  {
   "cell_type": "code",
   "execution_count": 44,
   "metadata": {},
   "outputs": [],
   "source": [
    "df_3d['Year'] = df_3d['Year'].astype(int)\n",
    "df_3d['MP'] = df_3d['MP'].astype(float)\n",
    "df_3d['Crash Month'] = df_3d['Crash Month'].astype(int)\n",
    "df_3d['Crash Hour'] = df_3d['Crash Hour'].astype(int)\n",
    "df_3d['Count'] = df_3d['Count'].astype(int)"
   ]
  },
  {
   "cell_type": "code",
   "execution_count": null,
   "metadata": {
    "scrolled": true
   },
   "outputs": [],
   "source": [
    "import plotly.express as px\n",
    "data1 = df_3d.groupby(['Year', 'MP', 'LOC_DIR']).sum().reset_index()\n",
    "\n",
    "fig = px.scatter_3d(data1, x='MP', y='Year', z='Count', size= 'Count', color = 'LOC_DIR', size_max=40,  \n",
    "                    color_continuous_scale = 'Viridis', opacity=0.7)\n",
    "\n",
    "# tight layout\n",
    "fig.update_layout(title = 'Yearly Crash Frequency over Distance', autosize = True,\n",
    "                  width = 1000, height = 800)"
   ]
  },
  {
   "cell_type": "code",
   "execution_count": null,
   "metadata": {
    "scrolled": true
   },
   "outputs": [],
   "source": [
    "data1 = df_3d.groupby(['Year', 'Crash Month', 'LOC_DIR']).sum().reset_index()\n",
    "\n",
    "fig = px.scatter_3d(data1, x='Crash Month', y='Year', z='Count', size= 'Count', color = 'LOC_DIR', size_max=40,  \n",
    "                    color_continuous_scale = 'Viridis', opacity=0.7)\n",
    "\n",
    "# tight layout\n",
    "fig.update_layout(title = 'Crash Frequency by Year and Month', autosize = True,\n",
    "                  width = 1000, height = 800)"
   ]
  },
  {
   "cell_type": "code",
   "execution_count": null,
   "metadata": {
    "scrolled": true
   },
   "outputs": [],
   "source": [
    "data1 = df_3d.groupby(['Year', 'Crash Hour', 'LOC_DIR']).sum().reset_index()\n",
    "\n",
    "fig = px.scatter_3d(data1, x='Crash Hour', y='Year', z='Count', size= 'Count', color = 'LOC_DIR', size_max=40,  \n",
    "                    color_continuous_scale = 'Viridis', opacity=0.7)\n",
    "\n",
    "# tight layout\n",
    "fig.update_layout(title = 'Hourly Crash Frequency by Year', autosize = True,\n",
    "                  width = 1000, height = 800)"
   ]
  },
  {
   "cell_type": "markdown",
   "metadata": {},
   "source": [
    "## ASTI Volume Data Integration"
   ]
  },
  {
   "cell_type": "code",
   "execution_count": null,
   "metadata": {},
   "outputs": [],
   "source": [
    "import datetime\n",
    "from datetime import timedelta \n",
    "\n",
    "def round_to_5min(t):\n",
    "    delta = datetime.timedelta(minutes=t.minute%5, \n",
    "                               seconds=t.second)\n",
    "    t -= delta\n",
    "    if delta > datetime.timedelta(0):\n",
    "        t += datetime.timedelta(minutes=5)\n",
    "    return t"
   ]
  },
  {
   "cell_type": "code",
   "execution_count": null,
   "metadata": {},
   "outputs": [],
   "source": [
    "df['TIME_ROUND'] = df['timestamp'].map(round_to_5min)"
   ]
  },
  {
   "cell_type": "code",
   "execution_count": null,
   "metadata": {},
   "outputs": [],
   "source": [
    "df.head()"
   ]
  },
  {
   "cell_type": "code",
   "execution_count": null,
   "metadata": {},
   "outputs": [],
   "source": [
    "#Load ASTI date\n",
    "\n",
    "qt11 = pd.read_csv('qt11_.csv')\n",
    "qt12 = pd.read_csv('qt12_.csv')\n",
    "qt13 = pd.read_csv('qt13_.csv')\n",
    "qt14 = pd.read_csv('qt14_.csv')\n",
    "qt15 = pd.read_csv('qt15_.csv')\n",
    "qt2 = pd.read_csv('qt2_.csv')\n",
    "qt3 = pd.read_csv('qt3_.csv')\n",
    "qt4 = pd.read_csv('qt4_.csv')\n",
    "qt6 = pd.read_csv('qt6_.csv')\n",
    "qt7 = pd.read_csv('qt7_.csv')\n",
    "qt8 = pd.read_csv('qt8_.csv')\n",
    "qt9 = pd.read_csv('qt9_.csv')\n",
    "asti = pd.read_csv('ASTI_5_MinVolume2018.csv')"
   ]
  },
  {
   "cell_type": "code",
   "execution_count": null,
   "metadata": {},
   "outputs": [],
   "source": [
    "qt = [qt11, qt12, qt13, qt14, qt15, qt2, qt3, qt4, qt6, qt7, qt8, qt9]\n",
    "\n",
    "for i in qt:\n",
    "    i.drop(columns = ['Unnamed: 0'], inplace = True)"
   ]
  },
  {
   "cell_type": "code",
   "execution_count": null,
   "metadata": {},
   "outputs": [],
   "source": [
    "for i in qt:\n",
    "    i['MIN_INTVL_05'] = pd.to_datetime(i['MIN_INTVL_05'])"
   ]
  },
  {
   "cell_type": "code",
   "execution_count": null,
   "metadata": {},
   "outputs": [],
   "source": [
    "n = []\n",
    "for i in qt:\n",
    "    n.append(i['ASTI_NAME'].iloc[0])\n",
    "\n",
    "n"
   ]
  },
  {
   "cell_type": "code",
   "execution_count": null,
   "metadata": {},
   "outputs": [],
   "source": [
    "qt11 = qt11.set_index('MIN_INTVL_05').resample('5T').mean()\n",
    "qt12 = qt12.set_index('MIN_INTVL_05').resample('5T').mean()\n",
    "qt13 = qt13.set_index('MIN_INTVL_05').resample('5T').mean()\n",
    "qt14 = qt14.set_index('MIN_INTVL_05').resample('5T').mean()\n",
    "qt15 = qt15.set_index('MIN_INTVL_05').resample('5T').mean()\n",
    "qt2 = qt2.set_index('MIN_INTVL_05').resample('5T').mean()\n",
    "qt3 = qt3.set_index('MIN_INTVL_05').resample('5T').mean()\n",
    "qt4 = qt4.set_index('MIN_INTVL_05').resample('5T').mean()\n",
    "qt6 = qt6.set_index('MIN_INTVL_05').resample('5T').mean()\n",
    "qt7 = qt7.set_index('MIN_INTVL_05').resample('5T').mean()\n",
    "qt8 = qt8.set_index('MIN_INTVL_05').resample('5T').mean()\n",
    "qt9 = qt9.set_index('MIN_INTVL_05').resample('5T').mean()"
   ]
  },
  {
   "cell_type": "code",
   "execution_count": null,
   "metadata": {},
   "outputs": [],
   "source": [
    "# qt11['ASTI_NAME'] = 'QT11'\n",
    "# qt12['ASTI_NAME'] = 'QT12'\n",
    "# qt13['ASTI_NAME'] = 'QT13'\n",
    "# qt14['ASTI_NAME'] = 'QT14'\n",
    "# qt15['ASTI_NAME'] = 'QT15'\n",
    "# qt2['ASTI_NAME'] = 'QT2'\n",
    "# #qt3['ASTI_NAME'] = 'QT3'\n",
    "# qt4['ASTI_NAME'] = 'QT4'\n",
    "# qt6['ASTI_NAME'] = 'QT6'\n",
    "# qt7['ASTI_NAME'] = 'QT7'\n",
    "# qt8['ASTI_NAME'] = 'QT8'\n",
    "# qt9['ASTI_NAME'] = 'QT9'\n",
    "\n",
    "qt11['ASTI_NAME'] = 'W_MP_8.0'\n",
    "qt12['ASTI_NAME'] = 'E_MP_4.0'\n",
    "qt13['ASTI_NAME'] = 'W_MP_7.0'\n",
    "qt14['ASTI_NAME'] = 'E_MP_2.1'\n",
    "qt15['ASTI_NAME'] = 'E_MP_2.9'\n",
    "qt2['ASTI_NAME'] = 'E_MP_3.4'\n",
    "#qt3['ASTI_NAME'] = 'QT3'\n",
    "qt4['ASTI_NAME'] = 'W_MP_6.0'\n",
    "qt6['ASTI_NAME'] = 'W_MP_8.5'\n",
    "qt7['ASTI_NAME'] = 'E_MP_4.8'\n",
    "qt8['ASTI_NAME'] = 'W_MP_7.5'\n",
    "qt9['ASTI_NAME'] = 'W_MP_6.5'\n",
    "\n",
    "# QT11 Route 3 WB MM 8\n",
    "# QT12 Route 3 EB MM 4\n",
    "# QT13 Route 3 WB MM 7\n",
    "# QT14 Route 3 EB MM 2.1\n",
    "# QT15 Route 3 EB MM 2.9\n",
    "# QT2 Route 3 EB MM 3.4\n",
    "# QT3 or QT10Route 17 S MM 3.9\n",
    "# QT4 Route 3 WB MM 6\n",
    "# QT6 Route 3 WB MM 8.5\n",
    "# QT7 Route 3 EB MM 4.8\n",
    "# QT8 Route 3 WB MM 7.5\n",
    "# QT9 Route 3 WB MM 6.5"
   ]
  },
  {
   "cell_type": "code",
   "execution_count": null,
   "metadata": {},
   "outputs": [],
   "source": [
    "qt11.reset_index(inplace=True)\n",
    "qt12.reset_index(inplace=True)\n",
    "qt13.reset_index(inplace=True)\n",
    "qt14.reset_index(inplace=True)\n",
    "qt15.reset_index(inplace=True)\n",
    "qt2.reset_index(inplace=True)\n",
    "qt3.reset_index(inplace=True)\n",
    "qt4.reset_index(inplace=True)\n",
    "qt6.reset_index(inplace=True)\n",
    "qt7.reset_index(inplace=True)\n",
    "qt8.reset_index(inplace=True)\n",
    "qt9.reset_index(inplace=True)\n"
   ]
  },
  {
   "cell_type": "code",
   "execution_count": null,
   "metadata": {},
   "outputs": [],
   "source": [
    "asti.drop(columns = 'LANE_GROUP', inplace = True)"
   ]
  },
  {
   "cell_type": "code",
   "execution_count": null,
   "metadata": {},
   "outputs": [],
   "source": [
    "asti = asti[['MIN_INTVL_05', 'VOLUME', 'ASTI_NAME']]\n",
    "asti"
   ]
  },
  {
   "cell_type": "code",
   "execution_count": null,
   "metadata": {},
   "outputs": [],
   "source": [
    "asti.drop([457831], inplace = True)"
   ]
  },
  {
   "cell_type": "code",
   "execution_count": null,
   "metadata": {},
   "outputs": [],
   "source": [
    "asti"
   ]
  },
  {
   "cell_type": "code",
   "execution_count": null,
   "metadata": {},
   "outputs": [],
   "source": [
    "asti = pd.concat([asti, qt11, qt12, qt13, qt14, qt15, qt2, qt3, qt4, qt6, qt7, qt8, qt9], axis = 0)"
   ]
  },
  {
   "cell_type": "code",
   "execution_count": null,
   "metadata": {},
   "outputs": [],
   "source": [
    "asti['ASTI_NAME'].value_counts()"
   ]
  },
  {
   "cell_type": "markdown",
   "metadata": {},
   "source": [
    "## Speed Mean, Standard Deviation and Coefficient of Variation"
   ]
  },
  {
   "cell_type": "code",
   "execution_count": null,
   "metadata": {},
   "outputs": [],
   "source": [
    "#Mean Speed for the previous 15 minutes\n",
    "\n",
    "df['pre15_mean_spd']     = df[['pre1_spd','pre2_spd','pre3_spd', 'pre4_spd', 'pre5_spd','pre6_spd','pre7_spd','pre8_spd','pre9_spd','pre10_spd', \n",
    "                           'pre11_spd', 'pre12_spd', 'pre13_spd', 'pre14_spd', 'pre15_spd']].mean(axis=1)\n",
    "df['pre15_dn1_mean_spd'] = df[['pre1_dn1_spd','pre2_dn1_spd','pre3_dn1_spd', 'pre4_dn1_spd','pre5_dn1_spd','pre6_dn1_spd','pre7_dn1_spd','pre8_dn1_spd',\n",
    "                               'pre9_dn1_spd','pre10_dn1_spd','pre11_dn1_spd','pre12_dn1_spd','pre13_dn1_spd','pre14_dn1_spd','pre15_dn1_spd']].mean(axis=1)\n",
    "df['pre15_dn2_mean_spd'] = df[['pre1_dn2_spd','pre2_dn2_spd','pre3_dn2_spd', 'pre4_dn2_spd','pre5_dn2_spd','pre6_dn2_spd','pre7_dn2_spd','pre8_dn2_spd',\n",
    "                               'pre9_dn2_spd','pre10_dn2_spd','pre11_dn2_spd','pre12_dn2_spd','pre13_dn2_spd','pre14_dn2_spd','pre15_dn2_spd']].mean(axis=1)\n",
    "df['pre15_dn3_mean_spd'] = df[['pre1_dn3_spd','pre2_dn3_spd','pre3_dn3_spd', 'pre4_dn3_spd','pre5_dn3_spd','pre6_dn3_spd','pre7_dn3_spd','pre8_dn3_spd',\n",
    "                               'pre9_dn3_spd','pre10_dn3_spd','pre11_dn3_spd','pre12_dn3_spd','pre13_dn3_spd','pre14_dn3_spd','pre15_dn3_spd']].mean(axis=1)\n",
    "df['pre15_up1_mean_spd'] = df[['pre1_up1_spd','pre2_up1_spd','pre3_up1_spd', 'pre4_up1_spd','pre5_up1_spd','pre6_up1_spd','pre7_up1_spd','pre8_up1_spd',\n",
    "                               'pre9_up1_spd','pre10_up1_spd','pre11_up1_spd','pre12_up1_spd','pre13_up1_spd','pre14_up1_spd','pre15_up1_spd']].mean(axis=1)\n",
    "df['pre15_up2_mean_spd'] = df[['pre1_up2_spd','pre2_up2_spd','pre3_up2_spd', 'pre4_up2_spd','pre5_up2_spd','pre6_up2_spd','pre7_up2_spd','pre8_up2_spd',\n",
    "                               'pre9_up2_spd','pre10_up2_spd','pre11_up2_spd','pre12_up2_spd','pre13_up2_spd','pre14_up2_spd','pre15_up2_spd']].mean(axis=1)\n",
    "df['pre15_up3_mean_spd'] = df[['pre1_up3_spd','pre2_up3_spd','pre3_up3_spd', 'pre4_up3_spd','pre5_up3_spd','pre6_up3_spd','pre7_up3_spd','pre8_up3_spd',\n",
    "                               'pre9_up3_spd','pre10_up3_spd','pre11_up3_spd','pre12_up3_spd','pre13_up3_spd','pre14_up3_spd','pre15_up3_spd']].mean(axis=1)"
   ]
  },
  {
   "cell_type": "code",
   "execution_count": null,
   "metadata": {},
   "outputs": [],
   "source": [
    "#Mean Speed for the previous 10 - 15 minutes\n",
    "df['pre10_15_mean_spd']     = df[['pre11_spd', 'pre12_spd', 'pre13_spd', 'pre14_spd', 'pre15_spd']].mean(axis=1)\n",
    "df['pre10_15_dn1_mean_spd'] = df[['pre11_dn1_spd','pre12_dn1_spd','pre13_dn1_spd','pre14_dn1_spd','pre15_dn1_spd']].mean(axis=1)\n",
    "df['pre10_15_dn2_mean_spd'] = df[['pre11_dn2_spd','pre12_dn2_spd','pre13_dn2_spd','pre14_dn2_spd','pre15_dn2_spd']].mean(axis=1)\n",
    "df['pre10_15_dn3_mean_spd'] = df[['pre11_dn3_spd','pre12_dn3_spd','pre13_dn3_spd','pre14_dn3_spd','pre15_dn3_spd']].mean(axis=1)\n",
    "df['pre10_15_up1_mean_spd'] = df[['pre11_up1_spd','pre12_up1_spd','pre13_up1_spd','pre14_up1_spd','pre15_up1_spd']].mean(axis=1)\n",
    "df['pre10_15_up2_mean_spd'] = df[['pre11_up2_spd','pre12_up2_spd','pre13_up2_spd','pre14_up2_spd','pre15_up2_spd']].mean(axis=1)\n",
    "df['pre10_15_up3_mean_spd'] = df[['pre11_up3_spd','pre12_up3_spd','pre13_up3_spd','pre14_up3_spd','pre15_up3_spd']].mean(axis=1)"
   ]
  },
  {
   "cell_type": "code",
   "execution_count": null,
   "metadata": {},
   "outputs": [],
   "source": [
    "#Mean Speed for the previous 10 minutes\n",
    "\n",
    "df['pre10_mean_spd']     = df[['pre1_spd','pre2_spd','pre3_spd', 'pre4_spd', 'pre5_spd','pre6_spd','pre7_spd','pre8_spd','pre9_spd','pre10_spd']].mean(axis=1)\n",
    "df['pre10_dn1_mean_spd'] = df[['pre1_dn1_spd','pre2_dn1_spd','pre3_dn1_spd', 'pre4_dn1_spd','pre5_dn1_spd','pre6_dn1_spd','pre7_dn1_spd','pre8_dn1_spd',\n",
    "                               'pre9_dn1_spd','pre10_dn1_spd']].mean(axis=1)\n",
    "df['pre10_dn2_mean_spd'] = df[['pre1_dn2_spd','pre2_dn2_spd','pre3_dn2_spd', 'pre4_dn2_spd','pre5_dn2_spd','pre6_dn2_spd','pre7_dn2_spd','pre8_dn2_spd',\n",
    "                               'pre9_dn2_spd','pre10_dn2_spd']].mean(axis=1)\n",
    "df['pre10_dn3_mean_spd'] = df[['pre1_dn3_spd','pre2_dn3_spd','pre3_dn3_spd', 'pre4_dn3_spd','pre5_dn3_spd','pre6_dn3_spd','pre7_dn3_spd','pre8_dn3_spd',\n",
    "                               'pre9_dn3_spd','pre10_dn3_spd']].mean(axis=1)\n",
    "df['pre10_up1_mean_spd'] = df[['pre1_up1_spd','pre2_up1_spd','pre3_up1_spd', 'pre4_up1_spd','pre5_up1_spd','pre6_up1_spd','pre7_up1_spd','pre8_up1_spd',\n",
    "                               'pre9_up1_spd','pre10_up1_spd']].mean(axis=1)\n",
    "df['pre10_up2_mean_spd'] = df[['pre1_up2_spd','pre2_up2_spd','pre3_up2_spd', 'pre4_up2_spd','pre5_up2_spd','pre6_up2_spd','pre7_up2_spd','pre8_up2_spd',\n",
    "                               'pre9_up2_spd','pre10_up2_spd']].mean(axis=1)\n",
    "df['pre10_up3_mean_spd'] = df[['pre1_up3_spd','pre2_up3_spd','pre3_up3_spd', 'pre4_up3_spd','pre5_up3_spd','pre6_up3_spd','pre7_up3_spd','pre8_up3_spd',\n",
    "                               'pre9_up3_spd','pre10_up3_spd']].mean(axis=1)"
   ]
  },
  {
   "cell_type": "code",
   "execution_count": null,
   "metadata": {},
   "outputs": [],
   "source": [
    "#Mean Speed for the previous 5 - 10 minutes\n",
    "\n",
    "df['pre5_10_mean_spd']     = df[['pre6_spd','pre7_spd','pre8_spd','pre9_spd','pre10_spd']].mean(axis=1)\n",
    "df['pre5_10_dn1_mean_spd'] = df[['pre6_dn1_spd','pre7_dn1_spd','pre8_dn1_spd','pre9_dn1_spd','pre10_dn1_spd']].mean(axis=1)\n",
    "df['pre5_10_dn2_mean_spd'] = df[['pre6_dn2_spd','pre7_dn2_spd','pre8_dn2_spd','pre9_dn2_spd','pre10_dn2_spd']].mean(axis=1)\n",
    "df['pre5_10_dn3_mean_spd'] = df[['pre6_dn3_spd','pre7_dn3_spd','pre8_dn3_spd','pre9_dn3_spd','pre10_dn3_spd']].mean(axis=1)\n",
    "df['pre5_10_up1_mean_spd'] = df[['pre6_up1_spd','pre7_up1_spd','pre8_up1_spd','pre9_up1_spd','pre10_up1_spd']].mean(axis=1)\n",
    "df['pre5_10_up2_mean_spd'] = df[['pre6_up2_spd','pre7_up2_spd','pre8_up2_spd','pre9_up2_spd','pre10_up2_spd']].mean(axis=1)\n",
    "df['pre5_10_up3_mean_spd'] = df[['pre6_up3_spd','pre7_up3_spd','pre8_up3_spd','pre9_up3_spd','pre10_up3_spd']].mean(axis=1)"
   ]
  },
  {
   "cell_type": "code",
   "execution_count": null,
   "metadata": {},
   "outputs": [],
   "source": [
    "#Mean Speed for the previous 5 minutes\n",
    "df['pre5_mean_spd']     = df[['pre1_spd','pre2_spd','pre3_spd', 'pre4_spd', 'pre5_spd']].mean(axis=1)\n",
    "df['pre5_dn1_mean_spd'] = df[['pre1_dn1_spd','pre2_dn1_spd','pre3_dn1_spd', 'pre4_dn1_spd','pre5_dn1_spd']].mean(axis=1)\n",
    "df['pre5_dn2_mean_spd'] = df[['pre1_dn2_spd','pre2_dn2_spd','pre3_dn2_spd', 'pre4_dn2_spd','pre5_dn2_spd']].mean(axis=1)\n",
    "df['pre5_dn3_mean_spd'] = df[['pre1_dn3_spd','pre2_dn3_spd','pre3_dn3_spd', 'pre4_dn3_spd','pre5_dn3_spd']].mean(axis=1)\n",
    "df['pre5_up1_mean_spd'] = df[['pre1_up1_spd','pre2_up1_spd','pre3_up1_spd', 'pre4_up1_spd','pre5_up1_spd']].mean(axis=1)\n",
    "df['pre5_up2_mean_spd'] = df[['pre1_up2_spd','pre2_up2_spd','pre3_up2_spd', 'pre4_up2_spd','pre5_up2_spd']].mean(axis=1)\n",
    "df['pre5_up3_mean_spd'] = df[['pre1_up3_spd','pre2_up3_spd','pre3_up3_spd', 'pre4_up3_spd','pre5_up3_spd']].mean(axis=1)"
   ]
  },
  {
   "cell_type": "code",
   "execution_count": null,
   "metadata": {},
   "outputs": [],
   "source": [
    "#Standard Deviation for the previous 15 minutes\n",
    "df['pre15_std_spd']     = df[['pre1_spd','pre2_spd','pre3_spd', 'pre4_spd', 'pre5_spd','pre6_spd','pre7_spd','pre8_spd','pre9_spd','pre10_spd', \n",
    "                           'pre11_spd', 'pre12_spd', 'pre13_spd', 'pre14_spd', 'pre15_spd']].std(axis=1)\n",
    "df['pre15_dn1_std_spd'] = df[['pre1_dn1_spd','pre2_dn1_spd','pre3_dn1_spd', 'pre4_dn1_spd','pre5_dn1_spd','pre6_dn1_spd','pre7_dn1_spd','pre8_dn1_spd',\n",
    "                               'pre9_dn1_spd','pre10_dn1_spd','pre11_dn1_spd','pre12_dn1_spd','pre13_dn1_spd','pre14_dn1_spd','pre15_dn1_spd']].std(axis=1)\n",
    "df['pre15_dn2_std_spd'] = df[['pre1_dn2_spd','pre2_dn2_spd','pre3_dn2_spd', 'pre4_dn2_spd','pre5_dn2_spd','pre6_dn2_spd','pre7_dn2_spd','pre8_dn2_spd',\n",
    "                               'pre9_dn2_spd','pre10_dn2_spd','pre11_dn2_spd','pre12_dn2_spd','pre13_dn2_spd','pre14_dn2_spd','pre15_dn2_spd']].std(axis=1)\n",
    "df['pre15_dn3_std_spd'] = df[['pre1_dn3_spd','pre2_dn3_spd','pre3_dn3_spd', 'pre4_dn3_spd','pre5_dn3_spd','pre6_dn3_spd','pre7_dn3_spd','pre8_dn3_spd',\n",
    "                               'pre9_dn3_spd','pre10_dn3_spd','pre11_dn3_spd','pre12_dn3_spd','pre13_dn3_spd','pre14_dn3_spd','pre15_dn3_spd']].std(axis=1)\n",
    "df['pre15_up1_std_spd'] = df[['pre1_up1_spd','pre2_up1_spd','pre3_up1_spd', 'pre4_up1_spd','pre5_up1_spd','pre6_up1_spd','pre7_up1_spd','pre8_up1_spd',\n",
    "                               'pre9_up1_spd','pre10_up1_spd','pre11_up1_spd','pre12_up1_spd','pre13_up1_spd','pre14_up1_spd','pre15_up1_spd']].std(axis=1)\n",
    "df['pre15_up2_std_spd'] = df[['pre1_up2_spd','pre2_up2_spd','pre3_up2_spd', 'pre4_up2_spd','pre5_up2_spd','pre6_up2_spd','pre7_up2_spd','pre8_up2_spd',\n",
    "                               'pre9_up2_spd','pre10_up2_spd','pre11_up2_spd','pre12_up2_spd','pre13_up2_spd','pre14_up2_spd','pre15_up2_spd']].std(axis=1)\n",
    "df['pre15_up3_std_spd'] = df[['pre1_up3_spd','pre2_up3_spd','pre3_up3_spd', 'pre4_up3_spd','pre5_up3_spd','pre6_up3_spd','pre7_up3_spd','pre8_up3_spd',\n",
    "                               'pre9_up3_spd','pre10_up3_spd','pre11_up3_spd','pre12_up3_spd','pre13_up3_spd','pre14_up3_spd','pre15_up3_spd']].std(axis=1)"
   ]
  },
  {
   "cell_type": "code",
   "execution_count": null,
   "metadata": {},
   "outputs": [],
   "source": [
    "#Standard Deviation Speed for the previous 10 - 15 minutes\n",
    "df['pre10_15_std_spd']     = df[['pre11_spd', 'pre12_spd', 'pre13_spd', 'pre14_spd', 'pre15_spd']].std(axis=1)\n",
    "df['pre10_15_dn1_std_spd'] = df[['pre11_dn1_spd','pre12_dn1_spd','pre13_dn1_spd','pre14_dn1_spd','pre15_dn1_spd']].std(axis=1)\n",
    "df['pre10_15_dn2_std_spd'] = df[['pre11_dn2_spd','pre12_dn2_spd','pre13_dn2_spd','pre14_dn2_spd','pre15_dn2_spd']].std(axis=1)\n",
    "df['pre10_15_dn3_std_spd'] = df[['pre11_dn3_spd','pre12_dn3_spd','pre13_dn3_spd','pre14_dn3_spd','pre15_dn3_spd']].std(axis=1)\n",
    "df['pre10_15_up1_std_spd'] = df[['pre11_up1_spd','pre12_up1_spd','pre13_up1_spd','pre14_up1_spd','pre15_up1_spd']].std(axis=1)\n",
    "df['pre10_15_up2_std_spd'] = df[['pre11_up2_spd','pre12_up2_spd','pre13_up2_spd','pre14_up2_spd','pre15_up2_spd']].std(axis=1)\n",
    "df['pre10_15_up3_std_spd'] = df[['pre11_up3_spd','pre12_up3_spd','pre13_up3_spd','pre14_up3_spd','pre15_up3_spd']].std(axis=1)"
   ]
  },
  {
   "cell_type": "code",
   "execution_count": null,
   "metadata": {},
   "outputs": [],
   "source": [
    "#Standard Deviation Speed for the previous 10 minutes\n",
    "df['pre10_std_spd']     = df[['pre1_spd','pre2_spd','pre3_spd', 'pre4_spd', 'pre5_spd','pre6_spd','pre7_spd','pre8_spd','pre9_spd','pre10_spd']].std(axis=1)\n",
    "df['pre10_dn1_std_spd'] = df[['pre1_dn1_spd','pre2_dn1_spd','pre3_dn1_spd', 'pre4_dn1_spd','pre5_dn1_spd','pre6_dn1_spd','pre7_dn1_spd','pre8_dn1_spd',\n",
    "                               'pre9_dn1_spd','pre10_dn1_spd']].std(axis=1)\n",
    "df['pre10_dn2_std_spd'] = df[['pre1_dn2_spd','pre2_dn2_spd','pre3_dn2_spd', 'pre4_dn2_spd','pre5_dn2_spd','pre6_dn2_spd','pre7_dn2_spd','pre8_dn2_spd',\n",
    "                               'pre9_dn2_spd','pre10_dn2_spd']].std(axis=1)\n",
    "df['pre10_dn3_std_spd'] = df[['pre1_dn3_spd','pre2_dn3_spd','pre3_dn3_spd', 'pre4_dn3_spd','pre5_dn3_spd','pre6_dn3_spd','pre7_dn3_spd','pre8_dn3_spd',\n",
    "                               'pre9_dn3_spd','pre10_dn3_spd']].std(axis=1)\n",
    "df['pre10_up1_std_spd'] = df[['pre1_up1_spd','pre2_up1_spd','pre3_up1_spd', 'pre4_up1_spd','pre5_up1_spd','pre6_up1_spd','pre7_up1_spd','pre8_up1_spd',\n",
    "                               'pre9_up1_spd','pre10_up1_spd']].std(axis=1)\n",
    "df['pre10_up2_std_spd'] = df[['pre1_up2_spd','pre2_up2_spd','pre3_up2_spd', 'pre4_up2_spd','pre5_up2_spd','pre6_up2_spd','pre7_up2_spd','pre8_up2_spd',\n",
    "                               'pre9_up2_spd','pre10_up2_spd']].std(axis=1)\n",
    "df['pre10_up3_std_spd'] = df[['pre1_up3_spd','pre2_up3_spd','pre3_up3_spd', 'pre4_up3_spd','pre5_up3_spd','pre6_up3_spd','pre7_up3_spd','pre8_up3_spd',\n",
    "                               'pre9_up3_spd','pre10_up3_spd']].std(axis=1)"
   ]
  },
  {
   "cell_type": "code",
   "execution_count": null,
   "metadata": {},
   "outputs": [],
   "source": [
    "#std Speed for the previous 5 - 10 minutes\n",
    "\n",
    "df['pre5_10_std_spd']     = df[['pre6_spd','pre7_spd','pre8_spd','pre9_spd','pre10_spd']].std(axis=1)\n",
    "df['pre5_10_dn1_std_spd'] = df[['pre6_dn1_spd','pre7_dn1_spd','pre8_dn1_spd','pre9_dn1_spd','pre10_dn1_spd']].std(axis=1)\n",
    "df['pre5_10_dn2_std_spd'] = df[['pre6_dn2_spd','pre7_dn2_spd','pre8_dn2_spd','pre9_dn2_spd','pre10_dn2_spd']].std(axis=1)\n",
    "df['pre5_10_dn3_std_spd'] = df[['pre6_dn3_spd','pre7_dn3_spd','pre8_dn3_spd','pre9_dn3_spd','pre10_dn3_spd']].std(axis=1)\n",
    "df['pre5_10_up1_std_spd'] = df[['pre6_up1_spd','pre7_up1_spd','pre8_up1_spd','pre9_up1_spd','pre10_up1_spd']].std(axis=1)\n",
    "df['pre5_10_up2_std_spd'] = df[['pre6_up2_spd','pre7_up2_spd','pre8_up2_spd','pre9_up2_spd','pre10_up2_spd']].std(axis=1)\n",
    "df['pre5_10_up3_std_spd'] = df[['pre6_up3_spd','pre7_up3_spd','pre8_up3_spd','pre9_up3_spd','pre10_up3_spd']].std(axis=1)"
   ]
  },
  {
   "cell_type": "code",
   "execution_count": null,
   "metadata": {},
   "outputs": [],
   "source": [
    "#std Speed for the previous 5 minutes\n",
    "\n",
    "df['pre5_std_spd']     = df[['pre1_spd','pre2_spd','pre3_spd', 'pre4_spd', 'pre5_spd']].std(axis=1)\n",
    "df['pre5_dn1_std_spd'] = df[['pre1_dn1_spd','pre2_dn1_spd','pre3_dn1_spd', 'pre4_dn1_spd','pre5_dn1_spd']].std(axis=1)\n",
    "df['pre5_dn2_std_spd'] = df[['pre1_dn2_spd','pre2_dn2_spd','pre3_dn2_spd', 'pre4_dn2_spd','pre5_dn2_spd']].std(axis=1)\n",
    "df['pre5_dn3_std_spd'] = df[['pre1_dn3_spd','pre2_dn3_spd','pre3_dn3_spd', 'pre4_dn3_spd','pre5_dn3_spd']].std(axis=1)\n",
    "df['pre5_up1_std_spd'] = df[['pre1_up1_spd','pre2_up1_spd','pre3_up1_spd', 'pre4_up1_spd','pre5_up1_spd']].std(axis=1)\n",
    "df['pre5_up2_std_spd'] = df[['pre1_up2_spd','pre2_up2_spd','pre3_up2_spd', 'pre4_up2_spd','pre5_up2_spd']].std(axis=1)\n",
    "df['pre5_up3_std_spd'] = df[['pre1_up3_spd','pre2_up3_spd','pre3_up3_spd', 'pre4_up3_spd','pre5_up3_spd']].std(axis=1)"
   ]
  },
  {
   "cell_type": "code",
   "execution_count": null,
   "metadata": {},
   "outputs": [],
   "source": [
    "#Coefficient of Variation\n",
    "\n",
    "df['pre15_cv'] = df['pre15_std_spd']/df['pre15_mean_spd'] \n",
    "df['pre15_dn1_cv'] = df['pre15_dn1_std_spd']/df['pre15_dn1_mean_spd']\n",
    "df['pre15_dn2_cv'] = df['pre15_dn2_std_spd']/df['pre15_dn2_mean_spd']\n",
    "df['pre15_dn3_cv'] = df['pre15_dn3_std_spd']/df['pre15_dn3_mean_spd']\n",
    "df['pre15_up1_cv'] = df['pre15_up1_std_spd']/df['pre15_up1_mean_spd']\n",
    "df['pre15_up2_cv'] = df['pre15_up2_std_spd']/df['pre15_up2_mean_spd']\n",
    "df['pre15_up3_cv'] = df['pre15_up3_std_spd']/df['pre15_up3_mean_spd']"
   ]
  },
  {
   "cell_type": "code",
   "execution_count": null,
   "metadata": {},
   "outputs": [],
   "source": [
    "df['pre10_15_cv'] = df['pre10_15_std_spd']/df['pre10_15_mean_spd'] \n",
    "df['pre10_15_dn1_cv'] = df['pre10_15_dn1_std_spd']/df['pre10_15_dn1_mean_spd']\n",
    "df['pre10_15_dn2_cv'] = df['pre10_15_dn2_std_spd']/df['pre10_15_dn2_mean_spd']\n",
    "df['pre10_15_dn3_cv'] = df['pre10_15_dn3_std_spd']/df['pre10_15_dn3_mean_spd']\n",
    "df['pre10_15_up1_cv'] = df['pre10_15_up1_std_spd']/df['pre10_15_up1_mean_spd']\n",
    "df['pre10_15_up2_cv'] = df['pre10_15_up2_std_spd']/df['pre10_15_up2_mean_spd']\n",
    "df['pre10_15_up3_cv'] = df['pre10_15_up3_std_spd']/df['pre10_15_up3_mean_spd']"
   ]
  },
  {
   "cell_type": "code",
   "execution_count": null,
   "metadata": {},
   "outputs": [],
   "source": [
    "df['pre10_cv'] = df['pre10_std_spd']/df['pre10_mean_spd'] \n",
    "df['pre10_dn1_cv'] = df['pre10_dn1_std_spd']/df['pre10_dn1_mean_spd']\n",
    "df['pre10_dn2_cv'] = df['pre10_dn2_std_spd']/df['pre10_dn2_mean_spd']\n",
    "df['pre10_dn3_cv'] = df['pre10_dn3_std_spd']/df['pre10_dn3_mean_spd']\n",
    "df['pre10_up1_cv'] = df['pre10_up1_std_spd']/df['pre10_up1_mean_spd']\n",
    "df['pre10_up2_cv'] = df['pre10_up2_std_spd']/df['pre10_up2_mean_spd']\n",
    "df['pre10_up3_cv'] = df['pre10_up3_std_spd']/df['pre10_up3_mean_spd']"
   ]
  },
  {
   "cell_type": "code",
   "execution_count": null,
   "metadata": {},
   "outputs": [],
   "source": [
    "df['pre5_10_cv'] = df['pre5_10_std_spd']/df['pre5_10_mean_spd'] \n",
    "df['pre5_10_dn1_cv'] = df['pre5_10_dn1_std_spd']/df['pre5_10_dn1_mean_spd']\n",
    "df['pre5_10_dn2_cv'] = df['pre5_10_dn2_std_spd']/df['pre5_10_dn2_mean_spd']\n",
    "df['pre5_10_dn3_cv'] = df['pre5_10_dn3_std_spd']/df['pre5_10_dn3_mean_spd']\n",
    "df['pre5_10_up1_cv'] = df['pre5_10_up1_std_spd']/df['pre5_10_up1_mean_spd']\n",
    "df['pre5_10_up2_cv'] = df['pre5_10_up2_std_spd']/df['pre5_10_up2_mean_spd']\n",
    "df['pre5_10_up3_cv'] = df['pre5_10_up3_std_spd']/df['pre5_10_up3_mean_spd']"
   ]
  },
  {
   "cell_type": "code",
   "execution_count": null,
   "metadata": {},
   "outputs": [],
   "source": [
    "df['pre5_cv'] = df['pre5_std_spd']/df['pre5_mean_spd'] \n",
    "df['pre5_dn1_cv'] = df['pre5_dn1_std_spd']/df['pre5_dn1_mean_spd']\n",
    "df['pre5_dn2_cv'] = df['pre5_dn2_std_spd']/df['pre5_dn2_mean_spd']\n",
    "df['pre5_dn3_cv'] = df['pre5_dn3_std_spd']/df['pre5_dn3_mean_spd']\n",
    "df['pre5_up1_cv'] = df['pre5_up1_std_spd']/df['pre5_up1_mean_spd']\n",
    "df['pre5_up2_cv'] = df['pre5_up2_std_spd']/df['pre5_up2_mean_spd']\n",
    "df['pre5_up3_cv'] = df['pre5_up3_std_spd']/df['pre5_up3_mean_spd']"
   ]
  },
  {
   "cell_type": "code",
   "execution_count": null,
   "metadata": {},
   "outputs": [],
   "source": []
  },
  {
   "cell_type": "code",
   "execution_count": null,
   "metadata": {},
   "outputs": [],
   "source": []
  },
  {
   "cell_type": "code",
   "execution_count": null,
   "metadata": {},
   "outputs": [],
   "source": []
  },
  {
   "cell_type": "code",
   "execution_count": null,
   "metadata": {},
   "outputs": [],
   "source": [
    "df.head()"
   ]
  },
  {
   "cell_type": "code",
   "execution_count": null,
   "metadata": {},
   "outputs": [],
   "source": []
  },
  {
   "cell_type": "code",
   "execution_count": null,
   "metadata": {},
   "outputs": [],
   "source": [
    "import seaborn as sns, numpy as np\n",
    "# sns.set(); np.random.seed(0)\n",
    "x = df['spd'].values\n",
    "ax = sns.distplot(x)"
   ]
  },
  {
   "cell_type": "code",
   "execution_count": null,
   "metadata": {},
   "outputs": [],
   "source": [
    "pre15_mean_spd = df[['pre15_mean_spd']]\n",
    "pre15_mean_spd['Time'] = 'pre 15 min'\n",
    "pre10_15_mean_spd = df[['pre10_15_mean_spd']]\n",
    "pre10_15_mean_spd['Time'] = 'pre 10-15 min'\n",
    "pre10_mean_spd = df[['pre10_mean_spd']]\n",
    "pre10_mean_spd['Time'] = 'pre 10 min'\n",
    "pre5_10_mean_spd = df[['pre5_10_mean_spd']]\n",
    "pre5_10_mean_spd['Time'] = 'pre 5-10 min'\n",
    "pre5_mean_spd  = df[['pre5_mean_spd']]\n",
    "pre5_mean_spd['Time'] = 'pre 5 min'"
   ]
  },
  {
   "cell_type": "code",
   "execution_count": null,
   "metadata": {},
   "outputs": [],
   "source": [
    "pre15_mean_spd.rename(columns = {'pre15_mean_spd':'Mean Speed', 'Time':'time'}, inplace = True)\n",
    "pre10_15_mean_spd.rename(columns = {'pre10_15_mean_spd':'Mean Speed', 'Time':'time'}, inplace = True)\n",
    "pre10_mean_spd.rename(columns = {'pre10_mean_spd':'Mean Speed', 'Time':'time'}, inplace = True)\n",
    "pre5_10_mean_spd.rename(columns = {'pre5_10_mean_spd':'Mean Speed', 'Time':'time'}, inplace = True)\n",
    "pre5_mean_spd.rename(columns = {'pre5_mean_spd':'Mean Speed', 'Time':'time'}, inplace = True)"
   ]
  },
  {
   "cell_type": "code",
   "execution_count": null,
   "metadata": {},
   "outputs": [],
   "source": [
    "pre_mean_spd = pd.concat([pre5_mean_spd, pre5_10_mean_spd, pre10_mean_spd, pre10_15_mean_spd, pre15_mean_spd], axis = 0)"
   ]
  },
  {
   "cell_type": "code",
   "execution_count": null,
   "metadata": {},
   "outputs": [],
   "source": [
    "pre_mean_spd"
   ]
  },
  {
   "cell_type": "code",
   "execution_count": null,
   "metadata": {},
   "outputs": [],
   "source": [
    "ordered_mean_spd = pre_mean_spd.time.value_counts().index\n",
    "g = sns.FacetGrid( pre_mean_spd, row=\"time\", row_order=ordered_mean_spd,\n",
    "                  height=1.7, aspect=4,)\n",
    "g.map(sns.distplot, \"Mean Speed\", hist=False, rug=True);"
   ]
  },
  {
   "cell_type": "code",
   "execution_count": null,
   "metadata": {},
   "outputs": [],
   "source": []
  },
  {
   "cell_type": "code",
   "execution_count": null,
   "metadata": {
    "scrolled": true
   },
   "outputs": [],
   "source": [
    "pre15_std_spd = df[['pre15_std_spd']]\n",
    "pre15_std_spd['Time'] = 'pre 15 min'\n",
    "pre10_std_spd = df[['pre10_std_spd']]\n",
    "pre10_std_spd['Time'] = 'pre 10 min'\n",
    "pre10_15_std_spd = df[['pre10_15_std_spd']]\n",
    "pre10_15_std_spd['Time'] = 'pre 10-15 min'\n",
    "pre5_10_std_spd = df[['pre5_10_std_spd']]\n",
    "pre5_10_std_spd['Time'] = 'pre 5-10 min'\n",
    "pre5_std_spd  = df[['pre5_std_spd']]\n",
    "pre5_std_spd['Time'] = 'pre 5 min'"
   ]
  },
  {
   "cell_type": "code",
   "execution_count": null,
   "metadata": {},
   "outputs": [],
   "source": [
    "pre15_std_spd.rename(columns = {'pre15_std_spd':'Speed std', 'Time':'time'}, inplace = True)\n",
    "pre10_std_spd.rename(columns = {'pre10_std_spd':'Speed std', 'Time':'time'}, inplace = True)\n",
    "pre10_15_std_spd.rename(columns = {'pre10_15_std_spd':'Speed std', 'Time':'time'}, inplace = True)\n",
    "pre5_10_std_spd.rename(columns = {'pre5_10_std_spd':'Speed std', 'Time':'time'}, inplace = True)\n",
    "pre5_std_spd.rename(columns = {'pre5_std_spd':'Speed std', 'Time':'time'}, inplace = True)"
   ]
  },
  {
   "cell_type": "code",
   "execution_count": null,
   "metadata": {},
   "outputs": [],
   "source": [
    "pre_std_spd = pd.concat([pre5_std_spd, pre10_std_spd, pre15_std_spd, pre5_10_std_spd, pre10_15_std_spd], axis = 0)"
   ]
  },
  {
   "cell_type": "code",
   "execution_count": null,
   "metadata": {},
   "outputs": [],
   "source": [
    "ordered_std_spd = pre_std_spd.time.value_counts().index\n",
    "g = sns.FacetGrid( pre_std_spd, row=\"time\", row_order=ordered_std_spd,\n",
    "                  height=1.7, hue = 'time', aspect=4, )\n",
    "g.map(sns.distplot, \"Speed std\", hist=False, rug=True);"
   ]
  },
  {
   "cell_type": "code",
   "execution_count": null,
   "metadata": {},
   "outputs": [],
   "source": []
  },
  {
   "cell_type": "code",
   "execution_count": null,
   "metadata": {},
   "outputs": [],
   "source": [
    "import seaborn as sns\n",
    "\n",
    "# Sort the dataframe by target\n",
    "target_0 = pre_std_spd[pre_std_spd['time'] == 'pre 15 min']\n",
    "target_1 = pre_std_spd[pre_std_spd['time'] == 'pre 10 min']\n",
    "target_2 = pre_std_spd[pre_std_spd['time'] == 'pre 5 min']\n",
    "\n",
    "sns.distplot(target_0[['Speed std']], label='pre 15 min', hist=False, rug=True)\n",
    "sns.distplot(target_1[['Speed std']], label='pre 10 min',hist=False, rug=True)\n",
    "sns.distplot(target_2[['Speed std']], label='pre 5 min',hist=False, rug=True)\n",
    "\n",
    "plt.xlabel('Speed STD')\n",
    "plt.legend()\n",
    "plt.show()\n"
   ]
  },
  {
   "cell_type": "code",
   "execution_count": null,
   "metadata": {},
   "outputs": [],
   "source": []
  },
  {
   "cell_type": "code",
   "execution_count": null,
   "metadata": {},
   "outputs": [],
   "source": [
    "pre15_std_spd\tpre15_dn1_std_spd\tpre15_dn2_std_spd\tpre15_dn3_std_spd\tpre15_up1_std_spd\tpre15_up2_std_spd\tpre15_up3_std_spd\t"
   ]
  },
  {
   "cell_type": "code",
   "execution_count": null,
   "metadata": {},
   "outputs": [],
   "source": []
  },
  {
   "cell_type": "code",
   "execution_count": null,
   "metadata": {},
   "outputs": [],
   "source": [
    "pre15_cv = df[['pre15_cv']]\n",
    "pre15_cv['Time'] = 'pre 15 min'\n",
    "pre10_cv = df[['pre10_cv']]\n",
    "pre10_cv['Time'] = 'pre 10 min'\n",
    "pre10_15_cv = df[['pre10_15_cv']]\n",
    "pre10_15_cv['Time'] = 'pre 10-15 min'\n",
    "pre5_10_cv = df[['pre5_10_cv']]\n",
    "pre5_10_cv['Time'] = 'pre 5-10 min'\n",
    "pre5_cv  = df[['pre5_cv']]\n",
    "pre5_cv['Time'] = 'pre 5 min'"
   ]
  },
  {
   "cell_type": "code",
   "execution_count": null,
   "metadata": {},
   "outputs": [],
   "source": [
    "pre15_cv.rename(columns = {'pre15_cv':'cv', 'Time':'time'}, inplace = True)\n",
    "pre10_cv.rename(columns = {'pre10_cv':'cv', 'Time':'time'}, inplace = True)\n",
    "pre10_15_cv.rename(columns = {'pre10_15_cv':'cv', 'Time':'time'}, inplace = True)\n",
    "pre5_10_cv.rename(columns = {'pre5_10_cv':'cv', 'Time':'time'}, inplace = True)\n",
    "pre5_cv.rename(columns = {'pre5_cv':'cv', 'Time':'time'}, inplace = True)"
   ]
  },
  {
   "cell_type": "code",
   "execution_count": null,
   "metadata": {},
   "outputs": [],
   "source": [
    "pre_cv1 = pd.concat([pre5_cv, pre10_cv, pre15_cv], axis = 0)\n",
    "pre_cv2 = pd.concat([pre5_cv, pre5_10_cv, pre10_15_cv], axis = 0)"
   ]
  },
  {
   "cell_type": "code",
   "execution_count": null,
   "metadata": {},
   "outputs": [],
   "source": [
    "ordered_cv = pre_cv2.time.value_counts().index\n",
    "g = sns.FacetGrid(pre_cv2, row=\"time\", row_order=ordered_cv,\n",
    "                  height=1.7, hue = 'time', aspect=4, )\n",
    "g.map(sns.distplot, \"cv\", hist=False, rug=True);"
   ]
  },
  {
   "cell_type": "code",
   "execution_count": null,
   "metadata": {},
   "outputs": [],
   "source": [
    "ordered_cv = pre_cv1.time.value_counts().index\n",
    "g = sns.FacetGrid( pre_cv1, row=\"time\", row_order=ordered_cv,\n",
    "                  height=1.7, hue = 'time', aspect=4, )\n",
    "g.map(sns.distplot, \"cv\", hist=False, rug=True);"
   ]
  },
  {
   "cell_type": "code",
   "execution_count": null,
   "metadata": {},
   "outputs": [],
   "source": []
  },
  {
   "cell_type": "code",
   "execution_count": null,
   "metadata": {},
   "outputs": [],
   "source": []
  },
  {
   "cell_type": "code",
   "execution_count": null,
   "metadata": {},
   "outputs": [],
   "source": []
  },
  {
   "cell_type": "code",
   "execution_count": null,
   "metadata": {},
   "outputs": [],
   "source": []
  },
  {
   "cell_type": "code",
   "execution_count": null,
   "metadata": {},
   "outputs": [],
   "source": []
  },
  {
   "cell_type": "code",
   "execution_count": null,
   "metadata": {},
   "outputs": [],
   "source": []
  },
  {
   "cell_type": "code",
   "execution_count": null,
   "metadata": {},
   "outputs": [],
   "source": [
    "tips = sns.load_dataset(\"tips\")"
   ]
  },
  {
   "cell_type": "code",
   "execution_count": null,
   "metadata": {},
   "outputs": [],
   "source": [
    "tips"
   ]
  },
  {
   "cell_type": "code",
   "execution_count": null,
   "metadata": {},
   "outputs": [],
   "source": [
    "ordered_days = tips.day.value_counts().index\n",
    "g = sns.FacetGrid(tips, row=\"day\", row_order=ordered_days,\n",
    "                  height=1.7, aspect=4,)\n",
    "g.map(sns.distplot, \"total_bill\", hist=False, rug=True);"
   ]
  },
  {
   "cell_type": "code",
   "execution_count": null,
   "metadata": {},
   "outputs": [],
   "source": []
  },
  {
   "cell_type": "code",
   "execution_count": null,
   "metadata": {},
   "outputs": [],
   "source": [
    "import plotly.express as px\n",
    "df2 = px.data.tips()\n",
    "fig = px.histogram(df2, x=\"total_bill\", y=\"tip\", color=\"sex\",\n",
    "                   marginal=\"box\", # or violin, rug\n",
    "                   hover_data=df2.columns)\n",
    "fig.show()"
   ]
  },
  {
   "cell_type": "code",
   "execution_count": null,
   "metadata": {},
   "outputs": [],
   "source": [
    "df2"
   ]
  },
  {
   "cell_type": "code",
   "execution_count": null,
   "metadata": {},
   "outputs": [],
   "source": []
  },
  {
   "cell_type": "code",
   "execution_count": null,
   "metadata": {},
   "outputs": [],
   "source": []
  },
  {
   "cell_type": "code",
   "execution_count": null,
   "metadata": {},
   "outputs": [],
   "source": []
  },
  {
   "cell_type": "code",
   "execution_count": null,
   "metadata": {},
   "outputs": [],
   "source": []
  },
  {
   "cell_type": "code",
   "execution_count": null,
   "metadata": {},
   "outputs": [],
   "source": []
  },
  {
   "cell_type": "code",
   "execution_count": null,
   "metadata": {},
   "outputs": [],
   "source": []
  },
  {
   "cell_type": "code",
   "execution_count": null,
   "metadata": {},
   "outputs": [],
   "source": []
  },
  {
   "cell_type": "code",
   "execution_count": null,
   "metadata": {},
   "outputs": [],
   "source": []
  },
  {
   "cell_type": "code",
   "execution_count": null,
   "metadata": {},
   "outputs": [],
   "source": []
  },
  {
   "cell_type": "code",
   "execution_count": null,
   "metadata": {},
   "outputs": [],
   "source": []
  },
  {
   "cell_type": "code",
   "execution_count": null,
   "metadata": {},
   "outputs": [],
   "source": []
  },
  {
   "cell_type": "code",
   "execution_count": null,
   "metadata": {},
   "outputs": [],
   "source": []
  },
  {
   "cell_type": "code",
   "execution_count": null,
   "metadata": {},
   "outputs": [],
   "source": []
  },
  {
   "cell_type": "code",
   "execution_count": null,
   "metadata": {},
   "outputs": [],
   "source": []
  },
  {
   "cell_type": "code",
   "execution_count": null,
   "metadata": {},
   "outputs": [],
   "source": []
  },
  {
   "cell_type": "code",
   "execution_count": null,
   "metadata": {},
   "outputs": [],
   "source": []
  },
  {
   "cell_type": "code",
   "execution_count": null,
   "metadata": {},
   "outputs": [],
   "source": []
  },
  {
   "cell_type": "code",
   "execution_count": null,
   "metadata": {},
   "outputs": [],
   "source": []
  },
  {
   "cell_type": "code",
   "execution_count": null,
   "metadata": {},
   "outputs": [],
   "source": []
  },
  {
   "cell_type": "code",
   "execution_count": null,
   "metadata": {},
   "outputs": [],
   "source": []
  },
  {
   "cell_type": "code",
   "execution_count": null,
   "metadata": {},
   "outputs": [],
   "source": []
  },
  {
   "cell_type": "code",
   "execution_count": null,
   "metadata": {},
   "outputs": [],
   "source": []
  },
  {
   "cell_type": "code",
   "execution_count": null,
   "metadata": {},
   "outputs": [],
   "source": []
  },
  {
   "cell_type": "code",
   "execution_count": null,
   "metadata": {},
   "outputs": [],
   "source": []
  },
  {
   "cell_type": "code",
   "execution_count": null,
   "metadata": {},
   "outputs": [],
   "source": [
    "df_3d.dtypes"
   ]
  },
  {
   "cell_type": "code",
   "execution_count": null,
   "metadata": {
    "scrolled": true
   },
   "outputs": [],
   "source": [
    "import plotly.graph_objects as go\n",
    "\n",
    "import pandas as pd\n",
    "\n",
    "# Get Data: this ex will only use part of it (i.e. rows 750-1500)\n",
    "df4 = pd.read_csv('https://raw.githubusercontent.com/plotly/datasets/master/gapminderDataFiveYear.csv')\n",
    "\n",
    "start, end = 750, 1500\n",
    "\n",
    "fig = go.Figure(data=go.Scatter3d(\n",
    "    x=df_3d['Year'][start:end],\n",
    "    y=df_3d['MP'][start:end],\n",
    "    z=df_3d['Count'][start:end],\n",
    "    text=df_3d['Count'][start:end],\n",
    "    mode='markers',\n",
    "    marker=dict(\n",
    "        sizemode='diameter',\n",
    "        sizeref=750,\n",
    "        size=df_3d['Count'][start:end],\n",
    "        color = df_3d['Crash Month'][start:end],\n",
    "        colorscale = 'Viridis',\n",
    "        colorbar_title = 'Crash<br>Month',\n",
    "        line_color='rgb(140, 140, 170)'\n",
    "    )\n",
    "))\n",
    "\n",
    "\n",
    "fig.update_layout(height=800, width=800,\n",
    "                  title='Examining Population and Life Expectancy Over Time')\n",
    "\n",
    "fig.show()"
   ]
  },
  {
   "cell_type": "code",
   "execution_count": null,
   "metadata": {},
   "outputs": [],
   "source": [
    "df3 = df\n",
    "\n",
    "df3.rename(columns ={})\n",
    "df3['Crash Month'] = df3['timestamp'].dt.month.astype(int)\n",
    "df3['Crash Hour'] = df3['timestamp'].dt.hour.astype(int)\n",
    "df3['Year'] =df3['timestamp'].dt.year.astype(int)\n",
    "df3['Crash Spd'] = df3['spd'].astype(float)\n",
    "df3['DN1 Spd'] = df3['dn1_spd'].astype(float)\n",
    "df3['DN2 Spd'] = df3['dn2_spd'].astype(float)\n",
    "df3['DN3 Spd'] = df3['dn3_spd'].astype(float)\n",
    "df3['UP1 Spd'] = df3['up1_spd'].astype(float)\n",
    "df3['UP2 Spd'] = df3['up2_spd'].astype(float)\n",
    "df3['UP3 Spd'] = df3['up3_spd'].astype(float)\n",
    "df3['TMC_LEN'] = df3['tmc_miles'].astype(float)\n",
    "df3['TMCDN1_LEN'] = df3['tmc_dn1_miles'].astype(float)\n",
    "df3['TMCDN2_LEN'] = df3['tmc_dn2_miles'].astype(float)\n",
    "df3['TMCDN3_LEN'] = df3['tmc_dn3_miles'].astype(float)\n",
    "df3['TMCUP1_LEN'] = df3['tmc_up1_miles'].astype(float)\n",
    "df3['TMCUP2_LEN'] = df3['tmc_up2_miles'].astype(float)\n",
    "df3['TMCUP3_LEN'] = df3['tmc_up3_miles'].astype(float)\n",
    "\n",
    "df3 = df3[['Year','MP', 'Crash Month', 'Crash Hour', 'SEVERITY', 'LOC_DIR', 'Crash Spd', 'DN1 Spd',\n",
    "           'DN2 Spd', 'DN3 Spd', 'UP1 Spd', 'UP2 Spd', 'UP3 Spd', 'TMC_LEN', 'TMCDN1_LEN','TMCDN2_LEN',\n",
    "           'TMCDN3_LEN', 'TMCUP1_LEN', 'TMCUP2_LEN', 'TMCUP3_LEN']]\n",
    "\n",
    "#'spd', 'dn1_spd', 'dn2_spd', 'dn3_spd', 'up1_spd', 'up2_spd', 'up3_spd'\n",
    "#'tmc_miles', 'tmc_dn1_miles', 'tmc_dn2_miles', 'tmc_dn3_miles', 'tmc_up1_miles', 'tmc_up2_miles', 'tmc_up3_miles'"
   ]
  },
  {
   "cell_type": "markdown",
   "metadata": {},
   "source": [
    "## Speed differences among consecutive TMCs"
   ]
  },
  {
   "cell_type": "code",
   "execution_count": null,
   "metadata": {},
   "outputs": [],
   "source": [
    "df3.head()"
   ]
  },
  {
   "cell_type": "code",
   "execution_count": null,
   "metadata": {},
   "outputs": [],
   "source": []
  },
  {
   "cell_type": "code",
   "execution_count": null,
   "metadata": {},
   "outputs": [],
   "source": []
  },
  {
   "cell_type": "code",
   "execution_count": null,
   "metadata": {},
   "outputs": [],
   "source": []
  },
  {
   "cell_type": "code",
   "execution_count": null,
   "metadata": {},
   "outputs": [],
   "source": []
  },
  {
   "cell_type": "code",
   "execution_count": null,
   "metadata": {},
   "outputs": [],
   "source": []
  },
  {
   "cell_type": "code",
   "execution_count": null,
   "metadata": {},
   "outputs": [],
   "source": []
  },
  {
   "cell_type": "code",
   "execution_count": null,
   "metadata": {},
   "outputs": [],
   "source": []
  },
  {
   "cell_type": "code",
   "execution_count": null,
   "metadata": {},
   "outputs": [],
   "source": []
  },
  {
   "cell_type": "code",
   "execution_count": null,
   "metadata": {},
   "outputs": [],
   "source": []
  },
  {
   "cell_type": "code",
   "execution_count": null,
   "metadata": {},
   "outputs": [],
   "source": []
  },
  {
   "cell_type": "code",
   "execution_count": null,
   "metadata": {},
   "outputs": [],
   "source": []
  },
  {
   "cell_type": "code",
   "execution_count": null,
   "metadata": {},
   "outputs": [],
   "source": []
  },
  {
   "cell_type": "code",
   "execution_count": null,
   "metadata": {},
   "outputs": [],
   "source": []
  },
  {
   "cell_type": "code",
   "execution_count": null,
   "metadata": {},
   "outputs": [],
   "source": []
  },
  {
   "cell_type": "code",
   "execution_count": null,
   "metadata": {},
   "outputs": [],
   "source": []
  },
  {
   "cell_type": "code",
   "execution_count": null,
   "metadata": {},
   "outputs": [],
   "source": []
  },
  {
   "cell_type": "code",
   "execution_count": null,
   "metadata": {},
   "outputs": [],
   "source": []
  },
  {
   "cell_type": "code",
   "execution_count": null,
   "metadata": {},
   "outputs": [],
   "source": []
  },
  {
   "cell_type": "code",
   "execution_count": null,
   "metadata": {},
   "outputs": [],
   "source": []
  },
  {
   "cell_type": "code",
   "execution_count": null,
   "metadata": {},
   "outputs": [],
   "source": [
    "df4 = pd.read_csv('https://raw.githubusercontent.com/plotly/datasets/master/gapminderDataFiveYear.csv')\n",
    "df4"
   ]
  },
  {
   "cell_type": "code",
   "execution_count": null,
   "metadata": {},
   "outputs": [],
   "source": [
    "import plotly.graph_objects as go\n",
    "\n",
    "import pandas as pd\n",
    "\n",
    "# Get Data: this ex will only use part of it (i.e. rows 750-1500)\n",
    "df = pd.read_csv('https://raw.githubusercontent.com/plotly/datasets/master/gapminderDataFiveYear.csv')\n",
    "\n",
    "start, end = 750, 1500\n",
    "\n",
    "fig = go.Figure(data=go.Scatter3d(\n",
    "    x=df['year'][start:end],\n",
    "    y=df['continent'][start:end],\n",
    "    z=df['pop'][start:end],\n",
    "    text=df['country'][start:end],\n",
    "    mode='markers',\n",
    "    marker=dict(\n",
    "        sizemode='diameter',\n",
    "        sizeref=750,\n",
    "        size=df['gdpPercap'][start:end],\n",
    "        color = df['lifeExp'][start:end],\n",
    "        colorscale = 'Viridis',\n",
    "        colorbar_title = 'Life<br>Expectancy',\n",
    "        line_color='rgb(140, 140, 170)'\n",
    "    )\n",
    "))\n",
    "\n",
    "\n",
    "fig.update_layout(height=800, width=800,\n",
    "                  title='Examining Population and Life Expectancy Over Time')\n",
    "\n",
    "fig.show()"
   ]
  },
  {
   "cell_type": "code",
   "execution_count": null,
   "metadata": {},
   "outputs": [],
   "source": []
  },
  {
   "cell_type": "code",
   "execution_count": null,
   "metadata": {},
   "outputs": [],
   "source": [
    "df_3d.LOC_DIR.value_counts()"
   ]
  },
  {
   "cell_type": "code",
   "execution_count": null,
   "metadata": {},
   "outputs": [],
   "source": []
  },
  {
   "cell_type": "code",
   "execution_count": null,
   "metadata": {},
   "outputs": [],
   "source": []
  },
  {
   "cell_type": "code",
   "execution_count": null,
   "metadata": {
    "scrolled": true
   },
   "outputs": [],
   "source": [
    "df_3d = df\n",
    "df_3d['crash_hour'] = df_3d['timestamp'].dt.time\n",
    "df_3d['year'] =df_3d['timestamp'].dt.year\n",
    "df_3d = df_3d[['MP', 'crash_hour', 'spd', 'year']]"
   ]
  },
  {
   "cell_type": "code",
   "execution_count": null,
   "metadata": {},
   "outputs": [],
   "source": [
    "df_3d_2018 = df_3d[df_3d['year']==2018]\n",
    "df_3d_2018.drop(columns=['year'], inplace = True)"
   ]
  },
  {
   "cell_type": "code",
   "execution_count": null,
   "metadata": {},
   "outputs": [],
   "source": [
    "df_3d_2018 = df_3d_2018.groupby(['MP','crash_hour']).count().reset_index().values.tolist()"
   ]
  },
  {
   "cell_type": "code",
   "execution_count": null,
   "metadata": {},
   "outputs": [],
   "source": [
    "df_3d_2018_ = pd.DataFrame(df_3d_2018,columns=['MP', 'Time', 'Count'])"
   ]
  },
  {
   "cell_type": "code",
   "execution_count": null,
   "metadata": {},
   "outputs": [],
   "source": [
    "import plotly.express as px\n",
    "df_3d = df_3d_2018_\n",
    "fig = px.scatter_3d(df_3d, x='MP', y='Time', z='Count',\n",
    "              color='Count', size='Count', size_max=18,\n",
    "              opacity=0.7)\n",
    "\n",
    "# tight layout\n",
    "fig.update_layout(margin=dict(l=0, r=0, b=0, t=0))"
   ]
  },
  {
   "cell_type": "code",
   "execution_count": null,
   "metadata": {},
   "outputs": [],
   "source": []
  },
  {
   "cell_type": "code",
   "execution_count": null,
   "metadata": {},
   "outputs": [],
   "source": []
  },
  {
   "cell_type": "code",
   "execution_count": null,
   "metadata": {},
   "outputs": [],
   "source": [
    "ranges = [-60, -50, -40, -30, -20, -10, 0, 10, 20, 30, 40]\n",
    "fig, axes = plt.subplots(figsize=(10,4),nrows=1, ncols=2)\n",
    "crash_dn1.groupby(pd.cut(crash_dn1, ranges)).count().plot(ax=axes[0], kind='bar')\n",
    "crash_dn1w.groupby(pd.cut(crash_dn1w, ranges)).count().plot(ax=axes[1], kind='bar')\n",
    "axes[0].set_xlabel('Spd diff crash TMC and 1st DN TMC')\n",
    "axes[1].set_xlabel('Spd diff crash TMC and 1st DN TMC')\n",
    "axes[0].set_title('EB')\n",
    "axes[1].set_title('WB')"
   ]
  },
  {
   "cell_type": "code",
   "execution_count": null,
   "metadata": {},
   "outputs": [],
   "source": []
  },
  {
   "cell_type": "code",
   "execution_count": null,
   "metadata": {},
   "outputs": [],
   "source": []
  },
  {
   "cell_type": "code",
   "execution_count": null,
   "metadata": {},
   "outputs": [],
   "source": []
  },
  {
   "cell_type": "code",
   "execution_count": null,
   "metadata": {},
   "outputs": [],
   "source": []
  },
  {
   "cell_type": "code",
   "execution_count": null,
   "metadata": {},
   "outputs": [],
   "source": []
  },
  {
   "cell_type": "markdown",
   "metadata": {},
   "source": [
    "# Number of crashes per travel direction (EB - WB)"
   ]
  },
  {
   "cell_type": "code",
   "execution_count": null,
   "metadata": {},
   "outputs": [],
   "source": [
    "df_2018 = df[df['timestamp'].dt.year == 2018]\n",
    "\n",
    "crash_EB_mp = df[df['LOC_DIR']=='E']['MP']\n",
    "crash_WB_mp = df[df['LOC_DIR']=='W']['MP']\n",
    "\n",
    "trace_EB = go.Histogram(x=crash_EB_mp, name = 'EB Crash')\n",
    "trace_WB = go.Histogram(x=crash_WB_mp, name = 'WB Crash')\n",
    "\n",
    "fig = tools.make_subplots(rows=2, cols=1)\n",
    "fig.append_trace(trace_EB, 1, 1)\n",
    "fig.append_trace(trace_WB, 2, 1)\n",
    "fig['layout'].update(height=800, width=800, title='Number of Crashes by MP', \n",
    "                     bargap = 0.3, xaxis1=dict(title=\"Mile Post (EB)\"), yaxis1 = dict(title='Number of Crash'), \n",
    "                     xaxis2 = dict(title=\"Mile Post (WB)\"), yaxis2 = dict(title='Number of Crash'), barmode='group')\n",
    "iplot(fig)"
   ]
  },
  {
   "cell_type": "markdown",
   "metadata": {},
   "source": [
    "# Number of Crashes by Time Period (EB - WB)"
   ]
  },
  {
   "cell_type": "code",
   "execution_count": null,
   "metadata": {},
   "outputs": [],
   "source": [
    "crash_EB_tt = df[df['LOC_DIR']=='E']['timestamp'].dt.hour\n",
    "crash_WB_tt = df[df['LOC_DIR']=='W']['timestamp'].dt.hour\n",
    "\n",
    "trace_EB = go.Histogram(x=crash_EB_tt, name = 'EB Crash')\n",
    "trace_WB = go.Histogram(x=crash_WB_tt, name = 'WB Crash')\n",
    "\n",
    "fig = tools.make_subplots(rows=2, cols=1)\n",
    "fig.append_trace(trace_EB, 1, 1)\n",
    "fig.append_trace(trace_WB, 2, 1)\n",
    "fig['layout'].update(height=800, width=800, title='Number of Crashes by Time Period', \n",
    "                     bargap = 0.3, xaxis1=dict(title=\"Hour\"), yaxis1 = dict(title='Number of Crash (EB)'), \n",
    "                     xaxis2 = dict(title=\"Hour\"), yaxis2 = dict(title='Number of Crash (WB)'), barmode='group')\n",
    "iplot(fig)"
   ]
  },
  {
   "cell_type": "code",
   "execution_count": null,
   "metadata": {},
   "outputs": [],
   "source": []
  },
  {
   "cell_type": "code",
   "execution_count": null,
   "metadata": {},
   "outputs": [],
   "source": [
    "from mpl_toolkits.mplot3d import Axes3D\n",
    "import matplotlib.pyplot as plt\n",
    "import numpy as np\n",
    "\n",
    "fig = plt.figure()\n",
    "ax1 = fig.add_subplot(111, projection='3d')\n",
    "\n",
    "xpos = [1,2,3,4,5,6,7,8,9,10]\n",
    "ypos = [2,3,4,5,1,6,2,1,7,2]\n",
    "num_elements = len(xpos)\n",
    "zpos = [0,0,0,0,0,0,0,0,0,0]\n",
    "dx = np.ones(10)\n",
    "dy = np.ones(10)\n",
    "dz = [1,2,3,4,5,6,7,8,9,10]\n",
    "\n",
    "ax1.bar3d(xpos, ypos, zpos, dx, dy, dz, color='#00ceaa')\n",
    "plt.show()"
   ]
  },
  {
   "cell_type": "code",
   "execution_count": null,
   "metadata": {},
   "outputs": [],
   "source": [
    "df1 = pd.DataFrame(np.random.normal(50, 5, size=(300, 4)), columns=list('ABCD'))"
   ]
  },
  {
   "cell_type": "code",
   "execution_count": null,
   "metadata": {},
   "outputs": [],
   "source": [
    "df1"
   ]
  },
  {
   "cell_type": "code",
   "execution_count": null,
   "metadata": {},
   "outputs": [],
   "source": [
    "import plotly.graph_objects as go\n",
    "\n",
    "import pandas as pd\n",
    "\n",
    "# Read data from a csv\n",
    "z_data = pd.read_csv('https://raw.githubusercontent.com/plotly/datasets/master/api_docs/mt_bruno_elevation.csv')\n",
    "\n",
    "fig = go.Figure(data=[go.Surface(z=z_data.values)])\n",
    "\n",
    "fig.update_layout(title='Mt Bruno Elevation', autosize=False,\n",
    "                  width=500, height=500,\n",
    "                  margin=dict(l=65, r=50, b=65, t=90))\n",
    "\n",
    "fig.show()"
   ]
  },
  {
   "cell_type": "code",
   "execution_count": null,
   "metadata": {},
   "outputs": [],
   "source": []
  },
  {
   "cell_type": "code",
   "execution_count": null,
   "metadata": {},
   "outputs": [],
   "source": []
  },
  {
   "cell_type": "code",
   "execution_count": null,
   "metadata": {},
   "outputs": [],
   "source": []
  },
  {
   "cell_type": "code",
   "execution_count": null,
   "metadata": {},
   "outputs": [],
   "source": []
  },
  {
   "cell_type": "code",
   "execution_count": null,
   "metadata": {},
   "outputs": [],
   "source": []
  },
  {
   "cell_type": "code",
   "execution_count": null,
   "metadata": {},
   "outputs": [],
   "source": []
  },
  {
   "cell_type": "code",
   "execution_count": null,
   "metadata": {},
   "outputs": [],
   "source": []
  },
  {
   "cell_type": "code",
   "execution_count": null,
   "metadata": {},
   "outputs": [],
   "source": []
  },
  {
   "cell_type": "code",
   "execution_count": null,
   "metadata": {},
   "outputs": [],
   "source": []
  },
  {
   "cell_type": "code",
   "execution_count": null,
   "metadata": {},
   "outputs": [],
   "source": []
  },
  {
   "cell_type": "code",
   "execution_count": null,
   "metadata": {},
   "outputs": [],
   "source": []
  },
  {
   "cell_type": "code",
   "execution_count": null,
   "metadata": {},
   "outputs": [],
   "source": []
  },
  {
   "cell_type": "code",
   "execution_count": null,
   "metadata": {},
   "outputs": [],
   "source": [
    "df[df['LOC_DIR']=='E']['timestamp'].dt.year.value_counts()"
   ]
  },
  {
   "cell_type": "code",
   "execution_count": null,
   "metadata": {},
   "outputs": [],
   "source": [
    "df[df['LOC_DIR']=='W']['timestamp'].dt.year.value_counts()"
   ]
  },
  {
   "cell_type": "markdown",
   "metadata": {},
   "source": [
    "# Crash Speed Distribution"
   ]
  },
  {
   "cell_type": "code",
   "execution_count": null,
   "metadata": {},
   "outputs": [],
   "source": [
    "import seaborn as sns, numpy as np\n",
    "# sns.set(); np.random.seed(0)\n",
    "x = df['spd'].values\n",
    "ax = sns.distplot(x)"
   ]
  },
  {
   "cell_type": "markdown",
   "metadata": {},
   "source": [
    "Crash speed distributions are ranged between 4 mph and 72 mph with two peaks\n",
    "Let's divide speeds into two groups: congested vs. uncongested. To this end, up and downstream links will be reviewed."
   ]
  },
  {
   "cell_type": "code",
   "execution_count": null,
   "metadata": {},
   "outputs": [],
   "source": [
    "df['SPD_MEAN_DN'] = df[['dn1_spd', 'dn2_spd', 'dn3_spd']].mean(axis=1).round(1)\n",
    "df['SPD_STD_DN']  = df[['dn1_spd', 'dn2_spd', 'dn3_spd']].std(axis=1).round(1)\n",
    "df['SPD_MEAN_UP'] = df[['up1_spd', 'up2_spd', 'up3_spd']].mean(axis=1).round(1)\n",
    "df['SPD_STD_UP']  = df[['up1_spd', 'up2_spd', 'up3_spd']].std(axis=1).round(1)\n",
    "df['SPD_DIFF_DN'] = np.round(df['spd'] - df['SPD_MEAN'])\n",
    "df['SPD_DIFF_UP'] = df['spd'] - df['SPD_MEAN_UP']\n",
    "df['SPD_DIFF_DNUP'] = df['SPD_MEAN'] - df['SPD_MEAN_UP']"
   ]
  },
  {
   "cell_type": "code",
   "execution_count": null,
   "metadata": {},
   "outputs": [],
   "source": [
    "df.drop(columns = ['SPD_MEAN', 'SPD_STD'], inplace = True)"
   ]
  },
  {
   "cell_type": "code",
   "execution_count": null,
   "metadata": {},
   "outputs": [],
   "source": [
    "df['SPD_STD'].max()"
   ]
  },
  {
   "cell_type": "code",
   "execution_count": null,
   "metadata": {},
   "outputs": [],
   "source": [
    "df['SPD_STD'].min()"
   ]
  },
  {
   "cell_type": "code",
   "execution_count": null,
   "metadata": {},
   "outputs": [],
   "source": [
    "t = df['SPD_STD'].values\n",
    "ax = sns.distplot(t)"
   ]
  },
  {
   "cell_type": "code",
   "execution_count": null,
   "metadata": {},
   "outputs": [],
   "source": [
    "df[df['spd'] <= 35]"
   ]
  },
  {
   "cell_type": "markdown",
   "metadata": {},
   "source": [
    "Let's review the directional speed changes between the TMC where crashes occurred and upstream or downstream TMCs. \n",
    "If crash affected speeds at TMC where crash occurred, the first three figures would have more negative speed differences \n",
    "as speeds at downstream TMCs are higher.  "
   ]
  },
  {
   "cell_type": "markdown",
   "metadata": {},
   "source": [
    "# Speed Differences by TMC (Upstream and Downstream)"
   ]
  },
  {
   "cell_type": "markdown",
   "metadata": {},
   "source": [
    "### 1. speed difference =  (crash TMC - first downstream TMC)"
   ]
  },
  {
   "cell_type": "markdown",
   "metadata": {},
   "source": [
    "#### Eastbound"
   ]
  },
  {
   "cell_type": "code",
   "execution_count": null,
   "metadata": {},
   "outputs": [],
   "source": [
    "#Eastbound Crashes. Note that speed differences were estimated from speed at crash TMC - speed at downstream (or upstream) TMC\n",
    "\n",
    "crash_dn1 = df[df['LOC_DIR']=='E']['dn1_diff']\n",
    "crash_dn2 = df[df['LOC_DIR']=='E']['dn2_diff']\n",
    "crash_dn3 = df[df['LOC_DIR']=='E']['dn3_diff']\n",
    "crash_up1 = df[df['LOC_DIR']=='E']['up1_diff']\n",
    "crash_up2 = df[df['LOC_DIR']=='E']['up2_diff']\n",
    "crash_up3 = df[df['LOC_DIR']=='E']['up3_diff']\n",
    "\n",
    "\n",
    "trace_dn1 = go.Histogram(x=crash_dn1, name = 'Spd diff w/ dn1')\n",
    "trace_dn2 = go.Histogram(x=crash_dn2, name = 'Spd diff w/ dn2')\n",
    "trace_dn3 = go.Histogram(x=crash_dn3, name = 'Spd diff w/ dn3')\n",
    "trace_up1 = go.Histogram(x=crash_up1, name = 'Spd diff w/ up1')\n",
    "trace_up2 = go.Histogram(x=crash_up2, name = 'Spd diff w/ up2')\n",
    "trace_up3 = go.Histogram(x=crash_up3, name = 'Spd diff w/ up3')\n",
    "\n",
    "fig = tools.make_subplots(rows=3, cols=2)\n",
    "fig.append_trace(trace_dn1, 1, 1)\n",
    "fig.append_trace(trace_dn2, 1, 2)\n",
    "fig.append_trace(trace_dn3, 2, 1)\n",
    "fig.append_trace(trace_up1, 2, 2)\n",
    "fig.append_trace(trace_up2, 3, 1)\n",
    "fig.append_trace(trace_up3, 3, 2)\n",
    "\n",
    "fig['layout'].update(title='Speed differences among TMCs (EB)', bargap = 0.3, \n",
    "#                      xaxis1 = dict(title=\"Speed (mph)\"), \n",
    "#                      xaxis2 = dict(title=\"Speed (mph)\"),\n",
    "#                      xaxis3 = dict(title=\"Speed (mph)\"),\n",
    "#                      xaxis4 = dict(title=\"Speed (mph)\"),\n",
    "                     xaxis5 = dict(title=\"Speed (mph)\"),\n",
    "                     xaxis6 = dict(title=\"Speed (mph)\"), barmode='group')\n",
    "iplot(fig)"
   ]
  },
  {
   "cell_type": "markdown",
   "metadata": {},
   "source": [
    "#### Westbound"
   ]
  },
  {
   "cell_type": "code",
   "execution_count": null,
   "metadata": {},
   "outputs": [],
   "source": [
    "#Westbound Crashes\n",
    "crash_dn1w = df[df['LOC_DIR']=='W']['dn1_diff']\n",
    "crash_dn2w = df[df['LOC_DIR']=='W']['dn2_diff']\n",
    "crash_dn3w = df[df['LOC_DIR']=='W']['dn3_diff']\n",
    "crash_up1w = df[df['LOC_DIR']=='W']['up1_diff']\n",
    "crash_up2w = df[df['LOC_DIR']=='W']['up2_diff']\n",
    "crash_up3w = df[df['LOC_DIR']=='W']['up3_diff']\n",
    "\n",
    "\n",
    "trace_dn1w = go.Histogram(x=crash_dn1w, name = 'Spd diff w/ dn1')\n",
    "trace_dn2w = go.Histogram(x=crash_dn2w, name = 'Spd diff w/ dn2')\n",
    "trace_dn3w = go.Histogram(x=crash_dn3w, name = 'Spd diff w/ dn3')\n",
    "trace_up1w = go.Histogram(x=crash_up1w, name = 'Spd diff w/ up1')\n",
    "trace_up2w = go.Histogram(x=crash_up2w, name = 'Spd diff w/ up2')\n",
    "trace_up3w = go.Histogram(x=crash_up3w, name = 'Spd diff w/ up3')\n",
    "\n",
    "fig = tools.make_subplots(rows=3, cols=2)\n",
    "fig.append_trace(trace_dn1w, 1, 1)\n",
    "fig.append_trace(trace_dn2w, 1, 2)\n",
    "fig.append_trace(trace_dn3w, 2, 1)\n",
    "fig.append_trace(trace_up1w, 2, 2)\n",
    "fig.append_trace(trace_up2w, 3, 1)\n",
    "fig.append_trace(trace_up3w, 3, 2)\n",
    "\n",
    "fig['layout'].update(title='Speed differences among TMCs (WB)', bargap = 0.3, \n",
    "#                      xaxis1 = dict(title=\"Speed (mph)\"), \n",
    "#                      xaxis2 = dict(title=\"Speed (mph)\"),\n",
    "#                      xaxis3 = dict(title=\"Speed (mph)\"),\n",
    "#                      xaxis4 = dict(title=\"Speed (mph)\"),\n",
    "                     xaxis5 = dict(title=\"Speed (mph)\"),\n",
    "                     xaxis6 = dict(title=\"Speed (mph)\"), barmode='group')\n",
    "iplot(fig)"
   ]
  },
  {
   "cell_type": "markdown",
   "metadata": {},
   "source": [
    "###  2. Speed distributions by Upstream TMC "
   ]
  },
  {
   "cell_type": "code",
   "execution_count": null,
   "metadata": {},
   "outputs": [],
   "source": [
    "#Speed distributions by TMC\n",
    "spd_bins = np.linspace(0, 70, 15)\n",
    "fig, axes = plt.subplots(figsize=(20,4),nrows=1, ncols=4)\n",
    "df['spd'].groupby(pd.cut(df['up1_spd'], spd_bins)).count().plot(ax = axes[0], kind = 'bar')\n",
    "df['up1_spd'].groupby(pd.cut(df['up1_spd'], spd_bins)).count().plot(ax = axes[1], kind = 'bar')\n",
    "df['up2_spd'].groupby(pd.cut(df['up1_spd'], spd_bins)).count().plot(ax = axes[2], kind = 'bar')\n",
    "df['up3_spd'].groupby(pd.cut(df['up1_spd'], spd_bins)).count().plot(ax = axes[3], kind = 'bar')\n",
    "\n",
    "axes[0].set_xlabel('Spd at TMC where crash occurred')\n",
    "axes[1].set_xlabel('Spd at 1st Up TMC')\n",
    "axes[2].set_xlabel('Spd at 2nd Up TMC')\n",
    "axes[3].set_xlabel('Spd at 3rd Up TMC')\n"
   ]
  },
  {
   "cell_type": "markdown",
   "metadata": {},
   "source": [
    "### 3. Speed differences between crash TMC and first downstream TMC"
   ]
  },
  {
   "cell_type": "code",
   "execution_count": null,
   "metadata": {},
   "outputs": [],
   "source": [
    "ranges = [-60, -50, -40, -30, -20, -10, 0, 10, 20, 30, 40]\n",
    "fig, axes = plt.subplots(figsize=(10,4),nrows=1, ncols=2)\n",
    "crash_dn1.groupby(pd.cut(crash_dn1, ranges)).count().plot(ax=axes[0], kind='bar')\n",
    "crash_dn1w.groupby(pd.cut(crash_dn1w, ranges)).count().plot(ax=axes[1], kind='bar')\n",
    "axes[0].set_xlabel('Spd diff crash TMC and 1st DN TMC')\n",
    "axes[1].set_xlabel('Spd diff crash TMC and 1st DN TMC')\n",
    "axes[0].set_title('EB')\n",
    "axes[1].set_title('WB')"
   ]
  },
  {
   "cell_type": "markdown",
   "metadata": {},
   "source": [
    "### 4. Speed differences between first upstream and downstream TMC"
   ]
  },
  {
   "cell_type": "code",
   "execution_count": null,
   "metadata": {},
   "outputs": [],
   "source": [
    "#speed at upstream TMC1 - speed at downstream TMC1. Speed would be negative if crash affects traffic speed. \n",
    "crash_up1dn1 = df[df['LOC_DIR']=='E']['up1dn1_diff']\n",
    "crash_up1dn1w = df[df['LOC_DIR']=='W']['up1dn1_diff']\n",
    "\n",
    "ranges = [-70, -60, -50, -40, -30, -20, -10, 0, 10, 20, 30, 40, 50, 60]\n",
    "\n",
    "fig, axes = plt.subplots(figsize=(10,4),nrows=1, ncols=2)\n",
    "crash_up1dn1.groupby(pd.cut(crash_up1dn1, ranges)).count().plot(ax=axes[0], kind='bar')\n",
    "crash_up1dn1w.groupby(pd.cut(crash_up1dn1w, ranges)).count().plot(ax=axes[1], kind='bar')\n",
    "axes[0].set_xlabel('Spd diff 1st UP and DN TMC')\n",
    "axes[1].set_xlabel('Spd diff 1st UP and DN TMC')\n",
    "axes[0].set_title('EB')\n",
    "axes[1].set_title('WB')"
   ]
  },
  {
   "cell_type": "markdown",
   "metadata": {},
   "source": [
    "# TMC Speed Difference vs. Weather Condition"
   ]
  },
  {
   "cell_type": "code",
   "execution_count": null,
   "metadata": {},
   "outputs": [],
   "source": [
    "df.WEATHER.value_counts()"
   ]
  },
  {
   "cell_type": "markdown",
   "metadata": {},
   "source": [
    "1: Clear <br/>\n",
    "2: Rain <br/>\n",
    "3: Snow <br/>\n",
    "4: Fog <br/>\n",
    "5-99: Other"
   ]
  },
  {
   "cell_type": "code",
   "execution_count": null,
   "metadata": {},
   "outputs": [],
   "source": [
    "df_w1 = df[df['WEATHER'] == 1]\n",
    "df_w2 = df[df['WEATHER'] == 2]\n",
    "df_w3 = df[df['WEATHER'] == 3]\n",
    "df_w4 = df[df['WEATHER'] == 4]\n",
    "df_w5_ = df[df['WEATHER'].isin([0,5,6,7,8,99])]"
   ]
  },
  {
   "cell_type": "markdown",
   "metadata": {},
   "source": [
    "### 1: Clear"
   ]
  },
  {
   "cell_type": "code",
   "execution_count": null,
   "metadata": {},
   "outputs": [],
   "source": [
    "ranges=[-60, -50, -40, -30, -20, -10, 0, 10, 20, 30, 40]\n",
    "clear1 = df_w1['dn1_diff'].groupby(pd.cut(df_w1['dn1_diff'], ranges)).count()\n",
    "clear2 = df_w1['up1dn1_diff'].groupby(pd.cut(df_w1['up1dn1_diff'], ranges)).count()"
   ]
  },
  {
   "cell_type": "code",
   "execution_count": null,
   "metadata": {},
   "outputs": [],
   "source": [
    "fig, axes = plt.subplots(figsize=(10,4),nrows=1, ncols=2)\n",
    "clear1.plot(ax=axes[0], kind='bar')\n",
    "clear2.plot(ax=axes[1], kind='bar')"
   ]
  },
  {
   "cell_type": "markdown",
   "metadata": {},
   "source": [
    "### 2: Rain"
   ]
  },
  {
   "cell_type": "code",
   "execution_count": null,
   "metadata": {},
   "outputs": [],
   "source": [
    "ranges=[-40, -30, -20, -10, 0, 10, 20, 30, 40]\n",
    "rain1 = df_w2['dn1_diff'].groupby(pd.cut(df_w2['dn1_diff'], ranges)).count()\n",
    "rain2 = df_w2['up1dn1_diff'].groupby(pd.cut(df_w2['up1dn1_diff'], ranges)).count()"
   ]
  },
  {
   "cell_type": "code",
   "execution_count": null,
   "metadata": {},
   "outputs": [],
   "source": [
    "fig, axes = plt.subplots(figsize=(10,4),nrows=1, ncols=2)\n",
    "rain1.plot(ax=axes[0], kind='bar')\n",
    "rain2.plot(ax=axes[1], kind='bar')"
   ]
  },
  {
   "cell_type": "markdown",
   "metadata": {},
   "source": [
    "### 3: Snow"
   ]
  },
  {
   "cell_type": "code",
   "execution_count": null,
   "metadata": {},
   "outputs": [],
   "source": [
    "ranges=[-40, -30, -20, -10, 0, 10, 20, 30, 40]\n",
    "snow1 = df_w3['dn1_diff'].groupby(pd.cut(df_w3['dn1_diff'], ranges)).count()\n",
    "snow2 = df_w3['up1dn1_diff'].groupby(pd.cut(df_w3['up1dn1_diff'], ranges)).count()"
   ]
  },
  {
   "cell_type": "code",
   "execution_count": null,
   "metadata": {},
   "outputs": [],
   "source": [
    "fig, axes = plt.subplots(figsize=(10,4),nrows=1, ncols=2)\n",
    "snow1.plot(ax=axes[0], kind='bar')\n",
    "snow2.plot(ax=axes[1], kind='bar')"
   ]
  },
  {
   "cell_type": "markdown",
   "metadata": {},
   "source": [
    "### 5-99: Other"
   ]
  },
  {
   "cell_type": "code",
   "execution_count": null,
   "metadata": {},
   "outputs": [],
   "source": [
    "ranges=[-30, -20, -10, 0, 10, 20, 30]\n",
    "other1 = df_w5_['dn1_diff'].groupby(pd.cut(df_w5_['dn1_diff'], ranges)).count()\n",
    "other2 = df_w5_['up1dn1_diff'].groupby(pd.cut(df_w5_['up1dn1_diff'], ranges)).count()"
   ]
  },
  {
   "cell_type": "code",
   "execution_count": null,
   "metadata": {},
   "outputs": [],
   "source": [
    "fig, axes = plt.subplots(figsize=(10,4),nrows=1, ncols=2)\n",
    "other1.plot(ax=axes[0], kind='bar')\n",
    "other2.plot(ax=axes[1], kind='bar')"
   ]
  },
  {
   "cell_type": "markdown",
   "metadata": {},
   "source": [
    "# TMC Speed Difference vs. Reported Crash Time (5 min, 10 min, 15 min)"
   ]
  },
  {
   "cell_type": "code",
   "execution_count": null,
   "metadata": {},
   "outputs": [],
   "source": []
  },
  {
   "cell_type": "code",
   "execution_count": null,
   "metadata": {},
   "outputs": [],
   "source": [
    "#speed difference over 5-minutes\n",
    "df['spd_pre5_diff'] = df['spd'] - df['pre5_spd']\n",
    "df['spd_pre5_dn1_diff'] = df['dn1_spd'] - df['pre5_dn1_spd']\n",
    "df['spd_pre5_dn2_diff'] = df['dn2_spd'] - df['pre5_dn2_spd']\n",
    "df['spd_pre5_dn3_diff'] = df['dn3_spd'] - df['pre5_dn3_spd']\n",
    "df['spd_pre5_up1_diff'] = df['up1_spd'] - df['pre5_up1_spd']\n",
    "df['spd_pre5_up2_diff'] = df['up2_spd'] - df['pre5_up2_spd']\n",
    "df['spd_pre5_up3_diff'] = df['up3_spd'] - df['pre5_up3_spd']"
   ]
  },
  {
   "cell_type": "code",
   "execution_count": null,
   "metadata": {},
   "outputs": [],
   "source": [
    "df['spd_pre10_diff'] = df['spd'] - df['pre10_spd']\n",
    "df['spd_pre10_dn1_diff'] = df['dn1_spd'] - df['pre10_dn1_spd']\n",
    "df['spd_pre10_dn2_diff'] = df['dn2_spd'] - df['pre10_dn2_spd']\n",
    "df['spd_pre10_dn3_diff'] = df['dn3_spd'] - df['pre10_dn3_spd']\n",
    "df['spd_pre10_up1_diff'] = df['up1_spd'] - df['pre10_up1_spd']\n",
    "df['spd_pre10_up2_diff'] = df['up2_spd'] - df['pre10_up2_spd']\n",
    "df['spd_pre10_up3_diff'] = df['up3_spd'] - df['pre10_up3_spd']"
   ]
  },
  {
   "cell_type": "code",
   "execution_count": null,
   "metadata": {},
   "outputs": [],
   "source": [
    "df['spd_pre15_diff'] = df['spd'] - df['pre15_spd']\n",
    "df['spd_pre15_dn1_diff'] = df['dn1_spd'] - df['pre15_dn1_spd']\n",
    "df['spd_pre15_dn2_diff'] = df['dn2_spd'] - df['pre15_dn2_spd']\n",
    "df['spd_pre15_dn3_diff'] = df['dn3_spd'] - df['pre15_dn3_spd']\n",
    "df['spd_pre15_up1_diff'] = df['up1_spd'] - df['pre15_up1_spd']\n",
    "df['spd_pre15_up2_diff'] = df['up2_spd'] - df['pre15_up2_spd']\n",
    "df['spd_pre15_up3_diff'] = df['up3_spd'] - df['pre15_up3_spd']"
   ]
  },
  {
   "cell_type": "markdown",
   "metadata": {},
   "source": [
    "## Speed Variation over 5-Minute"
   ]
  },
  {
   "cell_type": "code",
   "execution_count": null,
   "metadata": {},
   "outputs": [],
   "source": [
    "#Eastbound Speed Variation over 5 minutes. \n",
    "#Note that speed differences were estimated from speed at crash TMC - speed at downstream (or upstream) TMC\n",
    "\n",
    "crash_link = df[df['LOC_DIR']=='E']['spd_pre5_diff']\n",
    "crash_dn1= df[df['LOC_DIR']=='E']['spd_pre5_dn1_diff']\n",
    "crash_dn2 = df[df['LOC_DIR']=='E']['spd_pre5_dn2_diff']\n",
    "crash_dn3 = df[df['LOC_DIR']=='E']['spd_pre5_dn3_diff']\n",
    "crash_up1 = df[df['LOC_DIR']=='E']['spd_pre5_up1_diff']\n",
    "crash_up2 = df[df['LOC_DIR']=='E']['spd_pre5_up2_diff']\n",
    "crash_up3 = df[df['LOC_DIR']=='E']['spd_pre5_up3_diff']\n",
    "\n",
    "trace_link = go.Histogram(x=crash_link, name = 'Spd diff')\n",
    "trace_dn1 = go.Histogram(x=crash_dn1, name = 'Spd diff dn1')\n",
    "trace_dn2 = go.Histogram(x=crash_dn2, name = 'Spd diff dn2')\n",
    "trace_dn3 = go.Histogram(x=crash_dn3, name = 'Spd diff dn3')\n",
    "trace_up1 = go.Histogram(x=crash_up1, name = 'Spd diff up1')\n",
    "trace_up2 = go.Histogram(x=crash_up2, name = 'Spd diff up2')\n",
    "trace_up3 = go.Histogram(x=crash_up3, name = 'Spd diff up3')\n",
    "\n",
    "fig = tools.make_subplots(rows=4, cols=2)\n",
    "fig.append_trace(trace_link, 1, 1)\n",
    "fig.append_trace(trace_dn1, 2, 1)\n",
    "fig.append_trace(trace_dn2, 2, 2)\n",
    "fig.append_trace(trace_dn3, 3, 1)\n",
    "fig.append_trace(trace_up1, 3, 2)\n",
    "fig.append_trace(trace_up2, 4, 1)\n",
    "fig.append_trace(trace_up3, 4, 2)\n",
    "\n",
    "fig['layout'].update(title='Speed Variation over 5-minute (EB)', bargap = 0.3, \n",
    "#                      xaxis1 = dict(title=\"Speed (mph)\"), \n",
    "#                      xaxis2 = dict(title=\"Speed (mph)\"),\n",
    "#                      xaxis3 = dict(title=\"Speed (mph)\"),\n",
    "#                      xaxis4 = dict(title=\"Speed (mph)\"),\n",
    "                     xaxis7 = dict(title=\"Speed (mph)\"),\n",
    "                     xaxis8 = dict(title=\"Speed (mph)\"), barmode='group')\n",
    "iplot(fig)"
   ]
  },
  {
   "cell_type": "code",
   "execution_count": null,
   "metadata": {},
   "outputs": [],
   "source": [
    "#Westbound Speed Variation over 5 minutes. \n",
    "#Note that speed differences were estimated from speed at crash TMC - speed at downstream (or upstream) TMC\n",
    "\n",
    "crash_link = df[df['LOC_DIR']=='W']['spd_pre5_diff']\n",
    "crash_dn1= df[df['LOC_DIR']=='W']['spd_pre5_dn1_diff']\n",
    "crash_dn2 = df[df['LOC_DIR']=='W']['spd_pre5_dn2_diff']\n",
    "crash_dn3 = df[df['LOC_DIR']=='W']['spd_pre5_dn3_diff']\n",
    "crash_up1 = df[df['LOC_DIR']=='W']['spd_pre5_up1_diff']\n",
    "crash_up2 = df[df['LOC_DIR']=='W']['spd_pre5_up2_diff']\n",
    "crash_up3 = df[df['LOC_DIR']=='W']['spd_pre5_up3_diff']\n",
    "\n",
    "trace_link = go.Histogram(x=crash_link, name = 'Spd diff')\n",
    "trace_dn1 = go.Histogram(x=crash_dn1, name = 'Spd diff dn1')\n",
    "trace_dn2 = go.Histogram(x=crash_dn2, name = 'Spd diff dn2')\n",
    "trace_dn3 = go.Histogram(x=crash_dn3, name = 'Spd diff dn3')\n",
    "trace_up1 = go.Histogram(x=crash_up1, name = 'Spd diff up1')\n",
    "trace_up2 = go.Histogram(x=crash_up2, name = 'Spd diff up2')\n",
    "trace_up3 = go.Histogram(x=crash_up3, name = 'Spd diff up3')\n",
    "\n",
    "fig = tools.make_subplots(rows=4, cols=2)\n",
    "fig.append_trace(trace_link, 1, 1)\n",
    "fig.append_trace(trace_dn1, 2, 1)\n",
    "fig.append_trace(trace_dn2, 2, 2)\n",
    "fig.append_trace(trace_dn3, 3, 1)\n",
    "fig.append_trace(trace_up1, 3, 2)\n",
    "fig.append_trace(trace_up2, 4, 1)\n",
    "fig.append_trace(trace_up3, 4, 2)\n",
    "\n",
    "fig['layout'].update(title='Speed Variation over 5-minute (WB)', bargap = 0.3, \n",
    "#                      xaxis1 = dict(title=\"Speed (mph)\"), \n",
    "#                      xaxis2 = dict(title=\"Speed (mph)\"),\n",
    "#                      xaxis3 = dict(title=\"Speed (mph)\"),\n",
    "#                      xaxis4 = dict(title=\"Speed (mph)\"),\n",
    "                     xaxis7 = dict(title=\"Speed (mph)\"),\n",
    "                     xaxis8 = dict(title=\"Speed (mph)\"), barmode='group')\n",
    "iplot(fig)"
   ]
  },
  {
   "cell_type": "markdown",
   "metadata": {},
   "source": [
    "## TMC Speed Variation over 10-Minute"
   ]
  },
  {
   "cell_type": "markdown",
   "metadata": {},
   "source": [
    "### Eastbound"
   ]
  },
  {
   "cell_type": "code",
   "execution_count": null,
   "metadata": {},
   "outputs": [],
   "source": [
    "#Eastbound Speed Variation over 10 minutes. \n",
    "#Note that speed differences were estimated from speed at crash TMC - speed at downstream (or upstream) TMC\n",
    "\n",
    "crash_link = df[df['LOC_DIR']=='E']['spd_pre10_diff']\n",
    "crash_dn1= df[df['LOC_DIR']=='E']['spd_pre10_dn1_diff']\n",
    "crash_dn2 = df[df['LOC_DIR']=='E']['spd_pre10_dn2_diff']\n",
    "crash_dn3 = df[df['LOC_DIR']=='E']['spd_pre10_dn3_diff']\n",
    "crash_up1 = df[df['LOC_DIR']=='E']['spd_pre10_up1_diff']\n",
    "crash_up2 = df[df['LOC_DIR']=='E']['spd_pre10_up2_diff']\n",
    "crash_up3 = df[df['LOC_DIR']=='E']['spd_pre10_up3_diff']\n",
    "\n",
    "trace_link = go.Histogram(x=crash_link, name = 'Spd diff')\n",
    "trace_dn1 = go.Histogram(x=crash_dn1, name = 'Spd diff dn1')\n",
    "trace_dn2 = go.Histogram(x=crash_dn2, name = 'Spd diff dn2')\n",
    "trace_dn3 = go.Histogram(x=crash_dn3, name = 'Spd diff dn3')\n",
    "trace_up1 = go.Histogram(x=crash_up1, name = 'Spd diff up1')\n",
    "trace_up2 = go.Histogram(x=crash_up2, name = 'Spd diff up2')\n",
    "trace_up3 = go.Histogram(x=crash_up3, name = 'Spd diff up3')\n",
    "\n",
    "fig = tools.make_subplots(rows=4, cols=2)\n",
    "fig.append_trace(trace_link, 1, 1)\n",
    "fig.append_trace(trace_dn1, 2, 1)\n",
    "fig.append_trace(trace_dn2, 2, 2)\n",
    "fig.append_trace(trace_dn3, 3, 1)\n",
    "fig.append_trace(trace_up1, 3, 2)\n",
    "fig.append_trace(trace_up2, 4, 1)\n",
    "fig.append_trace(trace_up3, 4, 2)\n",
    "\n",
    "fig['layout'].update(title='Speed Variation over 10-minute (EB)', bargap = 0.3, \n",
    "#                      xaxis1 = dict(title=\"Speed (mph)\"), \n",
    "#                      xaxis2 = dict(title=\"Speed (mph)\"),\n",
    "#                      xaxis3 = dict(title=\"Speed (mph)\"),\n",
    "#                      xaxis4 = dict(title=\"Speed (mph)\"),\n",
    "                     xaxis5 = dict(title=\"Speed (mph)\"),\n",
    "                     xaxis6 = dict(title=\"Speed (mph)\"), barmode='group')\n",
    "iplot(fig)"
   ]
  },
  {
   "cell_type": "markdown",
   "metadata": {},
   "source": [
    "### Westbound"
   ]
  },
  {
   "cell_type": "code",
   "execution_count": null,
   "metadata": {},
   "outputs": [],
   "source": [
    "#Westbound Speed Variation over 10 minutes. \n",
    "#Note that speed differences were estimated from speed at crash TMC - speed at downstream (or upstream) TMC\n",
    "\n",
    "crash_link = df[df['LOC_DIR']=='W']['spd_pre10_diff']\n",
    "crash_dn1= df[df['LOC_DIR']=='W']['spd_pre10_dn1_diff']\n",
    "crash_dn2 = df[df['LOC_DIR']=='W']['spd_pre10_dn2_diff']\n",
    "crash_dn3 = df[df['LOC_DIR']=='W']['spd_pre10_dn3_diff']\n",
    "crash_up1 = df[df['LOC_DIR']=='W']['spd_pre10_up1_diff']\n",
    "crash_up2 = df[df['LOC_DIR']=='W']['spd_pre10_up2_diff']\n",
    "crash_up3 = df[df['LOC_DIR']=='W']['spd_pre10_up3_diff']\n",
    "\n",
    "trace_link = go.Histogram(x=crash_link, name = 'Spd diff')\n",
    "trace_dn1 = go.Histogram(x=crash_dn1, name = 'Spd diff dn1')\n",
    "trace_dn2 = go.Histogram(x=crash_dn2, name = 'Spd diff dn2')\n",
    "trace_dn3 = go.Histogram(x=crash_dn3, name = 'Spd diff dn3')\n",
    "trace_up1 = go.Histogram(x=crash_up1, name = 'Spd diff up1')\n",
    "trace_up2 = go.Histogram(x=crash_up2, name = 'Spd diff up2')\n",
    "trace_up3 = go.Histogram(x=crash_up3, name = 'Spd diff up3')\n",
    "\n",
    "fig = tools.make_subplots(rows=4, cols=2)\n",
    "fig.append_trace(trace_link, 1, 1)\n",
    "fig.append_trace(trace_dn1, 2, 1)\n",
    "fig.append_trace(trace_dn2, 2, 2)\n",
    "fig.append_trace(trace_dn3, 3, 1)\n",
    "fig.append_trace(trace_up1, 3, 2)\n",
    "fig.append_trace(trace_up2, 4, 1)\n",
    "fig.append_trace(trace_up3, 4, 2)\n",
    "\n",
    "fig['layout'].update(title='Speed Variation over 10-minute (WB)', bargap = 0.3, \n",
    "#                      xaxis1 = dict(title=\"Speed (mph)\"), \n",
    "#                      xaxis2 = dict(title=\"Speed (mph)\"),\n",
    "#                      xaxis3 = dict(title=\"Speed (mph)\"),\n",
    "#                      xaxis4 = dict(title=\"Speed (mph)\"),\n",
    "                     xaxis7 = dict(title=\"Speed (mph)\"),\n",
    "                     xaxis8 = dict(title=\"Speed (mph)\"), barmode='group')\n",
    "iplot(fig)"
   ]
  },
  {
   "cell_type": "markdown",
   "metadata": {},
   "source": [
    "## TMC Speed Variation over 15-Minute"
   ]
  },
  {
   "cell_type": "markdown",
   "metadata": {},
   "source": [
    "### Eastbound"
   ]
  },
  {
   "cell_type": "code",
   "execution_count": null,
   "metadata": {},
   "outputs": [],
   "source": [
    "crash_link = df[df['LOC_DIR']=='E']['spd_pre15_diff']\n",
    "crash_dn1= df[df['LOC_DIR']=='E']['spd_pre15_dn1_diff']\n",
    "crash_dn2 = df[df['LOC_DIR']=='E']['spd_pre15_dn2_diff']\n",
    "crash_dn3 = df[df['LOC_DIR']=='E']['spd_pre15_dn3_diff']\n",
    "crash_up1 = df[df['LOC_DIR']=='E']['spd_pre15_up1_diff']\n",
    "crash_up2 = df[df['LOC_DIR']=='E']['spd_pre15_up2_diff']\n",
    "crash_up3 = df[df['LOC_DIR']=='E']['spd_pre15_up3_diff']\n",
    "\n",
    "trace_link = go.Histogram(x=crash_link, name = 'Spd diff')\n",
    "trace_dn1 = go.Histogram(x=crash_dn1, name = 'Spd diff dn1')\n",
    "trace_dn2 = go.Histogram(x=crash_dn2, name = 'Spd diff dn2')\n",
    "trace_dn3 = go.Histogram(x=crash_dn3, name = 'Spd diff dn3')\n",
    "trace_up1 = go.Histogram(x=crash_up1, name = 'Spd diff up1')\n",
    "trace_up2 = go.Histogram(x=crash_up2, name = 'Spd diff up2')\n",
    "trace_up3 = go.Histogram(x=crash_up3, name = 'Spd diff up3')\n",
    "\n",
    "fig = tools.make_subplots(rows=4, cols=2)\n",
    "fig.append_trace(trace_link, 1, 1)\n",
    "fig.append_trace(trace_dn1, 2, 1)\n",
    "fig.append_trace(trace_dn2, 2, 2)\n",
    "fig.append_trace(trace_dn3, 3, 1)\n",
    "fig.append_trace(trace_up1, 3, 2)\n",
    "fig.append_trace(trace_up2, 4, 1)\n",
    "fig.append_trace(trace_up3, 4, 2)\n",
    "\n",
    "fig['layout'].update(title='Speed Variation over 15-minute (EB)', bargap = 0.3, \n",
    "#                      xaxis1 = dict(title=\"Speed (mph)\"), \n",
    "#                      xaxis2 = dict(title=\"Speed (mph)\"),\n",
    "#                      xaxis3 = dict(title=\"Speed (mph)\"),\n",
    "#                      xaxis4 = dict(title=\"Speed (mph)\"),\n",
    "                     xaxis7 = dict(title=\"Speed (mph)\"),\n",
    "                     xaxis8 = dict(title=\"Speed (mph)\"), barmode='group')\n",
    "iplot(fig)"
   ]
  },
  {
   "cell_type": "code",
   "execution_count": null,
   "metadata": {},
   "outputs": [],
   "source": [
    "#Westbound Speed Variation over 15 minutes. \n",
    "#Note that speed differences were estimated from speed at crash TMC - speed at downstream (or upstream) TMC\n",
    "\n",
    "crash_link = df[df['LOC_DIR']=='W']['spd_pre15_diff']\n",
    "crash_dn1= df[df['LOC_DIR']=='W']['spd_pre15_dn1_diff']\n",
    "crash_dn2 = df[df['LOC_DIR']=='W']['spd_pre15_dn2_diff']\n",
    "crash_dn3 = df[df['LOC_DIR']=='W']['spd_pre15_dn3_diff']\n",
    "crash_up1 = df[df['LOC_DIR']=='W']['spd_pre15_up1_diff']\n",
    "crash_up2 = df[df['LOC_DIR']=='W']['spd_pre15_up2_diff']\n",
    "crash_up3 = df[df['LOC_DIR']=='W']['spd_pre15_up3_diff']\n",
    "\n",
    "trace_link = go.Histogram(x=crash_link, name = 'Spd diff')\n",
    "trace_dn1 = go.Histogram(x=crash_dn1, name = 'Spd diff dn1')\n",
    "trace_dn2 = go.Histogram(x=crash_dn2, name = 'Spd diff dn2')\n",
    "trace_dn3 = go.Histogram(x=crash_dn3, name = 'Spd diff dn3')\n",
    "trace_up1 = go.Histogram(x=crash_up1, name = 'Spd diff up1')\n",
    "trace_up2 = go.Histogram(x=crash_up2, name = 'Spd diff up2')\n",
    "trace_up3 = go.Histogram(x=crash_up3, name = 'Spd diff up3')\n",
    "\n",
    "fig = tools.make_subplots(rows=4, cols=2)\n",
    "fig.append_trace(trace_link, 1, 1)\n",
    "fig.append_trace(trace_dn1, 2, 1)\n",
    "fig.append_trace(trace_dn2, 2, 2)\n",
    "fig.append_trace(trace_dn3, 3, 1)\n",
    "fig.append_trace(trace_up1, 3, 2)\n",
    "fig.append_trace(trace_up2, 4, 1)\n",
    "fig.append_trace(trace_up3, 4, 2)\n",
    "\n",
    "fig['layout'].update(title='Speed Variation over 15-minute (WB)', bargap = 0.3, \n",
    "#                      xaxis1 = dict(title=\"Speed (mph)\"), \n",
    "#                      xaxis2 = dict(title=\"Speed (mph)\"),\n",
    "#                      xaxis3 = dict(title=\"Speed (mph)\"),\n",
    "#                      xaxis4 = dict(title=\"Speed (mph)\"),\n",
    "                     xaxis7 = dict(title=\"Speed (mph)\"),\n",
    "                     xaxis8 = dict(title=\"Speed (mph)\"), barmode='group')\n",
    "iplot(fig)"
   ]
  },
  {
   "cell_type": "markdown",
   "metadata": {},
   "source": [
    "## Overll"
   ]
  },
  {
   "cell_type": "markdown",
   "metadata": {},
   "source": [
    "### Eastbound"
   ]
  },
  {
   "cell_type": "code",
   "execution_count": null,
   "metadata": {},
   "outputs": [],
   "source": [
    "crash_link = df[df['LOC_DIR']=='E']['spd_pre5_diff']\n",
    "crash_dn1= df[df['LOC_DIR']=='E']['spd_pre5_dn1_diff']\n",
    "crash_dn2 = df[df['LOC_DIR']=='E']['spd_pre5_dn2_diff']\n",
    "crash_dn3 = df[df['LOC_DIR']=='E']['spd_pre5_dn3_diff']\n",
    "crash_up1 = df[df['LOC_DIR']=='E']['spd_pre5_up1_diff']\n",
    "crash_up2 = df[df['LOC_DIR']=='E']['spd_pre5_up2_diff']\n",
    "crash_up3 = df[df['LOC_DIR']=='E']['spd_pre5_up3_diff']\n",
    "\n",
    "trace_link = go.Histogram(x=crash_link, name = 'Spd diff')\n",
    "trace_dn1 = go.Histogram(x=crash_dn1, name = 'Spd diff dn1')\n",
    "trace_dn2 = go.Histogram(x=crash_dn2, name = 'Spd diff dn2')\n",
    "trace_dn3 = go.Histogram(x=crash_dn3, name = 'Spd diff dn3')\n",
    "trace_up1 = go.Histogram(x=crash_up1, name = 'Spd diff up1')\n",
    "trace_up2 = go.Histogram(x=crash_up2, name = 'Spd diff up2')\n",
    "trace_up3 = go.Histogram(x=crash_up3, name = 'Spd diff up3')\n",
    "\n",
    "crash_link1 = df[df['LOC_DIR']=='E']['spd_pre10_diff']\n",
    "crash_dn11= df[df['LOC_DIR']=='E']['spd_pre10_dn1_diff']\n",
    "crash_dn21 = df[df['LOC_DIR']=='E']['spd_pre10_dn2_diff']\n",
    "crash_dn31 = df[df['LOC_DIR']=='E']['spd_pre10_dn3_diff']\n",
    "crash_up11 = df[df['LOC_DIR']=='E']['spd_pre10_up1_diff']\n",
    "crash_up21 = df[df['LOC_DIR']=='E']['spd_pre10_up2_diff']\n",
    "crash_up31 = df[df['LOC_DIR']=='E']['spd_pre10_up3_diff']\n",
    "\n",
    "trace_link1 = go.Histogram(x=crash_link, name = 'Spd diff')\n",
    "trace_dn11 = go.Histogram(x=crash_dn1, name = 'Spd diff dn1')\n",
    "trace_dn21 = go.Histogram(x=crash_dn2, name = 'Spd diff dn2')\n",
    "trace_dn31 = go.Histogram(x=crash_dn3, name = 'Spd diff dn3')\n",
    "trace_up11 = go.Histogram(x=crash_up1, name = 'Spd diff up1')\n",
    "trace_up21 = go.Histogram(x=crash_up2, name = 'Spd diff up2')\n",
    "trace_up31 = go.Histogram(x=crash_up3, name = 'Spd diff up3')\n",
    "\n",
    "crash_link2 = df[df['LOC_DIR']=='E']['spd_pre15_diff']\n",
    "crash_dn12= df[df['LOC_DIR']=='E']['spd_pre15_dn1_diff']\n",
    "crash_dn22 = df[df['LOC_DIR']=='E']['spd_pre15_dn2_diff']\n",
    "crash_dn32 = df[df['LOC_DIR']=='E']['spd_pre15_dn3_diff']\n",
    "crash_up12 = df[df['LOC_DIR']=='E']['spd_pre15_up1_diff']\n",
    "crash_up22 = df[df['LOC_DIR']=='E']['spd_pre15_up2_diff']\n",
    "crash_up32 = df[df['LOC_DIR']=='E']['spd_pre15_up3_diff']\n",
    "\n",
    "trace_link2 = go.Histogram(x=crash_link, name = 'Spd diff')\n",
    "trace_dn12 = go.Histogram(x=crash_dn1, name = 'Spd diff dn1')\n",
    "trace_dn22 = go.Histogram(x=crash_dn2, name = 'Spd diff dn2')\n",
    "trace_dn32 = go.Histogram(x=crash_dn3, name = 'Spd diff dn3')\n",
    "trace_up12 = go.Histogram(x=crash_up1, name = 'Spd diff up1')\n",
    "trace_up22 = go.Histogram(x=crash_up2, name = 'Spd diff up2')\n",
    "trace_up32 = go.Histogram(x=crash_up3, name = 'Spd diff up3')\n",
    "\n",
    "fig = tools.make_subplots(rows=7, cols=3)\n",
    "fig.append_trace(trace_link, 1, 1)\n",
    "fig.append_trace(trace_link1, 1, 2)\n",
    "fig.append_trace(trace_link2, 1, 3)\n",
    "\n",
    "fig.append_trace(trace_dn1, 2, 1)\n",
    "fig.append_trace(trace_dn11, 2, 2)\n",
    "fig.append_trace(trace_dn12, 2, 3)\n",
    "\n",
    "fig.append_trace(trace_dn2, 3, 1)\n",
    "fig.append_trace(trace_dn21, 3, 2)\n",
    "fig.append_trace(trace_dn22, 3, 3)\n",
    "\n",
    "fig.append_trace(trace_dn3, 4, 1)\n",
    "fig.append_trace(trace_dn31, 4, 2)\n",
    "fig.append_trace(trace_dn32, 4, 3)\n",
    "\n",
    "fig.append_trace(trace_up1, 5, 1)\n",
    "fig.append_trace(trace_up11, 5, 2)\n",
    "fig.append_trace(trace_up12, 5, 3)\n",
    "\n",
    "fig.append_trace(trace_up2, 6, 1)\n",
    "fig.append_trace(trace_up21, 6, 2)\n",
    "fig.append_trace(trace_up22, 6, 3)\n",
    "\n",
    "fig.append_trace(trace_up3, 7, 1)\n",
    "fig.append_trace(trace_up31, 7, 2)\n",
    "fig.append_trace(trace_up32, 7, 3)\n",
    "\n",
    "\n",
    "\n",
    "fig['layout'].update(title='Speed Variation over 5, 10, and 15-minute (EB)', bargap = 0.3, \n",
    "#                      xaxis1 = dict(title=\"Speed (mph)\"), \n",
    "#                      xaxis2 = dict(title=\"Speed (mph)\"),\n",
    "#                      xaxis3 = dict(title=\"Speed (mph)\"),\n",
    "#                      xaxis4 = dict(title=\"Speed (mph)\"),\n",
    "                     yaxis1 = dict(title='Crash'),\n",
    "                     yaxis4 = dict(title='DN1'),\n",
    "                     yaxis7 = dict(title='DN2'),\n",
    "                     yaxis10 = dict(title='DN3'),\n",
    "                     yaxis13 = dict(title='UP1'),\n",
    "                     yaxis16 = dict(title='UP2'),\n",
    "                     yaxis19 = dict(title='UP3'),                  \n",
    "                     xaxis19 = dict(title=\"Speed diff (mph) over 5-minute\"),\n",
    "                     xaxis20 = dict(title=\"Speed diff (mph) over 10-minute\"),\n",
    "                     xaxis21 = dict(title=\"Speed diff (mph) over 15-minute\"), barmode='group')\n",
    "iplot(fig)"
   ]
  },
  {
   "cell_type": "markdown",
   "metadata": {},
   "source": [
    "### Westbound"
   ]
  },
  {
   "cell_type": "code",
   "execution_count": null,
   "metadata": {},
   "outputs": [],
   "source": [
    "crash_link = df[df['LOC_DIR']=='W']['spd_pre5_diff']\n",
    "crash_dn1= df[df['LOC_DIR']=='W']['spd_pre5_dn1_diff']\n",
    "crash_dn2 = df[df['LOC_DIR']=='W']['spd_pre5_dn2_diff']\n",
    "crash_dn3 = df[df['LOC_DIR']=='W']['spd_pre5_dn3_diff']\n",
    "crash_up1 = df[df['LOC_DIR']=='W']['spd_pre5_up1_diff']\n",
    "crash_up2 = df[df['LOC_DIR']=='W']['spd_pre5_up2_diff']\n",
    "crash_up3 = df[df['LOC_DIR']=='W']['spd_pre5_up3_diff']\n",
    "\n",
    "trace_link = go.Histogram(x=crash_link, name = 'Spd diff')\n",
    "trace_dn1 = go.Histogram(x=crash_dn1, name = 'Spd diff dn1')\n",
    "trace_dn2 = go.Histogram(x=crash_dn2, name = 'Spd diff dn2')\n",
    "trace_dn3 = go.Histogram(x=crash_dn3, name = 'Spd diff dn3')\n",
    "trace_up1 = go.Histogram(x=crash_up1, name = 'Spd diff up1')\n",
    "trace_up2 = go.Histogram(x=crash_up2, name = 'Spd diff up2')\n",
    "trace_up3 = go.Histogram(x=crash_up3, name = 'Spd diff up3')\n",
    "\n",
    "crash_link1 = df[df['LOC_DIR']=='W']['spd_pre10_diff']\n",
    "crash_dn11= df[df['LOC_DIR']=='W']['spd_pre10_dn1_diff']\n",
    "crash_dn21 = df[df['LOC_DIR']=='W']['spd_pre10_dn2_diff']\n",
    "crash_dn31 = df[df['LOC_DIR']=='W']['spd_pre10_dn3_diff']\n",
    "crash_up11 = df[df['LOC_DIR']=='W']['spd_pre10_up1_diff']\n",
    "crash_up21 = df[df['LOC_DIR']=='W']['spd_pre10_up2_diff']\n",
    "crash_up31 = df[df['LOC_DIR']=='W']['spd_pre10_up3_diff']\n",
    "\n",
    "trace_link1 = go.Histogram(x=crash_link, name = 'Spd diff')\n",
    "trace_dn11 = go.Histogram(x=crash_dn1, name = 'Spd diff dn1')\n",
    "trace_dn21 = go.Histogram(x=crash_dn2, name = 'Spd diff dn2')\n",
    "trace_dn31 = go.Histogram(x=crash_dn3, name = 'Spd diff dn3')\n",
    "trace_up11 = go.Histogram(x=crash_up1, name = 'Spd diff up1')\n",
    "trace_up21 = go.Histogram(x=crash_up2, name = 'Spd diff up2')\n",
    "trace_up31 = go.Histogram(x=crash_up3, name = 'Spd diff up3')\n",
    "\n",
    "crash_link2 = df[df['LOC_DIR']=='W']['spd_pre15_diff']\n",
    "crash_dn12= df[df['LOC_DIR']=='W']['spd_pre15_dn1_diff']\n",
    "crash_dn22 = df[df['LOC_DIR']=='W']['spd_pre15_dn2_diff']\n",
    "crash_dn32 = df[df['LOC_DIR']=='W']['spd_pre15_dn3_diff']\n",
    "crash_up12 = df[df['LOC_DIR']=='W']['spd_pre15_up1_diff']\n",
    "crash_up22 = df[df['LOC_DIR']=='W']['spd_pre15_up2_diff']\n",
    "crash_up32 = df[df['LOC_DIR']=='W']['spd_pre15_up3_diff']\n",
    "\n",
    "trace_link2 = go.Histogram(x=crash_link, name = 'Spd diff')\n",
    "trace_dn12 = go.Histogram(x=crash_dn1, name = 'Spd diff dn1')\n",
    "trace_dn22 = go.Histogram(x=crash_dn2, name = 'Spd diff dn2')\n",
    "trace_dn32 = go.Histogram(x=crash_dn3, name = 'Spd diff dn3')\n",
    "trace_up12 = go.Histogram(x=crash_up1, name = 'Spd diff up1')\n",
    "trace_up22 = go.Histogram(x=crash_up2, name = 'Spd diff up2')\n",
    "trace_up32 = go.Histogram(x=crash_up3, name = 'Spd diff up3')\n",
    "\n",
    "fig = tools.make_subplots(rows=7, cols=3)\n",
    "fig.append_trace(trace_link, 1, 1)\n",
    "fig.append_trace(trace_link1, 1, 2)\n",
    "fig.append_trace(trace_link2, 1, 3)\n",
    "\n",
    "fig.append_trace(trace_dn1, 2, 1)\n",
    "fig.append_trace(trace_dn11, 2, 2)\n",
    "fig.append_trace(trace_dn12, 2, 3)\n",
    "\n",
    "fig.append_trace(trace_dn2, 3, 1)\n",
    "fig.append_trace(trace_dn21, 3, 2)\n",
    "fig.append_trace(trace_dn22, 3, 3)\n",
    "\n",
    "fig.append_trace(trace_dn3, 4, 1)\n",
    "fig.append_trace(trace_dn31, 4, 2)\n",
    "fig.append_trace(trace_dn32, 4, 3)\n",
    "\n",
    "fig.append_trace(trace_up1, 5, 1)\n",
    "fig.append_trace(trace_up11, 5, 2)\n",
    "fig.append_trace(trace_up12, 5, 3)\n",
    "\n",
    "fig.append_trace(trace_up2, 6, 1)\n",
    "fig.append_trace(trace_up21, 6, 2)\n",
    "fig.append_trace(trace_up22, 6, 3)\n",
    "\n",
    "fig.append_trace(trace_up3, 7, 1)\n",
    "fig.append_trace(trace_up31, 7, 2)\n",
    "fig.append_trace(trace_up32, 7, 3)\n",
    "\n",
    "\n",
    "\n",
    "fig['layout'].update(title='Speed Variation over 5, 10, and 15-minute (WB)', bargap = 0.3, \n",
    "#                      xaxis1 = dict(title=\"Speed (mph)\"), \n",
    "#                      xaxis2 = dict(title=\"Speed (mph)\"),\n",
    "#                      xaxis3 = dict(title=\"Speed (mph)\"),\n",
    "#                      xaxis4 = dict(title=\"Speed (mph)\"),\n",
    "                     yaxis1 = dict(title='Crash'),\n",
    "                     yaxis4 = dict(title='DN1'),\n",
    "                     yaxis7 = dict(title='DN2'),\n",
    "                     yaxis10 = dict(title='DN3'),\n",
    "                     yaxis13 = dict(title='UP1'),\n",
    "                     yaxis16 = dict(title='UP2'),\n",
    "                     yaxis19 = dict(title='UP3'),                  \n",
    "                     xaxis19 = dict(title=\"Speed diff (mph) over 5-minute\"),\n",
    "                     xaxis20 = dict(title=\"Speed diff (mph) over 10-minute\"),\n",
    "                     xaxis21 = dict(title=\"Speed diff (mph) over 15-minute\"), barmode='group')\n",
    "iplot(fig)"
   ]
  },
  {
   "cell_type": "markdown",
   "metadata": {},
   "source": [
    "### Build Sub_df"
   ]
  },
  {
   "cell_type": "code",
   "execution_count": null,
   "metadata": {},
   "outputs": [],
   "source": [
    "df_sub = df[['timestamp', 'dn3_spd', 'dn2_spd', 'dn1_spd', 'spd', 'up1_spd', 'up2_spd', 'up3_spd']]\n",
    "df_sub = df_sub.sort_values(by ='timestamp')"
   ]
  },
  {
   "cell_type": "code",
   "execution_count": null,
   "metadata": {},
   "outputs": [],
   "source": [
    "df2018_sub = df_sub[df_sub['timestamp'].dt.year == 2018]\n",
    "df2017_sub = df_sub[df_sub['timestamp'].dt.year == 2017]\n",
    "df2016_sub = df_sub[df_sub['timestamp'].dt.year == 2016]\n",
    "df2015_sub = df_sub[df_sub['timestamp'].dt.year == 2015]\n",
    "df2014_sub = df_sub[df_sub['timestamp'].dt.year == 2014]\n",
    "df2013_sub = df_sub[df_sub['timestamp'].dt.year == 2013]"
   ]
  },
  {
   "cell_type": "code",
   "execution_count": null,
   "metadata": {},
   "outputs": [],
   "source": [
    "#timestamp and spd columns\n",
    "# df2018_sub = df2018[['timestamp', 'dn3_spd', 'dn2_spd', 'dn1_spd', 'spd', 'up1_spd', 'up2_spd', 'up3_spd']]\n",
    "# df2017_sub = df2017[['timestamp', 'dn3_spd', 'dn2_spd', 'dn1_spd', 'spd', 'up1_spd', 'up2_spd', 'up3_spd']]\n",
    "# df2016_sub = df2016[['timestamp', 'dn3_spd', 'dn2_spd', 'dn1_spd', 'spd', 'up1_spd', 'up2_spd', 'up3_spd']]\n",
    "# df2015_sub = df2015[['timestamp', 'dn3_spd', 'dn2_spd', 'dn1_spd', 'spd', 'up1_spd', 'up2_spd', 'up3_spd']]\n",
    "# df2014_sub = df2014[['timestamp', 'dn3_spd', 'dn2_spd', 'dn1_spd', 'spd', 'up1_spd', 'up2_spd', 'up3_spd']]\n",
    "# df2013_sub = df2013[['timestamp', 'dn3_spd', 'dn2_spd', 'dn1_spd', 'spd', 'up1_spd', 'up2_spd', 'up3_spd']]"
   ]
  },
  {
   "cell_type": "code",
   "execution_count": null,
   "metadata": {},
   "outputs": [],
   "source": [
    "df2018_sub = df2018_sub.sort_values(by='timestamp')\n",
    "df2017_sub = df2017_sub.sort_values(by='timestamp')\n",
    "df2016_sub = df2016_sub.sort_values(by='timestamp')\n",
    "df2015_sub = df2015_sub.sort_values(by='timestamp')\n",
    "df2014_sub = df2014_sub.sort_values(by='timestamp')\n",
    "df2013_sub = df2013_sub.sort_values(by='timestamp')"
   ]
  },
  {
   "cell_type": "code",
   "execution_count": null,
   "metadata": {},
   "outputs": [],
   "source": [
    "#pre timestamp and spd columns\n",
    "df_pre5  = df[['pre_5min', 'pre5_dn3_spd', 'pre5_dn2_spd', 'pre5_dn1_spd', 'pre5_spd', \\\n",
    "               'pre5_up1_spd', 'pre5_up2_spd', 'pre5_up3_spd']]\n",
    "df_pre10 = df[['pre_10min', 'pre10_dn3_spd', 'pre10_dn2_spd', 'pre10_dn1_spd', 'pre10_spd', \\\n",
    "               'pre10_up1_spd', 'pre10_up2_spd', 'pre10_up3_spd']]\n",
    "df_pre15 = df[['pre_15min', 'pre15_dn3_spd', 'pre15_dn2_spd', 'pre15_dn1_spd', 'pre15_spd', \\\n",
    "               'pre15_up1_spd', 'pre15_up2_spd', 'pre15_up3_spd']]"
   ]
  },
  {
   "cell_type": "code",
   "execution_count": null,
   "metadata": {},
   "outputs": [],
   "source": [
    "df_pre5.rename(columns ={'pre5_dn3_spd':'DN3', 'pre5_dn2_spd':'DN2', 'pre5_dn1_spd':'DN1',\n",
    "                         'pre5_spd':'CRASH', 'pre5_up1_spd':'UP1', 'pre5_up2_spd':'UP2', \\\n",
    "                         'pre5_up3_spd':'UP3'}, inplace = True)\n",
    "\n",
    "df_pre10.rename(columns ={'pre10_dn3_spd':'DN3', 'pre10_dn2_spd':'DN2', 'pre10_dn1_spd':'DN1',\n",
    "                          'pre10_spd':'CRASH', 'pre10_up1_spd':'UP1', 'pre10_up2_spd':'UP2', \\\n",
    "                          'pre10_up3_spd':'UP3'}, inplace = True)\n",
    "\n",
    "df_pre15.rename(columns ={'pre15_dn3_spd':'DN3', 'pre15_dn2_spd':'DN2', 'pre15_dn1_spd':'DN1',\n",
    "                          'pre15_spd':'CRASH', 'pre15_up1_spd':'UP1', 'pre15_up2_spd':'UP2', \\\n",
    "                          'pre15_up3_spd':'UP3'}, inplace = True)"
   ]
  },
  {
   "cell_type": "markdown",
   "metadata": {},
   "source": [
    "### Build sub df"
   ]
  },
  {
   "cell_type": "code",
   "execution_count": null,
   "metadata": {},
   "outputs": [],
   "source": [
    "#timestamp and spd columns\n",
    "df_sub = df[['timestamp', 'dn3_spd', 'dn2_spd', 'dn1_spd', 'spd', 'up1_spd', 'up2_spd', 'up3_spd']]"
   ]
  },
  {
   "cell_type": "code",
   "execution_count": null,
   "metadata": {},
   "outputs": [],
   "source": [
    "#post timestamp and spd columns\n",
    "df_post5  = df[['post_5min', 'post5_dn3_spd', 'post5_dn2_spd', 'post5_dn1_spd', 'post5_spd', \\\n",
    "                'post5_up1_spd', 'post5_up2_spd', 'post5_up3_spd']]\n",
    "df_post10 = df[['post_10min', 'post10_dn3_spd', 'post10_dn2_spd', 'post10_dn1_spd', 'post10_spd', \\\n",
    "                'post10_up1_spd', 'post10_up2_spd', 'post10_up3_spd']]\n",
    "df_post15 = df[['post_15min', 'post15_dn3_spd', 'post15_dn2_spd', 'post15_dn1_spd', 'post15_spd', \\\n",
    "                'post15_up1_spd', 'post15_up2_spd', 'post15_up3_spd']]"
   ]
  },
  {
   "cell_type": "markdown",
   "metadata": {},
   "source": [
    "### Rename Columns"
   ]
  },
  {
   "cell_type": "code",
   "execution_count": null,
   "metadata": {},
   "outputs": [],
   "source": [
    "df2018_sub.rename(columns ={'dn3_spd':'DN3', 'dn2_spd':'DN2', 'dn1_spd':'DN1',\n",
    "                        'spd':'crash', 'up1_spd':'UP1', 'up2_spd':'UP2', 'up3_spd':'UP3'}, inplace = True)"
   ]
  },
  {
   "cell_type": "code",
   "execution_count": null,
   "metadata": {},
   "outputs": [],
   "source": [
    "df_pre5_2018 = df_pre5[df_pre5['pre_5min'].dt.year == 2018]\n",
    "df_pre10_2018 = df_pre10[df_pre10['pre_10min'].dt.year == 2018]\n",
    "df_pre15_2018 = df_pre15[df_pre15['pre_15min'].dt.year == 2018]"
   ]
  },
  {
   "cell_type": "code",
   "execution_count": null,
   "metadata": {},
   "outputs": [],
   "source": [
    "df2018_sub = df2018_sub.sort_values(by='timestamp')"
   ]
  },
  {
   "cell_type": "code",
   "execution_count": null,
   "metadata": {},
   "outputs": [],
   "source": [
    "df2018_sub_Jan = df2018_sub[df2018_sub['timestamp'].dt.month == 1]\n",
    "df2018_sub_Feb = df2018_sub[df2018_sub['timestamp'].dt.month == 2]\n",
    "df2018_sub_Mar = df2018_sub[df2018_sub['timestamp'].dt.month == 3]\n",
    "df2018_sub_Apr = df2018_sub[df2018_sub['timestamp'].dt.month == 4]\n",
    "df2018_sub_May = df2018_sub[df2018_sub['timestamp'].dt.month == 5]\n",
    "df2018_sub_Jun = df2018_sub[df2018_sub['timestamp'].dt.month == 6]\n",
    "df2018_sub_Jul = df2018_sub[df2018_sub['timestamp'].dt.month == 7] \n",
    "df2018_sub_Aug = df2018_sub[df2018_sub['timestamp'].dt.month == 8]\n",
    "df2018_sub_Sep = df2018_sub[df2018_sub['timestamp'].dt.month == 9]\n",
    "df2018_sub_Oct = df2018_sub[df2018_sub['timestamp'].dt.month == 10]\n",
    "df2018_sub_Nov = df2018_sub[df2018_sub['timestamp'].dt.month == 11]\n",
    "df2018_sub_Dec = df2018_sub[df2018_sub['timestamp'].dt.month == 12]"
   ]
  },
  {
   "cell_type": "code",
   "execution_count": null,
   "metadata": {},
   "outputs": [],
   "source": [
    "#Speed 5-minute before crash\n",
    "df_pre5_2018_Jan = df_pre5_2018[df_pre5_2018['pre_5min'].dt.month == 1]\n",
    "df_pre5_2018_Feb = df_pre5_2018[df_pre5_2018['pre_5min'].dt.month == 2]\n",
    "df_pre5_2018_Mar = df_pre5_2018[df_pre5_2018['pre_5min'].dt.month == 3]\n",
    "df_pre5_2018_Apr = df_pre5_2018[df_pre5_2018['pre_5min'].dt.month == 4]\n",
    "df_pre5_2018_May = df_pre5_2018[df_pre5_2018['pre_5min'].dt.month == 5]\n",
    "df_pre5_2018_Jun = df_pre5_2018[df_pre5_2018['pre_5min'].dt.month == 6]\n",
    "df_pre5_2018_Jul = df_pre5_2018[df_pre5_2018['pre_5min'].dt.month == 7] \n",
    "df_pre5_2018_Aug = df_pre5_2018[df_pre5_2018['pre_5min'].dt.month == 8]\n",
    "df_pre5_2018_Sep = df_pre5_2018[df_pre5_2018['pre_5min'].dt.month == 9]\n",
    "df_pre5_2018_Oct = df_pre5_2018[df_pre5_2018['pre_5min'].dt.month == 10]\n",
    "df_pre5_2018_Nov = df_pre5_2018[df_pre5_2018['pre_5min'].dt.month == 11]\n",
    "df_pre5_2018_Dec = df_pre5_2018[df_pre5_2018['pre_5min'].dt.month == 12]"
   ]
  },
  {
   "cell_type": "code",
   "execution_count": null,
   "metadata": {},
   "outputs": [],
   "source": [
    "#Speed 10-minute before crash\n",
    "df_pre10_2018_Jan = df_pre10_2018[df_pre10_2018['pre_10min'].dt.month == 1]\n",
    "df_pre10_2018_Feb = df_pre10_2018[df_pre10_2018['pre_10min'].dt.month == 2]\n",
    "df_pre10_2018_Mar = df_pre10_2018[df_pre10_2018['pre_10min'].dt.month == 3]\n",
    "df_pre10_2018_Apr = df_pre10_2018[df_pre10_2018['pre_10min'].dt.month == 4]\n",
    "df_pre10_2018_May = df_pre10_2018[df_pre10_2018['pre_10min'].dt.month == 5]\n",
    "df_pre10_2018_Jun = df_pre10_2018[df_pre10_2018['pre_10min'].dt.month == 6]\n",
    "df_pre10_2018_Jul = df_pre10_2018[df_pre10_2018['pre_10min'].dt.month == 7] \n",
    "df_pre10_2018_Aug = df_pre10_2018[df_pre10_2018['pre_10min'].dt.month == 8]\n",
    "df_pre10_2018_Sep = df_pre10_2018[df_pre10_2018['pre_10min'].dt.month == 9]\n",
    "df_pre10_2018_Oct = df_pre10_2018[df_pre10_2018['pre_10min'].dt.month == 10]\n",
    "df_pre10_2018_Nov = df_pre10_2018[df_pre10_2018['pre_10min'].dt.month == 11]\n",
    "df_pre10_2018_Dec = df_pre10_2018[df_pre10_2018['pre_10min'].dt.month == 12]"
   ]
  },
  {
   "cell_type": "code",
   "execution_count": null,
   "metadata": {},
   "outputs": [],
   "source": [
    "#Speed 15-minute before crash\n",
    "df_pre15_2018_Jan = df_pre15_2018[df_pre15_2018['pre_15min'].dt.month == 1]\n",
    "df_pre15_2018_Feb = df_pre15_2018[df_pre15_2018['pre_15min'].dt.month == 2]\n",
    "df_pre15_2018_Mar = df_pre15_2018[df_pre15_2018['pre_15min'].dt.month == 3]\n",
    "df_pre15_2018_Apr = df_pre15_2018[df_pre15_2018['pre_15min'].dt.month == 4]\n",
    "df_pre15_2018_May = df_pre15_2018[df_pre15_2018['pre_15min'].dt.month == 5]\n",
    "df_pre15_2018_Jun = df_pre15_2018[df_pre15_2018['pre_15min'].dt.month == 6]\n",
    "df_pre15_2018_Jul = df_pre15_2018[df_pre15_2018['pre_15min'].dt.month == 7] \n",
    "df_pre15_2018_Aug = df_pre15_2018[df_pre15_2018['pre_15min'].dt.month == 8]\n",
    "df_pre15_2018_Sep = df_pre15_2018[df_pre15_2018['pre_15min'].dt.month == 9]\n",
    "df_pre15_2018_Oct = df_pre15_2018[df_pre15_2018['pre_15min'].dt.month == 10]\n",
    "df_pre15_2018_Nov = df_pre15_2018[df_pre15_2018['pre_15min'].dt.month == 11]\n",
    "df_pre15_2018_Dec = df_pre15_2018[df_pre15_2018['pre_15min'].dt.month == 12]"
   ]
  },
  {
   "cell_type": "code",
   "execution_count": null,
   "metadata": {
    "scrolled": false
   },
   "outputs": [],
   "source": [
    "#2018 January & February Crash Data\n",
    "\n",
    "z1 = df2018_sub_Jan.iloc[:,1:]\n",
    "x1 = df2018_sub_Jan.iloc[:,0]\n",
    "y1 = df2018_sub_Jan.columns[1:]\n",
    "\n",
    "z2 = df2018_sub_Feb.iloc[:,1:]\n",
    "x2 = df2018_sub_Feb.iloc[:,0]\n",
    "y2 = df2018_sub_Feb.columns[1:]\n",
    "\n",
    "trace1 = go.Heatmap(z=z1, x=y1, y=x1, colorscale='Viridis')\n",
    "trace2 = go.Heatmap(z=z2, x=y2, y=x2, colorbar=dict(x=0.43), colorscale='Viridis')\n",
    "\n",
    "fig = tools.make_subplots(rows=1, cols=2, horizontal_spacing = 0.17)\n",
    "\n",
    "fig.append_trace(trace1, 1, 1)\n",
    "fig.append_trace(trace2, 1, 2)\n",
    "\n",
    "fig.update_layout(title='Upstream and Downstream TMC Link Speed - Jan & Feb',\n",
    "    xaxis1 = dict(title_text = 'TMC LINKS', titlefont=dict(size = 20)),\n",
    "    xaxis2 = dict(title_text = 'TMC LINKS', titlefont=dict(size = 20)),\n",
    "    yaxis_nticks=13,\n",
    "    yaxis=dict(title_text=\"DATE\",\n",
    "#         ticktext=[\"Very long label\", \"long label\", \"3\", \"label\"],\n",
    "#         tickvals=[1, 2, 3, 4],\n",
    "#         tickmode=\"array\",\n",
    "        titlefont=dict(size=20))\n",
    "    )\n",
    "\n",
    "fig.show()"
   ]
  },
  {
   "cell_type": "code",
   "execution_count": null,
   "metadata": {},
   "outputs": [],
   "source": [
    "#2018 March & April\n",
    "\n",
    "z1 = df2018_sub_Mar.iloc[:,1:]\n",
    "x1 = df2018_sub_Mar.iloc[:,0]\n",
    "y1 = df2018_sub_Mar.columns[1:]\n",
    "\n",
    "z2 = df2018_sub_Apr.iloc[:,1:]\n",
    "x2 = df2018_sub_Apr.iloc[:,0]\n",
    "y2 = df2018_sub_Apr.columns[1:]\n",
    "\n",
    "trace1 = go.Heatmap(z=z1, x=y1, y=x1, colorscale='Viridis')\n",
    "trace2 = go.Heatmap(z=z2, x=y2, y=x2, colorbar=dict(x=0.43), colorscale='Viridis')\n",
    "\n",
    "fig = tools.make_subplots(rows=1, cols=2, horizontal_spacing = 0.17)\n",
    "\n",
    "fig.append_trace(trace1, 1, 1)\n",
    "fig.append_trace(trace2, 1, 2)\n",
    "\n",
    "fig.update_layout(title='Upstream and Downstream TMC Link Speed - Mar & Apr',\n",
    "    xaxis1 = dict(title_text = 'TMC LINKS', titlefont=dict(size = 20)),\n",
    "    xaxis2 = dict(title_text = 'TMC LINKS', titlefont=dict(size = 20)),\n",
    "    yaxis_nticks=13,\n",
    "    yaxis=dict(title_text=\"DATE\",\n",
    "#         ticktext=[\"Very long label\", \"long label\", \"3\", \"label\"],\n",
    "#         tickvals=[1, 2, 3, 4],\n",
    "#         tickmode=\"array\",\n",
    "        titlefont=dict(size=20))\n",
    "    )\n",
    "\n",
    "fig.show()"
   ]
  },
  {
   "cell_type": "code",
   "execution_count": null,
   "metadata": {},
   "outputs": [],
   "source": [
    "#2018 May & June\n",
    "\n",
    "z1 = df2018_sub_May.iloc[:,1:]\n",
    "x1 = df2018_sub_May.iloc[:,0]\n",
    "y1 = df2018_sub_May.columns[1:]\n",
    "\n",
    "z2 = df2018_sub_Jun.iloc[:,1:]\n",
    "x2 = df2018_sub_Jun.iloc[:,0]\n",
    "y2 = df2018_sub_Jun.columns[1:]\n",
    "\n",
    "trace1 = go.Heatmap(z=z1, x=y1, y=x1, colorscale='Viridis')\n",
    "trace2 = go.Heatmap(z=z2, x=y2, y=x2, colorbar=dict(x=0.43), colorscale='Viridis')\n",
    "\n",
    "fig = tools.make_subplots(rows=1, cols=2, horizontal_spacing = 0.17)\n",
    "\n",
    "fig.append_trace(trace1, 1, 1)\n",
    "fig.append_trace(trace2, 1, 2)\n",
    "\n",
    "fig.update_layout(title='Upstream and Downstream TMC Link Speed - May & Jun',\n",
    "    xaxis1 = dict(title_text = 'TMC LINKS', titlefont=dict(size = 20)),\n",
    "    xaxis2 = dict(title_text = 'TMC LINKS', titlefont=dict(size = 20)),\n",
    "    yaxis_nticks=13,\n",
    "    yaxis=dict(title_text=\"DATE\",\n",
    "#         ticktext=[\"Very long label\", \"long label\", \"3\", \"label\"],\n",
    "#         tickvals=[1, 2, 3, 4],\n",
    "#         tickmode=\"array\",\n",
    "        titlefont=dict(size=20))\n",
    "    )\n",
    "\n",
    "fig.show()"
   ]
  },
  {
   "cell_type": "code",
   "execution_count": null,
   "metadata": {
    "scrolled": false
   },
   "outputs": [],
   "source": [
    "#2018 Jul & August\n",
    "\n",
    "z1 = df2018_sub_Jul.iloc[:,1:]\n",
    "x1 = df2018_sub_Jul.iloc[:,0]\n",
    "y1 = df2018_sub_Jul.columns[1:]\n",
    "\n",
    "z2 = df2018_sub_Aug.iloc[:,1:]\n",
    "x2 = df2018_sub_Aug.iloc[:,0]\n",
    "y2 = df2018_sub_Aug.columns[1:]\n",
    "\n",
    "trace1 = go.Heatmap(z=z1, x=y1, y=x1, colorscale='Viridis')\n",
    "trace2 = go.Heatmap(z=z2, x=y2, y=x2, colorbar=dict(x=0.43), colorscale='Viridis')\n",
    "\n",
    "fig = tools.make_subplots(rows=1, cols=2, horizontal_spacing = 0.17)\n",
    "\n",
    "fig.append_trace(trace1, 1, 1)\n",
    "fig.append_trace(trace2, 1, 2)\n",
    "\n",
    "fig.update_layout(title='Upstream and Downstream TMC Link Speed - Jul & Aug',\n",
    "    xaxis1 = dict(title_text = 'TMC LINKS', titlefont=dict(size = 20)),\n",
    "    xaxis2 = dict(title_text = 'TMC LINKS', titlefont=dict(size = 20)),\n",
    "    yaxis_nticks=13,\n",
    "    yaxis=dict(title_text=\"DATE\",\n",
    "#         ticktext=[\"Very long label\", \"long label\", \"3\", \"label\"],\n",
    "#         tickvals=[1, 2, 3, 4],\n",
    "#         tickmode=\"array\",\n",
    "        titlefont=dict(size=20))\n",
    "    )\n",
    "\n",
    "fig.show()"
   ]
  },
  {
   "cell_type": "code",
   "execution_count": null,
   "metadata": {},
   "outputs": [],
   "source": [
    "#2018 September & October\n",
    "\n",
    "z1 = df2018_sub_Sep.iloc[:,1:]\n",
    "x1 = df2018_sub_Sep.iloc[:,0]\n",
    "y1 = df2018_sub_Sep.columns[1:]\n",
    "\n",
    "z2 = df2018_sub_Oct.iloc[:,1:]\n",
    "x2 = df2018_sub_Oct.iloc[:,0]\n",
    "y2 = df2018_sub_Oct.columns[1:]\n",
    "\n",
    "trace1 = go.Heatmap(z=z1, x=y1, y=x1, colorscale='Viridis')\n",
    "trace2 = go.Heatmap(z=z2, x=y2, y=x2, colorbar=dict(x=0.43), colorscale='Viridis')\n",
    "\n",
    "fig = tools.make_subplots(rows=1, cols=2, horizontal_spacing = 0.17)\n",
    "\n",
    "fig.append_trace(trace1, 1, 1)\n",
    "fig.append_trace(trace2, 1, 2)\n",
    "\n",
    "fig.update_layout(title='Upstream and Downstream TMC Link Speed - Sep & Oct',\n",
    "    xaxis1 = dict(title_text = 'TMC LINKS', titlefont=dict(size = 20)),\n",
    "    xaxis2 = dict(title_text = 'TMC LINKS', titlefont=dict(size = 20)),\n",
    "    yaxis_nticks=13,\n",
    "    yaxis=dict(title_text=\"DATE\",\n",
    "#         ticktext=[\"Very long label\", \"long label\", \"3\", \"label\"],\n",
    "#         tickvals=[1, 2, 3, 4],\n",
    "#         tickmode=\"array\",\n",
    "        titlefont=dict(size=20))\n",
    "    )\n",
    "\n",
    "fig.show()"
   ]
  },
  {
   "cell_type": "code",
   "execution_count": null,
   "metadata": {},
   "outputs": [],
   "source": [
    "#2018 Novtember & Decober\n",
    "\n",
    "z1 = df2018_sub_Nov.iloc[:,1:]\n",
    "x1 = df2018_sub_Nov.iloc[:,0]\n",
    "y1 = df2018_sub_Nov.columns[1:]\n",
    "\n",
    "z2 = df2018_sub_Dec.iloc[:,1:]\n",
    "x2 = df2018_sub_Dec.iloc[:,0]\n",
    "y2 = df2018_sub_Dec.columns[1:]\n",
    "\n",
    "trace1 = go.Heatmap(z=z1, x=y1, y=x1, colorscale='Viridis')\n",
    "trace2 = go.Heatmap(z=z2, x=y2, y=x2, colorbar=dict(x=0.43), colorscale='Viridis')\n",
    "\n",
    "fig = tools.make_subplots(rows=1, cols=2, horizontal_spacing = 0.17)\n",
    "\n",
    "fig.append_trace(trace1, 1, 1)\n",
    "fig.append_trace(trace2, 1, 2)\n",
    "\n",
    "fig.update_layout(title='Upstream and Downstream TMC Link Speed - Nov & Dec',\n",
    "    xaxis1 = dict(title_text = 'TMC LINKS', titlefont=dict(size = 20)),\n",
    "    xaxis2 = dict(title_text = 'TMC LINKS', titlefont=dict(size = 20)),\n",
    "    yaxis_nticks=13,\n",
    "    yaxis=dict(title_text=\"DATE\",\n",
    "#         ticktext=[\"Very long label\", \"long label\", \"3\", \"label\"],\n",
    "#         tickvals=[1, 2, 3, 4],\n",
    "#         tickmode=\"array\",\n",
    "        titlefont=dict(size=20))\n",
    "    )\n",
    "\n",
    "fig.show()"
   ]
  },
  {
   "cell_type": "code",
   "execution_count": null,
   "metadata": {},
   "outputs": [],
   "source": []
  },
  {
   "cell_type": "code",
   "execution_count": null,
   "metadata": {},
   "outputs": [],
   "source": []
  },
  {
   "cell_type": "code",
   "execution_count": null,
   "metadata": {},
   "outputs": [],
   "source": []
  },
  {
   "cell_type": "code",
   "execution_count": null,
   "metadata": {},
   "outputs": [],
   "source": []
  },
  {
   "cell_type": "code",
   "execution_count": null,
   "metadata": {},
   "outputs": [],
   "source": []
  },
  {
   "cell_type": "code",
   "execution_count": null,
   "metadata": {},
   "outputs": [],
   "source": []
  },
  {
   "cell_type": "code",
   "execution_count": null,
   "metadata": {},
   "outputs": [],
   "source": []
  },
  {
   "cell_type": "code",
   "execution_count": null,
   "metadata": {},
   "outputs": [],
   "source": []
  },
  {
   "cell_type": "code",
   "execution_count": null,
   "metadata": {},
   "outputs": [],
   "source": []
  },
  {
   "cell_type": "code",
   "execution_count": null,
   "metadata": {},
   "outputs": [],
   "source": []
  },
  {
   "cell_type": "code",
   "execution_count": null,
   "metadata": {},
   "outputs": [],
   "source": [
    "#2018 January & February Crash Data\n",
    "\n",
    "z1 = df_pre15_2018_Jan.iloc[:,1:]\n",
    "x1 = df_pre15_2018_Jan.iloc[:,0]\n",
    "y1 = df_pre15_2018_Jan.columns[1:]\n",
    "\n",
    "z2 = df_pre15_2018_Feb.iloc[:,1:]\n",
    "x2 = df_pre15_2018_Feb.iloc[:,0]\n",
    "y2 = df_pre15_2018_Feb.columns[1:]\n",
    "\n",
    "trace1 = go.Heatmap(z=z1, x=y1, y=x1, colorscale='Viridis')\n",
    "trace2 = go.Heatmap(z=z2, x=y2, y=x2, colorbar=dict(x=0.43), colorscale='Viridis')\n",
    "\n",
    "fig = tools.make_subplots(rows=1, cols=2, horizontal_spacing = 0.17)\n",
    "\n",
    "fig.append_trace(trace1, 1, 1)\n",
    "fig.append_trace(trace2, 1, 2)\n",
    "\n",
    "fig.update_layout(title='Upstream and Downstream TMC Link Speed',\n",
    "    xaxis1 = dict(title_text = 'TMC LINKS', titlefont=dict(size = 20)),\n",
    "    xaxis2 = dict(title_text = 'TMC LINKS', titlefont=dict(size = 20)),\n",
    "    yaxis_nticks=13,\n",
    "    yaxis=dict(title_text=\"DATE\",\n",
    "#         ticktext=[\"Very long label\", \"long label\", \"3\", \"label\"],\n",
    "#         tickvals=[1, 2, 3, 4],\n",
    "#         tickmode=\"array\",\n",
    "        titlefont=dict(size=20))\n",
    "    )\n",
    "\n",
    "fig.show()"
   ]
  },
  {
   "cell_type": "code",
   "execution_count": null,
   "metadata": {},
   "outputs": [],
   "source": []
  },
  {
   "cell_type": "code",
   "execution_count": null,
   "metadata": {},
   "outputs": [],
   "source": [
    "crash_dn1w = df[df['LOC_DIR']=='W']['dn1_diff']\n",
    "crash_dn2w = df[df['LOC_DIR']=='W']['dn2_diff']\n",
    "crash_dn3w = df[df['LOC_DIR']=='W']['dn3_diff']\n",
    "crash_up1w = df[df['LOC_DIR']=='W']['up1_diff']\n",
    "crash_up2w = df[df['LOC_DIR']=='W']['up2_diff']\n",
    "crash_up3w = df[df['LOC_DIR']=='W']['up3_diff']\n",
    "\n",
    "\n",
    "trace_dn1w = go.Histogram(x=crash_dn1w, name = 'Spd diff w/ dn1')\n",
    "trace_dn2w = go.Histogram(x=crash_dn2w, name = 'Spd diff w/ dn2')\n",
    "trace_dn3w = go.Histogram(x=crash_dn3w, name = 'Spd diff w/ dn3')\n",
    "trace_up1w = go.Histogram(x=crash_up1w, name = 'Spd diff w/ up1')\n",
    "trace_up2w = go.Histogram(x=crash_up2w, name = 'Spd diff w/ up2')\n",
    "trace_up3w = go.Histogram(x=crash_up3w, name = 'Spd diff w/ up3')\n",
    "\n",
    "fig = tools.make_subplots(rows=3, cols=2)\n",
    "fig.append_trace(trace_dn1w, 1, 1)\n",
    "fig.append_trace(trace_dn2w, 1, 2)\n",
    "fig.append_trace(trace_dn3w, 2, 1)\n",
    "fig.append_trace(trace_up1w, 2, 2)\n",
    "fig.append_trace(trace_up2w, 3, 1)\n",
    "fig.append_trace(trace_up3w, 3, 2)\n",
    "\n",
    "fig['layout'].update(title='Speed differences among TMCs (WB)', bargap = 0.3, \n",
    "#                      xaxis1 = dict(title=\"Speed (mph)\"), \n",
    "#                      xaxis2 = dict(title=\"Speed (mph)\"),\n",
    "#                      xaxis3 = dict(title=\"Speed (mph)\"),\n",
    "#                      xaxis4 = dict(title=\"Speed (mph)\"),\n",
    "                     xaxis5 = dict(title=\"Speed (mph)\"),\n",
    "                     xaxis6 = dict(title=\"Speed (mph)\"), barmode='group')\n",
    "iplot(fig)"
   ]
  },
  {
   "cell_type": "markdown",
   "metadata": {},
   "source": [
    "## Post 5 minutes"
   ]
  },
  {
   "cell_type": "code",
   "execution_count": null,
   "metadata": {},
   "outputs": [],
   "source": [
    "df_post5.rename(columns ={'post_5min':'timestamp','post5_dn3_spd':'DN LINK 3', 'post5_dn2_spd':'DN LINK 2', 'post5_dn1_spd':'DN LINK 1',\n",
    "                        'post5_spd':'CRASH LINK', 'post5_up1_spd':'UP LINK 1', 'post5_up2_spd':'UP LINK2', 'post5_up3_spd':'UP LINK 3'}, inplace = True)"
   ]
  },
  {
   "cell_type": "code",
   "execution_count": null,
   "metadata": {},
   "outputs": [],
   "source": [
    "df_post5['timestamp'] = pd.to_datetime(df_post5['timestamp'])"
   ]
  },
  {
   "cell_type": "code",
   "execution_count": null,
   "metadata": {},
   "outputs": [],
   "source": [
    "df_post5_sub2018.head()"
   ]
  },
  {
   "cell_type": "code",
   "execution_count": null,
   "metadata": {},
   "outputs": [],
   "source": [
    "df_post5_sub2018 = df_post5_sub2018.sort_values(by='timestamp')"
   ]
  },
  {
   "cell_type": "code",
   "execution_count": null,
   "metadata": {},
   "outputs": [],
   "source": [
    "df_post5_sub2018 = df_post5[df_post5['timestamp'].dt.year == 2018]"
   ]
  },
  {
   "cell_type": "code",
   "execution_count": null,
   "metadata": {},
   "outputs": [],
   "source": [
    "df_post5_sub2018_Jan = df_post5[df_post5_sub2018_Jan['timestamp'].dt.month == 1]"
   ]
  },
  {
   "cell_type": "code",
   "execution_count": null,
   "metadata": {},
   "outputs": [],
   "source": [
    "date = df_post5_sub2018['timestamp'].astype(str)\n",
    "z = df_post5_sub2018.iloc[:,1:]\n",
    "\n",
    "fig = go.Figure(data=go.Heatmap(\n",
    "        z=z,      \n",
    "        x=df_post5_sub2018.columns[1:],\n",
    "        y=date,    \n",
    "        colorscale='Viridis'))\n",
    "\n",
    "fig.update_layout(\n",
    "    title='Upstream and Downstream TMC Link Speed',\n",
    "    \n",
    "    xaxis = dict(\n",
    "        title_text = 'TMC LINKS',\n",
    "        titlefont=dict(size = 20)\n",
    "    ),\n",
    "    yaxis_nticks=13,\n",
    "    yaxis=dict(\n",
    "        title_text=\"DATE\",\n",
    "#         ticktext=[\"Very long label\", \"long label\", \"3\", \"label\"],\n",
    "#         tickvals=[1, 2, 3, 4],\n",
    "#         tickmode=\"array\",\n",
    "        titlefont=dict(size=20))\n",
    "    \n",
    "    \n",
    "    \n",
    "    )\n",
    "\n",
    "fig.show()"
   ]
  },
  {
   "cell_type": "markdown",
   "metadata": {},
   "source": [
    "## Post 10 minutes"
   ]
  },
  {
   "cell_type": "code",
   "execution_count": null,
   "metadata": {},
   "outputs": [],
   "source": [
    "df_post10 = df[['post_10min', 'post10_dn3_spd', 'post10_dn2_spd', 'post10_dn1_spd', 'post10_spd', \\\n",
    "             'post10_up1_spd', 'post10_up2_spd', 'post10_up3_spd']]"
   ]
  },
  {
   "cell_type": "code",
   "execution_count": null,
   "metadata": {},
   "outputs": [],
   "source": [
    "df_post10.rename(columns ={'post_10min':'timestamp','post5_dn3_spd':'DN LINK 3', 'post5_dn2_spd':'DN LINK 2', 'post5_dn1_spd':'DN LINK 1',\n",
    "                        'post5_spd':'CRASH LINK', 'post5_up1_spd':'UP LINK 1', 'post5_up2_spd':'UP LINK2', 'post5_up3_spd':'UP LINK 3'}, inplace = True)"
   ]
  },
  {
   "cell_type": "code",
   "execution_count": null,
   "metadata": {},
   "outputs": [],
   "source": [
    "df_post10['timestamp'] = pd.to_datetime(df_post10['timestamp'])"
   ]
  },
  {
   "cell_type": "code",
   "execution_count": null,
   "metadata": {},
   "outputs": [],
   "source": [
    "df_post10_sub2018 = df_post10[df_post10['timestamp'].dt.year == 2018]"
   ]
  },
  {
   "cell_type": "code",
   "execution_count": null,
   "metadata": {},
   "outputs": [],
   "source": [
    "df_post10_sub2018 = df_post10_sub2018.sort_values(by='timestamp')"
   ]
  },
  {
   "cell_type": "code",
   "execution_count": null,
   "metadata": {},
   "outputs": [],
   "source": [
    "date = df_post10_sub2018['timestamp'].astype(str)\n",
    "z = df_post10_sub2018.iloc[:,1:]\n",
    "\n",
    "fig = go.Figure(data=go.Heatmap(\n",
    "        z=z,      \n",
    "        x=df_post10_sub2018.columns[1:],\n",
    "        y=date,    \n",
    "        colorscale='Viridis'))\n",
    "\n",
    "fig.update_layout(\n",
    "    title='Upstream and Downstream TMC Link Speed',\n",
    "    \n",
    "    xaxis = dict(\n",
    "        title_text = 'TMC LINKS',\n",
    "        titlefont=dict(size = 20)\n",
    "    ),\n",
    "    yaxis_nticks=13,\n",
    "    yaxis=dict(\n",
    "        title_text=\"DATE\",\n",
    "#         ticktext=[\"Very long label\", \"long label\", \"3\", \"label\"],\n",
    "#         tickvals=[1, 2, 3, 4],\n",
    "#         tickmode=\"array\",\n",
    "        titlefont=dict(size=20))\n",
    "    \n",
    "    \n",
    "    \n",
    "    )\n",
    "\n",
    "fig.show()"
   ]
  },
  {
   "cell_type": "code",
   "execution_count": null,
   "metadata": {},
   "outputs": [],
   "source": []
  },
  {
   "cell_type": "code",
   "execution_count": null,
   "metadata": {},
   "outputs": [],
   "source": []
  },
  {
   "cell_type": "code",
   "execution_count": null,
   "metadata": {},
   "outputs": [],
   "source": []
  },
  {
   "cell_type": "code",
   "execution_count": null,
   "metadata": {},
   "outputs": [],
   "source": []
  },
  {
   "cell_type": "code",
   "execution_count": null,
   "metadata": {},
   "outputs": [],
   "source": []
  },
  {
   "cell_type": "code",
   "execution_count": null,
   "metadata": {},
   "outputs": [],
   "source": []
  },
  {
   "cell_type": "code",
   "execution_count": null,
   "metadata": {},
   "outputs": [],
   "source": [
    "df=pd.DataFrame(np.random.rand(10, 4), columns=['a', 'b', 'c', 'd'])\n",
    "x=[1,2,3,4,5]\n",
    "y=[1,4,9,16,25]\n",
    "\n",
    "fig, axes = plt.subplots(figsize=(8,8),nrows=2, ncols=2)\n",
    "ax1=plt.subplot(2,2,1)\n",
    "plt.plot(x,y)\n",
    "\n",
    "#ax2=plt.subplot(2,2,2)\n",
    "df[\"b\"].plot(ax=axes[0,1], kind='bar', grid=True)\n",
    "df[\"c\"].plot(ax=axes[1,0], kind='bar', grid=True)\n",
    "df[\"d\"].plot(ax=axes[1,1], kind='bar', grid=True)\n",
    "\n",
    "ax1.grid(True)\n",
    "ax1.set_ylabel('Test')\n",
    "ax1.set_xlabel('Test2')\n",
    "\n",
    "#ax2.set_ylabel('Test')"
   ]
  },
  {
   "cell_type": "code",
   "execution_count": null,
   "metadata": {},
   "outputs": [],
   "source": []
  },
  {
   "cell_type": "code",
   "execution_count": null,
   "metadata": {},
   "outputs": [],
   "source": []
  },
  {
   "cell_type": "code",
   "execution_count": null,
   "metadata": {},
   "outputs": [],
   "source": [
    "import plotly.express as px\n",
    "df4= px.data.iris()\n",
    "fig = px.scatter(df4, x=\"sepal_width\", y=\"sepal_length\", color=\"sepal_length\",\n",
    "                 color_continuous_scale=[(0, \"red\"), (0.5, \"orange\"), (1, \"green\")])\n",
    "\n",
    "fig.show()"
   ]
  },
  {
   "cell_type": "code",
   "execution_count": null,
   "metadata": {},
   "outputs": [],
   "source": []
  },
  {
   "cell_type": "code",
   "execution_count": null,
   "metadata": {},
   "outputs": [],
   "source": [
    "import plotly.express as px\n",
    "px.data.iris()"
   ]
  },
  {
   "cell_type": "code",
   "execution_count": null,
   "metadata": {},
   "outputs": [],
   "source": []
  },
  {
   "cell_type": "code",
   "execution_count": null,
   "metadata": {},
   "outputs": [],
   "source": []
  },
  {
   "cell_type": "code",
   "execution_count": null,
   "metadata": {},
   "outputs": [],
   "source": []
  },
  {
   "cell_type": "code",
   "execution_count": null,
   "metadata": {},
   "outputs": [],
   "source": []
  },
  {
   "cell_type": "code",
   "execution_count": null,
   "metadata": {},
   "outputs": [],
   "source": []
  },
  {
   "cell_type": "code",
   "execution_count": null,
   "metadata": {},
   "outputs": [],
   "source": [
    "import plotly.express as px\n",
    "import numpy as np\n",
    "df1 = px.data.gapminder()\n",
    "fig = px.scatter_3d(df1, x='year', y='continent', z='pop', size='gdpPercap', color='lifeExp',\n",
    "                    hover_data=['country'])\n",
    "fig.update_layout(scene_zaxis_type=\"log\")\n",
    "fig.show()"
   ]
  },
  {
   "cell_type": "code",
   "execution_count": null,
   "metadata": {},
   "outputs": [],
   "source": [
    "df1"
   ]
  },
  {
   "cell_type": "code",
   "execution_count": null,
   "metadata": {},
   "outputs": [],
   "source": [
    "import plotly.graph_objects as go\n",
    "\n",
    "import pandas as pd\n",
    "\n",
    "# Get Data: this ex will only use part of it (i.e. rows 750-1500)\n",
    "df2 = pd.read_csv('https://raw.githubusercontent.com/plotly/datasets/master/gapminderDataFiveYear.csv')\n",
    "\n",
    "start, end = 750, 1500\n",
    "\n",
    "fig = go.Figure(data=go.Scatter3d(\n",
    "    x=df2['year'][start:end],\n",
    "    y=df2['continent'][start:end],\n",
    "    z=df2['pop'][start:end],\n",
    "    text=df['country'][start:end],\n",
    "    mode='markers',\n",
    "    marker=dict(\n",
    "        sizemode='diameter',\n",
    "        sizeref=750,\n",
    "        size=df2['gdpPercap'][start:end],\n",
    "        color = df2['lifeExp'][start:end],\n",
    "        colorscale = 'Viridis',\n",
    "        colorbar_title = 'Life<br>Expectancy',\n",
    "        line_color='rgb(140, 140, 170)'\n",
    "    )\n",
    "))\n",
    "\n",
    "\n",
    "fig.update_layout(height=800, width=800,\n",
    "                  title='Examining Population and Life Expectancy Over Time')\n",
    "\n",
    "fig.show()"
   ]
  },
  {
   "cell_type": "code",
   "execution_count": null,
   "metadata": {},
   "outputs": [],
   "source": [
    "import plotly.graph_objects as go\n",
    "import pandas as pd\n",
    "import numpy as np\n",
    "\n",
    "rs = np.random.RandomState()\n",
    "rs.seed(0)\n",
    "\n",
    "def brownian_motion(T = 1, N = 100, mu = 0.1, sigma = 0.01, S0 = 20):\n",
    "    dt = float(T)/N\n",
    "    t = np.linspace(0, T, N)\n",
    "    W = rs.standard_normal(size = N)\n",
    "    W = np.cumsum(W)*np.sqrt(dt) # standard brownian motion\n",
    "    X = (mu-0.5*sigma**2)*t + sigma*W\n",
    "    S = S0*np.exp(X) # geometric brownian motion\n",
    "    return S\n",
    "\n",
    "dates = pd.date_range('2012-01-01', '2013-02-22')\n",
    "T = (dates.max()-dates.min()).days / 365\n",
    "N = dates.size\n",
    "start_price = 100\n",
    "y = brownian_motion(T, N, sigma=0.1, S0=start_price)\n",
    "z = brownian_motion(T, N, sigma=0.1, S0=start_price)\n",
    "\n",
    "fig = go.Figure(data=go.Scatter3d(\n",
    "    x=dates, y=y, z=z,\n",
    "    marker=dict(\n",
    "        size=4,\n",
    "        color=z,\n",
    "        colorscale='Viridis',\n",
    "    ),\n",
    "    line=dict(\n",
    "        color='darkblue',\n",
    "        width=2\n",
    "    )\n",
    "))\n",
    "\n",
    "fig.update_layout(\n",
    "    width=800,\n",
    "    height=700,\n",
    "    autosize=False,\n",
    "    scene=dict(\n",
    "        camera=dict(\n",
    "            up=dict(\n",
    "                x=0,\n",
    "                y=0,\n",
    "                z=1\n",
    "            ),\n",
    "            eye=dict(\n",
    "                x=0,\n",
    "                y=1.0707,\n",
    "                z=1,\n",
    "            )\n",
    "        ),\n",
    "        aspectratio = dict( x=1, y=1, z=0.7 ),\n",
    "        aspectmode = 'manual'\n",
    "    ),\n",
    ")\n",
    "\n",
    "fig.show()"
   ]
  },
  {
   "cell_type": "code",
   "execution_count": null,
   "metadata": {},
   "outputs": [],
   "source": [
    "dd = pd.read_csv('https://raw.githubusercontent.com/plotly/datasets/master/finance-charts-apple.csv')\n"
   ]
  },
  {
   "cell_type": "code",
   "execution_count": null,
   "metadata": {},
   "outputs": [],
   "source": [
    "dd.head()"
   ]
  },
  {
   "cell_type": "code",
   "execution_count": null,
   "metadata": {},
   "outputs": [],
   "source": [
    "dd['Date']"
   ]
  },
  {
   "cell_type": "code",
   "execution_count": null,
   "metadata": {},
   "outputs": [],
   "source": [
    "import plotly.figure_factory as ff\n",
    "import numpy as np\n",
    "\n",
    "# x1 = df_sub['dn3_spd']\n",
    "# x2 = df_sub['dn2_spd']\n",
    "x3 = df_sub['dn1_spd']\n",
    "x4 = df_sub['spd']\n",
    "x5 = df_sub['up1_spd']\n",
    "# x6 = df_sub['up2_spd']\n",
    "# x7 = df_sub['up3_spd']\n",
    "\n",
    "hist_data = [x3, x4, x5]\n",
    "\n",
    "group_labels = ['DN TMC1', 'Crash TMC', 'UP TMC1']\n",
    "\n",
    "# Create distplot with custom bin_size\n",
    "fig = ff.create_distplot(hist_data, group_labels, bin_size=1.0)\n",
    "fig.show()"
   ]
  },
  {
   "cell_type": "code",
   "execution_count": null,
   "metadata": {},
   "outputs": [],
   "source": []
  }
 ],
 "metadata": {
  "kernelspec": {
   "display_name": "Python 3",
   "language": "python",
   "name": "python3"
  },
  "language_info": {
   "codemirror_mode": {
    "name": "ipython",
    "version": 3
   },
   "file_extension": ".py",
   "mimetype": "text/x-python",
   "name": "python",
   "nbconvert_exporter": "python",
   "pygments_lexer": "ipython3",
   "version": "3.8.3"
  }
 },
 "nbformat": 4,
 "nbformat_minor": 2
}
