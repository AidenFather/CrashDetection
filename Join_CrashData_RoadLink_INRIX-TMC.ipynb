{
 "cells": [
  {
   "cell_type": "code",
   "execution_count": 1,
   "metadata": {},
   "outputs": [],
   "source": [
    "import pandas as pd\n",
    "import numpy as np\n",
    "import datetime as dt\n",
    "import datetime\n",
    "from datetime import timedelta \n",
    "import matplotlib\n",
    "import matplotlib.pyplot as plt\n",
    "%matplotlib inline"
   ]
  },
  {
   "cell_type": "code",
   "execution_count": 2,
   "metadata": {},
   "outputs": [],
   "source": [
    "df = pd.read_csv('data/df_filtered.csv')"
   ]
  },
  {
   "cell_type": "markdown",
   "metadata": {},
   "source": [
    "## Check Data Type"
   ]
  },
  {
   "cell_type": "code",
   "execution_count": 3,
   "metadata": {
    "scrolled": false
   },
   "outputs": [
    {
     "data": {
      "text/plain": [
       "Unnamed: 0      int64\n",
       "CRASH_ID       object\n",
       "DATE           object\n",
       "DAY            object\n",
       "TIME           object\n",
       "KILLED          int64\n",
       "INJURED         int64\n",
       "PED_KILL        int64\n",
       "PED_INJ         int64\n",
       "SEVERITY       object\n",
       "ALCOHOL        object\n",
       "HAZMAT         object\n",
       "CRASH_TYPE    float64\n",
       "VEH_COUNT       int64\n",
       "LOCATION       object\n",
       "LOC_DIR        object\n",
       "ROUTE           int64\n",
       "MP            float64\n",
       "RD_SYS          int64\n",
       "RD_SURF       float64\n",
       "SURF_COND     float64\n",
       "LIGHT         float64\n",
       "WEATHER       float64\n",
       "RD_DIV        float64\n",
       "RD_WRKZN      float64\n",
       "CELL_USE       object\n",
       "TIME_ROUND     object\n",
       "TMC            object\n",
       "timestamp      object\n",
       "dtype: object"
      ]
     },
     "execution_count": 3,
     "metadata": {},
     "output_type": "execute_result"
    }
   ],
   "source": [
    "df.dtypes"
   ]
  },
  {
   "cell_type": "markdown",
   "metadata": {},
   "source": [
    "## Check Missingness"
   ]
  },
  {
   "cell_type": "code",
   "execution_count": 4,
   "metadata": {},
   "outputs": [
    {
     "name": "stdout",
     "output_type": "stream",
     "text": [
      "CRASH_TYPE             1\n",
      "LOC_DIR              404\n",
      "RD_SURF                4\n",
      "SURF_COND              9\n",
      "LIGHT                  6\n",
      "WEATHER                7\n",
      "RD_DIV                22\n",
      "RD_WRKZN              80\n"
     ]
    }
   ],
   "source": [
    "for col in df.columns:\n",
    "    miss_col = df[col].isna().sum(axis=0)\n",
    "    if miss_col > 0:\n",
    "        print('{:<20s}{:>4d}'.format(col, miss_col))"
   ]
  },
  {
   "cell_type": "markdown",
   "metadata": {},
   "source": [
    "No related information was available for the missingness. These will be removed."
   ]
  },
  {
   "cell_type": "markdown",
   "metadata": {},
   "source": [
    "## Merge INRIX TMC and Crash df\n",
    "\n",
    "Note that the INRIX TMC (Traffic Message Channel) will be used as the base road link.\n",
    "INRIX TMC link was retrieved from [RITIS](https://ritis.org/login?r=Lw==)"
   ]
  },
  {
   "cell_type": "code",
   "execution_count": 5,
   "metadata": {},
   "outputs": [],
   "source": [
    "#Load INRIX TMC\n",
    "df_tmc = pd.read_csv('data/TMC_up_and_down_with_distance.csv')"
   ]
  },
  {
   "cell_type": "code",
   "execution_count": 6,
   "metadata": {},
   "outputs": [],
   "source": [
    "#Load NJ 3 INRIX TMC where crash occurred in 2014\n",
    "n2014 = pd.read_csv('data/n2014.csv')"
   ]
  },
  {
   "cell_type": "code",
   "execution_count": 7,
   "metadata": {},
   "outputs": [],
   "source": [
    "#Merge\n",
    "n2014 = pd.merge(n2014, df_tmc, how = 'left', left_on = 'TMC', right_on = 'tmc')"
   ]
  },
  {
   "cell_type": "code",
   "execution_count": 8,
   "metadata": {},
   "outputs": [
    {
     "data": {
      "text/html": [
       "<div>\n",
       "<style scoped>\n",
       "    .dataframe tbody tr th:only-of-type {\n",
       "        vertical-align: middle;\n",
       "    }\n",
       "\n",
       "    .dataframe tbody tr th {\n",
       "        vertical-align: top;\n",
       "    }\n",
       "\n",
       "    .dataframe thead th {\n",
       "        text-align: right;\n",
       "    }\n",
       "</style>\n",
       "<table border=\"1\" class=\"dataframe\">\n",
       "  <thead>\n",
       "    <tr style=\"text-align: right;\">\n",
       "      <th></th>\n",
       "      <th>Unnamed: 0</th>\n",
       "      <th>timestamp</th>\n",
       "      <th>TMC</th>\n",
       "      <th>tmc</th>\n",
       "      <th>tmc_dn1</th>\n",
       "      <th>tmc_dn2</th>\n",
       "      <th>tmc_dn3</th>\n",
       "      <th>tmc_up1</th>\n",
       "      <th>tmc_up2</th>\n",
       "      <th>tmc_up3</th>\n",
       "      <th>tmc_miles</th>\n",
       "      <th>tmc_dn1.1</th>\n",
       "      <th>tmc_dn2.1</th>\n",
       "      <th>tmc_dn3.1</th>\n",
       "      <th>tmc_up1.1</th>\n",
       "      <th>tmc_up2.1</th>\n",
       "      <th>tmc_up3.1</th>\n",
       "    </tr>\n",
       "  </thead>\n",
       "  <tbody>\n",
       "    <tr>\n",
       "      <th>0</th>\n",
       "      <td>0</td>\n",
       "      <td>2014-12-28 09:49:00</td>\n",
       "      <td>120+07444</td>\n",
       "      <td>120+07444</td>\n",
       "      <td>120P07444</td>\n",
       "      <td>120+07445</td>\n",
       "      <td>120+07446</td>\n",
       "      <td>120P07443</td>\n",
       "      <td>120+07443</td>\n",
       "      <td>120P07442</td>\n",
       "      <td>0.670043</td>\n",
       "      <td>0.121049</td>\n",
       "      <td>0.921120</td>\n",
       "      <td>0.005611</td>\n",
       "      <td>0.100841</td>\n",
       "      <td>0.297769</td>\n",
       "      <td>0.090041</td>\n",
       "    </tr>\n",
       "    <tr>\n",
       "      <th>1</th>\n",
       "      <td>1</td>\n",
       "      <td>2014-10-03 22:34:00</td>\n",
       "      <td>120N07447</td>\n",
       "      <td>120N07447</td>\n",
       "      <td>120-07446</td>\n",
       "      <td>120-07445</td>\n",
       "      <td>120-07444</td>\n",
       "      <td>120-07447</td>\n",
       "      <td>120N07448</td>\n",
       "      <td>120-07448</td>\n",
       "      <td>0.147614</td>\n",
       "      <td>0.067757</td>\n",
       "      <td>0.013286</td>\n",
       "      <td>0.832980</td>\n",
       "      <td>0.394906</td>\n",
       "      <td>0.332592</td>\n",
       "      <td>0.401996</td>\n",
       "    </tr>\n",
       "    <tr>\n",
       "      <th>2</th>\n",
       "      <td>2</td>\n",
       "      <td>2014-09-22 08:52:00</td>\n",
       "      <td>120+07449</td>\n",
       "      <td>120+07449</td>\n",
       "      <td>120-06051</td>\n",
       "      <td>120N06052</td>\n",
       "      <td>120-06051</td>\n",
       "      <td>120P07448</td>\n",
       "      <td>120+07448</td>\n",
       "      <td>120P07447</td>\n",
       "      <td>0.570290</td>\n",
       "      <td>0.097246</td>\n",
       "      <td>0.383109</td>\n",
       "      <td>0.414796</td>\n",
       "      <td>0.139591</td>\n",
       "      <td>0.434495</td>\n",
       "      <td>0.136118</td>\n",
       "    </tr>\n",
       "    <tr>\n",
       "      <th>3</th>\n",
       "      <td>3</td>\n",
       "      <td>2014-03-03 13:11:00</td>\n",
       "      <td>120-04740</td>\n",
       "      <td>120-04740</td>\n",
       "      <td>120N04740</td>\n",
       "      <td>120-04739</td>\n",
       "      <td>120N04739</td>\n",
       "      <td>120N07442</td>\n",
       "      <td>120-07442</td>\n",
       "      <td>120N07443</td>\n",
       "      <td>0.522330</td>\n",
       "      <td>0.434241</td>\n",
       "      <td>0.086623</td>\n",
       "      <td>0.158097</td>\n",
       "      <td>0.074605</td>\n",
       "      <td>0.346611</td>\n",
       "      <td>0.068105</td>\n",
       "    </tr>\n",
       "    <tr>\n",
       "      <th>4</th>\n",
       "      <td>4</td>\n",
       "      <td>2014-11-13 12:17:00</td>\n",
       "      <td>120+07442</td>\n",
       "      <td>120+07442</td>\n",
       "      <td>120P07442</td>\n",
       "      <td>120+07443</td>\n",
       "      <td>120P07443</td>\n",
       "      <td>120P04740</td>\n",
       "      <td>120+04740</td>\n",
       "      <td>120P04739</td>\n",
       "      <td>0.540096</td>\n",
       "      <td>0.090041</td>\n",
       "      <td>0.297769</td>\n",
       "      <td>0.100841</td>\n",
       "      <td>0.151087</td>\n",
       "      <td>0.335239</td>\n",
       "      <td>0.267140</td>\n",
       "    </tr>\n",
       "  </tbody>\n",
       "</table>\n",
       "</div>"
      ],
      "text/plain": [
       "   Unnamed: 0            timestamp        TMC        tmc    tmc_dn1  \\\n",
       "0           0  2014-12-28 09:49:00  120+07444  120+07444  120P07444   \n",
       "1           1  2014-10-03 22:34:00  120N07447  120N07447  120-07446   \n",
       "2           2  2014-09-22 08:52:00  120+07449  120+07449  120-06051   \n",
       "3           3  2014-03-03 13:11:00  120-04740  120-04740  120N04740   \n",
       "4           4  2014-11-13 12:17:00  120+07442  120+07442  120P07442   \n",
       "\n",
       "     tmc_dn2    tmc_dn3    tmc_up1    tmc_up2    tmc_up3  tmc_miles  \\\n",
       "0  120+07445  120+07446  120P07443  120+07443  120P07442   0.670043   \n",
       "1  120-07445  120-07444  120-07447  120N07448  120-07448   0.147614   \n",
       "2  120N06052  120-06051  120P07448  120+07448  120P07447   0.570290   \n",
       "3  120-04739  120N04739  120N07442  120-07442  120N07443   0.522330   \n",
       "4  120+07443  120P07443  120P04740  120+04740  120P04739   0.540096   \n",
       "\n",
       "   tmc_dn1.1  tmc_dn2.1  tmc_dn3.1  tmc_up1.1  tmc_up2.1  tmc_up3.1  \n",
       "0   0.121049   0.921120   0.005611   0.100841   0.297769   0.090041  \n",
       "1   0.067757   0.013286   0.832980   0.394906   0.332592   0.401996  \n",
       "2   0.097246   0.383109   0.414796   0.139591   0.434495   0.136118  \n",
       "3   0.434241   0.086623   0.158097   0.074605   0.346611   0.068105  \n",
       "4   0.090041   0.297769   0.100841   0.151087   0.335239   0.267140  "
      ]
     },
     "execution_count": 8,
     "metadata": {},
     "output_type": "execute_result"
    }
   ],
   "source": [
    "n2014.head()"
   ]
  },
  {
   "cell_type": "code",
   "execution_count": 9,
   "metadata": {},
   "outputs": [],
   "source": [
    "#Remove unnessary columns\n",
    "n2014.drop(columns =['Unnamed: 0','tmc','tmc_dn3','tmc_up3', 'tmc_dn3.1', 'tmc_up3.1'], inplace = True)"
   ]
  },
  {
   "cell_type": "code",
   "execution_count": 10,
   "metadata": {},
   "outputs": [],
   "source": [
    "n2014.rename(columns ={'tmc_dn1.1':'tmc_dn1_miles', 'tmc_dn2.1':'tmc_dn2_miles', \n",
    "                    'tmc_up1.1':'tmc_up1_miles', 'tmc_up2.1':'tmc_up2_miles'}, inplace = True)"
   ]
  },
  {
   "cell_type": "markdown",
   "metadata": {},
   "source": [
    "It was assumed that when crash caused lane closure, there must have been significant speed difference between upstream and downstream link. To this end, a table including two consecutive upstream and downstream links was prepared. "
   ]
  },
  {
   "cell_type": "code",
   "execution_count": 11,
   "metadata": {},
   "outputs": [
    {
     "data": {
      "text/html": [
       "<div>\n",
       "<style scoped>\n",
       "    .dataframe tbody tr th:only-of-type {\n",
       "        vertical-align: middle;\n",
       "    }\n",
       "\n",
       "    .dataframe tbody tr th {\n",
       "        vertical-align: top;\n",
       "    }\n",
       "\n",
       "    .dataframe thead th {\n",
       "        text-align: right;\n",
       "    }\n",
       "</style>\n",
       "<table border=\"1\" class=\"dataframe\">\n",
       "  <thead>\n",
       "    <tr style=\"text-align: right;\">\n",
       "      <th></th>\n",
       "      <th>timestamp</th>\n",
       "      <th>TMC</th>\n",
       "      <th>tmc_dn1</th>\n",
       "      <th>tmc_dn2</th>\n",
       "      <th>tmc_up1</th>\n",
       "      <th>tmc_up2</th>\n",
       "      <th>tmc_miles</th>\n",
       "      <th>tmc_dn1_miles</th>\n",
       "      <th>tmc_dn2_miles</th>\n",
       "      <th>tmc_up1_miles</th>\n",
       "      <th>tmc_up2_miles</th>\n",
       "    </tr>\n",
       "  </thead>\n",
       "  <tbody>\n",
       "    <tr>\n",
       "      <th>0</th>\n",
       "      <td>2014-12-28 09:49:00</td>\n",
       "      <td>120+07444</td>\n",
       "      <td>120P07444</td>\n",
       "      <td>120+07445</td>\n",
       "      <td>120P07443</td>\n",
       "      <td>120+07443</td>\n",
       "      <td>0.670043</td>\n",
       "      <td>0.121049</td>\n",
       "      <td>0.921120</td>\n",
       "      <td>0.100841</td>\n",
       "      <td>0.297769</td>\n",
       "    </tr>\n",
       "    <tr>\n",
       "      <th>1</th>\n",
       "      <td>2014-10-03 22:34:00</td>\n",
       "      <td>120N07447</td>\n",
       "      <td>120-07446</td>\n",
       "      <td>120-07445</td>\n",
       "      <td>120-07447</td>\n",
       "      <td>120N07448</td>\n",
       "      <td>0.147614</td>\n",
       "      <td>0.067757</td>\n",
       "      <td>0.013286</td>\n",
       "      <td>0.394906</td>\n",
       "      <td>0.332592</td>\n",
       "    </tr>\n",
       "    <tr>\n",
       "      <th>2</th>\n",
       "      <td>2014-09-22 08:52:00</td>\n",
       "      <td>120+07449</td>\n",
       "      <td>120-06051</td>\n",
       "      <td>120N06052</td>\n",
       "      <td>120P07448</td>\n",
       "      <td>120+07448</td>\n",
       "      <td>0.570290</td>\n",
       "      <td>0.097246</td>\n",
       "      <td>0.383109</td>\n",
       "      <td>0.139591</td>\n",
       "      <td>0.434495</td>\n",
       "    </tr>\n",
       "    <tr>\n",
       "      <th>3</th>\n",
       "      <td>2014-03-03 13:11:00</td>\n",
       "      <td>120-04740</td>\n",
       "      <td>120N04740</td>\n",
       "      <td>120-04739</td>\n",
       "      <td>120N07442</td>\n",
       "      <td>120-07442</td>\n",
       "      <td>0.522330</td>\n",
       "      <td>0.434241</td>\n",
       "      <td>0.086623</td>\n",
       "      <td>0.074605</td>\n",
       "      <td>0.346611</td>\n",
       "    </tr>\n",
       "    <tr>\n",
       "      <th>4</th>\n",
       "      <td>2014-11-13 12:17:00</td>\n",
       "      <td>120+07442</td>\n",
       "      <td>120P07442</td>\n",
       "      <td>120+07443</td>\n",
       "      <td>120P04740</td>\n",
       "      <td>120+04740</td>\n",
       "      <td>0.540096</td>\n",
       "      <td>0.090041</td>\n",
       "      <td>0.297769</td>\n",
       "      <td>0.151087</td>\n",
       "      <td>0.335239</td>\n",
       "    </tr>\n",
       "  </tbody>\n",
       "</table>\n",
       "</div>"
      ],
      "text/plain": [
       "             timestamp        TMC    tmc_dn1    tmc_dn2    tmc_up1    tmc_up2  \\\n",
       "0  2014-12-28 09:49:00  120+07444  120P07444  120+07445  120P07443  120+07443   \n",
       "1  2014-10-03 22:34:00  120N07447  120-07446  120-07445  120-07447  120N07448   \n",
       "2  2014-09-22 08:52:00  120+07449  120-06051  120N06052  120P07448  120+07448   \n",
       "3  2014-03-03 13:11:00  120-04740  120N04740  120-04739  120N07442  120-07442   \n",
       "4  2014-11-13 12:17:00  120+07442  120P07442  120+07443  120P04740  120+04740   \n",
       "\n",
       "   tmc_miles  tmc_dn1_miles  tmc_dn2_miles  tmc_up1_miles  tmc_up2_miles  \n",
       "0   0.670043       0.121049       0.921120       0.100841       0.297769  \n",
       "1   0.147614       0.067757       0.013286       0.394906       0.332592  \n",
       "2   0.570290       0.097246       0.383109       0.139591       0.434495  \n",
       "3   0.522330       0.434241       0.086623       0.074605       0.346611  \n",
       "4   0.540096       0.090041       0.297769       0.151087       0.335239  "
      ]
     },
     "execution_count": 11,
     "metadata": {},
     "output_type": "execute_result"
    }
   ],
   "source": [
    "n2014.head()"
   ]
  },
  {
   "cell_type": "code",
   "execution_count": 12,
   "metadata": {},
   "outputs": [
    {
     "data": {
      "text/plain": [
       "timestamp         object\n",
       "TMC               object\n",
       "tmc_dn1           object\n",
       "tmc_dn2           object\n",
       "tmc_up1           object\n",
       "tmc_up2           object\n",
       "tmc_miles        float64\n",
       "tmc_dn1_miles    float64\n",
       "tmc_dn2_miles    float64\n",
       "tmc_up1_miles    float64\n",
       "tmc_up2_miles    float64\n",
       "dtype: object"
      ]
     },
     "execution_count": 12,
     "metadata": {},
     "output_type": "execute_result"
    }
   ],
   "source": [
    "n2014.dtypes"
   ]
  },
  {
   "cell_type": "code",
   "execution_count": 13,
   "metadata": {},
   "outputs": [],
   "source": [
    "n2014['TMC_'] = n2014['TMC'] +\" \"+ n2014['timestamp']\n",
    "n2014['tmc_dn1_'] = n2014['TMC'] +\" \"+ n2014['timestamp']\n",
    "n2014['tmc_dn2_'] = n2014['TMC'] +\" \"+ n2014['timestamp']\n",
    "n2014['tmc_up1_'] = n2014['TMC'] +\" \"+ n2014['timestamp']\n",
    "n2014['tmc_up2_'] = n2014['TMC'] +\" \"+ n2014['timestamp']"
   ]
  },
  {
   "cell_type": "code",
   "execution_count": 14,
   "metadata": {},
   "outputs": [],
   "source": [
    "n2014['timestamp'] = pd.to_datetime(n2014['timestamp'])\n",
    "\n",
    "n2014['pre_1min'] = n2014['timestamp'].apply(lambda t: dt.datetime(t.year, t.month, t.day, t.hour, t.minute) - timedelta(minutes = 1))\n",
    "n2014['pre_2min'] = n2014['timestamp'].apply(lambda t: dt.datetime(t.year, t.month, t.day, t.hour, t.minute) - timedelta(minutes = 2))\n",
    "n2014['pre_3min'] = n2014['timestamp'].apply(lambda t: dt.datetime(t.year, t.month, t.day, t.hour, t.minute) - timedelta(minutes = 3))\n",
    "n2014['pre_4min'] = n2014['timestamp'].apply(lambda t: dt.datetime(t.year, t.month, t.day, t.hour, t.minute) - timedelta(minutes = 4))\n",
    "n2014['pre_5min'] = n2014['timestamp'].apply(lambda t: dt.datetime(t.year, t.month, t.day, t.hour, t.minute) - timedelta(minutes = 5))\n",
    "n2014['pre_6min'] = n2014['timestamp'].apply(lambda t: dt.datetime(t.year, t.month, t.day, t.hour, t.minute) - timedelta(minutes = 6))\n",
    "n2014['pre_7min'] = n2014['timestamp'].apply(lambda t: dt.datetime(t.year, t.month, t.day, t.hour, t.minute) - timedelta(minutes = 7))\n",
    "n2014['pre_8min'] = n2014['timestamp'].apply(lambda t: dt.datetime(t.year, t.month, t.day, t.hour, t.minute) - timedelta(minutes = 8))\n",
    "n2014['pre_9min'] = n2014['timestamp'].apply(lambda t: dt.datetime(t.year, t.month, t.day, t.hour, t.minute) - timedelta(minutes = 9))\n",
    "n2014['pre_10min'] = n2014['timestamp'].apply(lambda t: dt.datetime(t.year, t.month, t.day, t.hour, t.minute) - timedelta(minutes = 10))\n",
    "n2014['pre_11min'] = n2014['timestamp'].apply(lambda t: dt.datetime(t.year, t.month, t.day, t.hour, t.minute) - timedelta(minutes = 11))\n",
    "n2014['pre_12min'] = n2014['timestamp'].apply(lambda t: dt.datetime(t.year, t.month, t.day, t.hour, t.minute) - timedelta(minutes = 12))\n",
    "n2014['pre_13min'] = n2014['timestamp'].apply(lambda t: dt.datetime(t.year, t.month, t.day, t.hour, t.minute) - timedelta(minutes = 13))\n",
    "n2014['pre_14min'] = n2014['timestamp'].apply(lambda t: dt.datetime(t.year, t.month, t.day, t.hour, t.minute) - timedelta(minutes = 14))\n",
    "n2014['pre_15min'] = n2014['timestamp'].apply(lambda t: dt.datetime(t.year, t.month, t.day, t.hour, t.minute) - timedelta(minutes = 15))\n"
   ]
  },
  {
   "cell_type": "code",
   "execution_count": 15,
   "metadata": {},
   "outputs": [
    {
     "data": {
      "text/html": [
       "<div>\n",
       "<style scoped>\n",
       "    .dataframe tbody tr th:only-of-type {\n",
       "        vertical-align: middle;\n",
       "    }\n",
       "\n",
       "    .dataframe tbody tr th {\n",
       "        vertical-align: top;\n",
       "    }\n",
       "\n",
       "    .dataframe thead th {\n",
       "        text-align: right;\n",
       "    }\n",
       "</style>\n",
       "<table border=\"1\" class=\"dataframe\">\n",
       "  <thead>\n",
       "    <tr style=\"text-align: right;\">\n",
       "      <th></th>\n",
       "      <th>timestamp</th>\n",
       "      <th>TMC</th>\n",
       "      <th>tmc_dn1</th>\n",
       "      <th>tmc_dn2</th>\n",
       "      <th>tmc_up1</th>\n",
       "      <th>tmc_up2</th>\n",
       "      <th>tmc_miles</th>\n",
       "      <th>tmc_dn1_miles</th>\n",
       "      <th>tmc_dn2_miles</th>\n",
       "      <th>tmc_up1_miles</th>\n",
       "      <th>...</th>\n",
       "      <th>pre_6min</th>\n",
       "      <th>pre_7min</th>\n",
       "      <th>pre_8min</th>\n",
       "      <th>pre_9min</th>\n",
       "      <th>pre_10min</th>\n",
       "      <th>pre_11min</th>\n",
       "      <th>pre_12min</th>\n",
       "      <th>pre_13min</th>\n",
       "      <th>pre_14min</th>\n",
       "      <th>pre_15min</th>\n",
       "    </tr>\n",
       "  </thead>\n",
       "  <tbody>\n",
       "    <tr>\n",
       "      <th>0</th>\n",
       "      <td>2014-12-28 09:49:00</td>\n",
       "      <td>120+07444</td>\n",
       "      <td>120P07444</td>\n",
       "      <td>120+07445</td>\n",
       "      <td>120P07443</td>\n",
       "      <td>120+07443</td>\n",
       "      <td>0.670043</td>\n",
       "      <td>0.121049</td>\n",
       "      <td>0.921120</td>\n",
       "      <td>0.100841</td>\n",
       "      <td>...</td>\n",
       "      <td>2014-12-28 09:43:00</td>\n",
       "      <td>2014-12-28 09:42:00</td>\n",
       "      <td>2014-12-28 09:41:00</td>\n",
       "      <td>2014-12-28 09:40:00</td>\n",
       "      <td>2014-12-28 09:39:00</td>\n",
       "      <td>2014-12-28 09:38:00</td>\n",
       "      <td>2014-12-28 09:37:00</td>\n",
       "      <td>2014-12-28 09:36:00</td>\n",
       "      <td>2014-12-28 09:35:00</td>\n",
       "      <td>2014-12-28 09:34:00</td>\n",
       "    </tr>\n",
       "    <tr>\n",
       "      <th>1</th>\n",
       "      <td>2014-10-03 22:34:00</td>\n",
       "      <td>120N07447</td>\n",
       "      <td>120-07446</td>\n",
       "      <td>120-07445</td>\n",
       "      <td>120-07447</td>\n",
       "      <td>120N07448</td>\n",
       "      <td>0.147614</td>\n",
       "      <td>0.067757</td>\n",
       "      <td>0.013286</td>\n",
       "      <td>0.394906</td>\n",
       "      <td>...</td>\n",
       "      <td>2014-10-03 22:28:00</td>\n",
       "      <td>2014-10-03 22:27:00</td>\n",
       "      <td>2014-10-03 22:26:00</td>\n",
       "      <td>2014-10-03 22:25:00</td>\n",
       "      <td>2014-10-03 22:24:00</td>\n",
       "      <td>2014-10-03 22:23:00</td>\n",
       "      <td>2014-10-03 22:22:00</td>\n",
       "      <td>2014-10-03 22:21:00</td>\n",
       "      <td>2014-10-03 22:20:00</td>\n",
       "      <td>2014-10-03 22:19:00</td>\n",
       "    </tr>\n",
       "    <tr>\n",
       "      <th>2</th>\n",
       "      <td>2014-09-22 08:52:00</td>\n",
       "      <td>120+07449</td>\n",
       "      <td>120-06051</td>\n",
       "      <td>120N06052</td>\n",
       "      <td>120P07448</td>\n",
       "      <td>120+07448</td>\n",
       "      <td>0.570290</td>\n",
       "      <td>0.097246</td>\n",
       "      <td>0.383109</td>\n",
       "      <td>0.139591</td>\n",
       "      <td>...</td>\n",
       "      <td>2014-09-22 08:46:00</td>\n",
       "      <td>2014-09-22 08:45:00</td>\n",
       "      <td>2014-09-22 08:44:00</td>\n",
       "      <td>2014-09-22 08:43:00</td>\n",
       "      <td>2014-09-22 08:42:00</td>\n",
       "      <td>2014-09-22 08:41:00</td>\n",
       "      <td>2014-09-22 08:40:00</td>\n",
       "      <td>2014-09-22 08:39:00</td>\n",
       "      <td>2014-09-22 08:38:00</td>\n",
       "      <td>2014-09-22 08:37:00</td>\n",
       "    </tr>\n",
       "    <tr>\n",
       "      <th>3</th>\n",
       "      <td>2014-03-03 13:11:00</td>\n",
       "      <td>120-04740</td>\n",
       "      <td>120N04740</td>\n",
       "      <td>120-04739</td>\n",
       "      <td>120N07442</td>\n",
       "      <td>120-07442</td>\n",
       "      <td>0.522330</td>\n",
       "      <td>0.434241</td>\n",
       "      <td>0.086623</td>\n",
       "      <td>0.074605</td>\n",
       "      <td>...</td>\n",
       "      <td>2014-03-03 13:05:00</td>\n",
       "      <td>2014-03-03 13:04:00</td>\n",
       "      <td>2014-03-03 13:03:00</td>\n",
       "      <td>2014-03-03 13:02:00</td>\n",
       "      <td>2014-03-03 13:01:00</td>\n",
       "      <td>2014-03-03 13:00:00</td>\n",
       "      <td>2014-03-03 12:59:00</td>\n",
       "      <td>2014-03-03 12:58:00</td>\n",
       "      <td>2014-03-03 12:57:00</td>\n",
       "      <td>2014-03-03 12:56:00</td>\n",
       "    </tr>\n",
       "    <tr>\n",
       "      <th>4</th>\n",
       "      <td>2014-11-13 12:17:00</td>\n",
       "      <td>120+07442</td>\n",
       "      <td>120P07442</td>\n",
       "      <td>120+07443</td>\n",
       "      <td>120P04740</td>\n",
       "      <td>120+04740</td>\n",
       "      <td>0.540096</td>\n",
       "      <td>0.090041</td>\n",
       "      <td>0.297769</td>\n",
       "      <td>0.151087</td>\n",
       "      <td>...</td>\n",
       "      <td>2014-11-13 12:11:00</td>\n",
       "      <td>2014-11-13 12:10:00</td>\n",
       "      <td>2014-11-13 12:09:00</td>\n",
       "      <td>2014-11-13 12:08:00</td>\n",
       "      <td>2014-11-13 12:07:00</td>\n",
       "      <td>2014-11-13 12:06:00</td>\n",
       "      <td>2014-11-13 12:05:00</td>\n",
       "      <td>2014-11-13 12:04:00</td>\n",
       "      <td>2014-11-13 12:03:00</td>\n",
       "      <td>2014-11-13 12:02:00</td>\n",
       "    </tr>\n",
       "  </tbody>\n",
       "</table>\n",
       "<p>5 rows × 31 columns</p>\n",
       "</div>"
      ],
      "text/plain": [
       "            timestamp        TMC    tmc_dn1    tmc_dn2    tmc_up1    tmc_up2  \\\n",
       "0 2014-12-28 09:49:00  120+07444  120P07444  120+07445  120P07443  120+07443   \n",
       "1 2014-10-03 22:34:00  120N07447  120-07446  120-07445  120-07447  120N07448   \n",
       "2 2014-09-22 08:52:00  120+07449  120-06051  120N06052  120P07448  120+07448   \n",
       "3 2014-03-03 13:11:00  120-04740  120N04740  120-04739  120N07442  120-07442   \n",
       "4 2014-11-13 12:17:00  120+07442  120P07442  120+07443  120P04740  120+04740   \n",
       "\n",
       "   tmc_miles  tmc_dn1_miles  tmc_dn2_miles  tmc_up1_miles  ...  \\\n",
       "0   0.670043       0.121049       0.921120       0.100841  ...   \n",
       "1   0.147614       0.067757       0.013286       0.394906  ...   \n",
       "2   0.570290       0.097246       0.383109       0.139591  ...   \n",
       "3   0.522330       0.434241       0.086623       0.074605  ...   \n",
       "4   0.540096       0.090041       0.297769       0.151087  ...   \n",
       "\n",
       "             pre_6min            pre_7min            pre_8min  \\\n",
       "0 2014-12-28 09:43:00 2014-12-28 09:42:00 2014-12-28 09:41:00   \n",
       "1 2014-10-03 22:28:00 2014-10-03 22:27:00 2014-10-03 22:26:00   \n",
       "2 2014-09-22 08:46:00 2014-09-22 08:45:00 2014-09-22 08:44:00   \n",
       "3 2014-03-03 13:05:00 2014-03-03 13:04:00 2014-03-03 13:03:00   \n",
       "4 2014-11-13 12:11:00 2014-11-13 12:10:00 2014-11-13 12:09:00   \n",
       "\n",
       "             pre_9min           pre_10min           pre_11min  \\\n",
       "0 2014-12-28 09:40:00 2014-12-28 09:39:00 2014-12-28 09:38:00   \n",
       "1 2014-10-03 22:25:00 2014-10-03 22:24:00 2014-10-03 22:23:00   \n",
       "2 2014-09-22 08:43:00 2014-09-22 08:42:00 2014-09-22 08:41:00   \n",
       "3 2014-03-03 13:02:00 2014-03-03 13:01:00 2014-03-03 13:00:00   \n",
       "4 2014-11-13 12:08:00 2014-11-13 12:07:00 2014-11-13 12:06:00   \n",
       "\n",
       "            pre_12min           pre_13min           pre_14min  \\\n",
       "0 2014-12-28 09:37:00 2014-12-28 09:36:00 2014-12-28 09:35:00   \n",
       "1 2014-10-03 22:22:00 2014-10-03 22:21:00 2014-10-03 22:20:00   \n",
       "2 2014-09-22 08:40:00 2014-09-22 08:39:00 2014-09-22 08:38:00   \n",
       "3 2014-03-03 12:59:00 2014-03-03 12:58:00 2014-03-03 12:57:00   \n",
       "4 2014-11-13 12:05:00 2014-11-13 12:04:00 2014-11-13 12:03:00   \n",
       "\n",
       "            pre_15min  \n",
       "0 2014-12-28 09:34:00  \n",
       "1 2014-10-03 22:19:00  \n",
       "2 2014-09-22 08:37:00  \n",
       "3 2014-03-03 12:56:00  \n",
       "4 2014-11-13 12:02:00  \n",
       "\n",
       "[5 rows x 31 columns]"
      ]
     },
     "execution_count": 15,
     "metadata": {},
     "output_type": "execute_result"
    }
   ],
   "source": [
    "n2014.head()"
   ]
  },
  {
   "cell_type": "markdown",
   "metadata": {},
   "source": [
    "## Load Inrix Speed Data\n",
    "\n",
    "Traffic speeds (e.g., INRIX) observed in both upstream and downstream links were integrated. In addition, speeds before the crash events were also integrated. Link speeds for the previous 15-minute before the crashe occurrence were integrated. "
   ]
  },
  {
   "cell_type": "code",
   "execution_count": 16,
   "metadata": {},
   "outputs": [],
   "source": [
    "inrix2014 = pd.read_csv('data/NJ3_INRIX_2014_re.csv')"
   ]
  },
  {
   "cell_type": "code",
   "execution_count": 17,
   "metadata": {},
   "outputs": [
    {
     "data": {
      "text/html": [
       "<div>\n",
       "<style scoped>\n",
       "    .dataframe tbody tr th:only-of-type {\n",
       "        vertical-align: middle;\n",
       "    }\n",
       "\n",
       "    .dataframe tbody tr th {\n",
       "        vertical-align: top;\n",
       "    }\n",
       "\n",
       "    .dataframe thead th {\n",
       "        text-align: right;\n",
       "    }\n",
       "</style>\n",
       "<table border=\"1\" class=\"dataframe\">\n",
       "  <thead>\n",
       "    <tr style=\"text-align: right;\">\n",
       "      <th></th>\n",
       "      <th>tmc_code</th>\n",
       "      <th>measurement_tstamp</th>\n",
       "      <th>speed</th>\n",
       "      <th>average_speed</th>\n",
       "      <th>reference_speed</th>\n",
       "      <th>travel_time_seconds</th>\n",
       "      <th>confidence_score</th>\n",
       "      <th>cvalue</th>\n",
       "    </tr>\n",
       "  </thead>\n",
       "  <tbody>\n",
       "    <tr>\n",
       "      <th>0</th>\n",
       "      <td>120+04729</td>\n",
       "      <td>2014-01-01 00:00:00</td>\n",
       "      <td>46.0</td>\n",
       "      <td>41.0</td>\n",
       "      <td>41.0</td>\n",
       "      <td>7.47</td>\n",
       "      <td>30.0</td>\n",
       "      <td>100.0</td>\n",
       "    </tr>\n",
       "    <tr>\n",
       "      <th>1</th>\n",
       "      <td>120+04729</td>\n",
       "      <td>2014-01-01 00:01:00</td>\n",
       "      <td>46.0</td>\n",
       "      <td>41.0</td>\n",
       "      <td>41.0</td>\n",
       "      <td>7.47</td>\n",
       "      <td>30.0</td>\n",
       "      <td>100.0</td>\n",
       "    </tr>\n",
       "    <tr>\n",
       "      <th>2</th>\n",
       "      <td>120+04729</td>\n",
       "      <td>2014-01-01 00:02:00</td>\n",
       "      <td>46.0</td>\n",
       "      <td>41.0</td>\n",
       "      <td>41.0</td>\n",
       "      <td>7.47</td>\n",
       "      <td>30.0</td>\n",
       "      <td>100.0</td>\n",
       "    </tr>\n",
       "    <tr>\n",
       "      <th>3</th>\n",
       "      <td>120+04729</td>\n",
       "      <td>2014-01-01 00:03:00</td>\n",
       "      <td>46.0</td>\n",
       "      <td>41.0</td>\n",
       "      <td>41.0</td>\n",
       "      <td>7.47</td>\n",
       "      <td>30.0</td>\n",
       "      <td>100.0</td>\n",
       "    </tr>\n",
       "    <tr>\n",
       "      <th>4</th>\n",
       "      <td>120+04729</td>\n",
       "      <td>2014-01-01 00:04:00</td>\n",
       "      <td>43.0</td>\n",
       "      <td>41.0</td>\n",
       "      <td>41.0</td>\n",
       "      <td>8.00</td>\n",
       "      <td>30.0</td>\n",
       "      <td>84.0</td>\n",
       "    </tr>\n",
       "  </tbody>\n",
       "</table>\n",
       "</div>"
      ],
      "text/plain": [
       "    tmc_code   measurement_tstamp  speed  average_speed  reference_speed  \\\n",
       "0  120+04729  2014-01-01 00:00:00   46.0           41.0             41.0   \n",
       "1  120+04729  2014-01-01 00:01:00   46.0           41.0             41.0   \n",
       "2  120+04729  2014-01-01 00:02:00   46.0           41.0             41.0   \n",
       "3  120+04729  2014-01-01 00:03:00   46.0           41.0             41.0   \n",
       "4  120+04729  2014-01-01 00:04:00   43.0           41.0             41.0   \n",
       "\n",
       "   travel_time_seconds  confidence_score  cvalue  \n",
       "0                 7.47              30.0   100.0  \n",
       "1                 7.47              30.0   100.0  \n",
       "2                 7.47              30.0   100.0  \n",
       "3                 7.47              30.0   100.0  \n",
       "4                 8.00              30.0    84.0  "
      ]
     },
     "execution_count": 17,
     "metadata": {},
     "output_type": "execute_result"
    }
   ],
   "source": [
    "inrix2014.head()"
   ]
  },
  {
   "cell_type": "code",
   "execution_count": 18,
   "metadata": {},
   "outputs": [],
   "source": [
    "inrix2014.drop(columns=['average_speed', 'reference_speed', 'travel_time_seconds', 'confidence_score', 'cvalue'], inplace=True)"
   ]
  },
  {
   "cell_type": "code",
   "execution_count": 19,
   "metadata": {},
   "outputs": [],
   "source": [
    "inrix2014['tmc_code_'] = inrix2014['tmc_code']+\" \"+inrix2014['measurement_tstamp']"
   ]
  },
  {
   "cell_type": "code",
   "execution_count": 20,
   "metadata": {},
   "outputs": [],
   "source": [
    "inrix2014 = inrix2014[['tmc_code_', 'speed']]"
   ]
  },
  {
   "cell_type": "code",
   "execution_count": 21,
   "metadata": {},
   "outputs": [
    {
     "data": {
      "text/html": [
       "<div>\n",
       "<style scoped>\n",
       "    .dataframe tbody tr th:only-of-type {\n",
       "        vertical-align: middle;\n",
       "    }\n",
       "\n",
       "    .dataframe tbody tr th {\n",
       "        vertical-align: top;\n",
       "    }\n",
       "\n",
       "    .dataframe thead th {\n",
       "        text-align: right;\n",
       "    }\n",
       "</style>\n",
       "<table border=\"1\" class=\"dataframe\">\n",
       "  <thead>\n",
       "    <tr style=\"text-align: right;\">\n",
       "      <th></th>\n",
       "      <th>tmc_code_</th>\n",
       "      <th>speed</th>\n",
       "    </tr>\n",
       "  </thead>\n",
       "  <tbody>\n",
       "    <tr>\n",
       "      <th>0</th>\n",
       "      <td>120+04729 2014-01-01 00:00:00</td>\n",
       "      <td>46.0</td>\n",
       "    </tr>\n",
       "    <tr>\n",
       "      <th>1</th>\n",
       "      <td>120+04729 2014-01-01 00:01:00</td>\n",
       "      <td>46.0</td>\n",
       "    </tr>\n",
       "    <tr>\n",
       "      <th>2</th>\n",
       "      <td>120+04729 2014-01-01 00:02:00</td>\n",
       "      <td>46.0</td>\n",
       "    </tr>\n",
       "    <tr>\n",
       "      <th>3</th>\n",
       "      <td>120+04729 2014-01-01 00:03:00</td>\n",
       "      <td>46.0</td>\n",
       "    </tr>\n",
       "    <tr>\n",
       "      <th>4</th>\n",
       "      <td>120+04729 2014-01-01 00:04:00</td>\n",
       "      <td>43.0</td>\n",
       "    </tr>\n",
       "  </tbody>\n",
       "</table>\n",
       "</div>"
      ],
      "text/plain": [
       "                       tmc_code_  speed\n",
       "0  120+04729 2014-01-01 00:00:00   46.0\n",
       "1  120+04729 2014-01-01 00:01:00   46.0\n",
       "2  120+04729 2014-01-01 00:02:00   46.0\n",
       "3  120+04729 2014-01-01 00:03:00   46.0\n",
       "4  120+04729 2014-01-01 00:04:00   43.0"
      ]
     },
     "execution_count": 21,
     "metadata": {},
     "output_type": "execute_result"
    }
   ],
   "source": [
    "inrix2014.head()"
   ]
  },
  {
   "cell_type": "code",
   "execution_count": 22,
   "metadata": {},
   "outputs": [],
   "source": [
    "inrix2014.drop_duplicates(subset=['tmc_code_'], inplace = True)"
   ]
  },
  {
   "cell_type": "code",
   "execution_count": 23,
   "metadata": {},
   "outputs": [],
   "source": [
    "n2014.drop_duplicates(subset=['TMC_'], inplace = True)"
   ]
  },
  {
   "cell_type": "code",
   "execution_count": 24,
   "metadata": {},
   "outputs": [
    {
     "data": {
      "text/plain": [
       "(9996, 31)"
      ]
     },
     "execution_count": 24,
     "metadata": {},
     "output_type": "execute_result"
    }
   ],
   "source": [
    "n2014.shape"
   ]
  },
  {
   "cell_type": "code",
   "execution_count": 25,
   "metadata": {},
   "outputs": [],
   "source": [
    "# Convert 'timestamp' to string \n",
    "n2014['timestamp'] = n2014['timestamp'].astype(str)"
   ]
  },
  {
   "cell_type": "markdown",
   "metadata": {},
   "source": [
    "## Join INRIX Speed Data in TMC Links\n",
    "\n",
    "Speed and TMC data joining is repeated for the years between 2013 and 2018"
   ]
  },
  {
   "cell_type": "code",
   "execution_count": 26,
   "metadata": {},
   "outputs": [],
   "source": [
    "#Speed in the crash link \n",
    "n2014 = pd.merge(n2014, inrix2014, how = 'left', left_on = 'TMC_', right_on = 'tmc_code_')\n",
    "n2014.rename(columns = {'speed':'spd'}, inplace = True)"
   ]
  },
  {
   "cell_type": "code",
   "execution_count": 27,
   "metadata": {},
   "outputs": [],
   "source": [
    "#Speed in the first downstream link\n",
    "n2014 = pd.merge(n2014, inrix2014, how = 'left', left_on = 'tmc_dn1_', right_on = 'tmc_code_')\n",
    "n2014.rename(columns = {'speed':'dn1_spd'}, inplace = True)"
   ]
  },
  {
   "cell_type": "code",
   "execution_count": 28,
   "metadata": {},
   "outputs": [],
   "source": [
    "#Speed in the second downstream link\n",
    "n2014 = pd.merge(n2014, inrix2014, how = 'left', left_on = 'tmc_dn2_', right_on = 'tmc_code_')\n",
    "n2014.rename(columns = {'speed':'dn2_spd'}, inplace = True)"
   ]
  },
  {
   "cell_type": "code",
   "execution_count": 29,
   "metadata": {},
   "outputs": [],
   "source": [
    "#Speed in the first upstream link\n",
    "n2014 = pd.merge(n2014, inrix2014, how = 'left', left_on = 'tmc_up1_', right_on = 'tmc_code_')\n",
    "n2014.rename(columns = {'speed':'up1_spd'}, inplace = True)"
   ]
  },
  {
   "cell_type": "code",
   "execution_count": 30,
   "metadata": {},
   "outputs": [],
   "source": [
    "#Speed in the second upstream link\n",
    "n2014 = pd.merge(n2014, inrix2014, how = 'left', left_on = 'tmc_up2_', right_on = 'tmc_code_')\n",
    "n2014.rename(columns = {'speed':'up2_spd'}, inplace = True)"
   ]
  },
  {
   "cell_type": "markdown",
   "metadata": {},
   "source": [
    "### Pre-Speeds at each TMC link"
   ]
  },
  {
   "cell_type": "markdown",
   "metadata": {},
   "source": [
    "#### Pre_1minute"
   ]
  },
  {
   "cell_type": "code",
   "execution_count": 31,
   "metadata": {},
   "outputs": [],
   "source": [
    "n2014['pre_1min'] = n2014['pre_1min'].astype(str)\n",
    "\n",
    "n2014['TMC_1'] = n2014['TMC'] +\" \"+ n2014['pre_1min']\n",
    "n2014['tmc_dn1_1'] = n2014['TMC'] +\" \"+ n2014['pre_1min']\n",
    "n2014['tmc_dn2_1'] = n2014['TMC'] +\" \"+ n2014['pre_1min']\n",
    "n2014['tmc_up1_1'] = n2014['TMC'] +\" \"+ n2014['pre_1min']\n",
    "n2014['tmc_up2_1'] = n2014['TMC'] +\" \"+ n2014['pre_1min']"
   ]
  },
  {
   "cell_type": "code",
   "execution_count": 32,
   "metadata": {},
   "outputs": [],
   "source": [
    "n2014 = pd.merge(n2014, inrix2014, how = 'left', left_on = 'TMC_1', right_on = 'tmc_code_')\n",
    "n2014.rename(columns = {'speed':'pre1_spd'}, inplace = True)\n",
    "\n",
    "n2014 = pd.merge(n2014, inrix2014, how = 'left', left_on = 'tmc_dn1_1', right_on = 'tmc_code_')\n",
    "n2014.rename(columns = {'speed':'pre1_dn1_spd'}, inplace = True)\n",
    "\n",
    "n2014 = pd.merge(n2014, inrix2014, how = 'left', left_on = 'tmc_dn2_1', right_on = 'tmc_code_')\n",
    "n2014.rename(columns = {'speed':'pre1_dn2_spd'}, inplace = True)\n",
    "\n",
    "n2014 = pd.merge(n2014, inrix2014, how = 'left', left_on = 'tmc_up2_1', right_on = 'tmc_code_')\n",
    "n2014.rename(columns = {'speed':'pre1_up1_spd'}, inplace = True)\n",
    "\n",
    "n2014 = pd.merge(n2014, inrix2014, how = 'left', left_on = 'tmc_up2_1', right_on = 'tmc_code_')\n",
    "n2014.rename(columns = {'speed':'pre1_up2_spd'}, inplace = True)"
   ]
  },
  {
   "cell_type": "markdown",
   "metadata": {},
   "source": [
    "#### Pre_2minute"
   ]
  },
  {
   "cell_type": "code",
   "execution_count": 33,
   "metadata": {},
   "outputs": [],
   "source": [
    "n2014['pre_2min'] = n2014['pre_2min'].astype(str)\n",
    "\n",
    "n2014['TMC_2'] = n2014['TMC'] +\" \"+ n2014['pre_2min']\n",
    "n2014['tmc_dn1_2'] = n2014['TMC'] +\" \"+ n2014['pre_2min']\n",
    "n2014['tmc_dn2_2'] = n2014['TMC'] +\" \"+ n2014['pre_2min']\n",
    "n2014['tmc_up1_2'] = n2014['TMC'] +\" \"+ n2014['pre_2min']\n",
    "n2014['tmc_up2_2'] = n2014['TMC'] +\" \"+ n2014['pre_2min']"
   ]
  },
  {
   "cell_type": "code",
   "execution_count": 34,
   "metadata": {},
   "outputs": [],
   "source": [
    "n2014 = pd.merge(n2014, inrix2014, how = 'left', left_on = 'TMC_2', right_on = 'tmc_code_')\n",
    "n2014.rename(columns = {'speed':'pre1_spd'}, inplace = True)\n",
    "\n",
    "n2014 = pd.merge(n2014, inrix2014, how = 'left', left_on = 'tmc_dn1_2', right_on = 'tmc_code_')\n",
    "n2014.rename(columns = {'speed':'pre1_dn1_spd'}, inplace = True)\n",
    "\n",
    "n2014 = pd.merge(n2014, inrix2014, how = 'left', left_on = 'tmc_dn2_2', right_on = 'tmc_code_')\n",
    "n2014.rename(columns = {'speed':'pre1_dn2_spd'}, inplace = True)\n",
    "\n",
    "n2014 = pd.merge(n2014, inrix2014, how = 'left', left_on = 'tmc_up2_2', right_on = 'tmc_code_')\n",
    "n2014.rename(columns = {'speed':'pre1_up1_spd'}, inplace = True)\n",
    "\n",
    "n2014 = pd.merge(n2014, inrix2014, how = 'left', left_on = 'tmc_up2_2', right_on = 'tmc_code_')\n",
    "n2014.rename(columns = {'speed':'pre1_up2_spd'}, inplace = True)"
   ]
  },
  {
   "cell_type": "markdown",
   "metadata": {},
   "source": [
    "#### Pre_3minute"
   ]
  },
  {
   "cell_type": "code",
   "execution_count": 35,
   "metadata": {},
   "outputs": [],
   "source": [
    "n2014['pre_3min'] = n2014['pre_3min'].astype(str)\n",
    "\n",
    "n2014['TMC_3'] = n2014['TMC'] +\" \"+ n2014['pre_3min']\n",
    "n2014['tmc_dn1_3'] = n2014['TMC'] +\" \"+ n2014['pre_3min']\n",
    "n2014['tmc_dn2_3'] = n2014['TMC'] +\" \"+ n2014['pre_3min']\n",
    "n2014['tmc_up1_3'] = n2014['TMC'] +\" \"+ n2014['pre_3min']\n",
    "n2014['tmc_up2_3'] = n2014['TMC'] +\" \"+ n2014['pre_3min']"
   ]
  },
  {
   "cell_type": "code",
   "execution_count": 36,
   "metadata": {},
   "outputs": [],
   "source": [
    "n2014 = pd.merge(n2014, inrix2014, how = 'left', left_on = 'TMC_3', right_on = 'tmc_code_')\n",
    "n2014.rename(columns = {'speed':'pre1_spd'}, inplace = True)\n",
    "\n",
    "n2014 = pd.merge(n2014, inrix2014, how = 'left', left_on = 'tmc_dn1_3', right_on = 'tmc_code_')\n",
    "n2014.rename(columns = {'speed':'pre1_dn1_spd'}, inplace = True)\n",
    "\n",
    "n2014 = pd.merge(n2014, inrix2014, how = 'left', left_on = 'tmc_dn2_3', right_on = 'tmc_code_')\n",
    "n2014.rename(columns = {'speed':'pre1_dn2_spd'}, inplace = True)\n",
    "\n",
    "n2014 = pd.merge(n2014, inrix2014, how = 'left', left_on = 'tmc_up2_3', right_on = 'tmc_code_')\n",
    "n2014.rename(columns = {'speed':'pre1_up1_spd'}, inplace = True)\n",
    "\n",
    "n2014 = pd.merge(n2014, inrix2014, how = 'left', left_on = 'tmc_up2_3', right_on = 'tmc_code_')\n",
    "n2014.rename(columns = {'speed':'pre1_up2_spd'}, inplace = True)"
   ]
  },
  {
   "cell_type": "markdown",
   "metadata": {},
   "source": [
    "#### Pre_4minute"
   ]
  },
  {
   "cell_type": "code",
   "execution_count": 37,
   "metadata": {},
   "outputs": [],
   "source": [
    "n2014['pre_4min'] = n2014['pre_4min'].astype(str)\n",
    "\n",
    "n2014['TMC_4'] = n2014['TMC'] +\" \"+ n2014['pre_4min']\n",
    "n2014['tmc_dn1_4'] = n2014['TMC'] +\" \"+ n2014['pre_4min']\n",
    "n2014['tmc_dn2_4'] = n2014['TMC'] +\" \"+ n2014['pre_4min']\n",
    "n2014['tmc_up1_4'] = n2014['TMC'] +\" \"+ n2014['pre_4min']\n",
    "n2014['tmc_up2_4'] = n2014['TMC'] +\" \"+ n2014['pre_4min']"
   ]
  },
  {
   "cell_type": "code",
   "execution_count": 38,
   "metadata": {},
   "outputs": [],
   "source": [
    "n2014 = pd.merge(n2014, inrix2014, how = 'left', left_on = 'TMC_4', right_on = 'tmc_code_')\n",
    "n2014.rename(columns = {'speed':'pre1_spd'}, inplace = True)\n",
    "\n",
    "n2014 = pd.merge(n2014, inrix2014, how = 'left', left_on = 'tmc_dn1_4', right_on = 'tmc_code_')\n",
    "n2014.rename(columns = {'speed':'pre1_dn1_spd'}, inplace = True)\n",
    "\n",
    "n2014 = pd.merge(n2014, inrix2014, how = 'left', left_on = 'tmc_dn2_4', right_on = 'tmc_code_')\n",
    "n2014.rename(columns = {'speed':'pre1_dn2_spd'}, inplace = True)\n",
    "\n",
    "n2014 = pd.merge(n2014, inrix2014, how = 'left', left_on = 'tmc_up2_4', right_on = 'tmc_code_')\n",
    "n2014.rename(columns = {'speed':'pre1_up1_spd'}, inplace = True)\n",
    "\n",
    "n2014 = pd.merge(n2014, inrix2014, how = 'left', left_on = 'tmc_up2_4', right_on = 'tmc_code_')\n",
    "n2014.rename(columns = {'speed':'pre1_up2_spd'}, inplace = True)"
   ]
  },
  {
   "cell_type": "markdown",
   "metadata": {},
   "source": [
    "#### Pre_5minute"
   ]
  },
  {
   "cell_type": "code",
   "execution_count": 39,
   "metadata": {},
   "outputs": [],
   "source": [
    "n2014['pre_5min'] = n2014['pre_5min'].astype(str)\n",
    "\n",
    "n2014['TMC_5'] = n2014['TMC'] +\" \"+ n2014['pre_5min']\n",
    "n2014['tmc_dn1_5'] = n2014['TMC'] +\" \"+ n2014['pre_5min']\n",
    "n2014['tmc_dn2_5'] = n2014['TMC'] +\" \"+ n2014['pre_5min']\n",
    "n2014['tmc_up1_5'] = n2014['TMC'] +\" \"+ n2014['pre_5min']\n",
    "n2014['tmc_up2_5'] = n2014['TMC'] +\" \"+ n2014['pre_5min']"
   ]
  },
  {
   "cell_type": "code",
   "execution_count": 40,
   "metadata": {},
   "outputs": [],
   "source": [
    "n2014 = pd.merge(n2014, inrix2014, how = 'left', left_on = 'TMC_5', right_on = 'tmc_code_')\n",
    "n2014.rename(columns = {'speed':'pre1_spd'}, inplace = True)\n",
    "\n",
    "n2014 = pd.merge(n2014, inrix2014, how = 'left', left_on = 'tmc_dn1_5', right_on = 'tmc_code_')\n",
    "n2014.rename(columns = {'speed':'pre1_dn1_spd'}, inplace = True)\n",
    "\n",
    "n2014 = pd.merge(n2014, inrix2014, how = 'left', left_on = 'tmc_dn2_5', right_on = 'tmc_code_')\n",
    "n2014.rename(columns = {'speed':'pre1_dn2_spd'}, inplace = True)\n",
    "\n",
    "n2014 = pd.merge(n2014, inrix2014, how = 'left', left_on = 'tmc_up2_5', right_on = 'tmc_code_')\n",
    "n2014.rename(columns = {'speed':'pre1_up1_spd'}, inplace = True)\n",
    "\n",
    "n2014 = pd.merge(n2014, inrix2014, how = 'left', left_on = 'tmc_up2_5', right_on = 'tmc_code_')\n",
    "n2014.rename(columns = {'speed':'pre1_up2_spd'}, inplace = True)"
   ]
  },
  {
   "cell_type": "markdown",
   "metadata": {},
   "source": [
    "#### Pre_6minute"
   ]
  },
  {
   "cell_type": "code",
   "execution_count": 41,
   "metadata": {},
   "outputs": [],
   "source": [
    "n2014['pre_6min'] = n2014['pre_6min'].astype(str)\n",
    "\n",
    "n2014['TMC_6'] = n2014['TMC'] +\" \"+ n2014['pre_6min']\n",
    "n2014['tmc_dn1_6'] = n2014['TMC'] +\" \"+ n2014['pre_6min']\n",
    "n2014['tmc_dn2_6'] = n2014['TMC'] +\" \"+ n2014['pre_6min']\n",
    "n2014['tmc_up1_6'] = n2014['TMC'] +\" \"+ n2014['pre_6min']\n",
    "n2014['tmc_up2_6'] = n2014['TMC'] +\" \"+ n2014['pre_6min']"
   ]
  },
  {
   "cell_type": "code",
   "execution_count": 42,
   "metadata": {},
   "outputs": [],
   "source": [
    "n2014 = pd.merge(n2014, inrix2014, how = 'left', left_on = 'TMC_6', right_on = 'tmc_code_')\n",
    "n2014.rename(columns = {'speed':'pre1_spd'}, inplace = True)\n",
    "\n",
    "n2014 = pd.merge(n2014, inrix2014, how = 'left', left_on = 'tmc_dn1_6', right_on = 'tmc_code_')\n",
    "n2014.rename(columns = {'speed':'pre1_dn1_spd'}, inplace = True)\n",
    "\n",
    "n2014 = pd.merge(n2014, inrix2014, how = 'left', left_on = 'tmc_dn2_6', right_on = 'tmc_code_')\n",
    "n2014.rename(columns = {'speed':'pre1_dn2_spd'}, inplace = True)\n",
    "\n",
    "n2014 = pd.merge(n2014, inrix2014, how = 'left', left_on = 'tmc_up2_6', right_on = 'tmc_code_')\n",
    "n2014.rename(columns = {'speed':'pre1_up1_spd'}, inplace = True)\n",
    "\n",
    "n2014 = pd.merge(n2014, inrix2014, how = 'left', left_on = 'tmc_up2_6', right_on = 'tmc_code_')\n",
    "n2014.rename(columns = {'speed':'pre1_up2_spd'}, inplace = True)"
   ]
  },
  {
   "cell_type": "markdown",
   "metadata": {},
   "source": [
    "#### Pre_7minute"
   ]
  },
  {
   "cell_type": "code",
   "execution_count": 43,
   "metadata": {},
   "outputs": [],
   "source": [
    "n2014['pre_7min'] = n2014['pre_7min'].astype(str)\n",
    "\n",
    "n2014['TMC_7'] = n2014['TMC'] +\" \"+ n2014['pre_7min']\n",
    "n2014['tmc_dn1_7'] = n2014['TMC'] +\" \"+ n2014['pre_7min']\n",
    "n2014['tmc_dn2_7'] = n2014['TMC'] +\" \"+ n2014['pre_7min']\n",
    "n2014['tmc_up1_7'] = n2014['TMC'] +\" \"+ n2014['pre_7min']\n",
    "n2014['tmc_up2_7'] = n2014['TMC'] +\" \"+ n2014['pre_7min']"
   ]
  },
  {
   "cell_type": "code",
   "execution_count": 44,
   "metadata": {},
   "outputs": [],
   "source": [
    "n2014 = pd.merge(n2014, inrix2014, how = 'left', left_on = 'TMC_7', right_on = 'tmc_code_')\n",
    "n2014.rename(columns = {'speed':'pre1_spd'}, inplace = True)\n",
    "\n",
    "n2014 = pd.merge(n2014, inrix2014, how = 'left', left_on = 'tmc_dn1_7', right_on = 'tmc_code_')\n",
    "n2014.rename(columns = {'speed':'pre1_dn1_spd'}, inplace = True)\n",
    "\n",
    "n2014 = pd.merge(n2014, inrix2014, how = 'left', left_on = 'tmc_dn2_7', right_on = 'tmc_code_')\n",
    "n2014.rename(columns = {'speed':'pre1_dn2_spd'}, inplace = True)\n",
    "\n",
    "n2014 = pd.merge(n2014, inrix2014, how = 'left', left_on = 'tmc_up2_7', right_on = 'tmc_code_')\n",
    "n2014.rename(columns = {'speed':'pre1_up1_spd'}, inplace = True)\n",
    "\n",
    "n2014 = pd.merge(n2014, inrix2014, how = 'left', left_on = 'tmc_up2_7', right_on = 'tmc_code_')\n",
    "n2014.rename(columns = {'speed':'pre1_up2_spd'}, inplace = True)"
   ]
  },
  {
   "cell_type": "markdown",
   "metadata": {},
   "source": [
    "#### Pre_8minute"
   ]
  },
  {
   "cell_type": "code",
   "execution_count": 45,
   "metadata": {},
   "outputs": [],
   "source": [
    "n2014['pre_8min'] = n2014['pre_8min'].astype(str)\n",
    "\n",
    "n2014['TMC_8'] = n2014['TMC'] +\" \"+ n2014['pre_8min']\n",
    "n2014['tmc_dn1_8'] = n2014['TMC'] +\" \"+ n2014['pre_8min']\n",
    "n2014['tmc_dn2_8'] = n2014['TMC'] +\" \"+ n2014['pre_8min']\n",
    "n2014['tmc_up1_8'] = n2014['TMC'] +\" \"+ n2014['pre_8min']\n",
    "n2014['tmc_up2_8'] = n2014['TMC'] +\" \"+ n2014['pre_8min']"
   ]
  },
  {
   "cell_type": "code",
   "execution_count": 46,
   "metadata": {},
   "outputs": [],
   "source": [
    "n2014 = pd.merge(n2014, inrix2014, how = 'left', left_on = 'TMC_8', right_on = 'tmc_code_')\n",
    "n2014.rename(columns = {'speed':'pre1_spd'}, inplace = True)\n",
    "\n",
    "n2014 = pd.merge(n2014, inrix2014, how = 'left', left_on = 'tmc_dn1_8', right_on = 'tmc_code_')\n",
    "n2014.rename(columns = {'speed':'pre1_dn1_spd'}, inplace = True)\n",
    "\n",
    "n2014 = pd.merge(n2014, inrix2014, how = 'left', left_on = 'tmc_dn2_8', right_on = 'tmc_code_')\n",
    "n2014.rename(columns = {'speed':'pre1_dn2_spd'}, inplace = True)\n",
    "\n",
    "n2014 = pd.merge(n2014, inrix2014, how = 'left', left_on = 'tmc_up2_8', right_on = 'tmc_code_')\n",
    "n2014.rename(columns = {'speed':'pre1_up1_spd'}, inplace = True)\n",
    "\n",
    "n2014 = pd.merge(n2014, inrix2014, how = 'left', left_on = 'tmc_up2_8', right_on = 'tmc_code_')\n",
    "n2014.rename(columns = {'speed':'pre1_up2_spd'}, inplace = True)"
   ]
  },
  {
   "cell_type": "markdown",
   "metadata": {},
   "source": [
    "#### Pre_9minute"
   ]
  },
  {
   "cell_type": "code",
   "execution_count": 47,
   "metadata": {},
   "outputs": [],
   "source": [
    "n2014['pre_9min'] = n2014['pre_9min'].astype(str)\n",
    "\n",
    "n2014['TMC_9'] = n2014['TMC'] +\" \"+ n2014['pre_9min']\n",
    "n2014['tmc_dn1_9'] = n2014['TMC'] +\" \"+ n2014['pre_9min']\n",
    "n2014['tmc_dn2_9'] = n2014['TMC'] +\" \"+ n2014['pre_9min']\n",
    "n2014['tmc_up1_9'] = n2014['TMC'] +\" \"+ n2014['pre_9min']\n",
    "n2014['tmc_up2_9'] = n2014['TMC'] +\" \"+ n2014['pre_9min']"
   ]
  },
  {
   "cell_type": "code",
   "execution_count": 48,
   "metadata": {},
   "outputs": [],
   "source": [
    "n2014 = pd.merge(n2014, inrix2014, how = 'left', left_on = 'TMC_9', right_on = 'tmc_code_')\n",
    "n2014.rename(columns = {'speed':'pre1_spd'}, inplace = True)\n",
    "\n",
    "n2014 = pd.merge(n2014, inrix2014, how = 'left', left_on = 'tmc_dn1_9', right_on = 'tmc_code_')\n",
    "n2014.rename(columns = {'speed':'pre1_dn1_spd'}, inplace = True)\n",
    "\n",
    "n2014 = pd.merge(n2014, inrix2014, how = 'left', left_on = 'tmc_dn2_9', right_on = 'tmc_code_')\n",
    "n2014.rename(columns = {'speed':'pre1_dn2_spd'}, inplace = True)\n",
    "\n",
    "n2014 = pd.merge(n2014, inrix2014, how = 'left', left_on = 'tmc_up2_9', right_on = 'tmc_code_')\n",
    "n2014.rename(columns = {'speed':'pre1_up1_spd'}, inplace = True)\n",
    "\n",
    "n2014 = pd.merge(n2014, inrix2014, how = 'left', left_on = 'tmc_up2_9', right_on = 'tmc_code_')\n",
    "n2014.rename(columns = {'speed':'pre1_up2_spd'}, inplace = True)"
   ]
  },
  {
   "cell_type": "markdown",
   "metadata": {},
   "source": [
    "#### Pre_10minute"
   ]
  },
  {
   "cell_type": "code",
   "execution_count": 49,
   "metadata": {},
   "outputs": [],
   "source": [
    "n2014['pre_10min'] = n2014['pre_10min'].astype(str)\n",
    "\n",
    "n2014['TMC_10'] = n2014['TMC'] +\" \"+ n2014['pre_10min']\n",
    "n2014['tmc_dn1_10'] = n2014['TMC'] +\" \"+ n2014['pre_10min']\n",
    "n2014['tmc_dn2_10'] = n2014['TMC'] +\" \"+ n2014['pre_10min']\n",
    "n2014['tmc_up1_10'] = n2014['TMC'] +\" \"+ n2014['pre_10min']\n",
    "n2014['tmc_up2_10'] = n2014['TMC'] +\" \"+ n2014['pre_10min']"
   ]
  },
  {
   "cell_type": "code",
   "execution_count": 50,
   "metadata": {},
   "outputs": [],
   "source": [
    "n2014 = pd.merge(n2014, inrix2014, how = 'left', left_on = 'TMC_10', right_on = 'tmc_code_')\n",
    "n2014.rename(columns = {'speed':'pre1_spd'}, inplace = True)\n",
    "\n",
    "n2014 = pd.merge(n2014, inrix2014, how = 'left', left_on = 'tmc_dn1_10', right_on = 'tmc_code_')\n",
    "n2014.rename(columns = {'speed':'pre1_dn1_spd'}, inplace = True)\n",
    "\n",
    "n2014 = pd.merge(n2014, inrix2014, how = 'left', left_on = 'tmc_dn2_10', right_on = 'tmc_code_')\n",
    "n2014.rename(columns = {'speed':'pre1_dn2_spd'}, inplace = True)\n",
    "\n",
    "n2014 = pd.merge(n2014, inrix2014, how = 'left', left_on = 'tmc_up2_10', right_on = 'tmc_code_')\n",
    "n2014.rename(columns = {'speed':'pre1_up1_spd'}, inplace = True)\n",
    "\n",
    "n2014 = pd.merge(n2014, inrix2014, how = 'left', left_on = 'tmc_up2_10', right_on = 'tmc_code_')\n",
    "n2014.rename(columns = {'speed':'pre1_up2_spd'}, inplace = True)"
   ]
  },
  {
   "cell_type": "markdown",
   "metadata": {},
   "source": [
    "#### Pre_11minute"
   ]
  },
  {
   "cell_type": "code",
   "execution_count": 51,
   "metadata": {},
   "outputs": [],
   "source": [
    "n2014['pre_11min'] = n2014['pre_11min'].astype(str)\n",
    "\n",
    "n2014['TMC_11'] = n2014['TMC'] +\" \"+ n2014['pre_11min']\n",
    "n2014['tmc_dn1_11'] = n2014['TMC'] +\" \"+ n2014['pre_11min']\n",
    "n2014['tmc_dn2_11'] = n2014['TMC'] +\" \"+ n2014['pre_11min']\n",
    "n2014['tmc_up1_11'] = n2014['TMC'] +\" \"+ n2014['pre_11min']\n",
    "n2014['tmc_up2_11'] = n2014['TMC'] +\" \"+ n2014['pre_11min']"
   ]
  },
  {
   "cell_type": "code",
   "execution_count": 52,
   "metadata": {},
   "outputs": [],
   "source": [
    "n2014 = pd.merge(n2014, inrix2014, how = 'left', left_on = 'TMC_11', right_on = 'tmc_code_')\n",
    "n2014.rename(columns = {'speed':'pre1_spd'}, inplace = True)\n",
    "\n",
    "n2014 = pd.merge(n2014, inrix2014, how = 'left', left_on = 'tmc_dn1_11', right_on = 'tmc_code_')\n",
    "n2014.rename(columns = {'speed':'pre1_dn1_spd'}, inplace = True)\n",
    "\n",
    "n2014 = pd.merge(n2014, inrix2014, how = 'left', left_on = 'tmc_dn2_11', right_on = 'tmc_code_')\n",
    "n2014.rename(columns = {'speed':'pre1_dn2_spd'}, inplace = True)\n",
    "\n",
    "n2014 = pd.merge(n2014, inrix2014, how = 'left', left_on = 'tmc_up2_11', right_on = 'tmc_code_')\n",
    "n2014.rename(columns = {'speed':'pre1_up1_spd'}, inplace = True)\n",
    "\n",
    "n2014 = pd.merge(n2014, inrix2014, how = 'left', left_on = 'tmc_up2_11', right_on = 'tmc_code_')\n",
    "n2014.rename(columns = {'speed':'pre1_up2_spd'}, inplace = True)"
   ]
  },
  {
   "cell_type": "markdown",
   "metadata": {},
   "source": [
    "#### Pre_12minute"
   ]
  },
  {
   "cell_type": "code",
   "execution_count": 53,
   "metadata": {},
   "outputs": [],
   "source": [
    "n2014['pre_12min'] = n2014['pre_12min'].astype(str)\n",
    "\n",
    "n2014['TMC_12'] = n2014['TMC'] +\" \"+ n2014['pre_12min']\n",
    "n2014['tmc_dn1_12'] = n2014['TMC'] +\" \"+ n2014['pre_12min']\n",
    "n2014['tmc_dn2_12'] = n2014['TMC'] +\" \"+ n2014['pre_12min']\n",
    "n2014['tmc_up1_12'] = n2014['TMC'] +\" \"+ n2014['pre_12min']\n",
    "n2014['tmc_up2_12'] = n2014['TMC'] +\" \"+ n2014['pre_12min']"
   ]
  },
  {
   "cell_type": "code",
   "execution_count": 54,
   "metadata": {},
   "outputs": [],
   "source": [
    "n2014 = pd.merge(n2014, inrix2014, how = 'left', left_on = 'TMC_12', right_on = 'tmc_code_')\n",
    "n2014.rename(columns = {'speed':'pre1_spd'}, inplace = True)\n",
    "\n",
    "n2014 = pd.merge(n2014, inrix2014, how = 'left', left_on = 'tmc_dn1_12', right_on = 'tmc_code_')\n",
    "n2014.rename(columns = {'speed':'pre1_dn1_spd'}, inplace = True)\n",
    "\n",
    "n2014 = pd.merge(n2014, inrix2014, how = 'left', left_on = 'tmc_dn2_12', right_on = 'tmc_code_')\n",
    "n2014.rename(columns = {'speed':'pre1_dn2_spd'}, inplace = True)\n",
    "\n",
    "n2014 = pd.merge(n2014, inrix2014, how = 'left', left_on = 'tmc_up2_12', right_on = 'tmc_code_')\n",
    "n2014.rename(columns = {'speed':'pre1_up1_spd'}, inplace = True)\n",
    "\n",
    "n2014 = pd.merge(n2014, inrix2014, how = 'left', left_on = 'tmc_up2_12', right_on = 'tmc_code_')\n",
    "n2014.rename(columns = {'speed':'pre1_up2_spd'}, inplace = True)"
   ]
  },
  {
   "cell_type": "markdown",
   "metadata": {},
   "source": [
    "#### Pre_13minute"
   ]
  },
  {
   "cell_type": "code",
   "execution_count": 55,
   "metadata": {},
   "outputs": [],
   "source": [
    "n2014['pre_13min'] = n2014['pre_13min'].astype(str)\n",
    "\n",
    "n2014['TMC_13'] = n2014['TMC'] +\" \"+ n2014['pre_13min']\n",
    "n2014['tmc_dn1_13'] = n2014['TMC'] +\" \"+ n2014['pre_13min']\n",
    "n2014['tmc_dn2_13'] = n2014['TMC'] +\" \"+ n2014['pre_13min']\n",
    "n2014['tmc_up1_13'] = n2014['TMC'] +\" \"+ n2014['pre_13min']\n",
    "n2014['tmc_up2_13'] = n2014['TMC'] +\" \"+ n2014['pre_13min']"
   ]
  },
  {
   "cell_type": "code",
   "execution_count": 56,
   "metadata": {},
   "outputs": [],
   "source": [
    "n2014 = pd.merge(n2014, inrix2014, how = 'left', left_on = 'TMC_13', right_on = 'tmc_code_')\n",
    "n2014.rename(columns = {'speed':'pre1_spd'}, inplace = True)\n",
    "\n",
    "n2014 = pd.merge(n2014, inrix2014, how = 'left', left_on = 'tmc_dn1_13', right_on = 'tmc_code_')\n",
    "n2014.rename(columns = {'speed':'pre1_dn1_spd'}, inplace = True)\n",
    "\n",
    "n2014 = pd.merge(n2014, inrix2014, how = 'left', left_on = 'tmc_dn2_13', right_on = 'tmc_code_')\n",
    "n2014.rename(columns = {'speed':'pre1_dn2_spd'}, inplace = True)\n",
    "\n",
    "n2014 = pd.merge(n2014, inrix2014, how = 'left', left_on = 'tmc_up2_13', right_on = 'tmc_code_')\n",
    "n2014.rename(columns = {'speed':'pre1_up1_spd'}, inplace = True)\n",
    "\n",
    "n2014 = pd.merge(n2014, inrix2014, how = 'left', left_on = 'tmc_up2_13', right_on = 'tmc_code_')\n",
    "n2014.rename(columns = {'speed':'pre1_up2_spd'}, inplace = True)"
   ]
  },
  {
   "cell_type": "markdown",
   "metadata": {},
   "source": [
    "#### Pre_14minute"
   ]
  },
  {
   "cell_type": "code",
   "execution_count": 57,
   "metadata": {},
   "outputs": [],
   "source": [
    "n2014['pre_14min'] = n2014['pre_14min'].astype(str)\n",
    "\n",
    "n2014['TMC_14'] = n2014['TMC'] +\" \"+ n2014['pre_14min']\n",
    "n2014['tmc_dn1_14'] = n2014['TMC'] +\" \"+ n2014['pre_14min']\n",
    "n2014['tmc_dn2_14'] = n2014['TMC'] +\" \"+ n2014['pre_14min']\n",
    "n2014['tmc_up1_14'] = n2014['TMC'] +\" \"+ n2014['pre_14min']\n",
    "n2014['tmc_up2_14'] = n2014['TMC'] +\" \"+ n2014['pre_14min']"
   ]
  },
  {
   "cell_type": "code",
   "execution_count": 58,
   "metadata": {},
   "outputs": [],
   "source": [
    "n2014 = pd.merge(n2014, inrix2014, how = 'left', left_on = 'TMC_14', right_on = 'tmc_code_')\n",
    "n2014.rename(columns = {'speed':'pre1_spd'}, inplace = True)\n",
    "\n",
    "n2014 = pd.merge(n2014, inrix2014, how = 'left', left_on = 'tmc_dn1_14', right_on = 'tmc_code_')\n",
    "n2014.rename(columns = {'speed':'pre1_dn1_spd'}, inplace = True)\n",
    "\n",
    "n2014 = pd.merge(n2014, inrix2014, how = 'left', left_on = 'tmc_dn2_14', right_on = 'tmc_code_')\n",
    "n2014.rename(columns = {'speed':'pre1_dn2_spd'}, inplace = True)\n",
    "\n",
    "n2014 = pd.merge(n2014, inrix2014, how = 'left', left_on = 'tmc_up2_14', right_on = 'tmc_code_')\n",
    "n2014.rename(columns = {'speed':'pre1_up1_spd'}, inplace = True)\n",
    "\n",
    "n2014 = pd.merge(n2014, inrix2014, how = 'left', left_on = 'tmc_up2_14', right_on = 'tmc_code_')\n",
    "n2014.rename(columns = {'speed':'pre1_up2_spd'}, inplace = True)"
   ]
  },
  {
   "cell_type": "markdown",
   "metadata": {},
   "source": [
    "#### Pre_15minute"
   ]
  },
  {
   "cell_type": "code",
   "execution_count": 59,
   "metadata": {},
   "outputs": [],
   "source": [
    "n2014['pre_15min'] = n2014['pre_15min'].astype(str)\n",
    "\n",
    "n2014['TMC_15'] = n2014['TMC'] +\" \"+ n2014['pre_15min']\n",
    "n2014['tmc_dn1_15'] = n2014['TMC'] +\" \"+ n2014['pre_15min']\n",
    "n2014['tmc_dn2_15'] = n2014['TMC'] +\" \"+ n2014['pre_15min']\n",
    "n2014['tmc_up1_15'] = n2014['TMC'] +\" \"+ n2014['pre_15min']\n",
    "n2014['tmc_up2_15'] = n2014['TMC'] +\" \"+ n2014['pre_15min']"
   ]
  },
  {
   "cell_type": "code",
   "execution_count": 60,
   "metadata": {},
   "outputs": [],
   "source": [
    "n2014 = pd.merge(n2014, inrix2014, how = 'left', left_on = 'TMC_15', right_on = 'tmc_code_')\n",
    "n2014.rename(columns = {'speed':'pre1_spd'}, inplace = True)\n",
    "\n",
    "n2014 = pd.merge(n2014, inrix2014, how = 'left', left_on = 'tmc_dn1_15', right_on = 'tmc_code_')\n",
    "n2014.rename(columns = {'speed':'pre1_dn1_spd'}, inplace = True)\n",
    "\n",
    "n2014 = pd.merge(n2014, inrix2014, how = 'left', left_on = 'tmc_dn2_15', right_on = 'tmc_code_')\n",
    "n2014.rename(columns = {'speed':'pre1_dn2_spd'}, inplace = True)\n",
    "\n",
    "n2014 = pd.merge(n2014, inrix2014, how = 'left', left_on = 'tmc_up2_15', right_on = 'tmc_code_')\n",
    "n2014.rename(columns = {'speed':'pre1_up1_spd'}, inplace = True)\n",
    "\n",
    "n2014 = pd.merge(n2014, inrix2014, how = 'left', left_on = 'tmc_up2_15', right_on = 'tmc_code_')\n",
    "n2014.rename(columns = {'speed':'pre1_up2_spd'}, inplace = True)"
   ]
  },
  {
   "cell_type": "code",
   "execution_count": 61,
   "metadata": {},
   "outputs": [],
   "source": [
    "n2014.to_csv('n2014_.csv')"
   ]
  },
  {
   "cell_type": "code",
   "execution_count": null,
   "metadata": {},
   "outputs": [],
   "source": []
  }
 ],
 "metadata": {
  "kernelspec": {
   "display_name": "Python 3",
   "language": "python",
   "name": "python3"
  },
  "language_info": {
   "codemirror_mode": {
    "name": "ipython",
    "version": 3
   },
   "file_extension": ".py",
   "mimetype": "text/x-python",
   "name": "python",
   "nbconvert_exporter": "python",
   "pygments_lexer": "ipython3",
   "version": "3.8.3"
  }
 },
 "nbformat": 4,
 "nbformat_minor": 2
}
