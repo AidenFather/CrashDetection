{
 "cells": [
  {
   "cell_type": "code",
   "execution_count": 1,
   "metadata": {},
   "outputs": [],
   "source": [
    "import pandas as pd\n",
    "import numpy as np\n",
    "import datetime as dt\n",
    "import datetime\n",
    "from datetime import timedelta \n",
    "import matplotlib\n",
    "import matplotlib.pyplot as plt\n",
    "%matplotlib inline"
   ]
  },
  {
   "cell_type": "markdown",
   "metadata": {},
   "source": [
    "## 0: Import and Preliminary Exploration"
   ]
  },
  {
   "cell_type": "code",
   "execution_count": 2,
   "metadata": {},
   "outputs": [],
   "source": [
    "#Load the imputed df \n",
    "df = pd.read_csv('data/df1_mp_imputed2.csv')"
   ]
  },
  {
   "cell_type": "code",
   "execution_count": 3,
   "metadata": {},
   "outputs": [],
   "source": [
    "pd.set_option('display.max_columns',500)"
   ]
  },
  {
   "cell_type": "code",
   "execution_count": 4,
   "metadata": {},
   "outputs": [
    {
     "data": {
      "text/html": [
       "<div>\n",
       "<style scoped>\n",
       "    .dataframe tbody tr th:only-of-type {\n",
       "        vertical-align: middle;\n",
       "    }\n",
       "\n",
       "    .dataframe tbody tr th {\n",
       "        vertical-align: top;\n",
       "    }\n",
       "\n",
       "    .dataframe thead th {\n",
       "        text-align: right;\n",
       "    }\n",
       "</style>\n",
       "<table border=\"1\" class=\"dataframe\">\n",
       "  <thead>\n",
       "    <tr style=\"text-align: right;\">\n",
       "      <th></th>\n",
       "      <th>272</th>\n",
       "      <th>3589</th>\n",
       "      <th>5882</th>\n",
       "    </tr>\n",
       "  </thead>\n",
       "  <tbody>\n",
       "    <tr>\n",
       "      <th>CRASH_ID</th>\n",
       "      <td>20150212ER-15-11271</td>\n",
       "      <td>20160212ER-16-10810</td>\n",
       "      <td>2.02E+17</td>\n",
       "    </tr>\n",
       "    <tr>\n",
       "      <th>CTY_NAME</th>\n",
       "      <td>BERGEN</td>\n",
       "      <td>BERGEN</td>\n",
       "      <td>PASSAIC</td>\n",
       "    </tr>\n",
       "    <tr>\n",
       "      <th>MUN_NAME</th>\n",
       "      <td>EAST RUTHERFORD BORO</td>\n",
       "      <td>EAST RUTHERFORD BORO</td>\n",
       "      <td>CLIFTON CITY</td>\n",
       "    </tr>\n",
       "    <tr>\n",
       "      <th>DATE</th>\n",
       "      <td>11/29/2015</td>\n",
       "      <td>12/21/2016</td>\n",
       "      <td>3/28/2017</td>\n",
       "    </tr>\n",
       "    <tr>\n",
       "      <th>DAY</th>\n",
       "      <td>S</td>\n",
       "      <td>W</td>\n",
       "      <td>TU</td>\n",
       "    </tr>\n",
       "    <tr>\n",
       "      <th>TIME</th>\n",
       "      <td>1721.0</td>\n",
       "      <td>1734.00</td>\n",
       "      <td>749.00</td>\n",
       "    </tr>\n",
       "    <tr>\n",
       "      <th>POL_CODE</th>\n",
       "      <td>1</td>\n",
       "      <td>1</td>\n",
       "      <td>1</td>\n",
       "    </tr>\n",
       "    <tr>\n",
       "      <th>POL_DEPT</th>\n",
       "      <td>EAST RUTHERFORD PD</td>\n",
       "      <td>EAST RUTHERFORD PD</td>\n",
       "      <td>CLIFTON PD</td>\n",
       "    </tr>\n",
       "    <tr>\n",
       "      <th>POL_STA</th>\n",
       "      <td>ERPD</td>\n",
       "      <td>NaN</td>\n",
       "      <td>NaN</td>\n",
       "    </tr>\n",
       "    <tr>\n",
       "      <th>KILLED</th>\n",
       "      <td>0</td>\n",
       "      <td>0</td>\n",
       "      <td>0</td>\n",
       "    </tr>\n",
       "    <tr>\n",
       "      <th>INJURED</th>\n",
       "      <td>0</td>\n",
       "      <td>0</td>\n",
       "      <td>0</td>\n",
       "    </tr>\n",
       "    <tr>\n",
       "      <th>PED_KILL</th>\n",
       "      <td>0</td>\n",
       "      <td>0</td>\n",
       "      <td>0</td>\n",
       "    </tr>\n",
       "    <tr>\n",
       "      <th>PED_INJ</th>\n",
       "      <td>0</td>\n",
       "      <td>0</td>\n",
       "      <td>0</td>\n",
       "    </tr>\n",
       "    <tr>\n",
       "      <th>SEVERITY</th>\n",
       "      <td>P</td>\n",
       "      <td>P</td>\n",
       "      <td>P</td>\n",
       "    </tr>\n",
       "    <tr>\n",
       "      <th>INTERSEC</th>\n",
       "      <td>B</td>\n",
       "      <td>B</td>\n",
       "      <td>B</td>\n",
       "    </tr>\n",
       "    <tr>\n",
       "      <th>ALCOHOL</th>\n",
       "      <td>N</td>\n",
       "      <td>N</td>\n",
       "      <td>N</td>\n",
       "    </tr>\n",
       "    <tr>\n",
       "      <th>HAZMAT</th>\n",
       "      <td>N</td>\n",
       "      <td>N</td>\n",
       "      <td>N</td>\n",
       "    </tr>\n",
       "    <tr>\n",
       "      <th>CRASH_TYPE</th>\n",
       "      <td>2.0</td>\n",
       "      <td>1.00</td>\n",
       "      <td>8.00</td>\n",
       "    </tr>\n",
       "    <tr>\n",
       "      <th>VEH_COUNT</th>\n",
       "      <td>2</td>\n",
       "      <td>3</td>\n",
       "      <td>2</td>\n",
       "    </tr>\n",
       "    <tr>\n",
       "      <th>LOCATION</th>\n",
       "      <td>NJ 3                                          ...</td>\n",
       "      <td>NJ 3                                          ...</td>\n",
       "      <td>NJ 3                                          ...</td>\n",
       "    </tr>\n",
       "    <tr>\n",
       "      <th>LOC_DIR</th>\n",
       "      <td>E</td>\n",
       "      <td>W</td>\n",
       "      <td>W</td>\n",
       "    </tr>\n",
       "    <tr>\n",
       "      <th>ROUTE</th>\n",
       "      <td>3</td>\n",
       "      <td>3</td>\n",
       "      <td>3</td>\n",
       "    </tr>\n",
       "    <tr>\n",
       "      <th>RT_SFX</th>\n",
       "      <td>NaN</td>\n",
       "      <td>NaN</td>\n",
       "      <td>NaN</td>\n",
       "    </tr>\n",
       "    <tr>\n",
       "      <th>SRI</th>\n",
       "      <td>00000003__</td>\n",
       "      <td>00000003__</td>\n",
       "      <td>00000003__</td>\n",
       "    </tr>\n",
       "    <tr>\n",
       "      <th>MP</th>\n",
       "      <td>7.1</td>\n",
       "      <td>8.03</td>\n",
       "      <td>0.55</td>\n",
       "    </tr>\n",
       "    <tr>\n",
       "      <th>RD_SYS</th>\n",
       "      <td>2</td>\n",
       "      <td>2</td>\n",
       "      <td>2</td>\n",
       "    </tr>\n",
       "    <tr>\n",
       "      <th>RD_CHAR</th>\n",
       "      <td>4.0</td>\n",
       "      <td>2.00</td>\n",
       "      <td>NaN</td>\n",
       "    </tr>\n",
       "    <tr>\n",
       "      <th>RD_SURF</th>\n",
       "      <td>2.0</td>\n",
       "      <td>1.00</td>\n",
       "      <td>2.00</td>\n",
       "    </tr>\n",
       "    <tr>\n",
       "      <th>SURF_COND</th>\n",
       "      <td>1.0</td>\n",
       "      <td>1.00</td>\n",
       "      <td>1.00</td>\n",
       "    </tr>\n",
       "    <tr>\n",
       "      <th>LIGHT</th>\n",
       "      <td>6.0</td>\n",
       "      <td>6.00</td>\n",
       "      <td>1.00</td>\n",
       "    </tr>\n",
       "    <tr>\n",
       "      <th>WEATHER</th>\n",
       "      <td>1.0</td>\n",
       "      <td>1.00</td>\n",
       "      <td>1.00</td>\n",
       "    </tr>\n",
       "    <tr>\n",
       "      <th>RD_DIV</th>\n",
       "      <td>5.0</td>\n",
       "      <td>1.00</td>\n",
       "      <td>5.00</td>\n",
       "    </tr>\n",
       "    <tr>\n",
       "      <th>RD_WRKZN</th>\n",
       "      <td>1.0</td>\n",
       "      <td>1.00</td>\n",
       "      <td>1.00</td>\n",
       "    </tr>\n",
       "    <tr>\n",
       "      <th>X_DIST</th>\n",
       "      <td>NaN</td>\n",
       "      <td>NaN</td>\n",
       "      <td>200.00</td>\n",
       "    </tr>\n",
       "    <tr>\n",
       "      <th>DIST_UNT</th>\n",
       "      <td>NaN</td>\n",
       "      <td>NaN</td>\n",
       "      <td>FE</td>\n",
       "    </tr>\n",
       "    <tr>\n",
       "      <th>X_DIR</th>\n",
       "      <td>E</td>\n",
       "      <td>NaN</td>\n",
       "      <td>E</td>\n",
       "    </tr>\n",
       "    <tr>\n",
       "      <th>X_NAME</th>\n",
       "      <td>NaN</td>\n",
       "      <td>NaN</td>\n",
       "      <td>CR 623 / GROVE ST</td>\n",
       "    </tr>\n",
       "    <tr>\n",
       "      <th>IS_RAMP</th>\n",
       "      <td>NaN</td>\n",
       "      <td>NaN</td>\n",
       "      <td>NaN</td>\n",
       "    </tr>\n",
       "    <tr>\n",
       "      <th>RAMP_RT</th>\n",
       "      <td>NaN</td>\n",
       "      <td>NaN</td>\n",
       "      <td>NaN</td>\n",
       "    </tr>\n",
       "    <tr>\n",
       "      <th>RAMP_DIR</th>\n",
       "      <td>NaN</td>\n",
       "      <td>NaN</td>\n",
       "      <td>NaN</td>\n",
       "    </tr>\n",
       "    <tr>\n",
       "      <th>SPD_LMT</th>\n",
       "      <td>40.0</td>\n",
       "      <td>55.00</td>\n",
       "      <td>55.00</td>\n",
       "    </tr>\n",
       "    <tr>\n",
       "      <th>SPD_X</th>\n",
       "      <td>NaN</td>\n",
       "      <td>NaN</td>\n",
       "      <td>35.00</td>\n",
       "    </tr>\n",
       "    <tr>\n",
       "      <th>LAT</th>\n",
       "      <td>NaN</td>\n",
       "      <td>NaN</td>\n",
       "      <td>NaN</td>\n",
       "    </tr>\n",
       "    <tr>\n",
       "      <th>LONG</th>\n",
       "      <td>NaN</td>\n",
       "      <td>NaN</td>\n",
       "      <td>NaN</td>\n",
       "    </tr>\n",
       "    <tr>\n",
       "      <th>CELL_USE</th>\n",
       "      <td>N</td>\n",
       "      <td>N</td>\n",
       "      <td>N</td>\n",
       "    </tr>\n",
       "    <tr>\n",
       "      <th>PROP_DMG</th>\n",
       "      <td>NaN</td>\n",
       "      <td>NaN</td>\n",
       "      <td>NaN</td>\n",
       "    </tr>\n",
       "    <tr>\n",
       "      <th>BADGE</th>\n",
       "      <td>129</td>\n",
       "      <td>141</td>\n",
       "      <td>7131</td>\n",
       "    </tr>\n",
       "    <tr>\n",
       "      <th>TIME_ROUND</th>\n",
       "      <td>17:20</td>\n",
       "      <td>17:35</td>\n",
       "      <td>7:50</td>\n",
       "    </tr>\n",
       "    <tr>\n",
       "      <th>TMC</th>\n",
       "      <td>120N04735</td>\n",
       "      <td>120+04734</td>\n",
       "      <td>120+07449</td>\n",
       "    </tr>\n",
       "  </tbody>\n",
       "</table>\n",
       "</div>"
      ],
      "text/plain": [
       "                                                         272   \\\n",
       "CRASH_ID                      20150212ER-15-11271               \n",
       "CTY_NAME                                         BERGEN         \n",
       "MUN_NAME                             EAST RUTHERFORD BORO       \n",
       "DATE                                               11/29/2015   \n",
       "DAY                                                        S    \n",
       "TIME                                                   1721.0   \n",
       "POL_CODE                                                    1   \n",
       "POL_DEPT                            EAST RUTHERFORD PD          \n",
       "POL_STA                                       ERPD              \n",
       "KILLED                                                      0   \n",
       "INJURED                                                     0   \n",
       "PED_KILL                                                    0   \n",
       "PED_INJ                                                     0   \n",
       "SEVERITY                                                    P   \n",
       "INTERSEC                                                    B   \n",
       "ALCOHOL                                                     N   \n",
       "HAZMAT                                                      N   \n",
       "CRASH_TYPE                                                2.0   \n",
       "VEH_COUNT                                                   2   \n",
       "LOCATION    NJ 3                                          ...   \n",
       "LOC_DIR                                                     E   \n",
       "ROUTE                                                       3   \n",
       "RT_SFX                                                    NaN   \n",
       "SRI                                          00000003__         \n",
       "MP                                                        7.1   \n",
       "RD_SYS                                                      2   \n",
       "RD_CHAR                                                   4.0   \n",
       "RD_SURF                                                   2.0   \n",
       "SURF_COND                                                 1.0   \n",
       "LIGHT                                                     6.0   \n",
       "WEATHER                                                   1.0   \n",
       "RD_DIV                                                    5.0   \n",
       "RD_WRKZN                                                  1.0   \n",
       "X_DIST                                                    NaN   \n",
       "DIST_UNT                                                  NaN   \n",
       "X_DIR                                                       E   \n",
       "X_NAME                                                    NaN   \n",
       "IS_RAMP                                                   NaN   \n",
       "RAMP_RT                                                   NaN   \n",
       "RAMP_DIR                                                  NaN   \n",
       "SPD_LMT                                                  40.0   \n",
       "SPD_X                                                     NaN   \n",
       "LAT                                                       NaN   \n",
       "LONG                                                      NaN   \n",
       "CELL_USE                                                    N   \n",
       "PROP_DMG                                                  NaN   \n",
       "BADGE                                                     129   \n",
       "TIME_ROUND                                              17:20   \n",
       "TMC                                                 120N04735   \n",
       "\n",
       "                                                         3589  \\\n",
       "CRASH_ID                      20160212ER-16-10810               \n",
       "CTY_NAME                                         BERGEN         \n",
       "MUN_NAME                             EAST RUTHERFORD BORO       \n",
       "DATE                                               12/21/2016   \n",
       "DAY                                                        W    \n",
       "TIME                                                  1734.00   \n",
       "POL_CODE                                                    1   \n",
       "POL_DEPT                            EAST RUTHERFORD PD          \n",
       "POL_STA                                                   NaN   \n",
       "KILLED                                                      0   \n",
       "INJURED                                                     0   \n",
       "PED_KILL                                                    0   \n",
       "PED_INJ                                                     0   \n",
       "SEVERITY                                                    P   \n",
       "INTERSEC                                                    B   \n",
       "ALCOHOL                                                     N   \n",
       "HAZMAT                                                      N   \n",
       "CRASH_TYPE                                               1.00   \n",
       "VEH_COUNT                                                   3   \n",
       "LOCATION    NJ 3                                          ...   \n",
       "LOC_DIR                                                     W   \n",
       "ROUTE                                                       3   \n",
       "RT_SFX                                                    NaN   \n",
       "SRI                                          00000003__         \n",
       "MP                                                       8.03   \n",
       "RD_SYS                                                      2   \n",
       "RD_CHAR                                                  2.00   \n",
       "RD_SURF                                                  1.00   \n",
       "SURF_COND                                                1.00   \n",
       "LIGHT                                                    6.00   \n",
       "WEATHER                                                  1.00   \n",
       "RD_DIV                                                   1.00   \n",
       "RD_WRKZN                                                 1.00   \n",
       "X_DIST                                                    NaN   \n",
       "DIST_UNT                                                  NaN   \n",
       "X_DIR                                                     NaN   \n",
       "X_NAME                                                    NaN   \n",
       "IS_RAMP                                                   NaN   \n",
       "RAMP_RT                                                   NaN   \n",
       "RAMP_DIR                                                  NaN   \n",
       "SPD_LMT                                                 55.00   \n",
       "SPD_X                                                     NaN   \n",
       "LAT                                                       NaN   \n",
       "LONG                                                      NaN   \n",
       "CELL_USE                                                    N   \n",
       "PROP_DMG                                                  NaN   \n",
       "BADGE                                                     141   \n",
       "TIME_ROUND                                              17:35   \n",
       "TMC                                                 120+04734   \n",
       "\n",
       "                                                         5882  \n",
       "CRASH_ID                                             2.02E+17  \n",
       "CTY_NAME                                         PASSAIC       \n",
       "MUN_NAME                             CLIFTON CITY              \n",
       "DATE                                                3/28/2017  \n",
       "DAY                                                        TU  \n",
       "TIME                                                   749.00  \n",
       "POL_CODE                                                    1  \n",
       "POL_DEPT                            CLIFTON PD                 \n",
       "POL_STA                                                   NaN  \n",
       "KILLED                                                      0  \n",
       "INJURED                                                     0  \n",
       "PED_KILL                                                    0  \n",
       "PED_INJ                                                     0  \n",
       "SEVERITY                                                    P  \n",
       "INTERSEC                                                    B  \n",
       "ALCOHOL                                                     N  \n",
       "HAZMAT                                                      N  \n",
       "CRASH_TYPE                                               8.00  \n",
       "VEH_COUNT                                                   2  \n",
       "LOCATION    NJ 3                                          ...  \n",
       "LOC_DIR                                                     W  \n",
       "ROUTE                                                       3  \n",
       "RT_SFX                                                    NaN  \n",
       "SRI                                          00000003__        \n",
       "MP                                                       0.55  \n",
       "RD_SYS                                                      2  \n",
       "RD_CHAR                                                   NaN  \n",
       "RD_SURF                                                  2.00  \n",
       "SURF_COND                                                1.00  \n",
       "LIGHT                                                    1.00  \n",
       "WEATHER                                                  1.00  \n",
       "RD_DIV                                                   5.00  \n",
       "RD_WRKZN                                                 1.00  \n",
       "X_DIST                                                 200.00  \n",
       "DIST_UNT                                                   FE  \n",
       "X_DIR                                                       E  \n",
       "X_NAME                    CR 623 / GROVE ST                    \n",
       "IS_RAMP                                                   NaN  \n",
       "RAMP_RT                                                   NaN  \n",
       "RAMP_DIR                                                  NaN  \n",
       "SPD_LMT                                                 55.00  \n",
       "SPD_X                                                   35.00  \n",
       "LAT                                                       NaN  \n",
       "LONG                                                      NaN  \n",
       "CELL_USE                                                    N  \n",
       "PROP_DMG                                                  NaN  \n",
       "BADGE                                                    7131  \n",
       "TIME_ROUND                                               7:50  \n",
       "TMC                                                 120+07449  "
      ]
     },
     "execution_count": 4,
     "metadata": {},
     "output_type": "execute_result"
    }
   ],
   "source": [
    "# Look at a sample\n",
    "df.sample(3).sort_index().T"
   ]
  },
  {
   "cell_type": "code",
   "execution_count": 5,
   "metadata": {},
   "outputs": [
    {
     "name": "stdout",
     "output_type": "stream",
     "text": [
      "Total number of accident between 2013 and 2018: 8115\n"
     ]
    }
   ],
   "source": [
    "# Total No. of crash\n",
    "print('Total number of accident between 2013 and 2018:', df.shape[0])\n"
   ]
  },
  {
   "cell_type": "code",
   "execution_count": 6,
   "metadata": {},
   "outputs": [
    {
     "name": "stdout",
     "output_type": "stream",
     "text": [
      "Number of features in df: 49\n"
     ]
    }
   ],
   "source": [
    "# No. of features in df\n",
    "print('Number of features in df:', df.shape[1])"
   ]
  },
  {
   "cell_type": "markdown",
   "metadata": {},
   "source": [
    "## 1: Filter Irrelevant Features"
   ]
  },
  {
   "cell_type": "code",
   "execution_count": 7,
   "metadata": {},
   "outputs": [],
   "source": [
    "# Remove irrelevant features\n",
    "irrevant_cols = ['CTY_NAME', 'MUN_NAME', 'POL_CODE', 'POL_DEPT','POL_STA', 'INTERSEC', 'RT_SFX','SRI', 'X_DIST', \n",
    "                 'X_DIR', 'X_NAME', 'IS_RAMP', 'RAMP_RT', 'RAMP_DIR', 'SPD_X', 'LAT', 'LONG', 'PROP_DMG', 'BADGE', \n",
    "                 'SPD_LMT', 'DIST_UNT', 'RD_CHAR']\n",
    "                 \n",
    "df.drop(columns = irrevant_cols, inplace = True)"
   ]
  },
  {
   "cell_type": "markdown",
   "metadata": {},
   "source": [
    "### Remove Wrong Records\n",
    "\n",
    "It was found that the dataset includes crash records occurred on other roadways. These wrong records were removed."
   ]
  },
  {
   "cell_type": "code",
   "execution_count": 8,
   "metadata": {},
   "outputs": [
    {
     "data": {
      "text/plain": [
       "NJ 3                                                  7879\n",
       "MONMOUTH COUNTY 3                                      234\n",
       "OCEAN COUNTY 3                                           2\n",
       "Name: LOCATION, dtype: int64"
      ]
     },
     "execution_count": 8,
     "metadata": {},
     "output_type": "execute_result"
    }
   ],
   "source": [
    "df['LOCATION'].value_counts()"
   ]
  },
  {
   "cell_type": "code",
   "execution_count": 9,
   "metadata": {},
   "outputs": [],
   "source": [
    "# Text has an extra blank space on right side\n",
    "df['LOCATION'] = df['LOCATION'].str.rstrip()\n",
    "df.drop(df[(df['LOCATION'] == 'MONMOUTH COUNTY 3') | (df['LOCATION'] == 'OCEAN COUNTY 3')].index, inplace = True)"
   ]
  },
  {
   "cell_type": "markdown",
   "metadata": {},
   "source": [
    "The number of crash occurred on NJ 3 was 7,879 for the period between Jan, 2013 and Dec, 2018"
   ]
  },
  {
   "cell_type": "markdown",
   "metadata": {},
   "source": [
    "### Filter 'TIME' with insufficient information\n",
    "\n",
    "Note that digits 3 and 4 are insufficient information. These will be removed later"
   ]
  },
  {
   "cell_type": "code",
   "execution_count": 10,
   "metadata": {},
   "outputs": [
    {
     "data": {
      "text/plain": [
       "6    5369\n",
       "5    2343\n",
       "4     112\n",
       "3      55\n",
       "Name: TIME, dtype: int64"
      ]
     },
     "execution_count": 10,
     "metadata": {},
     "output_type": "execute_result"
    }
   ],
   "source": [
    "df['TIME'].astype(str).str.len().value_counts()"
   ]
  },
  {
   "cell_type": "code",
   "execution_count": 11,
   "metadata": {},
   "outputs": [
    {
     "data": {
      "text/plain": [
       "(167, 27)"
      ]
     },
     "execution_count": 11,
     "metadata": {},
     "output_type": "execute_result"
    }
   ],
   "source": [
    "# Number of insufficient time information\n",
    "df[df['TIME'].astype(str).str.len() <= 4].shape"
   ]
  },
  {
   "cell_type": "markdown",
   "metadata": {},
   "source": [
    "### Find the number of NA in 'MP' "
   ]
  },
  {
   "cell_type": "code",
   "execution_count": 12,
   "metadata": {},
   "outputs": [
    {
     "data": {
      "text/plain": [
       "1819"
      ]
     },
     "execution_count": 12,
     "metadata": {},
     "output_type": "execute_result"
    }
   ],
   "source": [
    "df['MP'].isna().sum(axis=0)"
   ]
  },
  {
   "cell_type": "code",
   "execution_count": 13,
   "metadata": {},
   "outputs": [
    {
     "data": {
      "text/plain": [
       "(1819, 27)"
      ]
     },
     "execution_count": 13,
     "metadata": {},
     "output_type": "execute_result"
    }
   ],
   "source": [
    "# Number of missing MP\n",
    "df[df['MP'].isna()].shape"
   ]
  },
  {
   "cell_type": "markdown",
   "metadata": {},
   "source": [
    "### Review crash frequency"
   ]
  },
  {
   "cell_type": "code",
   "execution_count": 14,
   "metadata": {},
   "outputs": [],
   "source": [
    "df['DATE'] = pd.to_datetime(df['DATE'])"
   ]
  },
  {
   "cell_type": "code",
   "execution_count": 15,
   "metadata": {},
   "outputs": [
    {
     "data": {
      "text/plain": [
       "DATE\n",
       "2013    338\n",
       "2014    390\n",
       "2015    373\n",
       "2016    423\n",
       "2017    228\n",
       "2018     63\n",
       "Name: TIME, dtype: int64"
      ]
     },
     "execution_count": 15,
     "metadata": {},
     "output_type": "execute_result"
    }
   ],
   "source": [
    "df[df['MP'].isna()].groupby(df['DATE'].dt.year)['TIME'].count()"
   ]
  },
  {
   "cell_type": "code",
   "execution_count": 16,
   "metadata": {},
   "outputs": [
    {
     "data": {
      "text/plain": [
       "DATE\n",
       "2013     917\n",
       "2014     779\n",
       "2015     727\n",
       "2016     859\n",
       "2017    1206\n",
       "2018    1440\n",
       "Name: TIME, dtype: int64"
      ]
     },
     "execution_count": 16,
     "metadata": {},
     "output_type": "execute_result"
    }
   ],
   "source": [
    "df[(df['TIME'].astype(str).str.len() > 4) & (df['MP'].isna() == False)].groupby(df['DATE'].dt.year)['TIME'].count()"
   ]
  },
  {
   "cell_type": "code",
   "execution_count": 17,
   "metadata": {},
   "outputs": [
    {
     "data": {
      "image/png": "[encoded data removed]",
      "text/plain": [
       "<Figure size 432x288 with 1 Axes>"
      ]
     },
     "metadata": {
      "needs_background": "light"
     },
     "output_type": "display_data"
    }
   ],
   "source": [
    "import matplotlib.pyplot as plt\n",
    "\n",
    "fig = plt.figure()\n",
    "ax = df[(df['TIME'].astype(str).str.len() > 4) & (df['MP'].isna() == False)].groupby(df['DATE'].dt.year)['TIME'].count().plot.bar()\n",
    "#fig.suptitle('No. of crash by year', fontsize=20)\n",
    "plt.xlabel('Year', fontsize=14)\n",
    "plt.ylabel('Count', fontsize=14)\n",
    "\n",
    "plt.show()"
   ]
  },
  {
   "cell_type": "markdown",
   "metadata": {},
   "source": [
    "#### Crash distribution per severity"
   ]
  },
  {
   "cell_type": "code",
   "execution_count": 18,
   "metadata": {},
   "outputs": [
    {
     "data": {
      "text/plain": [
       "Text(0, 0.5, 'Count')"
      ]
     },
     "execution_count": 18,
     "metadata": {},
     "output_type": "execute_result"
    },
    {
     "data": {
      "image/png": "[encoded data removed]",
      "text/plain": [
       "<Figure size 432x288 with 1 Axes>"
      ]
     },
     "metadata": {
      "needs_background": "light"
     },
     "output_type": "display_data"
    }
   ],
   "source": [
    "\n",
    "P = df[df['SEVERITY']=='P'].groupby(df['DATE'].dt.year)['SEVERITY'].count()\n",
    "I = df[df['SEVERITY']=='I'].groupby(df['DATE'].dt.year)['SEVERITY'].count()\n",
    "F = df[df['SEVERITY']=='F'].groupby(df['DATE'].dt.year)['SEVERITY'].count()\n",
    "\n",
    "index = [2013, 2014, 2015, 2016, 2017, 2018]\n",
    "\n",
    "df1 = pd.DataFrame({'Property':P, 'Incidence':I, 'Fatal':F}, index = index)\n",
    "ax = df1.plot.bar(rot=0)\n",
    "\n",
    "plt.xlabel('Year', fontsize=14)\n",
    "plt.ylabel('Count', fontsize=14)"
   ]
  },
  {
   "cell_type": "markdown",
   "metadata": {},
   "source": [
    "Convert 'TIME' data type to integer. First, fix `Nan` and write a function to convert integer into a `hh:mm` format"
   ]
  },
  {
   "cell_type": "code",
   "execution_count": 19,
   "metadata": {},
   "outputs": [],
   "source": [
    "df['TIME'].fillna(0, inplace = True)\n",
    "df['TIME'] = df['TIME'].astype(int)"
   ]
  },
  {
   "cell_type": "code",
   "execution_count": 20,
   "metadata": {},
   "outputs": [
    {
     "data": {
      "text/plain": [
       "4    5369\n",
       "3    2343\n",
       "2     112\n",
       "1      55\n",
       "Name: TIME, dtype: int64"
      ]
     },
     "execution_count": 20,
     "metadata": {},
     "output_type": "execute_result"
    }
   ],
   "source": [
    "df['TIME'].astype(str).str.len().value_counts()"
   ]
  },
  {
   "cell_type": "code",
   "execution_count": 21,
   "metadata": {},
   "outputs": [],
   "source": [
    "df.drop(df[df['TIME'].astype(str).str.len() == 1].index, inplace = True)\n",
    "df.drop(df[df['TIME'].astype(str).str.len() == 2].index, inplace = True)"
   ]
  },
  {
   "cell_type": "code",
   "execution_count": 22,
   "metadata": {},
   "outputs": [],
   "source": [
    "#Input: Military time (int)\n",
    "#Output: The hour from military time (int)\n",
    "#Desc: Extracts the hour from military time \n",
    "def time_conversion(time):\n",
    "    #turn the time into a string so we can subset it\n",
    "    time = str(time)\n",
    "    #if the military time only has two elements, that means that the time is 00:xx or 00:0x\n",
    "    if len(time)<=2:\n",
    "        return(0)\n",
    "    #if the length of the time is 3, then it will be 0y:xx in military time\n",
    "    elif len(time)==3:\n",
    "        return(time[0]+':'+time[1:3]+':'+'00')\n",
    "    else:\n",
    "        return(time[:2]+':'+time[2:4]+':'+'00')"
   ]
  },
  {
   "cell_type": "code",
   "execution_count": 23,
   "metadata": {},
   "outputs": [],
   "source": [
    "df['TIME'] = [time_conversion(i) for i in df['TIME']]"
   ]
  },
  {
   "cell_type": "code",
   "execution_count": 24,
   "metadata": {},
   "outputs": [],
   "source": [
    "from datetime import timedelta \n",
    "df['timestamp'] = pd.to_datetime(df['DATE'].apply(str) + ' ' + df['TIME'].apply(str))"
   ]
  },
  {
   "cell_type": "markdown",
   "metadata": {},
   "source": [
    "## 2: Save the Processed Data"
   ]
  },
  {
   "cell_type": "code",
   "execution_count": 25,
   "metadata": {},
   "outputs": [],
   "source": [
    "df.drop(df[df['MP'].isnull() == True].index, inplace = True)\n",
    "df.drop(df[df['TMC'].isnull() == True].index, inplace = True)"
   ]
  },
  {
   "cell_type": "code",
   "execution_count": 26,
   "metadata": {},
   "outputs": [
    {
     "name": "stdout",
     "output_type": "stream",
     "text": [
      "Total number of rows and columns: 5915 and 28\n"
     ]
    }
   ],
   "source": [
    "print('Total number of rows and columns: {} and {}'.format(df.shape[0], df.shape[1]))"
   ]
  },
  {
   "cell_type": "code",
   "execution_count": 27,
   "metadata": {},
   "outputs": [],
   "source": [
    "df.to_csv('./data/Filtered_crash_records.csv')"
   ]
  },
  {
   "cell_type": "code",
   "execution_count": null,
   "metadata": {},
   "outputs": [],
   "source": []
  }
 ],
 "metadata": {
  "kernelspec": {
   "display_name": "Python 3",
   "language": "python",
   "name": "python3"
  },
  "language_info": {
   "codemirror_mode": {
    "name": "ipython",
    "version": 3
   },
   "file_extension": ".py",
   "mimetype": "text/x-python",
   "name": "python",
   "nbconvert_exporter": "python",
   "pygments_lexer": "ipython3",
   "version": "3.7.9"
  }
 },
 "nbformat": 4,
 "nbformat_minor": 2
}
