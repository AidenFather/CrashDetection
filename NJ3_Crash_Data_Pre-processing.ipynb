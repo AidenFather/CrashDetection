{
 "cells": [
  {
   "cell_type": "code",
   "execution_count": 1,
   "metadata": {},
   "outputs": [],
   "source": [
    "import pandas as pd\n",
    "import numpy as np\n",
    "import datetime as dt\n",
    "import datetime\n",
    "from datetime import timedelta \n",
    "import matplotlib\n",
    "import matplotlib.pyplot as plt\n",
    "%matplotlib inline"
   ]
  },
  {
   "cell_type": "markdown",
   "metadata": {},
   "source": [
    "## Load Data"
   ]
  },
  {
   "cell_type": "code",
   "execution_count": 2,
   "metadata": {},
   "outputs": [],
   "source": [
    "#Load the imputed df \n",
    "df = pd.read_csv('data/df1_mp_imputed2.csv')"
   ]
  },
  {
   "cell_type": "code",
   "execution_count": 3,
   "metadata": {},
   "outputs": [],
   "source": [
    "pd.set_option('display.max_columns',500)"
   ]
  },
  {
   "cell_type": "code",
   "execution_count": 4,
   "metadata": {},
   "outputs": [
    {
     "data": {
      "text/html": [
       "<div>\n",
       "<style scoped>\n",
       "    .dataframe tbody tr th:only-of-type {\n",
       "        vertical-align: middle;\n",
       "    }\n",
       "\n",
       "    .dataframe tbody tr th {\n",
       "        vertical-align: top;\n",
       "    }\n",
       "\n",
       "    .dataframe thead th {\n",
       "        text-align: right;\n",
       "    }\n",
       "</style>\n",
       "<table border=\"1\" class=\"dataframe\">\n",
       "  <thead>\n",
       "    <tr style=\"text-align: right;\">\n",
       "      <th></th>\n",
       "      <th>CRASH_ID</th>\n",
       "      <th>CTY_NAME</th>\n",
       "      <th>MUN_NAME</th>\n",
       "      <th>DATE</th>\n",
       "      <th>DAY</th>\n",
       "      <th>TIME</th>\n",
       "      <th>POL_CODE</th>\n",
       "      <th>POL_DEPT</th>\n",
       "      <th>POL_STA</th>\n",
       "      <th>KILLED</th>\n",
       "      <th>INJURED</th>\n",
       "      <th>PED_KILL</th>\n",
       "      <th>PED_INJ</th>\n",
       "      <th>SEVERITY</th>\n",
       "      <th>INTERSEC</th>\n",
       "      <th>ALCOHOL</th>\n",
       "      <th>HAZMAT</th>\n",
       "      <th>CRASH_TYPE</th>\n",
       "      <th>VEH_COUNT</th>\n",
       "      <th>LOCATION</th>\n",
       "      <th>LOC_DIR</th>\n",
       "      <th>ROUTE</th>\n",
       "      <th>RT_SFX</th>\n",
       "      <th>SRI</th>\n",
       "      <th>MP</th>\n",
       "      <th>RD_SYS</th>\n",
       "      <th>RD_CHAR</th>\n",
       "      <th>RD_SURF</th>\n",
       "      <th>SURF_COND</th>\n",
       "      <th>LIGHT</th>\n",
       "      <th>WEATHER</th>\n",
       "      <th>RD_DIV</th>\n",
       "      <th>RD_WRKZN</th>\n",
       "      <th>X_DIST</th>\n",
       "      <th>DIST_UNT</th>\n",
       "      <th>X_DIR</th>\n",
       "      <th>X_NAME</th>\n",
       "      <th>IS_RAMP</th>\n",
       "      <th>RAMP_RT</th>\n",
       "      <th>RAMP_DIR</th>\n",
       "      <th>SPD_LMT</th>\n",
       "      <th>SPD_X</th>\n",
       "      <th>LAT</th>\n",
       "      <th>LONG</th>\n",
       "      <th>CELL_USE</th>\n",
       "      <th>PROP_DMG</th>\n",
       "      <th>BADGE</th>\n",
       "      <th>TIME_ROUND</th>\n",
       "      <th>TMC</th>\n",
       "    </tr>\n",
       "  </thead>\n",
       "  <tbody>\n",
       "    <tr>\n",
       "      <th>0</th>\n",
       "      <td>201702121</td>\n",
       "      <td>BERGEN</td>\n",
       "      <td>EAST RUTHERFORD BORO</td>\n",
       "      <td>3/29/2017</td>\n",
       "      <td>WE</td>\n",
       "      <td>1603.0</td>\n",
       "      <td>1</td>\n",
       "      <td>EAST RUTHERFORD PD</td>\n",
       "      <td>NaN</td>\n",
       "      <td>0</td>\n",
       "      <td>0</td>\n",
       "      <td>0</td>\n",
       "      <td>0</td>\n",
       "      <td>P</td>\n",
       "      <td>B</td>\n",
       "      <td>N</td>\n",
       "      <td>N</td>\n",
       "      <td>2.0</td>\n",
       "      <td>2</td>\n",
       "      <td>NJ 3                                          ...</td>\n",
       "      <td>E</td>\n",
       "      <td>3</td>\n",
       "      <td>NaN</td>\n",
       "      <td>00000003__</td>\n",
       "      <td>7.60</td>\n",
       "      <td>2</td>\n",
       "      <td>NaN</td>\n",
       "      <td>2.0</td>\n",
       "      <td>1.0</td>\n",
       "      <td>1.0</td>\n",
       "      <td>1.0</td>\n",
       "      <td>1.0</td>\n",
       "      <td>1.0</td>\n",
       "      <td>NaN</td>\n",
       "      <td>NaN</td>\n",
       "      <td>NaN</td>\n",
       "      <td>NaN</td>\n",
       "      <td>NaN</td>\n",
       "      <td>NaN</td>\n",
       "      <td>NaN</td>\n",
       "      <td>55.0</td>\n",
       "      <td>NaN</td>\n",
       "      <td>NaN</td>\n",
       "      <td>NaN</td>\n",
       "      <td>N</td>\n",
       "      <td>NaN</td>\n",
       "      <td>141</td>\n",
       "      <td>16:05</td>\n",
       "      <td>120N04734</td>\n",
       "    </tr>\n",
       "    <tr>\n",
       "      <th>1</th>\n",
       "      <td>2015021215-001780</td>\n",
       "      <td>BERGEN</td>\n",
       "      <td>EAST RUTHERFORD BORO</td>\n",
       "      <td>2/6/2015</td>\n",
       "      <td>F</td>\n",
       "      <td>2214.0</td>\n",
       "      <td>1</td>\n",
       "      <td>SECAUCUS PD</td>\n",
       "      <td>HQTS</td>\n",
       "      <td>0</td>\n",
       "      <td>2</td>\n",
       "      <td>0</td>\n",
       "      <td>0</td>\n",
       "      <td>I</td>\n",
       "      <td>B</td>\n",
       "      <td>N</td>\n",
       "      <td>N</td>\n",
       "      <td>2.0</td>\n",
       "      <td>2</td>\n",
       "      <td>NJ 3                                          ...</td>\n",
       "      <td>E</td>\n",
       "      <td>3</td>\n",
       "      <td>NaN</td>\n",
       "      <td>00000003__</td>\n",
       "      <td>8.00</td>\n",
       "      <td>2</td>\n",
       "      <td>1.0</td>\n",
       "      <td>2.0</td>\n",
       "      <td>1.0</td>\n",
       "      <td>6.0</td>\n",
       "      <td>1.0</td>\n",
       "      <td>2.0</td>\n",
       "      <td>1.0</td>\n",
       "      <td>NaN</td>\n",
       "      <td>NaN</td>\n",
       "      <td>NaN</td>\n",
       "      <td>NaN</td>\n",
       "      <td>NaN</td>\n",
       "      <td>NaN</td>\n",
       "      <td>NaN</td>\n",
       "      <td>55.0</td>\n",
       "      <td>NaN</td>\n",
       "      <td>NaN</td>\n",
       "      <td>NaN</td>\n",
       "      <td>N</td>\n",
       "      <td>NONE                                          ...</td>\n",
       "      <td>156</td>\n",
       "      <td>22:15</td>\n",
       "      <td>120-04733</td>\n",
       "    </tr>\n",
       "    <tr>\n",
       "      <th>2</th>\n",
       "      <td>2015021215-013018</td>\n",
       "      <td>BERGEN</td>\n",
       "      <td>EAST RUTHERFORD BORO</td>\n",
       "      <td>8/29/2015</td>\n",
       "      <td>SA</td>\n",
       "      <td>2146.0</td>\n",
       "      <td>1</td>\n",
       "      <td>SECAUCUS PD</td>\n",
       "      <td>HQTS</td>\n",
       "      <td>0</td>\n",
       "      <td>0</td>\n",
       "      <td>0</td>\n",
       "      <td>0</td>\n",
       "      <td>P</td>\n",
       "      <td>B</td>\n",
       "      <td>N</td>\n",
       "      <td>N</td>\n",
       "      <td>3.0</td>\n",
       "      <td>2</td>\n",
       "      <td>NJ 3                                          ...</td>\n",
       "      <td>E</td>\n",
       "      <td>3</td>\n",
       "      <td>NaN</td>\n",
       "      <td>00000003__</td>\n",
       "      <td>8.10</td>\n",
       "      <td>2</td>\n",
       "      <td>1.0</td>\n",
       "      <td>2.0</td>\n",
       "      <td>1.0</td>\n",
       "      <td>6.0</td>\n",
       "      <td>1.0</td>\n",
       "      <td>2.0</td>\n",
       "      <td>1.0</td>\n",
       "      <td>NaN</td>\n",
       "      <td>NaN</td>\n",
       "      <td>NaN</td>\n",
       "      <td>NaN</td>\n",
       "      <td>NaN</td>\n",
       "      <td>NaN</td>\n",
       "      <td>NaN</td>\n",
       "      <td>45.0</td>\n",
       "      <td>NaN</td>\n",
       "      <td>NaN</td>\n",
       "      <td>NaN</td>\n",
       "      <td>N</td>\n",
       "      <td>DENTED GUARD RAIL                             ...</td>\n",
       "      <td>160</td>\n",
       "      <td>21:45</td>\n",
       "      <td>120-04733</td>\n",
       "    </tr>\n",
       "    <tr>\n",
       "      <th>3</th>\n",
       "      <td>2013021213-012195</td>\n",
       "      <td>BERGEN</td>\n",
       "      <td>EAST RUTHERFORD BORO</td>\n",
       "      <td>7/17/2013</td>\n",
       "      <td>W</td>\n",
       "      <td>824.0</td>\n",
       "      <td>1</td>\n",
       "      <td>SECAUCUS PD</td>\n",
       "      <td>HQTS</td>\n",
       "      <td>0</td>\n",
       "      <td>1</td>\n",
       "      <td>0</td>\n",
       "      <td>0</td>\n",
       "      <td>I</td>\n",
       "      <td>B</td>\n",
       "      <td>N</td>\n",
       "      <td>N</td>\n",
       "      <td>2.0</td>\n",
       "      <td>2</td>\n",
       "      <td>NJ 3                                          ...</td>\n",
       "      <td>E</td>\n",
       "      <td>3</td>\n",
       "      <td>NaN</td>\n",
       "      <td>00000003__</td>\n",
       "      <td>8.41</td>\n",
       "      <td>2</td>\n",
       "      <td>2.0</td>\n",
       "      <td>2.0</td>\n",
       "      <td>1.0</td>\n",
       "      <td>1.0</td>\n",
       "      <td>1.0</td>\n",
       "      <td>1.0</td>\n",
       "      <td>1.0</td>\n",
       "      <td>1000.0</td>\n",
       "      <td>FE</td>\n",
       "      <td>W</td>\n",
       "      <td>MEADOWLANDS PKWY</td>\n",
       "      <td>NaN</td>\n",
       "      <td>NaN</td>\n",
       "      <td>NaN</td>\n",
       "      <td>55.0</td>\n",
       "      <td>NaN</td>\n",
       "      <td>NaN</td>\n",
       "      <td>NaN</td>\n",
       "      <td>N</td>\n",
       "      <td>NaN</td>\n",
       "      <td>150</td>\n",
       "      <td>8:25</td>\n",
       "      <td>120-04732</td>\n",
       "    </tr>\n",
       "    <tr>\n",
       "      <th>4</th>\n",
       "      <td>20170212BS-17-045134</td>\n",
       "      <td>BERGEN</td>\n",
       "      <td>EAST RUTHERFORD BORO</td>\n",
       "      <td>7/19/2017</td>\n",
       "      <td>WE</td>\n",
       "      <td>908.0</td>\n",
       "      <td>3</td>\n",
       "      <td>BERGEN CO SHERIFFS DEPT</td>\n",
       "      <td>PARAMUS</td>\n",
       "      <td>0</td>\n",
       "      <td>0</td>\n",
       "      <td>0</td>\n",
       "      <td>0</td>\n",
       "      <td>P</td>\n",
       "      <td>B</td>\n",
       "      <td>N</td>\n",
       "      <td>N</td>\n",
       "      <td>99.0</td>\n",
       "      <td>1</td>\n",
       "      <td>NJ 3                                          ...</td>\n",
       "      <td>E</td>\n",
       "      <td>3</td>\n",
       "      <td>NaN</td>\n",
       "      <td>00000003__</td>\n",
       "      <td>6.86</td>\n",
       "      <td>2</td>\n",
       "      <td>NaN</td>\n",
       "      <td>2.0</td>\n",
       "      <td>1.0</td>\n",
       "      <td>1.0</td>\n",
       "      <td>1.0</td>\n",
       "      <td>1.0</td>\n",
       "      <td>1.0</td>\n",
       "      <td>100.0</td>\n",
       "      <td>FE</td>\n",
       "      <td>E</td>\n",
       "      <td>N. SERVICE ROAD</td>\n",
       "      <td>NaN</td>\n",
       "      <td>NaN</td>\n",
       "      <td>NaN</td>\n",
       "      <td>55.0</td>\n",
       "      <td>25.0</td>\n",
       "      <td>NaN</td>\n",
       "      <td>NaN</td>\n",
       "      <td>N</td>\n",
       "      <td>SEE PAGE #3                                   ...</td>\n",
       "      <td>254</td>\n",
       "      <td>9:10</td>\n",
       "      <td>120N04736</td>\n",
       "    </tr>\n",
       "  </tbody>\n",
       "</table>\n",
       "</div>"
      ],
      "text/plain": [
       "                          CRASH_ID      CTY_NAME                  MUN_NAME  \\\n",
       "0                        201702121  BERGEN        EAST RUTHERFORD BORO       \n",
       "1  2015021215-001780                BERGEN        EAST RUTHERFORD BORO       \n",
       "2  2015021215-013018                BERGEN        EAST RUTHERFORD BORO       \n",
       "3  2013021213-012195                BERGEN        EAST RUTHERFORD BORO       \n",
       "4  20170212BS-17-045134             BERGEN        EAST RUTHERFORD BORO       \n",
       "\n",
       "        DATE DAY    TIME  POL_CODE                   POL_DEPT  \\\n",
       "0  3/29/2017  WE  1603.0         1  EAST RUTHERFORD PD          \n",
       "1   2/6/2015  F   2214.0         1  SECAUCUS PD                 \n",
       "2  8/29/2015  SA  2146.0         1  SECAUCUS PD                 \n",
       "3  7/17/2013  W    824.0         1  SECAUCUS PD                 \n",
       "4  7/19/2017  WE   908.0         3  BERGEN CO SHERIFFS DEPT     \n",
       "\n",
       "           POL_STA  KILLED  INJURED  PED_KILL  PED_INJ SEVERITY INTERSEC  \\\n",
       "0              NaN       0        0         0        0        P        B   \n",
       "1  HQTS                  0        2         0        0        I        B   \n",
       "2  HQTS                  0        0         0        0        P        B   \n",
       "3  HQTS                  0        1         0        0        I        B   \n",
       "4  PARAMUS               0        0         0        0        P        B   \n",
       "\n",
       "  ALCOHOL HAZMAT  CRASH_TYPE  VEH_COUNT  \\\n",
       "0       N      N         2.0          2   \n",
       "1       N      N         2.0          2   \n",
       "2       N      N         3.0          2   \n",
       "3       N      N         2.0          2   \n",
       "4       N      N        99.0          1   \n",
       "\n",
       "                                            LOCATION LOC_DIR  ROUTE  RT_SFX  \\\n",
       "0  NJ 3                                          ...       E      3     NaN   \n",
       "1  NJ 3                                          ...       E      3     NaN   \n",
       "2  NJ 3                                          ...       E      3     NaN   \n",
       "3  NJ 3                                          ...       E      3     NaN   \n",
       "4  NJ 3                                          ...       E      3     NaN   \n",
       "\n",
       "                SRI    MP  RD_SYS  RD_CHAR  RD_SURF  SURF_COND  LIGHT  \\\n",
       "0  00000003__        7.60       2      NaN      2.0        1.0    1.0   \n",
       "1  00000003__        8.00       2      1.0      2.0        1.0    6.0   \n",
       "2  00000003__        8.10       2      1.0      2.0        1.0    6.0   \n",
       "3  00000003__        8.41       2      2.0      2.0        1.0    1.0   \n",
       "4  00000003__        6.86       2      NaN      2.0        1.0    1.0   \n",
       "\n",
       "   WEATHER  RD_DIV  RD_WRKZN  X_DIST DIST_UNT X_DIR  \\\n",
       "0      1.0     1.0       1.0     NaN      NaN   NaN   \n",
       "1      1.0     2.0       1.0     NaN      NaN   NaN   \n",
       "2      1.0     2.0       1.0     NaN      NaN   NaN   \n",
       "3      1.0     1.0       1.0  1000.0       FE     W   \n",
       "4      1.0     1.0       1.0   100.0       FE     E   \n",
       "\n",
       "                                X_NAME IS_RAMP RAMP_RT RAMP_DIR  SPD_LMT  \\\n",
       "0                                  NaN     NaN     NaN      NaN     55.0   \n",
       "1                                  NaN     NaN     NaN      NaN     55.0   \n",
       "2                                  NaN     NaN     NaN      NaN     45.0   \n",
       "3  MEADOWLANDS PKWY                        NaN     NaN      NaN     55.0   \n",
       "4  N. SERVICE ROAD                         NaN     NaN      NaN     55.0   \n",
       "\n",
       "   SPD_X  LAT  LONG CELL_USE  \\\n",
       "0    NaN  NaN   NaN        N   \n",
       "1    NaN  NaN   NaN        N   \n",
       "2    NaN  NaN   NaN        N   \n",
       "3    NaN  NaN   NaN        N   \n",
       "4   25.0  NaN   NaN        N   \n",
       "\n",
       "                                            PROP_DMG BADGE TIME_ROUND  \\\n",
       "0                                                NaN   141      16:05   \n",
       "1  NONE                                          ...   156      22:15   \n",
       "2  DENTED GUARD RAIL                             ...   160      21:45   \n",
       "3                                                NaN   150       8:25   \n",
       "4  SEE PAGE #3                                   ...   254       9:10   \n",
       "\n",
       "         TMC  \n",
       "0  120N04734  \n",
       "1  120-04733  \n",
       "2  120-04733  \n",
       "3  120-04732  \n",
       "4  120N04736  "
      ]
     },
     "execution_count": 4,
     "metadata": {},
     "output_type": "execute_result"
    }
   ],
   "source": [
    "df.head()"
   ]
  },
  {
   "cell_type": "code",
   "execution_count": 6,
   "metadata": {},
   "outputs": [
    {
     "name": "stdout",
     "output_type": "stream",
     "text": [
      "Total number of accident between 2013 and 2018: 8115\n"
     ]
    }
   ],
   "source": [
    "# Total No. of crash\n",
    "print('Total number of accident between 2013 and 2018:', df.shape[0])\n"
   ]
  },
  {
   "cell_type": "code",
   "execution_count": 8,
   "metadata": {},
   "outputs": [
    {
     "name": "stdout",
     "output_type": "stream",
     "text": [
      "Number of features in df: 49\n"
     ]
    }
   ],
   "source": [
    "# No. of features in df\n",
    "print('Number of features in df:', df.shape[1])"
   ]
  },
  {
   "cell_type": "code",
   "execution_count": 9,
   "metadata": {
    "scrolled": true
   },
   "outputs": [
    {
     "data": {
      "text/html": [
       "<div>\n",
       "<style scoped>\n",
       "    .dataframe tbody tr th:only-of-type {\n",
       "        vertical-align: middle;\n",
       "    }\n",
       "\n",
       "    .dataframe tbody tr th {\n",
       "        vertical-align: top;\n",
       "    }\n",
       "\n",
       "    .dataframe thead th {\n",
       "        text-align: right;\n",
       "    }\n",
       "</style>\n",
       "<table border=\"1\" class=\"dataframe\">\n",
       "  <thead>\n",
       "    <tr style=\"text-align: right;\">\n",
       "      <th></th>\n",
       "      <th>0</th>\n",
       "    </tr>\n",
       "  </thead>\n",
       "  <tbody>\n",
       "    <tr>\n",
       "      <th>0</th>\n",
       "      <td>CRASH_ID</td>\n",
       "    </tr>\n",
       "    <tr>\n",
       "      <th>1</th>\n",
       "      <td>CTY_NAME</td>\n",
       "    </tr>\n",
       "    <tr>\n",
       "      <th>2</th>\n",
       "      <td>MUN_NAME</td>\n",
       "    </tr>\n",
       "    <tr>\n",
       "      <th>3</th>\n",
       "      <td>DATE</td>\n",
       "    </tr>\n",
       "    <tr>\n",
       "      <th>4</th>\n",
       "      <td>DAY</td>\n",
       "    </tr>\n",
       "    <tr>\n",
       "      <th>5</th>\n",
       "      <td>TIME</td>\n",
       "    </tr>\n",
       "    <tr>\n",
       "      <th>6</th>\n",
       "      <td>POL_CODE</td>\n",
       "    </tr>\n",
       "    <tr>\n",
       "      <th>7</th>\n",
       "      <td>POL_DEPT</td>\n",
       "    </tr>\n",
       "    <tr>\n",
       "      <th>8</th>\n",
       "      <td>POL_STA</td>\n",
       "    </tr>\n",
       "    <tr>\n",
       "      <th>9</th>\n",
       "      <td>KILLED</td>\n",
       "    </tr>\n",
       "    <tr>\n",
       "      <th>10</th>\n",
       "      <td>INJURED</td>\n",
       "    </tr>\n",
       "    <tr>\n",
       "      <th>11</th>\n",
       "      <td>PED_KILL</td>\n",
       "    </tr>\n",
       "    <tr>\n",
       "      <th>12</th>\n",
       "      <td>PED_INJ</td>\n",
       "    </tr>\n",
       "    <tr>\n",
       "      <th>13</th>\n",
       "      <td>SEVERITY</td>\n",
       "    </tr>\n",
       "    <tr>\n",
       "      <th>14</th>\n",
       "      <td>INTERSEC</td>\n",
       "    </tr>\n",
       "    <tr>\n",
       "      <th>15</th>\n",
       "      <td>ALCOHOL</td>\n",
       "    </tr>\n",
       "    <tr>\n",
       "      <th>16</th>\n",
       "      <td>HAZMAT</td>\n",
       "    </tr>\n",
       "    <tr>\n",
       "      <th>17</th>\n",
       "      <td>CRASH_TYPE</td>\n",
       "    </tr>\n",
       "    <tr>\n",
       "      <th>18</th>\n",
       "      <td>VEH_COUNT</td>\n",
       "    </tr>\n",
       "    <tr>\n",
       "      <th>19</th>\n",
       "      <td>LOCATION</td>\n",
       "    </tr>\n",
       "    <tr>\n",
       "      <th>20</th>\n",
       "      <td>LOC_DIR</td>\n",
       "    </tr>\n",
       "    <tr>\n",
       "      <th>21</th>\n",
       "      <td>ROUTE</td>\n",
       "    </tr>\n",
       "    <tr>\n",
       "      <th>22</th>\n",
       "      <td>RT_SFX</td>\n",
       "    </tr>\n",
       "    <tr>\n",
       "      <th>23</th>\n",
       "      <td>SRI</td>\n",
       "    </tr>\n",
       "    <tr>\n",
       "      <th>24</th>\n",
       "      <td>MP</td>\n",
       "    </tr>\n",
       "    <tr>\n",
       "      <th>25</th>\n",
       "      <td>RD_SYS</td>\n",
       "    </tr>\n",
       "    <tr>\n",
       "      <th>26</th>\n",
       "      <td>RD_CHAR</td>\n",
       "    </tr>\n",
       "    <tr>\n",
       "      <th>27</th>\n",
       "      <td>RD_SURF</td>\n",
       "    </tr>\n",
       "    <tr>\n",
       "      <th>28</th>\n",
       "      <td>SURF_COND</td>\n",
       "    </tr>\n",
       "    <tr>\n",
       "      <th>29</th>\n",
       "      <td>LIGHT</td>\n",
       "    </tr>\n",
       "    <tr>\n",
       "      <th>30</th>\n",
       "      <td>WEATHER</td>\n",
       "    </tr>\n",
       "    <tr>\n",
       "      <th>31</th>\n",
       "      <td>RD_DIV</td>\n",
       "    </tr>\n",
       "    <tr>\n",
       "      <th>32</th>\n",
       "      <td>RD_WRKZN</td>\n",
       "    </tr>\n",
       "    <tr>\n",
       "      <th>33</th>\n",
       "      <td>X_DIST</td>\n",
       "    </tr>\n",
       "    <tr>\n",
       "      <th>34</th>\n",
       "      <td>DIST_UNT</td>\n",
       "    </tr>\n",
       "    <tr>\n",
       "      <th>35</th>\n",
       "      <td>X_DIR</td>\n",
       "    </tr>\n",
       "    <tr>\n",
       "      <th>36</th>\n",
       "      <td>X_NAME</td>\n",
       "    </tr>\n",
       "    <tr>\n",
       "      <th>37</th>\n",
       "      <td>IS_RAMP</td>\n",
       "    </tr>\n",
       "    <tr>\n",
       "      <th>38</th>\n",
       "      <td>RAMP_RT</td>\n",
       "    </tr>\n",
       "    <tr>\n",
       "      <th>39</th>\n",
       "      <td>RAMP_DIR</td>\n",
       "    </tr>\n",
       "    <tr>\n",
       "      <th>40</th>\n",
       "      <td>SPD_LMT</td>\n",
       "    </tr>\n",
       "    <tr>\n",
       "      <th>41</th>\n",
       "      <td>SPD_X</td>\n",
       "    </tr>\n",
       "    <tr>\n",
       "      <th>42</th>\n",
       "      <td>LAT</td>\n",
       "    </tr>\n",
       "    <tr>\n",
       "      <th>43</th>\n",
       "      <td>LONG</td>\n",
       "    </tr>\n",
       "    <tr>\n",
       "      <th>44</th>\n",
       "      <td>CELL_USE</td>\n",
       "    </tr>\n",
       "    <tr>\n",
       "      <th>45</th>\n",
       "      <td>PROP_DMG</td>\n",
       "    </tr>\n",
       "    <tr>\n",
       "      <th>46</th>\n",
       "      <td>BADGE</td>\n",
       "    </tr>\n",
       "    <tr>\n",
       "      <th>47</th>\n",
       "      <td>TIME_ROUND</td>\n",
       "    </tr>\n",
       "    <tr>\n",
       "      <th>48</th>\n",
       "      <td>TMC</td>\n",
       "    </tr>\n",
       "  </tbody>\n",
       "</table>\n",
       "</div>"
      ],
      "text/plain": [
       "             0\n",
       "0     CRASH_ID\n",
       "1     CTY_NAME\n",
       "2     MUN_NAME\n",
       "3         DATE\n",
       "4          DAY\n",
       "5         TIME\n",
       "6     POL_CODE\n",
       "7     POL_DEPT\n",
       "8      POL_STA\n",
       "9       KILLED\n",
       "10     INJURED\n",
       "11    PED_KILL\n",
       "12     PED_INJ\n",
       "13    SEVERITY\n",
       "14    INTERSEC\n",
       "15     ALCOHOL\n",
       "16      HAZMAT\n",
       "17  CRASH_TYPE\n",
       "18   VEH_COUNT\n",
       "19    LOCATION\n",
       "20     LOC_DIR\n",
       "21       ROUTE\n",
       "22      RT_SFX\n",
       "23         SRI\n",
       "24          MP\n",
       "25      RD_SYS\n",
       "26     RD_CHAR\n",
       "27     RD_SURF\n",
       "28   SURF_COND\n",
       "29       LIGHT\n",
       "30     WEATHER\n",
       "31      RD_DIV\n",
       "32    RD_WRKZN\n",
       "33      X_DIST\n",
       "34    DIST_UNT\n",
       "35       X_DIR\n",
       "36      X_NAME\n",
       "37     IS_RAMP\n",
       "38     RAMP_RT\n",
       "39    RAMP_DIR\n",
       "40     SPD_LMT\n",
       "41       SPD_X\n",
       "42         LAT\n",
       "43        LONG\n",
       "44    CELL_USE\n",
       "45    PROP_DMG\n",
       "46       BADGE\n",
       "47  TIME_ROUND\n",
       "48         TMC"
      ]
     },
     "execution_count": 9,
     "metadata": {},
     "output_type": "execute_result"
    }
   ],
   "source": [
    "pd.DataFrame(df.columns)"
   ]
  },
  {
   "cell_type": "markdown",
   "metadata": {},
   "source": [
    "## Drop Irrelevant Features"
   ]
  },
  {
   "cell_type": "code",
   "execution_count": 10,
   "metadata": {},
   "outputs": [],
   "source": [
    "# Remove irrelevant features\n",
    "irrevant_cols = ['CTY_NAME', 'MUN_NAME', 'POL_CODE', 'POL_DEPT','POL_STA', 'INTERSEC', 'RT_SFX','SRI', 'X_DIST', \n",
    "                 'X_DIR', 'X_NAME', 'IS_RAMP', 'RAMP_RT', 'RAMP_DIR', 'SPD_X', 'LAT', 'LONG', 'PROP_DMG', 'BADGE', \n",
    "                 'SPD_LMT', 'DIST_UNT', 'RD_CHAR']\n",
    "                 \n",
    "df.drop(columns = irrevant_cols, inplace = True)"
   ]
  },
  {
   "cell_type": "markdown",
   "metadata": {},
   "source": [
    "##  Incomplete Data Review "
   ]
  },
  {
   "cell_type": "markdown",
   "metadata": {},
   "source": [
    "#### Filter Wrong Records\n",
    "\n",
    "It was found that the dataset includes crash records occurred on other roadways. These wrong records were removed."
   ]
  },
  {
   "cell_type": "code",
   "execution_count": 11,
   "metadata": {},
   "outputs": [
    {
     "data": {
      "text/plain": [
       "NJ 3                                                  7879\n",
       "MONMOUTH COUNTY 3                                      234\n",
       "OCEAN COUNTY 3                                           2\n",
       "Name: LOCATION, dtype: int64"
      ]
     },
     "execution_count": 11,
     "metadata": {},
     "output_type": "execute_result"
    }
   ],
   "source": [
    "df['LOCATION'].value_counts()"
   ]
  },
  {
   "cell_type": "code",
   "execution_count": 12,
   "metadata": {},
   "outputs": [],
   "source": [
    "# Text has an extra blank space on right side\n",
    "df['LOCATION'] = df['LOCATION'].str.rstrip()\n",
    "df.drop(df[(df['LOCATION'] == 'MONMOUTH COUNTY 3') | (df['LOCATION'] == 'OCEAN COUNTY 3')].index, inplace = True)"
   ]
  },
  {
   "cell_type": "markdown",
   "metadata": {},
   "source": [
    "The number of crash occurred on NJ 3 was 7,879 for the period between Jan, 2013 and Dec, 2018"
   ]
  },
  {
   "cell_type": "markdown",
   "metadata": {},
   "source": [
    "#### Filter 'TIME' with insufficient information\n",
    "\n",
    "Note that digits 3 and 4 are insufficient information. These will be removed later"
   ]
  },
  {
   "cell_type": "code",
   "execution_count": 13,
   "metadata": {},
   "outputs": [
    {
     "data": {
      "text/plain": [
       "6    5369\n",
       "5    2343\n",
       "4     112\n",
       "3      55\n",
       "Name: TIME, dtype: int64"
      ]
     },
     "execution_count": 13,
     "metadata": {},
     "output_type": "execute_result"
    }
   ],
   "source": [
    "df['TIME'].astype(str).str.len().value_counts()"
   ]
  },
  {
   "cell_type": "code",
   "execution_count": 22,
   "metadata": {},
   "outputs": [
    {
     "data": {
      "text/plain": [
       "(167, 27)"
      ]
     },
     "execution_count": 22,
     "metadata": {},
     "output_type": "execute_result"
    }
   ],
   "source": [
    "# Number of insufficient time information\n",
    "df[df['TIME'].astype(str).str.len() <= 4].shape"
   ]
  },
  {
   "cell_type": "code",
   "execution_count": 23,
   "metadata": {},
   "outputs": [
    {
     "data": {
      "text/plain": [
       "DATE\n",
       "2013    25\n",
       "2014    36\n",
       "2015    21\n",
       "2016    22\n",
       "2017    25\n",
       "2018    20\n",
       "Name: TIME, dtype: int64"
      ]
     },
     "execution_count": 23,
     "metadata": {},
     "output_type": "execute_result"
    }
   ],
   "source": [
    "df[df['TIME'].astype(str).str.len() <= 4].groupby(df['DATE'].dt.year)['TIME'].count()"
   ]
  },
  {
   "cell_type": "markdown",
   "metadata": {},
   "source": [
    "#### Find the number of NA in 'MP' "
   ]
  },
  {
   "cell_type": "code",
   "execution_count": 14,
   "metadata": {},
   "outputs": [
    {
     "data": {
      "text/plain": [
       "1819"
      ]
     },
     "execution_count": 14,
     "metadata": {},
     "output_type": "execute_result"
    }
   ],
   "source": [
    "df['MP'].isna().sum(axis=0)"
   ]
  },
  {
   "cell_type": "code",
   "execution_count": 24,
   "metadata": {},
   "outputs": [
    {
     "data": {
      "text/plain": [
       "(1819, 27)"
      ]
     },
     "execution_count": 24,
     "metadata": {},
     "output_type": "execute_result"
    }
   ],
   "source": [
    "# Number of missing MP\n",
    "df[df['MP'].isna()].shape"
   ]
  },
  {
   "cell_type": "code",
   "execution_count": 21,
   "metadata": {},
   "outputs": [],
   "source": [
    "df['DATE'] = pd.to_datetime(df['DATE'])"
   ]
  },
  {
   "cell_type": "code",
   "execution_count": 25,
   "metadata": {},
   "outputs": [
    {
     "data": {
      "text/plain": [
       "DATE\n",
       "2013    338\n",
       "2014    390\n",
       "2015    373\n",
       "2016    423\n",
       "2017    228\n",
       "2018     63\n",
       "Name: TIME, dtype: int64"
      ]
     },
     "execution_count": 25,
     "metadata": {},
     "output_type": "execute_result"
    }
   ],
   "source": [
    "df[df['MP'].isna()].groupby(df['DATE'].dt.year)['TIME'].count()"
   ]
  },
  {
   "cell_type": "code",
   "execution_count": 26,
   "metadata": {},
   "outputs": [
    {
     "data": {
      "text/plain": [
       "DATE\n",
       "2013     917\n",
       "2014     779\n",
       "2015     727\n",
       "2016     859\n",
       "2017    1206\n",
       "2018    1440\n",
       "Name: TIME, dtype: int64"
      ]
     },
     "execution_count": 26,
     "metadata": {},
     "output_type": "execute_result"
    }
   ],
   "source": [
    "df[(df['TIME'].astype(str).str.len() > 4) & (df['MP'].isna() == False)].groupby(df['DATE'].dt.year)['TIME'].count()"
   ]
  },
  {
   "cell_type": "code",
   "execution_count": 27,
   "metadata": {},
   "outputs": [
    {
     "data": {
      "image/png": "[encoded data removed]",
      "text/plain": [
       "<Figure size 432x288 with 1 Axes>"
      ]
     },
     "metadata": {
      "needs_background": "light"
     },
     "output_type": "display_data"
    }
   ],
   "source": [
    "import matplotlib.pyplot as plt\n",
    "\n",
    "fig = plt.figure()\n",
    "ax = df[(df['TIME'].astype(str).str.len() > 4) & (df['MP'].isna() == False)].groupby(df['DATE'].dt.year)['TIME'].count().plot.bar()\n",
    "fig.suptitle('No. of crash by year', fontsize=20)\n",
    "plt.xlabel('Year', fontsize=14)\n",
    "plt.ylabel('Count', fontsize=14)\n",
    "\n",
    "plt.show()"
   ]
  },
  {
   "cell_type": "markdown",
   "metadata": {},
   "source": [
    "Convert 'TIME' data type to integer. To this end, fix Nan first. Write a function to format integer into 'hh:mm'"
   ]
  },
  {
   "cell_type": "code",
   "execution_count": 20,
   "metadata": {},
   "outputs": [],
   "source": [
    "df['TIME'].fillna(0, inplace = True)"
   ]
  },
  {
   "cell_type": "code",
   "execution_count": 21,
   "metadata": {},
   "outputs": [],
   "source": [
    "df['TIME'] = df['TIME'].astype(int)"
   ]
  },
  {
   "cell_type": "code",
   "execution_count": 23,
   "metadata": {},
   "outputs": [
    {
     "data": {
      "text/plain": [
       "4    5369\n",
       "3    2343\n",
       "2     112\n",
       "1      55\n",
       "Name: TIME, dtype: int64"
      ]
     },
     "execution_count": 23,
     "metadata": {},
     "output_type": "execute_result"
    }
   ],
   "source": [
    "df['TIME'].astype(str).str.len().value_counts()"
   ]
  },
  {
   "cell_type": "code",
   "execution_count": 24,
   "metadata": {},
   "outputs": [],
   "source": [
    "df.drop(df[df['TIME'].astype(str).str.len() == 1].index, inplace = True)\n",
    "df.drop(df[df['TIME'].astype(str).str.len() == 2].index, inplace = True)"
   ]
  },
  {
   "cell_type": "code",
   "execution_count": 25,
   "metadata": {},
   "outputs": [],
   "source": [
    "#Input: Military time (int)\n",
    "#Output: The hour from military time (int)\n",
    "#Desc: Extracts the hour from military time \n",
    "def time_conversion(time):\n",
    "    #turn the time into a string so we can subset it\n",
    "    time = str(time)\n",
    "    #if the military time only has two elements, that means that the time is 00:xx or 00:0x\n",
    "    if len(time)<=2:\n",
    "        return(0)\n",
    "    #if the length of the time is 3, then it will be 0y:xx in military time\n",
    "    elif len(time)==3:\n",
    "        return(time[0]+':'+time[1:3]+':'+'00')\n",
    "    else:\n",
    "        return(time[:2]+':'+time[2:4]+':'+'00')"
   ]
  },
  {
   "cell_type": "code",
   "execution_count": 26,
   "metadata": {},
   "outputs": [],
   "source": [
    "df['TIME'] = [time_conversion(i) for i in df['TIME']]"
   ]
  },
  {
   "cell_type": "code",
   "execution_count": 27,
   "metadata": {},
   "outputs": [],
   "source": [
    "from datetime import timedelta \n",
    "df['timestamp'] = pd.to_datetime(df['DATE'].apply(str) + ' ' + df['TIME'].apply(str))"
   ]
  },
  {
   "cell_type": "code",
   "execution_count": 28,
   "metadata": {},
   "outputs": [
    {
     "data": {
      "text/plain": [
       "(7712, 28)"
      ]
     },
     "execution_count": 28,
     "metadata": {},
     "output_type": "execute_result"
    }
   ],
   "source": [
    "df.shape"
   ]
  },
  {
   "cell_type": "markdown",
   "metadata": {},
   "source": [
    "#### Remove null MP (milepost) and TMC (Traffic Message Channel)"
   ]
  },
  {
   "cell_type": "code",
   "execution_count": 29,
   "metadata": {},
   "outputs": [],
   "source": [
    "df.drop(df[df['MP'].isnull() == True].index, inplace = True)"
   ]
  },
  {
   "cell_type": "code",
   "execution_count": 30,
   "metadata": {},
   "outputs": [],
   "source": [
    "df.drop(df[df['TMC'].isnull() == True].index, inplace = True)"
   ]
  },
  {
   "cell_type": "code",
   "execution_count": 31,
   "metadata": {},
   "outputs": [
    {
     "data": {
      "text/plain": [
       "(5915, 28)"
      ]
     },
     "execution_count": 31,
     "metadata": {},
     "output_type": "execute_result"
    }
   ],
   "source": [
    "df.shape"
   ]
  }
 ],
 "metadata": {
  "kernelspec": {
   "display_name": "Python 3",
   "language": "python",
   "name": "python3"
  },
  "language_info": {
   "codemirror_mode": {
    "name": "ipython",
    "version": 3
   },
   "file_extension": ".py",
   "mimetype": "text/x-python",
   "name": "python",
   "nbconvert_exporter": "python",
   "pygments_lexer": "ipython3",
   "version": "3.8.3"
  }
 },
 "nbformat": 4,
 "nbformat_minor": 2
}
